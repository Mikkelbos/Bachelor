{
 "cells": [
  {
   "cell_type": "code",
   "execution_count": 2,
   "metadata": {},
   "outputs": [],
   "source": [
    "%reset -f\n",
    "%load_ext autoreload\n",
    "%autoreload 2\n",
    "import pandas as pd\n",
    "import numpy as np\n",
    "from tabulate import tabulate\n",
    "from matplotlib import pyplot as plt\n",
    "import scipy.stats as st\n",
    "import statsmodels.api as sm\n",
    "import seaborn as sns\n",
    "import functions as fun\n",
    "import OLS_Estimation as OLS"
   ]
  },
  {
   "cell_type": "code",
   "execution_count": 11,
   "metadata": {},
   "outputs": [],
   "source": [
    "df = pd.read_csv('Dataset.csv')\n",
    "estimation = OLS.get_coefficients_OLS(df)"
   ]
  },
  {
   "cell_type": "code",
   "execution_count": 9,
   "metadata": {},
   "outputs": [
    {
     "name": "stdout",
     "output_type": "stream",
     "text": [
      " df_calc shape: (1177, 29) \n",
      " df_dummies shape: (1177, 30)\n"
     ]
    }
   ],
   "source": [
    "#Manipuler for ms = 0 ikke har ssh for at blive væltet.\n",
    "df_calc = df.copy()\n",
    "df_calc = pd.get_dummies(df_calc, columns=['Segment'], drop_first=True)\n",
    "df_calc = pd.get_dummies(df_calc, columns=['Year'], drop_first=True)\n",
    "\n",
    "df_dummies = df.copy()\n",
    "df_dummies = pd.get_dummies(df_dummies, columns=['Segment'], drop_first=True)\n",
    "df_dummies = pd.get_dummies(df_dummies, columns=['Year'], drop_first=True)\n",
    "df_dummies['China'] = (df_dummies['Country'] == 'CH').astype(int)\n",
    "\n",
    "\n",
    "print(f' df_calc shape: {df_calc.shape} \\n df_dummies shape: {df_dummies.shape}')\n"
   ]
  },
  {
   "cell_type": "code",
   "execution_count": null,
   "metadata": {},
   "outputs": [],
   "source": [
    "x = df_calc[['const', 'Price', 'Range', 'HP', 'Chargetime']]\n",
    "dummies = df_calc[['Segment_B', 'Segment_C', 'Segment_D', 'Segment_E', 'Segment_F', 'Segment_M', 'Segment_J',\n",
    "                'Year_2014', 'Year_2015', 'Year_2016', 'Year_2017', 'Year_2018', 'Year_2019', 'Year_2020', 'Year_2021', 'Year_2022', 'Year_2023',\n",
    "                'China']]\n",
    "X = pd.concat([x, dummies], axis=1)"
   ]
  }
 ],
 "metadata": {
  "kernelspec": {
   "display_name": "base",
   "language": "python",
   "name": "python3"
  },
  "language_info": {
   "codemirror_mode": {
    "name": "ipython",
    "version": 3
   },
   "file_extension": ".py",
   "mimetype": "text/x-python",
   "name": "python",
   "nbconvert_exporter": "python",
   "pygments_lexer": "ipython3",
   "version": "3.9.13"
  }
 },
 "nbformat": 4,
 "nbformat_minor": 2
}
