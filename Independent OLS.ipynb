{
  "cells": [
    {
      "cell_type": "code",
      "execution_count": 52,
      "metadata": {
        "id": "uwJZ1lbaEHID"
      },
      "outputs": [
        {
          "name": "stdout",
          "output_type": "stream",
          "text": [
            "The autoreload extension is already loaded. To reload it, use:\n",
            "  %reload_ext autoreload\n"
          ]
        }
      ],
      "source": [
        "%reset -f\n",
        "%load_ext autoreload\n",
        "%autoreload 2\n",
        "import pandas as pd\n",
        "import numpy as np\n",
        "from tabulate import tabulate\n",
        "from matplotlib import pyplot as plt\n",
        "import scipy.stats as st\n",
        "import statsmodels.api as sm\n",
        "import seaborn as sns\n",
        "import functions as fun\n",
        "import OLS_Estimation as OLS\n"
      ]
    },
    {
      "cell_type": "code",
      "execution_count": 53,
      "metadata": {},
      "outputs": [
        {
          "name": "stdout",
          "output_type": "stream",
          "text": [
            "shape: (1232, 14)\n"
          ]
        },
        {
          "data": {
            "text/html": [
              "<div>\n",
              "<style scoped>\n",
              "    .dataframe tbody tr th:only-of-type {\n",
              "        vertical-align: middle;\n",
              "    }\n",
              "\n",
              "    .dataframe tbody tr th {\n",
              "        vertical-align: top;\n",
              "    }\n",
              "\n",
              "    .dataframe thead th {\n",
              "        text-align: right;\n",
              "    }\n",
              "</style>\n",
              "<table border=\"1\" class=\"dataframe\">\n",
              "  <thead>\n",
              "    <tr style=\"text-align: right;\">\n",
              "      <th></th>\n",
              "      <th>ID</th>\n",
              "      <th>Year</th>\n",
              "      <th>Sales</th>\n",
              "      <th>Market share</th>\n",
              "      <th>Manufacturer</th>\n",
              "      <th>Model</th>\n",
              "      <th>Range</th>\n",
              "      <th>Price</th>\n",
              "      <th>HP</th>\n",
              "      <th>Chargetime</th>\n",
              "      <th>Type</th>\n",
              "      <th>Segment</th>\n",
              "      <th>Country</th>\n",
              "      <th>const</th>\n",
              "    </tr>\n",
              "  </thead>\n",
              "  <tbody>\n",
              "    <tr>\n",
              "      <th>0</th>\n",
              "      <td>1</td>\n",
              "      <td>2013</td>\n",
              "      <td>0</td>\n",
              "      <td>0.0</td>\n",
              "      <td>Aiways</td>\n",
              "      <td>U5</td>\n",
              "      <td>400</td>\n",
              "      <td>330825.789474</td>\n",
              "      <td>201</td>\n",
              "      <td>34</td>\n",
              "      <td>SUV</td>\n",
              "      <td>C</td>\n",
              "      <td>CH</td>\n",
              "      <td>1.0</td>\n",
              "    </tr>\n",
              "    <tr>\n",
              "      <th>1</th>\n",
              "      <td>1</td>\n",
              "      <td>2014</td>\n",
              "      <td>0</td>\n",
              "      <td>0.0</td>\n",
              "      <td>Aiways</td>\n",
              "      <td>U5</td>\n",
              "      <td>400</td>\n",
              "      <td>330825.789474</td>\n",
              "      <td>201</td>\n",
              "      <td>34</td>\n",
              "      <td>SUV</td>\n",
              "      <td>C</td>\n",
              "      <td>CH</td>\n",
              "      <td>1.0</td>\n",
              "    </tr>\n",
              "    <tr>\n",
              "      <th>2</th>\n",
              "      <td>1</td>\n",
              "      <td>2015</td>\n",
              "      <td>0</td>\n",
              "      <td>0.0</td>\n",
              "      <td>Aiways</td>\n",
              "      <td>U5</td>\n",
              "      <td>400</td>\n",
              "      <td>330825.789474</td>\n",
              "      <td>201</td>\n",
              "      <td>34</td>\n",
              "      <td>SUV</td>\n",
              "      <td>C</td>\n",
              "      <td>CH</td>\n",
              "      <td>1.0</td>\n",
              "    </tr>\n",
              "    <tr>\n",
              "      <th>3</th>\n",
              "      <td>1</td>\n",
              "      <td>2016</td>\n",
              "      <td>0</td>\n",
              "      <td>0.0</td>\n",
              "      <td>Aiways</td>\n",
              "      <td>U5</td>\n",
              "      <td>400</td>\n",
              "      <td>330825.789474</td>\n",
              "      <td>201</td>\n",
              "      <td>34</td>\n",
              "      <td>SUV</td>\n",
              "      <td>C</td>\n",
              "      <td>CH</td>\n",
              "      <td>1.0</td>\n",
              "    </tr>\n",
              "    <tr>\n",
              "      <th>4</th>\n",
              "      <td>1</td>\n",
              "      <td>2017</td>\n",
              "      <td>0</td>\n",
              "      <td>0.0</td>\n",
              "      <td>Aiways</td>\n",
              "      <td>U5</td>\n",
              "      <td>400</td>\n",
              "      <td>330825.789474</td>\n",
              "      <td>201</td>\n",
              "      <td>34</td>\n",
              "      <td>SUV</td>\n",
              "      <td>C</td>\n",
              "      <td>CH</td>\n",
              "      <td>1.0</td>\n",
              "    </tr>\n",
              "  </tbody>\n",
              "</table>\n",
              "</div>"
            ],
            "text/plain": [
              "   ID  Year  Sales  Market share Manufacturer Model  Range          Price  \\\n",
              "0   1  2013      0           0.0       Aiways    U5    400  330825.789474   \n",
              "1   1  2014      0           0.0       Aiways    U5    400  330825.789474   \n",
              "2   1  2015      0           0.0       Aiways    U5    400  330825.789474   \n",
              "3   1  2016      0           0.0       Aiways    U5    400  330825.789474   \n",
              "4   1  2017      0           0.0       Aiways    U5    400  330825.789474   \n",
              "\n",
              "    HP  Chargetime Type Segment Country  const  \n",
              "0  201          34  SUV       C      CH    1.0  \n",
              "1  201          34  SUV       C      CH    1.0  \n",
              "2  201          34  SUV       C      CH    1.0  \n",
              "3  201          34  SUV       C      CH    1.0  \n",
              "4  201          34  SUV       C      CH    1.0  "
            ]
          },
          "execution_count": 53,
          "metadata": {},
          "output_type": "execute_result"
        }
      ],
      "source": [
        "df = pd.read_csv('Dataset.csv')\n",
        "#df = df[df['Market share'] != 0]\n",
        "Nobs=df['ID'].count()\n",
        "df['const']=np.ones((Nobs,1))\n",
        "print(f'shape: {df.shape}')\n",
        "df.head(5)"
      ]
    },
    {
      "cell_type": "markdown",
      "metadata": {},
      "source": [
        "# Creating dummies"
      ]
    },
    {
      "cell_type": "code",
      "execution_count": 54,
      "metadata": {},
      "outputs": [],
      "source": [
        "df2 = df.copy()\n",
        "df2 = pd.get_dummies(df2, columns=['Segment'], drop_first=True)\n",
        "df2 = pd.get_dummies(df2, columns=['Year'], drop_first=True)\n",
        "df2['China'] = (df2['Country'] == 'CH').astype(int)"
      ]
    },
    {
      "cell_type": "markdown",
      "metadata": {},
      "source": [
        "# Creating log market share"
      ]
    },
    {
      "cell_type": "code",
      "execution_count": 55,
      "metadata": {},
      "outputs": [
        {
          "data": {
            "text/plain": [
              "0    0.0\n",
              "1    0.0\n",
              "2    0.0\n",
              "3    0.0\n",
              "4    0.0\n",
              "Name: log_market_share, dtype: float64"
            ]
          },
          "execution_count": 55,
          "metadata": {},
          "output_type": "execute_result"
        }
      ],
      "source": [
        "df2['Market share'] = df2['Market share'].replace(0, 1)\n",
        "df2['log_market_share'] = np.log(df2['Market share'])\n",
        "df2['log_market_share'].head(5)"
      ]
    },
    {
      "cell_type": "markdown",
      "metadata": {},
      "source": [
        "# Independent OLS"
      ]
    },
    {
      "cell_type": "code",
      "execution_count": 56,
      "metadata": {},
      "outputs": [
        {
          "name": "stdout",
          "output_type": "stream",
          "text": [
            "shape: (1232, 31)\n",
            "Data has N=112 and T=11 data is = 1232, 1232\n",
            "Variables: 22\n",
            "                            OLS Regression Results                            \n",
            "==============================================================================\n",
            "Dep. Variable:           Market share   R-squared:                       0.535\n",
            "Model:                            OLS   Adj. R-squared:                  0.527\n",
            "Method:                 Least Squares   F-statistic:                     63.25\n",
            "Date:                Wed, 13 Mar 2024   Prob (F-statistic):          3.28e-183\n",
            "Time:                        19:55:07   Log-Likelihood:                -2516.0\n",
            "No. Observations:                1232   AIC:                             5078.\n",
            "Df Residuals:                    1209   BIC:                             5196.\n",
            "Df Model:                          22                                         \n",
            "Covariance Type:            nonrobust                                         \n",
            "==============================================================================\n",
            "                 coef    std err          t      P>|t|      [0.025      0.975]\n",
            "------------------------------------------------------------------------------\n",
            "Cons          -1.4769      0.428     -3.449      0.001      -2.317      -0.637\n",
            "Price      -3.998e-07   4.01e-07     -0.997      0.319   -1.19e-06    3.87e-07\n",
            "HP            -0.0020      0.001     -2.746      0.006      -0.003      -0.001\n",
            "Chargetime    -0.0099      0.005     -2.086      0.037      -0.019      -0.001\n",
            "Range          0.0039      0.001      4.891      0.000       0.002       0.006\n",
            "Segment_B      0.1861      0.315      0.591      0.555      -0.432       0.804\n",
            "Segment_C      0.6498      0.318      2.042      0.041       0.025       1.274\n",
            "Segment_D      0.8737      0.407      2.148      0.032       0.076       1.672\n",
            "Segment_E      0.8532      0.447      1.908      0.057      -0.024       1.730\n",
            "Segment_F      0.5850      0.557      1.050      0.294      -0.508       1.678\n",
            "Segment_M      0.4463      0.328      1.359      0.174      -0.198       1.091\n",
            "Segment_J      0.6959      0.666      1.045      0.296      -0.611       2.003\n",
            "Year_2014      0.0398      0.252      0.158      0.874      -0.454       0.533\n",
            "Year_2015     -0.0075      0.252     -0.030      0.976      -0.501       0.486\n",
            "Year_2016     -0.0348      0.252     -0.138      0.890      -0.528       0.459\n",
            "Year_2017     -0.0589      0.252     -0.234      0.815      -0.552       0.435\n",
            "Year_2018     -0.1144      0.252     -0.455      0.649      -0.608       0.379\n",
            "Year_2019     -0.3179      0.252     -1.264      0.207      -0.812       0.176\n",
            "Year_2020     -1.2142      0.252     -4.826      0.000      -1.708      -0.721\n",
            "Year_2021     -2.6234      0.252    -10.427      0.000      -3.117      -2.130\n",
            "Year_2022     -4.1343      0.252    -16.433      0.000      -4.628      -3.641\n",
            "Year_2023     -5.8144      0.252    -23.111      0.000      -6.308      -5.321\n",
            "China          0.5916      0.160      3.687      0.000       0.277       0.906\n",
            "==============================================================================\n",
            "Omnibus:                      161.296   Durbin-Watson:                   1.392\n",
            "Prob(Omnibus):                  0.000   Jarque-Bera (JB):              562.986\n",
            "Skew:                          -0.615   Prob(JB):                    5.61e-123\n",
            "Kurtosis:                       6.075   Cond. No.                     1.04e+07\n",
            "==============================================================================\n",
            "\n",
            "Notes:\n",
            "[1] Standard Errors assume that the covariance matrix of the errors is correctly specified.\n",
            "[2] The condition number is large, 1.04e+07. This might indicate that there are\n",
            "strong multicollinearity or other numerical problems.\n"
          ]
        }
      ],
      "source": [
        "data = df2\n",
        "#data = df2_2014\n",
        "df = df#[df['Year'] == 2014 & (df['Market share'] != 1)]\n",
        "print(f'shape: {data.shape}')\n",
        "#data format\n",
        "N = data['ID'].unique().size\n",
        "T = df['Year'].unique().size\n",
        "print(f'Data has N={N} and T={T} data is = {data.shape[0]}, {N*T}')\n",
        "assert data.shape[0] == N*T, f'Error: data is not a balanced panel'\n",
        "\n",
        "\n",
        "\n",
        "variables = ['Price', 'HP', 'Chargetime', 'Range','Segment_B', 'Segment_C', 'Segment_D', 'Segment_E', 'Segment_F', 'Segment_M', 'Segment_J', 'Year_2014', 'Year_2015', 'Year_2016', 'Year_2017', 'Year_2018', 'Year_2019', 'Year_2020', 'Year_2021', 'Year_2022', 'Year_2023', 'China']\n",
        "#Declare variables\n",
        "y = data[\"log_market_share\"].values.reshape((N*T,1))\n",
        "\n",
        "X = np.hstack([np.ones((N*T, 1))] + [data[var].values.reshape((N*T, 1)) for var in variables])\n",
        "xnames = ['Cons'] + variables\n",
        "\n",
        "print(f'Variables: {len(variables)}')\n",
        "\n",
        "\n",
        "\n",
        "\n",
        "\n",
        "# Estimate with OLS\n",
        "results = fun.est_OLS(y, X, xnames)\n",
        "# fun.logit(y, X, xnames)\n"
      ]
    },
    {
      "cell_type": "code",
      "execution_count": 57,
      "metadata": {},
      "outputs": [
        {
          "name": "stdout",
          "output_type": "stream",
          "text": [
            "coefficients: [-1.47693704e+00 -3.99841294e-07 -1.99868872e-03], shape: (23,)\n",
            "models: ['U5' 'U6' 'e-tron']\n"
          ]
        }
      ],
      "source": [
        "#X skal være [i:i+1,2:] 2: for at fjerne consten og pris\n",
        "#beta skal være [2:] for at fjerne konstant og pris-koefficienten og reshapes for at kunne lave matrixmultiplikaiton. \n",
        "\n",
        "#coefficients = OLS.get_coefficients_OLS(pd.read_csv('Dataset.csv'))\n",
        "coefficients = results.params\n",
        "print(f'coefficients: {coefficients[:3]}, shape: {coefficients.shape}')\n",
        "\n",
        "coefficients_labels = xnames[1:] #Fjerne konstanten\n",
        "\n",
        "model_labels = data['Model'].unique()\n",
        "j = 0\n",
        "for i in model_labels:\n",
        "    j = j\n",
        "    #print(f'Car {j}: {i}')\n",
        "    j = j+1  \n",
        "print(f'models: {model_labels[:3]}')\n",
        "\n",
        "repeated_models = np.repeat(model_labels, T)\n",
        "\n",
        "alpha = coefficients[1]\n",
        "beta = coefficients\n",
        "p_j = data['Price'].values.reshape((N*T,1)) "
      ]
    },
    {
      "cell_type": "code",
      "execution_count": 59,
      "metadata": {},
      "outputs": [
        {
          "name": "stdout",
          "output_type": "stream",
          "text": [
            "choice probability sum: 1.0 \n",
            " 3 highest probability: [[[0.00302612]]\n",
            "\n",
            " [[0.00304901]]\n",
            "\n",
            " [[0.00317268]]]\n",
            "ccp_list: 1232\n"
          ]
        }
      ],
      "source": [
        "ccp_list = fun.ccp(alpha, beta, X, p_j)\n",
        "print(f'ccp_list: {len(ccp_list)}')\n",
        "#print(f'ccp_list: {ccp_list.shape}')"
      ]
    },
    {
      "cell_type": "code",
      "execution_count": 67,
      "metadata": {},
      "outputs": [],
      "source": [
        "m = 3"
      ]
    },
    {
      "cell_type": "code",
      "execution_count": 68,
      "metadata": {},
      "outputs": [
        {
          "data": {
            "text/html": [
              "<div>\n",
              "<style scoped>\n",
              "    .dataframe tbody tr th:only-of-type {\n",
              "        vertical-align: middle;\n",
              "    }\n",
              "\n",
              "    .dataframe tbody tr th {\n",
              "        vertical-align: top;\n",
              "    }\n",
              "\n",
              "    .dataframe thead th {\n",
              "        text-align: right;\n",
              "    }\n",
              "</style>\n",
              "<table border=\"1\" class=\"dataframe\">\n",
              "  <thead>\n",
              "    <tr style=\"text-align: right;\">\n",
              "      <th></th>\n",
              "      <th>U5</th>\n",
              "      <th>U5</th>\n",
              "      <th>U5</th>\n",
              "    </tr>\n",
              "  </thead>\n",
              "  <tbody>\n",
              "    <tr>\n",
              "      <th>U5</th>\n",
              "      <td>[[1.0]]</td>\n",
              "      <td>[[0.9610204037923953]]</td>\n",
              "      <td>[[1.007564234271441]]</td>\n",
              "    </tr>\n",
              "    <tr>\n",
              "      <th>U5</th>\n",
              "      <td>[[1.0405606333161947]]</td>\n",
              "      <td>[[1.0]]</td>\n",
              "      <td>[[1.0484316777202374]]</td>\n",
              "    </tr>\n",
              "    <tr>\n",
              "      <th>U5</th>\n",
              "      <td>[[0.9924925538103179]]</td>\n",
              "      <td>[[0.9538055948237374]]</td>\n",
              "      <td>[[1.0]]</td>\n",
              "    </tr>\n",
              "  </tbody>\n",
              "</table>\n",
              "</div>"
            ],
            "text/plain": [
              "                        U5                      U5                      U5\n",
              "U5                 [[1.0]]  [[0.9610204037923953]]   [[1.007564234271441]]\n",
              "U5  [[1.0405606333161947]]                 [[1.0]]  [[1.0484316777202374]]\n",
              "U5  [[0.9924925538103179]]  [[0.9538055948237374]]                 [[1.0]]"
            ]
          },
          "execution_count": 68,
          "metadata": {},
          "output_type": "execute_result"
        }
      ],
      "source": [
        "fun.probability_ratio(ccp_list[:m], repeated_models[:m], repeated_models[:m])"
      ]
    },
    {
      "cell_type": "code",
      "execution_count": 69,
      "metadata": {},
      "outputs": [
        {
          "data": {
            "text/html": [
              "<div>\n",
              "<style scoped>\n",
              "    .dataframe tbody tr th:only-of-type {\n",
              "        vertical-align: middle;\n",
              "    }\n",
              "\n",
              "    .dataframe tbody tr th {\n",
              "        vertical-align: top;\n",
              "    }\n",
              "\n",
              "    .dataframe thead th {\n",
              "        text-align: right;\n",
              "    }\n",
              "</style>\n",
              "<table border=\"1\" class=\"dataframe\">\n",
              "  <thead>\n",
              "    <tr style=\"text-align: right;\">\n",
              "      <th></th>\n",
              "      <th>Price</th>\n",
              "      <th>HP</th>\n",
              "      <th>Chargetime</th>\n",
              "    </tr>\n",
              "  </thead>\n",
              "  <tbody>\n",
              "    <tr>\n",
              "      <th>U5</th>\n",
              "      <td>[[-9.039467443489727e-10]]</td>\n",
              "      <td>[[-4.518146991267711e-06]]</td>\n",
              "      <td>NaN</td>\n",
              "    </tr>\n",
              "    <tr>\n",
              "      <th>U5</th>\n",
              "      <td>[[-9.406113967838793e-10]]</td>\n",
              "      <td>[[-4.70140589464919e-06]]</td>\n",
              "      <td>NaN</td>\n",
              "    </tr>\n",
              "    <tr>\n",
              "      <th>U5</th>\n",
              "      <td>[[-8.971604128074345e-10]]</td>\n",
              "      <td>[[-4.4842272458536955e-06]]</td>\n",
              "      <td>NaN</td>\n",
              "    </tr>\n",
              "  </tbody>\n",
              "</table>\n",
              "</div>"
            ],
            "text/plain": [
              "                         Price                           HP Chargetime\n",
              "U5  [[-9.039467443489727e-10]]   [[-4.518146991267711e-06]]        NaN\n",
              "U5  [[-9.406113967838793e-10]]    [[-4.70140589464919e-06]]        NaN\n",
              "U5  [[-8.971604128074345e-10]]  [[-4.4842272458536955e-06]]        NaN"
            ]
          },
          "execution_count": 69,
          "metadata": {},
          "output_type": "execute_result"
        }
      ],
      "source": [
        "fun.marginal_effects(ccp_list[:m], repeated_models[:m], coefficients_labels[:m], coefficients[:m])"
      ]
    },
    {
      "cell_type": "code",
      "execution_count": 70,
      "metadata": {},
      "outputs": [
        {
          "name": "stdout",
          "output_type": "stream",
          "text": [
            "(3, 3, 2)\n"
          ]
        },
        {
          "data": {
            "text/plain": [
              "array([[[2.05290292e-12, 1.02618564e-08],\n",
              "        [2.13616997e-12, 1.06780838e-08],\n",
              "        [2.03749087e-12, 1.01848160e-08]],\n",
              "\n",
              "       [[2.13616997e-12, 1.06780838e-08],\n",
              "        [2.22281437e-12, 1.11111936e-08],\n",
              "        [2.12013279e-12, 1.05979186e-08]],\n",
              "\n",
              "       [[2.03749087e-12, 1.01848160e-08],\n",
              "        [2.12013279e-12, 1.05979186e-08],\n",
              "        [2.02219451e-12, 1.01083541e-08]]])"
            ]
          },
          "execution_count": 70,
          "metadata": {},
          "output_type": "execute_result"
        }
      ],
      "source": [
        "fun.cross_marginal_effects(ccp_list[:m], coefficients[:m])"
      ]
    },
    {
      "cell_type": "code",
      "execution_count": 71,
      "metadata": {},
      "outputs": [
        {
          "name": "stdout",
          "output_type": "stream",
          "text": [
            "elasticity shape: \n",
            "(3, 3)\n"
          ]
        },
        {
          "data": {
            "text/html": [
              "<div>\n",
              "<style scoped>\n",
              "    .dataframe tbody tr th:only-of-type {\n",
              "        vertical-align: middle;\n",
              "    }\n",
              "\n",
              "    .dataframe tbody tr th {\n",
              "        vertical-align: top;\n",
              "    }\n",
              "\n",
              "    .dataframe thead th {\n",
              "        text-align: right;\n",
              "    }\n",
              "</style>\n",
              "<table border=\"1\" class=\"dataframe\">\n",
              "  <thead>\n",
              "    <tr style=\"text-align: right;\">\n",
              "      <th></th>\n",
              "      <th>Price</th>\n",
              "      <th>HP</th>\n",
              "      <th>Chargetime</th>\n",
              "    </tr>\n",
              "  </thead>\n",
              "  <tbody>\n",
              "    <tr>\n",
              "      <th>U5</th>\n",
              "      <td>[[-0.1319780835437069]]</td>\n",
              "      <td>[[-0.40082613905363085]]</td>\n",
              "      <td>NaN</td>\n",
              "    </tr>\n",
              "    <tr>\n",
              "      <th>U5</th>\n",
              "      <td>[[-0.13196592638423418]]</td>\n",
              "      <td>[[-0.4007892169589734]]</td>\n",
              "      <td>NaN</td>\n",
              "    </tr>\n",
              "    <tr>\n",
              "      <th>U5</th>\n",
              "      <td>[[-0.1319803337359031]]</td>\n",
              "      <td>[[-0.400832973035652]]</td>\n",
              "      <td>NaN</td>\n",
              "    </tr>\n",
              "  </tbody>\n",
              "</table>\n",
              "</div>"
            ],
            "text/plain": [
              "                       Price                        HP Chargetime\n",
              "U5   [[-0.1319780835437069]]  [[-0.40082613905363085]]        NaN\n",
              "U5  [[-0.13196592638423418]]   [[-0.4007892169589734]]        NaN\n",
              "U5   [[-0.1319803337359031]]    [[-0.400832973035652]]        NaN"
            ]
          },
          "execution_count": 71,
          "metadata": {},
          "output_type": "execute_result"
        }
      ],
      "source": [
        "fun.elasticity(ccp_list[:m], repeated_models[:m], coefficients_labels[:m], coefficients[:m], X[:m])"
      ]
    },
    {
      "cell_type": "code",
      "execution_count": 74,
      "metadata": {},
      "outputs": [
        {
          "name": "stdout",
          "output_type": "stream",
          "text": [
            "3\n",
            "Change in : U5 \n",
            " [[[0.00029973 0.00091029]]\n",
            "\n",
            " [[0.00029973 0.00091029]]\n",
            "\n",
            " [[0.00029973 0.00091029]]]\n",
            "Change in : U6 \n",
            " [[[0.00031189 0.00094722]]\n",
            "\n",
            " [[0.00031189 0.00094722]]\n",
            "\n",
            " [[0.00031189 0.00094722]]]\n",
            "Change in : e-tron \n",
            " [[[0.00029748 0.00090346]]\n",
            "\n",
            " [[0.00029748 0.00090346]]\n",
            "\n",
            " [[0.00029748 0.00090346]]]\n"
          ]
        }
      ],
      "source": [
        "fun.cross_elasticity(ccp_list[:m], coefficients[:m], X[:m], model_labels[:m])"
      ]
    },
    {
      "cell_type": "code",
      "execution_count": null,
      "metadata": {},
      "outputs": [],
      "source": []
    }
  ],
  "metadata": {
    "colab": {
      "provenance": []
    },
    "kernelspec": {
      "display_name": "Python 3",
      "name": "python3"
    },
    "language_info": {
      "codemirror_mode": {
        "name": "ipython",
        "version": 3
      },
      "file_extension": ".py",
      "mimetype": "text/x-python",
      "name": "python",
      "nbconvert_exporter": "python",
      "pygments_lexer": "ipython3",
      "version": "3.9.13"
    }
  },
  "nbformat": 4,
  "nbformat_minor": 0
}
