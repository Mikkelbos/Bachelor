{
  "cells": [
    {
      "cell_type": "code",
      "execution_count": 3,
      "metadata": {
        "id": "uwJZ1lbaEHID"
      },
      "outputs": [
        {
          "name": "stdout",
          "output_type": "stream",
          "text": [
            "The autoreload extension is already loaded. To reload it, use:\n",
            "  %reload_ext autoreload\n"
          ]
        }
      ],
      "source": [
        "%reset -f\n",
        "%load_ext autoreload\n",
        "%autoreload 2\n",
        "import pandas as pd\n",
        "import numpy as np\n",
        "from tabulate import tabulate\n",
        "from matplotlib import pyplot as plt\n",
        "import scipy.stats as st\n",
        "import statsmodels.api as sm\n",
        "import seaborn as sns\n",
        "import functions as fun\n",
        "import OLS_Estimation as OLS\n"
      ]
    },
    {
      "cell_type": "code",
      "execution_count": 8,
      "metadata": {},
      "outputs": [
        {
          "name": "stdout",
          "output_type": "stream",
          "text": [
            "shape: (1232, 14)\n"
          ]
        }
      ],
      "source": [
        "df = pd.read_csv('Dataset.csv')\n",
        "#df = df[df['Market share'] != 0]\n",
        "Nobs=df['ID'].count()\n",
        "df.head(5)\n",
        "df['const']=np.ones((Nobs,1))\n",
        "print(f'shape: {df.shape}')"
      ]
    },
    {
      "cell_type": "markdown",
      "metadata": {},
      "source": [
        "# Creating dummies"
      ]
    },
    {
      "cell_type": "code",
      "execution_count": 9,
      "metadata": {},
      "outputs": [],
      "source": [
        "df2 = df.copy()\n",
        "df2 = pd.get_dummies(df2, columns=['Segment'], drop_first=True)\n",
        "df2 = pd.get_dummies(df2, columns=['Year'], drop_first=True)\n",
        "df2['China'] = (df2['Country'] == 'CH').astype(int)"
      ]
    },
    {
      "cell_type": "markdown",
      "metadata": {},
      "source": [
        "# Creating log market share"
      ]
    },
    {
      "cell_type": "code",
      "execution_count": 10,
      "metadata": {},
      "outputs": [
        {
          "data": {
            "text/plain": [
              "0    0.0\n",
              "1    0.0\n",
              "2    0.0\n",
              "3    0.0\n",
              "4    0.0\n",
              "Name: log_market_share, dtype: float64"
            ]
          },
          "execution_count": 10,
          "metadata": {},
          "output_type": "execute_result"
        }
      ],
      "source": [
        "df2['Market share'] = df2['Market share'].replace(0, 1)\n",
        "df2['log_market_share'] = np.log(df2['Market share'])\n",
        "df2['log_market_share'].head(5)"
      ]
    },
    {
      "cell_type": "markdown",
      "metadata": {},
      "source": [
        "# Independent OLS"
      ]
    },
    {
      "cell_type": "code",
      "execution_count": 12,
      "metadata": {},
      "outputs": [
        {
          "name": "stdout",
          "output_type": "stream",
          "text": [
            "shape: (1232, 31)\n",
            "Data has N=112 and T=11 data is = 1232, 1232\n",
            "Variables: 22\n"
          ]
        }
      ],
      "source": [
        "data = df2\n",
        "print(f'shape: {data.shape}')\n",
        "#data format\n",
        "N = data['ID'].unique().size\n",
        "T = df['Year'].unique().size\n",
        "print(f'Data has N={N} and T={T} data is = {data.shape[0]}, {N*T}')\n",
        "assert data.shape[0] == N*T, f'Error: data is not a balanced panel'\n",
        "\n",
        "\n",
        "\n",
        "#Declare variables\n",
        "y = data[\"log_market_share\"].values.reshape((N*T,1))\n",
        "\n",
        "variables = ['Price', 'HP', 'Chargetime', 'Range','Segment_B', 'Segment_C', 'Segment_D', 'Segment_E', 'Segment_F', 'Segment_M', 'Segment_J', 'Year_2014', 'Year_2015', 'Year_2016', 'Year_2017', 'Year_2018', 'Year_2019', 'Year_2020', 'Year_2021', 'Year_2022', 'Year_2023', 'China']\n",
        "xnames = ['Cons'] + variables\n",
        "\n",
        "print(f'Variables: {len(variables)}')\n",
        "\n",
        "\n",
        "\n",
        "\n",
        "\n",
        "# Estimate with OLS\n",
        "#X = np.hstack([np.ones((N*T, 1))] + [data[var].values.reshape((N*T, 1)) for var in variables])\n",
        "#results = fun.est_OLS(y, X, xnames)\n",
        "# fun.logit(y, X, xnames)\n"
      ]
    },
    {
      "cell_type": "code",
      "execution_count": 13,
      "metadata": {},
      "outputs": [
        {
          "name": "stdout",
          "output_type": "stream",
          "text": [
            "coefficients: const   -3.967207\n",
            "Range    0.008889\n",
            "Price   -0.000002\n",
            "dtype: float64, shape: (23,)\n",
            "models: ['U5' 'U6' 'e-tron']\n"
          ]
        }
      ],
      "source": [
        "#X skal være [i:i+1,2:] 2: for at fjerne consten og pris\n",
        "#beta skal være [2:] for at fjerne konstant og pris-koefficienten og reshapes for at kunne lave matrixmultiplikaiton. \n",
        "\n",
        "coefficients = OLS.get_coefficients_OLS(pd.read_csv('Dataset.csv'))\n",
        "print(f'coefficients: {coefficients[:3]}, shape: {coefficients.shape}')\n",
        "\n",
        "coefficients_labels = xnames[1:] #Fjerne konstanten\n",
        "\n",
        "model_labels = data['Model'].unique()\n",
        "j = 0\n",
        "for i in model_labels:\n",
        "    j = j\n",
        "    #print(f'Car {j}: {i}')\n",
        "    j = j+1  \n",
        "print(f'models: {model_labels[:3]}')\n",
        "\n",
        "alpha = coefficients[1]\n",
        "beta = coefficients\n",
        "p_j = data['Price'].values.reshape((N*T,1)) "
      ]
    },
    {
      "cell_type": "code",
      "execution_count": 14,
      "metadata": {},
      "outputs": [
        {
          "ename": "NameError",
          "evalue": "name 'X' is not defined",
          "output_type": "error",
          "traceback": [
            "\u001b[1;31m---------------------------------------------------------------------------\u001b[0m",
            "\u001b[1;31mNameError\u001b[0m                                 Traceback (most recent call last)",
            "\u001b[1;32m~\\AppData\\Local\\Temp\\ipykernel_3404\\79510462.py\u001b[0m in \u001b[0;36m<module>\u001b[1;34m\u001b[0m\n\u001b[0;32m     20\u001b[0m     \u001b[1;32mreturn\u001b[0m \u001b[0mccp_list\u001b[0m\u001b[1;33m\u001b[0m\u001b[1;33m\u001b[0m\u001b[0m\n\u001b[0;32m     21\u001b[0m \u001b[1;33m\u001b[0m\u001b[0m\n\u001b[1;32m---> 22\u001b[1;33m \u001b[0mccp_list\u001b[0m \u001b[1;33m=\u001b[0m \u001b[0mccp\u001b[0m\u001b[1;33m(\u001b[0m\u001b[0malpha\u001b[0m\u001b[1;33m,\u001b[0m \u001b[0mbeta\u001b[0m\u001b[1;33m,\u001b[0m \u001b[0mX\u001b[0m\u001b[1;33m,\u001b[0m \u001b[0mp_j\u001b[0m\u001b[1;33m)\u001b[0m\u001b[1;33m\u001b[0m\u001b[1;33m\u001b[0m\u001b[0m\n\u001b[0m\u001b[0;32m     23\u001b[0m \u001b[0mprint\u001b[0m\u001b[1;33m(\u001b[0m\u001b[1;34mf'ccp_list: {len(ccp_list)}'\u001b[0m\u001b[1;33m)\u001b[0m\u001b[1;33m\u001b[0m\u001b[1;33m\u001b[0m\u001b[0m\n",
            "\u001b[1;31mNameError\u001b[0m: name 'X' is not defined"
          ]
        }
      ],
      "source": [
        "def exp_delta(alpha, beta, X, p_j):\n",
        "    s_j = []\n",
        "    exp_s_j = []\n",
        "    for i in range(len(p_j)):\n",
        "        s = alpha*p_j[i] + X[i:i+1,2:]@beta[2:].reshape(-1,1)\n",
        "        s_j.append(s)\n",
        "        \n",
        "    for i in range (len(s_j)):\n",
        "        exp_s_j.append(np.exp(s_j[i]))\n",
        "    return exp_s_j\n",
        "\n",
        "def ccp(alpha, beta, X, p_j):\n",
        "    ccp_list = [] \n",
        "    exp_delta_list = exp_delta(alpha, beta, X, p_j)\n",
        "    sum_exp = np.sum(exp_delta_list)\n",
        "    \n",
        "    for i in range(len(exp_delta_list)):\n",
        "        ccp_list.append(exp_delta_list[i]/sum_exp) \n",
        "    print(f'choice probability sum: {np.sum(ccp_list)} \\n 3 highest probability: {np.sort(ccp_list, axis=0)[-3:]}')\n",
        "    return ccp_list\n",
        "\n",
        "ccp_list = ccp(alpha, beta, X, p_j)\n",
        "print(f'ccp_list: {len(ccp_list)}')"
      ]
    },
    {
      "cell_type": "code",
      "execution_count": null,
      "metadata": {},
      "outputs": [],
      "source": []
    }
  ],
  "metadata": {
    "colab": {
      "provenance": []
    },
    "kernelspec": {
      "display_name": "Python 3",
      "name": "python3"
    },
    "language_info": {
      "codemirror_mode": {
        "name": "ipython",
        "version": 3
      },
      "file_extension": ".py",
      "mimetype": "text/x-python",
      "name": "python",
      "nbconvert_exporter": "python",
      "pygments_lexer": "ipython3",
      "version": "3.9.13"
    }
  },
  "nbformat": 4,
  "nbformat_minor": 0
}
