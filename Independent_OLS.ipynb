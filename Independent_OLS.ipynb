{
  "cells": [
    {
      "cell_type": "code",
      "execution_count": 15,
      "metadata": {
        "id": "uwJZ1lbaEHID"
      },
      "outputs": [
        {
          "name": "stdout",
          "output_type": "stream",
          "text": [
            "The autoreload extension is already loaded. To reload it, use:\n",
            "  %reload_ext autoreload\n"
          ]
        }
      ],
      "source": [
        "%reset -f\n",
        "%load_ext autoreload\n",
        "%autoreload 2\n",
        "import pandas as pd\n",
        "import numpy as np\n",
        "from tabulate import tabulate\n",
        "from matplotlib import pyplot as plt\n",
        "import scipy.stats as st\n",
        "import statsmodels.api as sm\n",
        "import seaborn as sns\n",
        "import functions as fun\n",
        "import OLS_Estimation as OLS\n"
      ]
    },
    {
      "cell_type": "markdown",
      "metadata": {},
      "source": [
        "To datasæt. Det originale med varierende pris og et manipuleret sådan at ccp for en bil hvor $ms = 0$ er $\\approx 0$"
      ]
    },
    {
      "cell_type": "code",
      "execution_count": 16,
      "metadata": {},
      "outputs": [
        {
          "name": "stderr",
          "output_type": "stream",
          "text": [
            "c:\\Users\\Mikkel\\OneDrive\\Offentlig\\Dokumenter\\GitHub\\Bachelor\\functions.py:119: SettingWithCopyWarning: \n",
            "A value is trying to be set on a copy of a slice from a DataFrame\n",
            "\n",
            "See the caveats in the documentation: https://pandas.pydata.org/pandas-docs/stable/user_guide/indexing.html#returning-a-view-versus-a-copy\n",
            "  df['Price'][i] = -df['Price'][i]*1000\n"
          ]
        },
        {
          "name": "stdout",
          "output_type": "stream",
          "text": [
            "shape OG: (1177, 14) \n",
            " shape straf: (1177, 14)\n"
          ]
        }
      ],
      "source": [
        "df = pd.read_csv('Dataset.csv')\n",
        "Nobs=df['ID'].count()\n",
        "df['const']=np.ones((Nobs,1))\n",
        "df_straf = df.copy()\n",
        "df_straf = fun.straf_0ms(df_straf)\n",
        "\n",
        "\n",
        "print(f'shape OG: {df.shape} \\n shape straf: {df_straf.shape}')"
      ]
    },
    {
      "cell_type": "markdown",
      "metadata": {},
      "source": [
        "# Manipulerer data til OLS estimation"
      ]
    },
    {
      "cell_type": "markdown",
      "metadata": {},
      "source": [
        "## Creating dummies"
      ]
    },
    {
      "cell_type": "code",
      "execution_count": 17,
      "metadata": {},
      "outputs": [
        {
          "name": "stdout",
          "output_type": "stream",
          "text": [
            "1 df shape: (1177, 14) df2 shape (1177, 14)\n",
            "2 df shape: (1177, 14) df2 shape (1177, 20)\n",
            "3 df shape: (1177, 14) df2 shape (1177, 29)\n",
            "4 df shape: (1177, 14) df2 shape (1177, 30)\n"
          ]
        }
      ],
      "source": [
        "df2 = df.copy()\n",
        "print(f'1 df shape: {df.shape} df2 shape {df2.shape}')\n",
        "df2 = pd.get_dummies(df2, columns=['Segment'], drop_first=True)\n",
        "print(f'2 df shape: {df.shape} df2 shape {df2.shape}')\n",
        "df2 = pd.get_dummies(df2, columns=['Year'], drop_first=True)\n",
        "print(f'3 df shape: {df.shape} df2 shape {df2.shape}')\n",
        "df2['China'] = (df2['Country'] == 'CH').astype(int)\n",
        "print(f'4 df shape: {df.shape} df2 shape {df2.shape}')"
      ]
    },
    {
      "cell_type": "markdown",
      "metadata": {},
      "source": [
        "## Creating log market share"
      ]
    },
    {
      "cell_type": "code",
      "execution_count": 18,
      "metadata": {},
      "outputs": [
        {
          "name": "stdout",
          "output_type": "stream",
          "text": [
            "df shape: (1177, 14) df2 shape (1177, 31)\n"
          ]
        }
      ],
      "source": [
        "df2['Market share'] = df2['Market share'].replace(0, 1)\n",
        "df2['log_market_share'] = np.log(df2['Market share']) \n",
        "df2['log_market_share'].head(5)\n",
        "print(f'df shape: {df.shape} df2 shape {df2.shape}')\n",
        "#print(f'{df2.columns} \\n {df.columns}')"
      ]
    },
    {
      "cell_type": "markdown",
      "metadata": {},
      "source": [
        "## Independent OLS"
      ]
    },
    {
      "cell_type": "code",
      "execution_count": 19,
      "metadata": {},
      "outputs": [
        {
          "name": "stdout",
          "output_type": "stream",
          "text": [
            "data shape: (1177, 31) df shape (1177, 14)\n",
            "N: 107 T: 11 N*T: 1177\n",
            "Data has N=107 and T=11 data is = 1177, 1177\n",
            "Variables: 22\n"
          ]
        }
      ],
      "source": [
        "#Fjernede vi modellerne som gav fejl?\n",
        "data = df2\n",
        "\n",
        "print(f'data shape: {data.shape} df shape {df.shape}')\n",
        "\n",
        "#data format\n",
        "\n",
        "N = data['ID'].unique().size\n",
        "T = df['Year'].unique().size\n",
        "print(f'N: {N} T: {T} N*T: {N*T}')\n",
        "print(f'Data has N={N} and T={T} data is = {data.shape[0]}, {N*T}')\n",
        "\n",
        "variables = ['Price', 'HP', 'Chargetime', 'Range','Segment_B', 'Segment_C', 'Segment_D', 'Segment_E', 'Segment_F', 'Segment_M', 'Segment_J', 'Year_2014', 'Year_2015', 'Year_2016', 'Year_2017', 'Year_2018', 'Year_2019', 'Year_2020', 'Year_2021', 'Year_2022', 'Year_2023', 'China']\n",
        "xnames = ['Cons'] + variables\n",
        "\n",
        "\n",
        "#Declare variables\n",
        "#y = data[\"log_market_share\"].values.reshape((N*T,1))\n",
        "X = np.hstack([np.ones((N*T, 1))] + [data[var].values.reshape((N*T, 1)) for var in variables])\n",
        "print(f'Variables: {len(variables)}')\n",
        "\n",
        "\n",
        "#Estimate with OLS\n",
        "\n",
        "#results = fun.est_OLS(y, X, xnames)\n",
        "#params = results.params\n",
        "#print(f'params: {params}')\n",
        "#fun.logit(y, X, xnames)\n"
      ]
    },
    {
      "cell_type": "code",
      "execution_count": 21,
      "metadata": {},
      "outputs": [
        {
          "name": "stdout",
          "output_type": "stream",
          "text": [
            "coefficients:\n",
            "const        -3.628008e+00\n",
            "Price        -1.869419e-08\n",
            "Range         8.307278e-03\n",
            "HP           -1.842563e-03\n",
            "Chargetime   -3.447909e-02\n",
            "Segment_B    -3.216900e-01\n",
            "Segment_C     3.049201e-01\n",
            "Segment_D    -7.320388e-02\n",
            "Segment_E    -1.514931e+00\n",
            "Segment_F    -1.772606e+00\n",
            "dtype: float64\n",
            "shape: (23,)\n",
            "models: ['U5' 'U6' 'e-tron']\n",
            "N: 107 T: 11 N*T: 1177\n",
            "\n",
            " \n",
            " p_j shape: (1177, 1)\n"
          ]
        }
      ],
      "source": [
        "#X skal være [i:i+1,2:] 2: for at fjerne consten og pris\n",
        "#beta skal være [2:] for at fjerne konstant og pris-koefficienten og reshapes for at kunne lave matrixmultiplikaiton. \n",
        "\n",
        "coefficients = OLS.get_coefficients_OLS(pd.read_csv('Dataset.csv'))\n",
        "print(f'coefficients:\\n{coefficients[:10]}\\nshape: {coefficients.shape}')\n",
        "\n",
        "coefficients_labels = xnames[1:] #Fjerne konstanten\n",
        "\n",
        "model_labels = data['Model'].unique()\n",
        "j = 0\n",
        "for i in model_labels:\n",
        "    j = j\n",
        "    #print(f'Car {j}: {i}')\n",
        "    j = j+1  \n",
        "print(f'models: {model_labels[:3]}')\n",
        "\n",
        "repeated_models = np.repeat(model_labels, T)\n",
        "\n",
        "alpha = coefficients[1]\n",
        "beta = coefficients\n",
        "\n",
        "print(f'N: {N} T: {T} N*T: {N*T}')\n",
        "p_j = df_straf['Price'].values.reshape((N*T,1))\n",
        "print(f'\\n \\n p_j shape: {p_j.shape}') "
      ]
    },
    {
      "cell_type": "code",
      "execution_count": 22,
      "metadata": {},
      "outputs": [
        {
          "name": "stdout",
          "output_type": "stream",
          "text": [
            "share_j: 1177\n",
            "exp_share_j: 0.22153183755592828\n"
          ]
        }
      ],
      "source": [
        "#ccp_list = fun.ccp(alpha, beta, X, p_j)\n",
        "share_j = []\n",
        "exp_share_j = []\n",
        "for j in range(len(p_j)):\n",
        "    s = alpha*p_j[j] + X[j:j+1,2:]@beta[2:]\n",
        "    share_j.append(s)\n",
        "print(f'share_j: {len(share_j)}')\n",
        "    \n",
        "for j in range (len(share_j)):\n",
        "    exp_share_j.append(np.exp(share_j[j]))\n",
        "print(f'exp_share_j: {np.sum(exp_share_j)}')"
      ]
    },
    {
      "cell_type": "code",
      "execution_count": 23,
      "metadata": {},
      "outputs": [
        {
          "name": "stdout",
          "output_type": "stream",
          "text": [
            "None\n"
          ]
        }
      ],
      "source": [
        "def exp_delta(alpha, beta, X, p_j):\n",
        "    share_j = []\n",
        "    exp_share_j = []\n",
        "    for j in range(len(p_j)):\n",
        "        s = alpha*p_j[j] + X[j:j+1,2:]@beta[2:]\n",
        "        share_j.append(s)\n",
        "        #print(f'share_j: {share_j[7:11]}')\n",
        "        \n",
        "    for j in range (len(share_j)):\n",
        "        exp_share_j.append(np.exp(share_j[j]))\n",
        "    return exp_share_j\n",
        "\n",
        "def ccp(alpha, beta, X, p_j):\n",
        "    ccp_list = [] \n",
        "    exp_delta_list = exp_delta(alpha, beta, X, p_j)\n",
        "    sum_exp = np.sum(exp_delta_list)\n",
        "\n",
        "ccp_list = ccp(alpha, beta, X, p_j)\n",
        "print(ccp_list)"
      ]
    },
    {
      "cell_type": "code",
      "execution_count": null,
      "metadata": {},
      "outputs": [],
      "source": []
    },
    {
      "cell_type": "code",
      "execution_count": 24,
      "metadata": {},
      "outputs": [],
      "source": [
        "m = 3"
      ]
    },
    {
      "cell_type": "code",
      "execution_count": 25,
      "metadata": {},
      "outputs": [
        {
          "ename": "TypeError",
          "evalue": "'NoneType' object is not subscriptable",
          "output_type": "error",
          "traceback": [
            "\u001b[1;31m---------------------------------------------------------------------------\u001b[0m",
            "\u001b[1;31mTypeError\u001b[0m                                 Traceback (most recent call last)",
            "\u001b[1;32m~\\AppData\\Local\\Temp\\ipykernel_3176\\1251738108.py\u001b[0m in \u001b[0;36m<module>\u001b[1;34m\u001b[0m\n\u001b[1;32m----> 1\u001b[1;33m \u001b[0mfun\u001b[0m\u001b[1;33m.\u001b[0m\u001b[0mprobability_ratio\u001b[0m\u001b[1;33m(\u001b[0m\u001b[0mccp_list\u001b[0m\u001b[1;33m[\u001b[0m\u001b[1;33m:\u001b[0m\u001b[0mm\u001b[0m\u001b[1;33m]\u001b[0m\u001b[1;33m,\u001b[0m \u001b[0mrepeated_models\u001b[0m\u001b[1;33m[\u001b[0m\u001b[1;33m:\u001b[0m\u001b[0mm\u001b[0m\u001b[1;33m]\u001b[0m\u001b[1;33m,\u001b[0m \u001b[0mrepeated_models\u001b[0m\u001b[1;33m[\u001b[0m\u001b[1;33m:\u001b[0m\u001b[0mm\u001b[0m\u001b[1;33m]\u001b[0m\u001b[1;33m)\u001b[0m\u001b[1;33m\u001b[0m\u001b[1;33m\u001b[0m\u001b[0m\n\u001b[0m",
            "\u001b[1;31mTypeError\u001b[0m: 'NoneType' object is not subscriptable"
          ]
        }
      ],
      "source": [
        "fun.probability_ratio(ccp_list[:m], repeated_models[:m], repeated_models[:m])"
      ]
    },
    {
      "cell_type": "code",
      "execution_count": null,
      "metadata": {},
      "outputs": [
        {
          "data": {
            "text/html": [
              "<div>\n",
              "<style scoped>\n",
              "    .dataframe tbody tr th:only-of-type {\n",
              "        vertical-align: middle;\n",
              "    }\n",
              "\n",
              "    .dataframe tbody tr th {\n",
              "        vertical-align: top;\n",
              "    }\n",
              "\n",
              "    .dataframe thead th {\n",
              "        text-align: right;\n",
              "    }\n",
              "</style>\n",
              "<table border=\"1\" class=\"dataframe\">\n",
              "  <thead>\n",
              "    <tr style=\"text-align: right;\">\n",
              "      <th></th>\n",
              "      <th>Price</th>\n",
              "      <th>HP</th>\n",
              "      <th>Chargetime</th>\n",
              "    </tr>\n",
              "  </thead>\n",
              "  <tbody>\n",
              "    <tr>\n",
              "      <th>U5</th>\n",
              "      <td>[[-5.279617962689559e-12]]</td>\n",
              "      <td>[[3.732223223479503e-07]]</td>\n",
              "      <td>NaN</td>\n",
              "    </tr>\n",
              "    <tr>\n",
              "      <th>U5</th>\n",
              "      <td>[[-5.505870383042135e-12]]</td>\n",
              "      <td>[[3.892163685758361e-07]]</td>\n",
              "      <td>NaN</td>\n",
              "    </tr>\n",
              "    <tr>\n",
              "      <th>U5</th>\n",
              "      <td>[[-5.263034730522306e-12]]</td>\n",
              "      <td>[[3.720500344162787e-07]]</td>\n",
              "      <td>NaN</td>\n",
              "    </tr>\n",
              "  </tbody>\n",
              "</table>\n",
              "</div>"
            ],
            "text/plain": [
              "                         Price                         HP Chargetime\n",
              "U5  [[-5.279617962689559e-12]]  [[3.732223223479503e-07]]        NaN\n",
              "U5  [[-5.505870383042135e-12]]  [[3.892163685758361e-07]]        NaN\n",
              "U5  [[-5.263034730522306e-12]]  [[3.720500344162787e-07]]        NaN"
            ]
          },
          "execution_count": 10,
          "metadata": {},
          "output_type": "execute_result"
        }
      ],
      "source": [
        "fun.marginal_effects(ccp_list[:m], repeated_models[:m], coefficients_labels[:m], coefficients[:m])"
      ]
    },
    {
      "cell_type": "code",
      "execution_count": null,
      "metadata": {},
      "outputs": [
        {
          "name": "stdout",
          "output_type": "stream",
          "text": [
            "(3, 3, 2)\n"
          ]
        },
        {
          "data": {
            "text/plain": [
              "array([[[ 6.02006377e-15, -4.25586092e-10],\n",
              "        [ 6.27804720e-15, -4.43824131e-10],\n",
              "        [ 6.00115480e-15, -4.24249329e-10]],\n",
              "\n",
              "       [[ 6.27804720e-15, -4.43824131e-10],\n",
              "        [ 6.54708625e-15, -4.62843743e-10],\n",
              "        [ 6.25832791e-15, -4.42430084e-10]],\n",
              "\n",
              "       [[ 6.00115480e-15, -4.24249329e-10],\n",
              "        [ 6.25832791e-15, -4.42430084e-10],\n",
              "        [ 5.98230523e-15, -4.22916766e-10]]])"
            ]
          },
          "execution_count": 11,
          "metadata": {},
          "output_type": "execute_result"
        }
      ],
      "source": [
        "fun.cross_marginal_effects(ccp_list[:m], coefficients[:m])"
      ]
    },
    {
      "cell_type": "code",
      "execution_count": null,
      "metadata": {},
      "outputs": [
        {
          "name": "stdout",
          "output_type": "stream",
          "text": [
            "elasticity shape: \n",
            "(3, 3)\n"
          ]
        },
        {
          "data": {
            "text/html": [
              "<div>\n",
              "<style scoped>\n",
              "    .dataframe tbody tr th:only-of-type {\n",
              "        vertical-align: middle;\n",
              "    }\n",
              "\n",
              "    .dataframe tbody tr th {\n",
              "        vertical-align: top;\n",
              "    }\n",
              "\n",
              "    .dataframe thead th {\n",
              "        text-align: right;\n",
              "    }\n",
              "</style>\n",
              "<table border=\"1\" class=\"dataframe\">\n",
              "  <thead>\n",
              "    <tr style=\"text-align: right;\">\n",
              "      <th></th>\n",
              "      <th>Price</th>\n",
              "      <th>HP</th>\n",
              "      <th>Chargetime</th>\n",
              "    </tr>\n",
              "  </thead>\n",
              "  <tbody>\n",
              "    <tr>\n",
              "      <th>U5</th>\n",
              "      <td>[[1.533550854063779]]</td>\n",
              "      <td>[[0.0658690222799449]]</td>\n",
              "      <td>NaN</td>\n",
              "    </tr>\n",
              "    <tr>\n",
              "      <th>U5</th>\n",
              "      <td>[[1.5334759185806208]]</td>\n",
              "      <td>[[0.06586580365371113]]</td>\n",
              "      <td>NaN</td>\n",
              "    </tr>\n",
              "    <tr>\n",
              "      <th>U5</th>\n",
              "      <td>[[1.5335563464802262]]</td>\n",
              "      <td>[[0.06586925819002273]]</td>\n",
              "      <td>NaN</td>\n",
              "    </tr>\n",
              "  </tbody>\n",
              "</table>\n",
              "</div>"
            ],
            "text/plain": [
              "                     Price                       HP Chargetime\n",
              "U5   [[1.533550854063779]]   [[0.0658690222799449]]        NaN\n",
              "U5  [[1.5334759185806208]]  [[0.06586580365371113]]        NaN\n",
              "U5  [[1.5335563464802262]]  [[0.06586925819002273]]        NaN"
            ]
          },
          "execution_count": 12,
          "metadata": {},
          "output_type": "execute_result"
        }
      ],
      "source": [
        "fun.elasticity(ccp_list[:m], repeated_models[:m], coefficients_labels[:m], coefficients[:m], X[:m])"
      ]
    },
    {
      "cell_type": "code",
      "execution_count": null,
      "metadata": {},
      "outputs": [
        {
          "name": "stdout",
          "output_type": "stream",
          "text": [
            "3\n",
            "Change in : U5 \n",
            " [[[-1.74862537e-03 -7.51068954e-05]]\n",
            "\n",
            " [[-1.74862537e-03 -7.51068954e-05]]\n",
            "\n",
            " [[-1.74862537e-03 -7.51068954e-05]]]\n",
            "Change in : U6 \n",
            " [[[-1.82356086e-03 -7.83255217e-05]]\n",
            "\n",
            " [[-1.82356086e-03 -7.83255217e-05]]\n",
            "\n",
            " [[-1.82356086e-03 -7.83255217e-05]]]\n",
            "Change in : e-tron \n",
            " [[[-1.74313296e-03 -7.48709854e-05]]\n",
            "\n",
            " [[-1.74313296e-03 -7.48709854e-05]]\n",
            "\n",
            " [[-1.74313296e-03 -7.48709854e-05]]]\n"
          ]
        }
      ],
      "source": [
        "fun.cross_elasticity(ccp_list[:m], coefficients[:m], X[:m], model_labels[:m])"
      ]
    },
    {
      "cell_type": "code",
      "execution_count": null,
      "metadata": {},
      "outputs": [],
      "source": []
    }
  ],
  "metadata": {
    "colab": {
      "provenance": []
    },
    "kernelspec": {
      "display_name": "Python 3",
      "name": "python3"
    },
    "language_info": {
      "codemirror_mode": {
        "name": "ipython",
        "version": 3
      },
      "file_extension": ".py",
      "mimetype": "text/x-python",
      "name": "python",
      "nbconvert_exporter": "python",
      "pygments_lexer": "ipython3",
      "version": "3.9.13"
    }
  },
  "nbformat": 4,
  "nbformat_minor": 0
}
