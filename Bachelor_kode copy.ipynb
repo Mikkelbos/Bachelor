{
  "cells": [
    {
      "cell_type": "code",
      "execution_count": 1,
      "metadata": {
        "id": "uwJZ1lbaEHID"
      },
      "outputs": [],
      "source": [
        "import statsmodels.api as sm\n",
        "import numpy as np\n",
        "from scipy.optimize import minimize\n",
        "from tabulate import tabulate\n",
        "from numpy import linalg as la\n",
        "import time\n",
        "import pandas as pd\n",
        "import mestim as M\n",
        "from discrete_choice import * \n",
        "import matplotlib.pyplot as plt\n",
        "import LinearModelsWeek3_post as lm\n",
        "\n",
        "from numpy import random\n",
        "from scipy.stats import genextreme\n"
      ]
    },
    {
      "cell_type": "markdown",
      "metadata": {},
      "source": [
        "## Data"
      ]
    },
    {
      "cell_type": "code",
      "execution_count": 2,
      "metadata": {},
      "outputs": [
        {
          "name": "stdout",
          "output_type": "stream",
          "text": [
            "Index(['ID', 'Manufacturer', 'Model', 'Range', 'Price', 'HP',\n",
            "       'Fast charge (min)', 'Type', 'Segment', 'Country', 'Count', 'Share',\n",
            "       'Percentage'],\n",
            "      dtype='object')\n",
            "segments : ['C' 'F' 'E' 'B' 'D' 'M' 'A' 'J'] \n",
            " Countrys : ['CH' 'DE' 'FR' 'SP' 'RO' 'IT' 'DK' 'US' 'JP' 'KR' 'GB' 'SE' 'CZ'] \n",
            " types : ['SUV' 'Sedan' 'Hatchback' 'MPV' 'Stationcar' 'Cabriolet' 'Liftback']\n"
          ]
        },
        {
          "data": {
            "text/html": [
              "<div>\n",
              "<style scoped>\n",
              "    .dataframe tbody tr th:only-of-type {\n",
              "        vertical-align: middle;\n",
              "    }\n",
              "\n",
              "    .dataframe tbody tr th {\n",
              "        vertical-align: top;\n",
              "    }\n",
              "\n",
              "    .dataframe thead th {\n",
              "        text-align: right;\n",
              "    }\n",
              "</style>\n",
              "<table border=\"1\" class=\"dataframe\">\n",
              "  <thead>\n",
              "    <tr style=\"text-align: right;\">\n",
              "      <th></th>\n",
              "      <th>ID</th>\n",
              "      <th>Manufacturer</th>\n",
              "      <th>Model</th>\n",
              "      <th>Range</th>\n",
              "      <th>Price</th>\n",
              "      <th>HP</th>\n",
              "      <th>ChargeTime</th>\n",
              "      <th>Type</th>\n",
              "      <th>Segment</th>\n",
              "      <th>Country</th>\n",
              "      <th>...</th>\n",
              "      <th>E</th>\n",
              "      <th>B</th>\n",
              "      <th>D</th>\n",
              "      <th>M</th>\n",
              "      <th>A</th>\n",
              "      <th>J</th>\n",
              "      <th>Europe</th>\n",
              "      <th>China</th>\n",
              "      <th>USA</th>\n",
              "      <th>Other</th>\n",
              "    </tr>\n",
              "  </thead>\n",
              "  <tbody>\n",
              "    <tr>\n",
              "      <th>0</th>\n",
              "      <td>1</td>\n",
              "      <td>Aiways</td>\n",
              "      <td>U5</td>\n",
              "      <td>400</td>\n",
              "      <td>3.308258e+05</td>\n",
              "      <td>201</td>\n",
              "      <td>34</td>\n",
              "      <td>SUV</td>\n",
              "      <td>C</td>\n",
              "      <td>CH</td>\n",
              "      <td>...</td>\n",
              "      <td>0</td>\n",
              "      <td>0</td>\n",
              "      <td>0</td>\n",
              "      <td>0</td>\n",
              "      <td>0</td>\n",
              "      <td>0</td>\n",
              "      <td>0</td>\n",
              "      <td>1</td>\n",
              "      <td>0</td>\n",
              "      <td>0</td>\n",
              "    </tr>\n",
              "    <tr>\n",
              "      <th>1</th>\n",
              "      <td>2</td>\n",
              "      <td>Aiways</td>\n",
              "      <td>U6</td>\n",
              "      <td>405</td>\n",
              "      <td>3.757100e+05</td>\n",
              "      <td>214</td>\n",
              "      <td>34</td>\n",
              "      <td>SUV</td>\n",
              "      <td>C</td>\n",
              "      <td>CH</td>\n",
              "      <td>...</td>\n",
              "      <td>0</td>\n",
              "      <td>0</td>\n",
              "      <td>0</td>\n",
              "      <td>0</td>\n",
              "      <td>0</td>\n",
              "      <td>0</td>\n",
              "      <td>0</td>\n",
              "      <td>1</td>\n",
              "      <td>0</td>\n",
              "      <td>0</td>\n",
              "    </tr>\n",
              "    <tr>\n",
              "      <th>2</th>\n",
              "      <td>3</td>\n",
              "      <td>Audi</td>\n",
              "      <td>e-tron</td>\n",
              "      <td>375</td>\n",
              "      <td>7.149530e+05</td>\n",
              "      <td>402</td>\n",
              "      <td>17</td>\n",
              "      <td>SUV</td>\n",
              "      <td>F</td>\n",
              "      <td>DE</td>\n",
              "      <td>...</td>\n",
              "      <td>0</td>\n",
              "      <td>0</td>\n",
              "      <td>0</td>\n",
              "      <td>0</td>\n",
              "      <td>0</td>\n",
              "      <td>0</td>\n",
              "      <td>1</td>\n",
              "      <td>0</td>\n",
              "      <td>0</td>\n",
              "      <td>0</td>\n",
              "    </tr>\n",
              "    <tr>\n",
              "      <th>3</th>\n",
              "      <td>4</td>\n",
              "      <td>Audi</td>\n",
              "      <td>e-tron GT</td>\n",
              "      <td>472</td>\n",
              "      <td>1.081416e+06</td>\n",
              "      <td>522</td>\n",
              "      <td>17</td>\n",
              "      <td>Sedan</td>\n",
              "      <td>F</td>\n",
              "      <td>DE</td>\n",
              "      <td>...</td>\n",
              "      <td>0</td>\n",
              "      <td>0</td>\n",
              "      <td>0</td>\n",
              "      <td>0</td>\n",
              "      <td>0</td>\n",
              "      <td>0</td>\n",
              "      <td>1</td>\n",
              "      <td>0</td>\n",
              "      <td>0</td>\n",
              "      <td>0</td>\n",
              "    </tr>\n",
              "    <tr>\n",
              "      <th>4</th>\n",
              "      <td>5</td>\n",
              "      <td>Audi</td>\n",
              "      <td>Q4 e-tron</td>\n",
              "      <td>496</td>\n",
              "      <td>4.547246e+05</td>\n",
              "      <td>281</td>\n",
              "      <td>28</td>\n",
              "      <td>SUV</td>\n",
              "      <td>C</td>\n",
              "      <td>DE</td>\n",
              "      <td>...</td>\n",
              "      <td>0</td>\n",
              "      <td>0</td>\n",
              "      <td>0</td>\n",
              "      <td>0</td>\n",
              "      <td>0</td>\n",
              "      <td>0</td>\n",
              "      <td>1</td>\n",
              "      <td>0</td>\n",
              "      <td>0</td>\n",
              "      <td>0</td>\n",
              "    </tr>\n",
              "  </tbody>\n",
              "</table>\n",
              "<p>5 rows × 32 columns</p>\n",
              "</div>"
            ],
            "text/plain": [
              "   ID Manufacturer      Model  Range         Price   HP  ChargeTime   Type  \\\n",
              "0   1       Aiways         U5    400  3.308258e+05  201          34    SUV   \n",
              "1   2       Aiways         U6    405  3.757100e+05  214          34    SUV   \n",
              "2   3         Audi     e-tron    375  7.149530e+05  402          17    SUV   \n",
              "3   4         Audi  e-tron GT    472  1.081416e+06  522          17  Sedan   \n",
              "4   5         Audi  Q4 e-tron    496  4.547246e+05  281          28    SUV   \n",
              "\n",
              "  Segment Country  ...  E  B  D  M  A  J  Europe  China  USA  Other  \n",
              "0       C      CH  ...  0  0  0  0  0  0       0      1    0      0  \n",
              "1       C      CH  ...  0  0  0  0  0  0       0      1    0      0  \n",
              "2       F      DE  ...  0  0  0  0  0  0       1      0    0      0  \n",
              "3       F      DE  ...  0  0  0  0  0  0       1      0    0      0  \n",
              "4       C      DE  ...  0  0  0  0  0  0       1      0    0      0  \n",
              "\n",
              "[5 rows x 32 columns]"
            ]
          },
          "execution_count": 2,
          "metadata": {},
          "output_type": "execute_result"
        }
      ],
      "source": [
        "df_overview = pd.read_csv('Overview.csv')\n",
        "df_overview.sort_values(by=['Count'], ascending=True, inplace=True) \n",
        "df_overview.tail(5)\n",
        "print(df_overview.columns)\n",
        "\n",
        "df_overview = pd.read_csv('Overview.csv')\n",
        "df_overview = df_overview.rename(columns={'Fast charge (min)': 'ChargeTime'})\n",
        "unique_types = df_overview['Type'].unique()\n",
        "for i in unique_types:\n",
        "    df_overview[i] = np.where(df_overview['Type'] == i, 1, 0)\n",
        "\n",
        "\n",
        "unique_Country = df_overview['Country'].unique()\n",
        "\n",
        "unique_segments = df_overview['Segment'].unique()\n",
        "for i in unique_segments:\n",
        "    df_overview[i] = np.where(df_overview['Segment'] == i, 1, 0)\n",
        "print(f'segments : {unique_segments} \\n Countrys : {unique_Country} \\n types : {unique_types}')\n",
        "\n",
        "\n",
        "#Europa, Kina, USA, Andet\n",
        "df_overview['Europe'] = np.where((df_overview['Country'] != 'US') & (df_overview['Country'] != 'CH') & (df_overview['Country'] != 'JP') & (df_overview['Country'] != 'KR'), 1, 0)\n",
        "df_overview['China'] = np.where(df_overview['Country'] == 'CH', 1, 0)\n",
        "df_overview['USA'] = np.where(df_overview['Country'] == 'US', 1, 0)\n",
        "df_overview['Other'] = np.where((df_overview['Europe'] != 1) & (df_overview['China'] != 1) & (df_overview['USA'] != 1), 1, 0)\n",
        "\n",
        "df_overview.head(5)\n",
        "#df_overview[df_overview['Manufacturer'] == 'Nissan']\n"
      ]
    },
    {
      "cell_type": "code",
      "execution_count": 3,
      "metadata": {},
      "outputs": [
        {
          "name": "stdout",
          "output_type": "stream",
          "text": [
            "   ID  year  Market share Manufacturer Model  Range  Price   HP  ChargeTime  \\\n",
            "0   1  2013           0.0       Aiways    U5    400    0.0  201          34   \n",
            "\n",
            "  Type  ...  E  B  D  M  A  J  Europe  China  USA  Other  \n",
            "0  SUV  ...  0  0  0  0  0  0       0      1    0      0  \n",
            "\n",
            "[1 rows x 31 columns]\n"
          ]
        },
        {
          "name": "stderr",
          "output_type": "stream",
          "text": [
            "/var/folders/84/nl1t_q050914klynvps92vkc0000gn/T/ipykernel_90665/3974771862.py:28: SettingWithCopyWarning: \n",
            "A value is trying to be set on a copy of a slice from a DataFrame\n",
            "\n",
            "See the caveats in the documentation: https://pandas.pydata.org/pandas-docs/stable/user_guide/indexing.html#returning-a-view-versus-a-copy\n",
            "  df_dataset_ms0.sort_values(by=['Market share'], ascending=False, inplace=True)\n"
          ]
        }
      ],
      "source": [
        "df_dataset = pd.read_csv('Dataset.csv')\n",
        "df_dataset = df_dataset.rename(columns={'Fast charge (min)': 'ChargeTime'})\n",
        "unique_types = df_dataset['Type'].unique()\n",
        "#print(df_dataset.columns)\n",
        "for i in unique_types:\n",
        "    df_dataset[i] = np.where(df_dataset['Type'] == i, 1, 0)\n",
        "\n",
        "\n",
        "years = df_dataset['year'].unique()\n",
        "\n",
        "unique_Country = df_dataset['Country'].unique()\n",
        "\n",
        "unique_segments = df_dataset['Segment'].unique()\n",
        "for i in unique_segments:\n",
        "    df_dataset[i] = np.where(df_dataset['Segment'] == i, 1, 0)\n",
        "#print(f'segments : {unique_segments} \\n Countrys : {unique_Country} \\n types : {unique_types}')\n",
        "\n",
        "\n",
        "#Europa, Kina, USA, Andet\n",
        "df_dataset['Europe'] = np.where((df_dataset['Country'] != 'US') & (df_dataset['Country'] != 'CH') & (df_dataset['Country'] != 'JP') & (df_dataset['Country'] != 'KR'), 1, 0)\n",
        "df_dataset['China'] = np.where(df_dataset['Country'] == 'CH', 1, 0)\n",
        "df_dataset['USA'] = np.where(df_dataset['Country'] == 'US', 1, 0)\n",
        "df_dataset['Other'] = np.where((df_dataset['Europe'] != 1) & (df_dataset['China'] != 1) & (df_dataset['USA'] != 1), 1, 0)\n",
        "print(df_dataset.head(1))\n",
        "\n",
        "\n",
        "df_dataset_ms0 = df_dataset[df_dataset['Market share'] != 0]\n",
        "df_dataset_ms0.sort_values(by=['Market share'], ascending=False, inplace=True)\n",
        "#print(df_dataset_ms0.sample(1))\n",
        "\n",
        "df_dataset_year_ms0 = {}\n",
        "for year in years:\n",
        "    df_dataset_year_ms0[year] = df_dataset_ms0[df_dataset_ms0['year'] == year]\n",
        "\n",
        "\n"
      ]
    },
    {
      "cell_type": "code",
      "execution_count": 4,
      "metadata": {},
      "outputs": [
        {
          "data": {
            "text/html": [
              "<div>\n",
              "<style scoped>\n",
              "    .dataframe tbody tr th:only-of-type {\n",
              "        vertical-align: middle;\n",
              "    }\n",
              "\n",
              "    .dataframe tbody tr th {\n",
              "        vertical-align: top;\n",
              "    }\n",
              "\n",
              "    .dataframe thead th {\n",
              "        text-align: right;\n",
              "    }\n",
              "</style>\n",
              "<table border=\"1\" class=\"dataframe\">\n",
              "  <thead>\n",
              "    <tr style=\"text-align: right;\">\n",
              "      <th></th>\n",
              "      <th>ID</th>\n",
              "      <th>year</th>\n",
              "      <th>Market share</th>\n",
              "      <th>Manufacturer</th>\n",
              "      <th>Model</th>\n",
              "      <th>Range</th>\n",
              "      <th>Price</th>\n",
              "      <th>HP</th>\n",
              "      <th>ChargeTime</th>\n",
              "      <th>Type</th>\n",
              "      <th>...</th>\n",
              "      <th>E</th>\n",
              "      <th>B</th>\n",
              "      <th>D</th>\n",
              "      <th>M</th>\n",
              "      <th>A</th>\n",
              "      <th>J</th>\n",
              "      <th>Europe</th>\n",
              "      <th>China</th>\n",
              "      <th>USA</th>\n",
              "      <th>Other</th>\n",
              "    </tr>\n",
              "  </thead>\n",
              "  <tbody>\n",
              "    <tr>\n",
              "      <th>0</th>\n",
              "      <td>1</td>\n",
              "      <td>2013</td>\n",
              "      <td>0.000000</td>\n",
              "      <td>Aiways</td>\n",
              "      <td>U5</td>\n",
              "      <td>400</td>\n",
              "      <td>0.0</td>\n",
              "      <td>201</td>\n",
              "      <td>34</td>\n",
              "      <td>SUV</td>\n",
              "      <td>...</td>\n",
              "      <td>0</td>\n",
              "      <td>0</td>\n",
              "      <td>0</td>\n",
              "      <td>0</td>\n",
              "      <td>0</td>\n",
              "      <td>0</td>\n",
              "      <td>0</td>\n",
              "      <td>1</td>\n",
              "      <td>0</td>\n",
              "      <td>0</td>\n",
              "    </tr>\n",
              "    <tr>\n",
              "      <th>1</th>\n",
              "      <td>1</td>\n",
              "      <td>2014</td>\n",
              "      <td>0.000000</td>\n",
              "      <td>Aiways</td>\n",
              "      <td>U5</td>\n",
              "      <td>400</td>\n",
              "      <td>0.0</td>\n",
              "      <td>201</td>\n",
              "      <td>34</td>\n",
              "      <td>SUV</td>\n",
              "      <td>...</td>\n",
              "      <td>0</td>\n",
              "      <td>0</td>\n",
              "      <td>0</td>\n",
              "      <td>0</td>\n",
              "      <td>0</td>\n",
              "      <td>0</td>\n",
              "      <td>0</td>\n",
              "      <td>1</td>\n",
              "      <td>0</td>\n",
              "      <td>0</td>\n",
              "    </tr>\n",
              "    <tr>\n",
              "      <th>2</th>\n",
              "      <td>1</td>\n",
              "      <td>2015</td>\n",
              "      <td>0.000000</td>\n",
              "      <td>Aiways</td>\n",
              "      <td>U5</td>\n",
              "      <td>400</td>\n",
              "      <td>0.0</td>\n",
              "      <td>201</td>\n",
              "      <td>34</td>\n",
              "      <td>SUV</td>\n",
              "      <td>...</td>\n",
              "      <td>0</td>\n",
              "      <td>0</td>\n",
              "      <td>0</td>\n",
              "      <td>0</td>\n",
              "      <td>0</td>\n",
              "      <td>0</td>\n",
              "      <td>0</td>\n",
              "      <td>1</td>\n",
              "      <td>0</td>\n",
              "      <td>0</td>\n",
              "    </tr>\n",
              "    <tr>\n",
              "      <th>3</th>\n",
              "      <td>1</td>\n",
              "      <td>2016</td>\n",
              "      <td>0.000000</td>\n",
              "      <td>Aiways</td>\n",
              "      <td>U5</td>\n",
              "      <td>400</td>\n",
              "      <td>0.0</td>\n",
              "      <td>201</td>\n",
              "      <td>34</td>\n",
              "      <td>SUV</td>\n",
              "      <td>...</td>\n",
              "      <td>0</td>\n",
              "      <td>0</td>\n",
              "      <td>0</td>\n",
              "      <td>0</td>\n",
              "      <td>0</td>\n",
              "      <td>0</td>\n",
              "      <td>0</td>\n",
              "      <td>1</td>\n",
              "      <td>0</td>\n",
              "      <td>0</td>\n",
              "    </tr>\n",
              "    <tr>\n",
              "      <th>4</th>\n",
              "      <td>1</td>\n",
              "      <td>2017</td>\n",
              "      <td>0.000000</td>\n",
              "      <td>Aiways</td>\n",
              "      <td>U5</td>\n",
              "      <td>400</td>\n",
              "      <td>0.0</td>\n",
              "      <td>201</td>\n",
              "      <td>34</td>\n",
              "      <td>SUV</td>\n",
              "      <td>...</td>\n",
              "      <td>0</td>\n",
              "      <td>0</td>\n",
              "      <td>0</td>\n",
              "      <td>0</td>\n",
              "      <td>0</td>\n",
              "      <td>0</td>\n",
              "      <td>0</td>\n",
              "      <td>1</td>\n",
              "      <td>0</td>\n",
              "      <td>0</td>\n",
              "    </tr>\n",
              "    <tr>\n",
              "      <th>5</th>\n",
              "      <td>1</td>\n",
              "      <td>2018</td>\n",
              "      <td>0.000000</td>\n",
              "      <td>Aiways</td>\n",
              "      <td>U5</td>\n",
              "      <td>400</td>\n",
              "      <td>0.0</td>\n",
              "      <td>201</td>\n",
              "      <td>34</td>\n",
              "      <td>SUV</td>\n",
              "      <td>...</td>\n",
              "      <td>0</td>\n",
              "      <td>0</td>\n",
              "      <td>0</td>\n",
              "      <td>0</td>\n",
              "      <td>0</td>\n",
              "      <td>0</td>\n",
              "      <td>0</td>\n",
              "      <td>1</td>\n",
              "      <td>0</td>\n",
              "      <td>0</td>\n",
              "    </tr>\n",
              "    <tr>\n",
              "      <th>6</th>\n",
              "      <td>1</td>\n",
              "      <td>2019</td>\n",
              "      <td>0.000000</td>\n",
              "      <td>Aiways</td>\n",
              "      <td>U5</td>\n",
              "      <td>400</td>\n",
              "      <td>0.0</td>\n",
              "      <td>201</td>\n",
              "      <td>34</td>\n",
              "      <td>SUV</td>\n",
              "      <td>...</td>\n",
              "      <td>0</td>\n",
              "      <td>0</td>\n",
              "      <td>0</td>\n",
              "      <td>0</td>\n",
              "      <td>0</td>\n",
              "      <td>0</td>\n",
              "      <td>0</td>\n",
              "      <td>1</td>\n",
              "      <td>0</td>\n",
              "      <td>0</td>\n",
              "    </tr>\n",
              "    <tr>\n",
              "      <th>7</th>\n",
              "      <td>1</td>\n",
              "      <td>2020</td>\n",
              "      <td>0.000000</td>\n",
              "      <td>Aiways</td>\n",
              "      <td>U5</td>\n",
              "      <td>400</td>\n",
              "      <td>0.0</td>\n",
              "      <td>201</td>\n",
              "      <td>34</td>\n",
              "      <td>SUV</td>\n",
              "      <td>...</td>\n",
              "      <td>0</td>\n",
              "      <td>0</td>\n",
              "      <td>0</td>\n",
              "      <td>0</td>\n",
              "      <td>0</td>\n",
              "      <td>0</td>\n",
              "      <td>0</td>\n",
              "      <td>1</td>\n",
              "      <td>0</td>\n",
              "      <td>0</td>\n",
              "    </tr>\n",
              "    <tr>\n",
              "      <th>8</th>\n",
              "      <td>1</td>\n",
              "      <td>2021</td>\n",
              "      <td>0.010319</td>\n",
              "      <td>Aiways</td>\n",
              "      <td>U5</td>\n",
              "      <td>400</td>\n",
              "      <td>284622.0</td>\n",
              "      <td>201</td>\n",
              "      <td>34</td>\n",
              "      <td>SUV</td>\n",
              "      <td>...</td>\n",
              "      <td>0</td>\n",
              "      <td>0</td>\n",
              "      <td>0</td>\n",
              "      <td>0</td>\n",
              "      <td>0</td>\n",
              "      <td>0</td>\n",
              "      <td>0</td>\n",
              "      <td>1</td>\n",
              "      <td>0</td>\n",
              "      <td>0</td>\n",
              "    </tr>\n",
              "    <tr>\n",
              "      <th>9</th>\n",
              "      <td>1</td>\n",
              "      <td>2022</td>\n",
              "      <td>0.005938</td>\n",
              "      <td>Aiways</td>\n",
              "      <td>U5</td>\n",
              "      <td>400</td>\n",
              "      <td>313682.0</td>\n",
              "      <td>201</td>\n",
              "      <td>34</td>\n",
              "      <td>SUV</td>\n",
              "      <td>...</td>\n",
              "      <td>0</td>\n",
              "      <td>0</td>\n",
              "      <td>0</td>\n",
              "      <td>0</td>\n",
              "      <td>0</td>\n",
              "      <td>0</td>\n",
              "      <td>0</td>\n",
              "      <td>1</td>\n",
              "      <td>0</td>\n",
              "      <td>0</td>\n",
              "    </tr>\n",
              "    <tr>\n",
              "      <th>10</th>\n",
              "      <td>1</td>\n",
              "      <td>2023</td>\n",
              "      <td>0.002822</td>\n",
              "      <td>Aiways</td>\n",
              "      <td>U5</td>\n",
              "      <td>400</td>\n",
              "      <td>264524.0</td>\n",
              "      <td>201</td>\n",
              "      <td>34</td>\n",
              "      <td>SUV</td>\n",
              "      <td>...</td>\n",
              "      <td>0</td>\n",
              "      <td>0</td>\n",
              "      <td>0</td>\n",
              "      <td>0</td>\n",
              "      <td>0</td>\n",
              "      <td>0</td>\n",
              "      <td>0</td>\n",
              "      <td>1</td>\n",
              "      <td>0</td>\n",
              "      <td>0</td>\n",
              "    </tr>\n",
              "  </tbody>\n",
              "</table>\n",
              "<p>11 rows × 31 columns</p>\n",
              "</div>"
            ],
            "text/plain": [
              "    ID  year  Market share Manufacturer Model  Range     Price   HP  \\\n",
              "0    1  2013      0.000000       Aiways    U5    400       0.0  201   \n",
              "1    1  2014      0.000000       Aiways    U5    400       0.0  201   \n",
              "2    1  2015      0.000000       Aiways    U5    400       0.0  201   \n",
              "3    1  2016      0.000000       Aiways    U5    400       0.0  201   \n",
              "4    1  2017      0.000000       Aiways    U5    400       0.0  201   \n",
              "5    1  2018      0.000000       Aiways    U5    400       0.0  201   \n",
              "6    1  2019      0.000000       Aiways    U5    400       0.0  201   \n",
              "7    1  2020      0.000000       Aiways    U5    400       0.0  201   \n",
              "8    1  2021      0.010319       Aiways    U5    400  284622.0  201   \n",
              "9    1  2022      0.005938       Aiways    U5    400  313682.0  201   \n",
              "10   1  2023      0.002822       Aiways    U5    400  264524.0  201   \n",
              "\n",
              "    ChargeTime Type  ...  E  B  D  M  A  J  Europe  China  USA  Other  \n",
              "0           34  SUV  ...  0  0  0  0  0  0       0      1    0      0  \n",
              "1           34  SUV  ...  0  0  0  0  0  0       0      1    0      0  \n",
              "2           34  SUV  ...  0  0  0  0  0  0       0      1    0      0  \n",
              "3           34  SUV  ...  0  0  0  0  0  0       0      1    0      0  \n",
              "4           34  SUV  ...  0  0  0  0  0  0       0      1    0      0  \n",
              "5           34  SUV  ...  0  0  0  0  0  0       0      1    0      0  \n",
              "6           34  SUV  ...  0  0  0  0  0  0       0      1    0      0  \n",
              "7           34  SUV  ...  0  0  0  0  0  0       0      1    0      0  \n",
              "8           34  SUV  ...  0  0  0  0  0  0       0      1    0      0  \n",
              "9           34  SUV  ...  0  0  0  0  0  0       0      1    0      0  \n",
              "10          34  SUV  ...  0  0  0  0  0  0       0      1    0      0  \n",
              "\n",
              "[11 rows x 31 columns]"
            ]
          },
          "execution_count": 4,
          "metadata": {},
          "output_type": "execute_result"
        }
      ],
      "source": [
        "df_dataset.head(11)\n",
        "#df.info()"
      ]
    },
    {
      "cell_type": "markdown",
      "metadata": {},
      "source": [
        "## Grafer"
      ]
    },
    {
      "cell_type": "code",
      "execution_count": 5,
      "metadata": {},
      "outputs": [],
      "source": [
        "Country_shares = {\n",
        "    'Europe': [],\n",
        "    'China': [],\n",
        "    'USA': [],\n",
        "    'Other': []\n",
        "}\n",
        "#& (df_dataset['Market share'] != 0)\n",
        "for Country in Country_shares.keys():\n",
        "    for year in years:\n",
        "        Country_df = df_dataset[(df_dataset[Country] == 1) & (df_dataset['year'] == year)]\n",
        "        if not Country_df.empty:\n",
        "            Country_shares[Country].append(Country_df['Market share'].sum())\n",
        "#print(Country_shares)\n",
        "\n",
        "\n"
      ]
    },
    {
      "cell_type": "code",
      "execution_count": 6,
      "metadata": {},
      "outputs": [
        {
          "data": {
            "image/png": "[encoded data removed]",
            "text/plain": [
              "<Figure size 432x288 with 1 Axes>"
            ]
          },
          "metadata": {
            "needs_background": "light"
          },
          "output_type": "display_data"
        },
        {
          "data": {
            "image/png": "[encoded data removed]",
            "text/plain": [
              "<Figure size 432x288 with 1 Axes>"
            ]
          },
          "metadata": {
            "needs_background": "light"
          },
          "output_type": "display_data"
        },
        {
          "data": {
            "image/png": "[encoded data removed]",
            "text/plain": [
              "<Figure size 432x288 with 1 Axes>"
            ]
          },
          "metadata": {
            "needs_background": "light"
          },
          "output_type": "display_data"
        },
        {
          "data": {
            "image/png": "[encoded data removed]",
            "text/plain": [
              "<Figure size 432x288 with 1 Axes>"
            ]
          },
          "metadata": {
            "needs_background": "light"
          },
          "output_type": "display_data"
        },
        {
          "data": {
            "image/png": "[encoded data removed]",
            "text/plain": [
              "<Figure size 432x288 with 1 Axes>"
            ]
          },
          "metadata": {
            "needs_background": "light"
          },
          "output_type": "display_data"
        },
        {
          "data": {
            "image/png": "[encoded data removed]",
            "text/plain": [
              "<Figure size 432x288 with 1 Axes>"
            ]
          },
          "metadata": {
            "needs_background": "light"
          },
          "output_type": "display_data"
        },
        {
          "data": {
            "image/png": "[encoded data removed]",
            "text/plain": [
              "<Figure size 432x288 with 1 Axes>"
            ]
          },
          "metadata": {
            "needs_background": "light"
          },
          "output_type": "display_data"
        },
        {
          "data": {
            "image/png": "[encoded data removed]",
            "text/plain": [
              "<Figure size 432x288 with 1 Axes>"
            ]
          },
          "metadata": {
            "needs_background": "light"
          },
          "output_type": "display_data"
        },
        {
          "data": {
            "image/png": "[encoded data removed]",
            "text/plain": [
              "<Figure size 432x288 with 1 Axes>"
            ]
          },
          "metadata": {
            "needs_background": "light"
          },
          "output_type": "display_data"
        },
        {
          "data": {
            "image/png": "[encoded data removed]",
            "text/plain": [
              "<Figure size 432x288 with 1 Axes>"
            ]
          },
          "metadata": {
            "needs_background": "light"
          },
          "output_type": "display_data"
        },
        {
          "data": {
            "image/png": "[encoded data removed]",
            "text/plain": [
              "<Figure size 432x288 with 1 Axes>"
            ]
          },
          "metadata": {
            "needs_background": "light"
          },
          "output_type": "display_data"
        }
      ],
      "source": [
        "#Market share over time\n",
        "#plt.figure(figsize=(12, 6))\n",
        "for Country in Country_shares.keys():\n",
        "    plt.plot(years, Country_shares[Country])\n",
        "plt.legend(['EU', 'China', 'USA', 'Other'])\n",
        "plt.xlabel('Years')\n",
        "plt.ylabel('Market share')\n",
        "plt.title('Market share over time')\n",
        "plt.show()\n",
        "\n",
        "#Pris mod market share\n",
        "# x = pris, y = Count\n",
        "#plt.scatter(x,y)\n",
        "#Kun for de 5 med højest Count\n",
        "mængde = 100\n",
        "# Pris/Market Share\n",
        "plt.scatter(df_overview.Price[len(df_overview)-mængde:], df_overview.Share[len(df_overview)-mængde:])\n",
        "plt.title('Pris mod market share')\n",
        "plt.xlabel('Pris(100k)')\n",
        "plt.ylabel('Market Share')\n",
        "plt.show()\n",
        "\n",
        "# Pris/HP\n",
        "plt.scatter(df_overview.Price[len(df_overview)-mængde:], df_overview.HP[len(df_overview)-mængde:])\n",
        "plt.title('Pris/HP')\n",
        "plt.xlabel('Pris')\n",
        "plt.ylabel('HP')\n",
        "plt.show()\n",
        "\n",
        "# Market share/HP\n",
        "plt.scatter(df_overview.Share[len(df_overview)-mængde:], df_overview.HP[len(df_overview)-mængde:])\n",
        "plt.title('Market share/HP')\n",
        "plt.xlabel('Pris')\n",
        "plt.ylabel('HP')\n",
        "plt.show()\n",
        "\n",
        "#Pris/Range\n",
        "plt.scatter(df_overview.Price[len(df_overview)-mængde:], df_overview.Range[len(df_overview)-mængde:])\n",
        "plt.title('Pris/Range')\n",
        "plt.xlabel('Pris')\n",
        "plt.ylabel('Range')\n",
        "plt.show()\n",
        "\n",
        "#Market share over time\n",
        "plt.plot(years, Country_shares['China'])\n",
        "plt.xlabel('Years')\n",
        "plt.ylabel('Market share')\n",
        "plt.title('China Cars Market Share over Time')\n",
        "plt.show()\n",
        "\n",
        "#Total Cars by Chinese Brand\n",
        "df_china = df_overview[df_overview['China'] == 1]\n",
        "brand_totals = df_china.groupby('Manufacturer')['Count'].sum()\n",
        "\n",
        "plt.bar(brand_totals.index, brand_totals.values)\n",
        "plt.title('Total Cars by Chinese Brand')\n",
        "plt.xlabel('Manufacturer')\n",
        "plt.ylabel('Total Cars')\n",
        "plt.xticks(rotation=90)\n",
        "plt.show()\n",
        "\n",
        "#Kinesere by brands\n",
        "df_china = df_overview[df_overview['China'] == 1]\n",
        "\n",
        "total_kina = df_china['Count'].sum() #Alle kinesere (samlet)\n",
        "plt.bar('Total Kina', total_kina)\n",
        "plt.title('Total Cars by Chinese Brands')\n",
        "\n",
        "\n",
        "#Alle ikke CH-brands mod total CH. \n",
        "df_not_china = df_overview[df_overview['China'] == 0]\n",
        "not_china_totals = df_not_china.groupby('Manufacturer')['Count'].sum() #Alle ikke kinesere(unikke)\n",
        "sorted_not_china_totals = not_china_totals.sort_values(ascending=False)\n",
        "\n",
        "for i, (brand, total) in enumerate(sorted_not_china_totals.items()):\n",
        "    plt.bar(brand, total, label=brand)\n",
        "\n",
        "plt.title('Total Cars by Brand')\n",
        "plt.xlabel('Brand')\n",
        "plt.ylabel('Total Cars')\n",
        "plt.xticks(rotation=90)\n",
        "plt.show()\n",
        "\n",
        "#Tesla models (Største i EU)\n",
        "df_tesla = df_overview[df_overview['Manufacturer'] == 'Tesla']\n",
        "df_tesla = df_tesla.groupby('Model')['Count'].sum()\n",
        "plt.bar(df_tesla.index, df_tesla.values)\n",
        "plt.title('Tesla Models')\n",
        "plt.show()\n",
        "\n",
        "#MG (største kinesiske mærke i DK)\n",
        "df_mg = df_overview[df_overview['Manufacturer'] == 'MG']\n",
        "df_mg = df_mg.groupby('Model')['Count'].sum()\n",
        "plt.bar(df_mg.index, df_mg.values)\n",
        "plt.title('MG Models')\n",
        "plt.show()\n",
        "\n",
        "#Cars by segment\n",
        "segment_totals = df_overview.groupby('Segment')['Count'].sum()\n",
        "plt.bar(segment_totals.index, segment_totals.values)\n",
        "plt.title('Total Cars by Segment')\n",
        "plt.xlabel('Segment')\n",
        "plt.ylabel('Total Cars')\n",
        "plt.xticks(rotation=90)\n",
        "plt.show()\n",
        "\n",
        "\n"
      ]
    },
    {
      "cell_type": "markdown",
      "metadata": {},
      "source": [
        "# Estimering"
      ]
    },
    {
      "cell_type": "code",
      "execution_count": 7,
      "metadata": {},
      "outputs": [],
      "source": [
        "label_y = 'Market share'\n",
        "label_x = ['Range', 'Price', 'HP', 'ChargeTime', 'China']\n",
        "data_scaled = df_dataset\n",
        "data_scaled['Range'] = data_scaled['Range'] / 100\n",
        "data_scaled['Price'] = data_scaled['Price'] / 100000\n",
        "data_scaled['HP'] = data_scaled['HP'] / 100\n",
        "data_scaled['ChargeTime'] = data_scaled['ChargeTime'] / 100"
      ]
    },
    {
      "cell_type": "markdown",
      "metadata": {},
      "source": [
        "# Standard OLS"
      ]
    },
    {
      "cell_type": "code",
      "execution_count": 8,
      "metadata": {},
      "outputs": [
        {
          "name": "stdout",
          "output_type": "stream",
          "text": [
            "Data has N=110 and T=11 data is = 1210, 1210\n"
          ]
        }
      ],
      "source": [
        "#Bruger data hvor ms = 0 er inkluderet\n",
        "data = df_dataset\n",
        "N = data['ID'].unique().size\n",
        "N\n",
        "#print(\"market share value :\", df['Market share'].size)\n",
        "T = data['year'].unique().size\n",
        "assert data.shape[0] == N*T, f'Error: data is not a balanced panel'\n",
        "print(f'Data has N={N} and T={T} data is = {data.shape[0]}, {N*T}')"
      ]
    },
    {
      "cell_type": "code",
      "execution_count": 9,
      "metadata": {},
      "outputs": [],
      "source": [
        "#Bruger data hvor ms = 0 er inkluderet\n",
        "N\n",
        "y = df_dataset['Market share'].values.reshape((N*T,1))\n",
        "ones = np.ones((N*T,1))\n",
        "Range = df_dataset['Range'].values.reshape((N*T,1)) #1\n",
        "Price = df_dataset['Price'].values.reshape((N*T,1)) #2\n",
        "HP = df_dataset['HP'].values.reshape((N*T,1)) #3\n",
        "ChargeTime = df_dataset['ChargeTime'].values.reshape((N*T,1))  #4\n",
        "China = df_dataset['China'].values.reshape((N*T,1)) #5"
      ]
    },
    {
      "cell_type": "markdown",
      "metadata": {},
      "source": [
        "### Forklarende variable: attributes og pris"
      ]
    },
    {
      "cell_type": "code",
      "execution_count": 10,
      "metadata": {},
      "outputs": [
        {
          "name": "stdout",
          "output_type": "stream",
          "text": [
            "                            OLS Regression Results                            \n",
            "==============================================================================\n",
            "Dep. Variable:           Market share   R-squared:                       0.039\n",
            "Model:                            OLS   Adj. R-squared:                  0.035\n",
            "Method:                 Least Squares   F-statistic:                     12.12\n",
            "Date:                Tue, 20 Feb 2024   Prob (F-statistic):           1.16e-09\n",
            "Time:                        14:36:21   Log-Likelihood:                 2120.8\n",
            "No. Observations:                1210   AIC:                            -4232.\n",
            "Df Residuals:                    1205   BIC:                            -4206.\n",
            "Df Model:                           4                                         \n",
            "Covariance Type:            nonrobust                                         \n",
            "==============================================================================\n",
            "                 coef    std err          t      P>|t|      [0.025      0.975]\n",
            "------------------------------------------------------------------------------\n",
            "Range          0.0023      0.001      1.580      0.114      -0.001       0.005\n",
            "Price          0.0026      0.000      6.686      0.000       0.002       0.003\n",
            "HP            -0.0014      0.001     -1.289      0.198      -0.003       0.001\n",
            "ChargeTime     0.0197      0.010      1.921      0.055      -0.000       0.040\n",
            "const         -0.0074      0.007     -1.058      0.290      -0.021       0.006\n",
            "==============================================================================\n",
            "Omnibus:                     1834.516   Durbin-Watson:                   0.906\n",
            "Prob(Omnibus):                  0.000   Jarque-Bera (JB):           515832.597\n",
            "Skew:                           9.148   Prob(JB):                         0.00\n",
            "Kurtosis:                     102.482   Cond. No.                         54.0\n",
            "==============================================================================\n",
            "\n",
            "Notes:\n",
            "[1] Standard Errors assume that the covariance matrix of the errors is correctly specified.\n"
          ]
        }
      ],
      "source": [
        "Nobs=df_dataset['ID'].count()\n",
        "df['const']=np.ones((Nobs,1))\n",
        "# Define dependent and explanatory variables\n",
        "X = df_dataset[['Range', 'Price', 'HP', 'ChargeTime', 'const']]\n",
        "y = df_dataset['Market share']\n",
        "\n",
        "# Fit logistic regression model\n",
        "OLS_model = sm.OLS(y, X)\n",
        "result = OLS_model.fit()\n",
        "\n",
        "# Print summary of the regression results\n",
        "print(result.summary())"
      ]
    },
    {
      "cell_type": "markdown",
      "metadata": {},
      "source": [
        "### Forklarende variable: attributes, pris og kina"
      ]
    },
    {
      "cell_type": "code",
      "execution_count": 11,
      "metadata": {},
      "outputs": [
        {
          "name": "stdout",
          "output_type": "stream",
          "text": [
            "                            OLS Regression Results                            \n",
            "==============================================================================\n",
            "Dep. Variable:           Market share   R-squared:                       0.048\n",
            "Model:                            OLS   Adj. R-squared:                  0.044\n",
            "Method:                 Least Squares   F-statistic:                     12.01\n",
            "Date:                Tue, 20 Feb 2024   Prob (F-statistic):           2.28e-11\n",
            "Time:                        14:36:22   Log-Likelihood:                 2126.3\n",
            "No. Observations:                1210   AIC:                            -4241.\n",
            "Df Residuals:                    1204   BIC:                            -4210.\n",
            "Df Model:                           5                                         \n",
            "Covariance Type:            nonrobust                                         \n",
            "==============================================================================\n",
            "                 coef    std err          t      P>|t|      [0.025      0.975]\n",
            "------------------------------------------------------------------------------\n",
            "Range          0.0024      0.001      1.637      0.102      -0.000       0.005\n",
            "Price          0.0023      0.000      6.050      0.000       0.002       0.003\n",
            "HP            -0.0005      0.001     -0.479      0.632      -0.003       0.002\n",
            "ChargeTime     0.0291      0.011      2.748      0.006       0.008       0.050\n",
            "const         -0.0105      0.007     -1.501      0.134      -0.024       0.003\n",
            "China         -0.0106      0.003     -3.342      0.001      -0.017      -0.004\n",
            "==============================================================================\n",
            "Omnibus:                     1829.389   Durbin-Watson:                   0.908\n",
            "Prob(Omnibus):                  0.000   Jarque-Bera (JB):           509275.457\n",
            "Skew:                           9.100   Prob(JB):                         0.00\n",
            "Kurtosis:                     101.844   Cond. No.                         55.8\n",
            "==============================================================================\n",
            "\n",
            "Notes:\n",
            "[1] Standard Errors assume that the covariance matrix of the errors is correctly specified.\n"
          ]
        }
      ],
      "source": [
        "# Define dependent and explanatory variables\n",
        "X = df_dataset[['Range', 'Price', 'HP', 'ChargeTime', 'const', 'China']]\n",
        "y = df_dataset['Market share']\n",
        "\n",
        "# Fit logistic regression model\n",
        "OLS_model = sm.OLS(y, X)\n",
        "result = OLS_model.fit()\n",
        "\n",
        "# Print summary of the regression results\n",
        "print(result.summary())"
      ]
    },
    {
      "cell_type": "markdown",
      "metadata": {},
      "source": [
        "### Market share = 0 i 2023 ekskluderet"
      ]
    },
    {
      "cell_type": "code",
      "execution_count": 12,
      "metadata": {},
      "outputs": [
        {
          "name": "stdout",
          "output_type": "stream",
          "text": [
            "Data has N=102 and T=1 data is = 102, 102\n"
          ]
        }
      ],
      "source": [
        "#Bruger data hvor market share = 0 er ekskluderet\n",
        "data = df_dataset_year_ms0[2023]\n",
        "\n",
        "N = data['ID'].unique().size\n",
        "#print(\"market share value :\", df['Market share'].size)\n",
        "T = data['year'].unique().size\n",
        "assert data.shape[0] == N*T, f'Error: data is not a balanced panel'\n",
        "print(f'Data has N={N} and T={T} data is = {data.shape[0]}, {N*T}')"
      ]
    },
    {
      "cell_type": "code",
      "execution_count": 13,
      "metadata": {},
      "outputs": [],
      "source": [
        "y = data['Market share'].values.reshape((N*T,1))\n",
        "ones = np.ones((N*T,1))\n",
        "Range = data['Range'].values.reshape((N*T,1)) #1\n",
        "Price = data['Price'].values.reshape((N*T,1)) #2\n",
        "HP = data['HP'].values.reshape((N*T,1)) #3\n",
        "ChargeTime = data['ChargeTime'].values.reshape((N*T,1))  #4\n",
        "China = data['China'].values.reshape((N*T,1)) #5\n"
      ]
    },
    {
      "cell_type": "code",
      "execution_count": 17,
      "metadata": {},
      "outputs": [
        {
          "name": "stdout",
          "output_type": "stream",
          "text": [
            "                            OLS Regression Results                            \n",
            "==============================================================================\n",
            "Dep. Variable:           Market share   R-squared:                       0.069\n",
            "Model:                            OLS   Adj. R-squared:                  0.020\n",
            "Method:                 Least Squares   F-statistic:                     1.419\n",
            "Date:                Tue, 20 Feb 2024   Prob (F-statistic):              0.224\n",
            "Time:                        14:37:21   Log-Likelihood:                 217.42\n",
            "No. Observations:                 102   AIC:                            -422.8\n",
            "Df Residuals:                      96   BIC:                            -407.1\n",
            "Df Model:                           5                                         \n",
            "Covariance Type:            nonrobust                                         \n",
            "==============================================================================\n",
            "                 coef    std err          t      P>|t|      [0.025      0.975]\n",
            "------------------------------------------------------------------------------\n",
            "Range       3.662e-05   3.59e-05      1.019      0.311   -3.47e-05       0.000\n",
            "Price      -2.067e-09   4.63e-09     -0.446      0.657   -1.13e-08    7.13e-09\n",
            "HP          2.068e-05   2.65e-05      0.780      0.437   -3.19e-05    7.33e-05\n",
            "ChargeTime    -0.0002      0.000     -0.533      0.595      -0.001       0.001\n",
            "const         -0.0011      0.019     -0.056      0.955      -0.038       0.036\n",
            "China         -0.0109      0.008     -1.294      0.199      -0.028       0.006\n",
            "==============================================================================\n",
            "Omnibus:                      191.224   Durbin-Watson:                   0.697\n",
            "Prob(Omnibus):                  0.000   Jarque-Bera (JB):            20660.464\n",
            "Skew:                           7.720   Prob(JB):                         0.00\n",
            "Kurtosis:                      70.992   Cond. No.                     5.59e+06\n",
            "==============================================================================\n",
            "\n",
            "Notes:\n",
            "[1] Standard Errors assume that the covariance matrix of the errors is correctly specified.\n",
            "[2] The condition number is large, 5.59e+06. This might indicate that there are\n",
            "strong multicollinearity or other numerical problems.\n"
          ]
        },
        {
          "name": "stderr",
          "output_type": "stream",
          "text": [
            "/var/folders/84/nl1t_q050914klynvps92vkc0000gn/T/ipykernel_90665/401416439.py:2: SettingWithCopyWarning: \n",
            "A value is trying to be set on a copy of a slice from a DataFrame.\n",
            "Try using .loc[row_indexer,col_indexer] = value instead\n",
            "\n",
            "See the caveats in the documentation: https://pandas.pydata.org/pandas-docs/stable/user_guide/indexing.html#returning-a-view-versus-a-copy\n",
            "  data['const']=np.ones((Nobs,1))\n"
          ]
        }
      ],
      "source": [
        "Nobs=data['ID'].count()\n",
        "data['const']=np.ones((Nobs,1))\n",
        "# Define dependent and explanatory variables\n",
        "X = data[['Range', 'Price', 'HP', 'ChargeTime', 'const', 'China']]\n",
        "y = data['Market share']\n",
        "\n",
        "# Fit logistic regression model\n",
        "OLS_model = sm.OLS(y, X)\n",
        "result = OLS_model.fit()\n",
        "\n",
        "# Print summary of the regression results\n",
        "print(result.summary())"
      ]
    },
    {
      "cell_type": "markdown",
      "metadata": {},
      "source": [
        "## Logit"
      ]
    },
    {
      "cell_type": "code",
      "execution_count": 19,
      "metadata": {},
      "outputs": [
        {
          "name": "stdout",
          "output_type": "stream",
          "text": [
            "Data has N=110 and T=11 data is = 1210, 1210\n"
          ]
        }
      ],
      "source": [
        "#Estimere full sample med logit\n",
        "data = df_dataset\n",
        "N = data['ID'].unique().size\n",
        "#print(\"market share value :\", df['Market share'].size)\n",
        "T = data['year'].unique().size\n",
        "assert data.shape[0] == N*T, f'Error: data is not a balanced panel'\n",
        "print(f'Data has N={N} and T={T} data is = {data.shape[0]}, {N*T}')"
      ]
    },
    {
      "cell_type": "markdown",
      "metadata": {},
      "source": [
        "### Forklarende variable: attributes og pris"
      ]
    },
    {
      "cell_type": "code",
      "execution_count": 20,
      "metadata": {},
      "outputs": [
        {
          "name": "stdout",
          "output_type": "stream",
          "text": [
            "Optimization terminated successfully.\n",
            "         Current function value: 0.013368\n",
            "         Iterations 9\n",
            "                           Logit Regression Results                           \n",
            "==============================================================================\n",
            "Dep. Variable:           Market share   No. Observations:                 1210\n",
            "Model:                          Logit   Df Residuals:                     1205\n",
            "Method:                           MLE   Df Model:                            4\n",
            "Date:                Tue, 20 Feb 2024   Pseudo R-squ.:                  -2.126\n",
            "Time:                        14:41:13   Log-Likelihood:                -16.176\n",
            "converged:                       True   LL-Null:                       -5.1738\n",
            "Covariance Type:                  HC3   LLR p-value:                     1.000\n",
            "==============================================================================\n",
            "                 coef    std err          z      P>|z|      [0.025      0.975]\n",
            "------------------------------------------------------------------------------\n",
            "const         -6.3713      0.596    -10.689      0.000      -7.540      -5.203\n",
            "Range          0.2304      0.121      1.910      0.056      -0.006       0.467\n",
            "Price          0.0675      0.021      3.180      0.001       0.026       0.109\n",
            "HP            -0.0674      0.162     -0.417      0.677      -0.384       0.250\n",
            "ChargeTime     1.9876      0.952      2.089      0.037       0.123       3.853\n",
            "==============================================================================\n"
          ]
        }
      ],
      "source": [
        "# Sample data generation\n",
        "\n",
        "y = data['Market share'].values.reshape((N*T,1))\n",
        "ones = np.ones((N*T,1))\n",
        "Range = data['Range'].values.reshape((N*T,1)) #1\n",
        "Price = data['Price'].values.reshape((N*T,1)) #2\n",
        "HP = data['HP'].values.reshape((N*T,1)) #3\n",
        "ChargeTime = data['ChargeTime'].values.reshape((N*T,1))  #4\n",
        "China = data['China'].values.reshape((N*T,1)) #5\n",
        "X = np.hstack([ones, Range, Price, HP, ChargeTime])\n",
        "\n",
        "\n",
        "# Fit logistic regression model\n",
        "logit_model = sm.Logit(y, X)\n",
        "result = logit_model.fit(cov_type = 'HC3')\n",
        "\n",
        "# Display results\n",
        "print(result.summary(xname=['const', 'Range', 'Price', 'HP', 'ChargeTime'], yname='Market share'))\n"
      ]
    },
    {
      "cell_type": "markdown",
      "metadata": {},
      "source": [
        "### Forklarende variable: attributes, pris og kina"
      ]
    },
    {
      "cell_type": "code",
      "execution_count": 21,
      "metadata": {},
      "outputs": [
        {
          "name": "stdout",
          "output_type": "stream",
          "text": [
            "Optimization terminated successfully.\n",
            "         Current function value: 0.013430\n",
            "         Iterations 12\n",
            "                           Logit Regression Results                           \n",
            "==============================================================================\n",
            "Dep. Variable:           Market share   No. Observations:                 1210\n",
            "Model:                          Logit   Df Residuals:                     1204\n",
            "Method:                           MLE   Df Model:                            5\n",
            "Date:                Tue, 20 Feb 2024   Pseudo R-squ.:                  -2.141\n",
            "Time:                        14:41:35   Log-Likelihood:                -16.251\n",
            "converged:                       True   LL-Null:                       -5.1738\n",
            "Covariance Type:                  HC3   LLR p-value:                     1.000\n",
            "==============================================================================\n",
            "                 coef    std err          z      P>|z|      [0.025      0.975]\n",
            "------------------------------------------------------------------------------\n",
            "const         -6.5420      0.547    -11.966      0.000      -7.613      -5.470\n",
            "Range          0.2282      0.126      1.806      0.071      -0.019       0.476\n",
            "Price          0.0597      0.019      3.209      0.001       0.023       0.096\n",
            "HP             0.0313      0.181      0.173      0.862      -0.323       0.385\n",
            "ChargeTime     2.5118      0.766      3.280      0.001       1.011       4.013\n",
            "China         -3.4148      0.356     -9.601      0.000      -4.112      -2.718\n",
            "==============================================================================\n"
          ]
        }
      ],
      "source": [
        "# Sample data generation\n",
        "\n",
        "y = data['Market share'].values.reshape((N*T,1))\n",
        "ones = np.ones((N*T,1))\n",
        "Range = data['Range'].values.reshape((N*T,1)) #1\n",
        "Price = data['Price'].values.reshape((N*T,1)) #2\n",
        "HP = data['HP'].values.reshape((N*T,1)) #3\n",
        "ChargeTime = data['ChargeTime'].values.reshape((N*T,1))  #4\n",
        "China = data['China'].values.reshape((N*T,1)) #5\n",
        "X = np.hstack([ones, Range, Price, HP, ChargeTime, China])\n",
        "\n",
        "\n",
        "# Fit logistic regression model\n",
        "logit_model = sm.Logit(y, X)\n",
        "result = logit_model.fit(cov_type = 'HC3')\n",
        "\n",
        "# Display results\n",
        "print(result.summary(xname=['const', 'Range', 'Price', 'HP', 'ChargeTime', 'China'], yname='Market share'))"
      ]
    },
    {
      "cell_type": "markdown",
      "metadata": {},
      "source": [
        "## Conditional Logit"
      ]
    },
    {
      "cell_type": "code",
      "execution_count": 22,
      "metadata": {},
      "outputs": [
        {
          "name": "stdout",
          "output_type": "stream",
          "text": [
            " \n",
            " \n",
            " y shape (110, 1, 11) \n",
            " \n",
            " x shape (110, 5, 11)\n"
          ]
        }
      ],
      "source": [
        "\n",
        "data = df_dataset\n",
        "T = data['year'].unique().size\n",
        "M = data['Model'].unique().size\n",
        "#print(f'df {data.head(1)}, {data.shape}')\n",
        "\n",
        "data = np.array(data[['Market share', 'Range', 'Price', 'HP', 'ChargeTime', 'China']])\n",
        "#print(f'\\n \\n data: {data[:2]} \\n shape {data.shape[1]}')\n",
        "V = data.shape[1] - 1\n",
        "\n",
        "y = data[:,0].reshape(M,1, T) #reshape for column vector\n",
        "#print(f' \\n \\n y: {y[:2]} \\n shape {y.shape}')\n",
        "\n",
        "x = data[:,1:].reshape(M, V, T)\n",
        "#print(f' \\n \\n x: {x[:2]} \\n shape {x.shape}')\n",
        "\n",
        "print(f' \\n \\n y shape {y.shape} \\n \\n x shape {x.shape}')"
      ]
    },
    {
      "cell_type": "code",
      "execution_count": null,
      "metadata": {},
      "outputs": [],
      "source": []
    },
    {
      "cell_type": "code",
      "execution_count": 23,
      "metadata": {},
      "outputs": [],
      "source": [
        "def clogit(y, x, cov_type='Ainv', theta0=None, deriv=0, quiet=False): \n",
        "\t# Objective function and derivatives for \n",
        "    M, V, T, palt, xalt, xvars = labels(x)\n",
        "\n",
        "    Qfun     = lambda theta, out:  Q_clogit(theta, y, x, out)\n",
        "\n",
        "    if theta0 is None: \n",
        "        theta0=np.zeros((T,1))\n",
        "\n",
        "    res = estimation(Qfun, theta0, deriv, cov_type, parnames=xvars)\n",
        "    #res.update(dict(zip(['yvar', 'xvars', 'Model','Tid', 'n'], ['y', xvars, M, V, M])))\n",
        "\n",
        "    #if quiet==False:\n",
        "    #    print('Conditional logit')\n",
        "    #    print('Initial log-likelihood', -Qfun(theta0, 'Q'))\n",
        "    #    print('Initial gradient\\n', -Qfun(theta0, 'dQ'))\n",
        "    #    print_output(res)\n",
        "\n",
        "    #return res  \n",
        "\n",
        "\n"
      ]
    },
    {
      "cell_type": "code",
      "execution_count": 24,
      "metadata": {},
      "outputs": [],
      "source": [
        "def labels(x):\n",
        "    # labels and dimensions for plotting\n",
        "    M, V, T = x.shape\n",
        "    palt=['p' + str(i)  for i in range(V)]\n",
        "    xalt=['alt' + str(i)  for i in range(V)]\n",
        "    xvars=['var' + str(i)  for i in range(T)]\n",
        "    return M, V, T, palt, xalt, xvars"
      ]
    },
    {
      "cell_type": "code",
      "execution_count": 25,
      "metadata": {},
      "outputs": [],
      "source": [
        "def Q_clogit(theta, y, x, out='Q'):\n",
        "    #N, J, K = x.shape\n",
        "    M, V, T = x.shape\n",
        "    \n",
        "    #def utiliy(theta, x):\n",
        "    #   u = x @ theta\n",
        "\t#   return u.reshape(N,V) \n",
        "    \n",
        "    v = utiliy(theta, x) # v = x @ theta \t# Deterministic component of utility\n",
        "    ll_i=logccp(v, y) \n",
        "    q_i= - ll_i   \n",
        "    if out=='Q':\n",
        "    \treturn np.mean(q_i)\n",
        "    \n",
        "    #Hvad bruger man de andre ting til?\n",
        "\n",
        "    #dv=x\n",
        "    #p=ccp(v)\n",
        "    #if out=='predict':  return v, p, dv         # Return predicted values\n",
        "    #N, J, K = dv.shape\n",
        "    #idx=y[:,] + J*np.arange(0, N)\n",
        "    #dvj=dv.reshape(N*J, K)[idx,:] \t# pick choice specific values corresponding to y \n",
        "\n",
        "    #s_i = dvj -  np.sum(p.reshape(N,J,1)*dv, axis=1)\n",
        "    #g = -np.mean(s_i, axis=0)\n",
        "    \n",
        "    #if out=='s_i': return s_i                     # Return s_i: NxK array with scores\n",
        "    #if out=='dQ':  return g;  # Return dQ: array of size K derivative of sample objective function\n"
      ]
    },
    {
      "cell_type": "code",
      "execution_count": 26,
      "metadata": {},
      "outputs": [],
      "source": [
        "def logccp(v, y=None, sigma=1):\n",
        "    # Log of conditional choice probabilities \n",
        "    # If y = None return logccp corresponding to all choices\n",
        "    # if y is Nx1 vector of choice indexes, return likelihood\n",
        "    ev = logsum(v, sigma) \t# Expected utility (always larger than V) For hvert alternativ?\n",
        "    if y is not None:\t\n",
        "    \tN, J=v.shape\n",
        "    \tidx=y[:,] + J*np.arange(0, N)\n",
        "    \tv=v.reshape(N*J, 1)[idx] \t# pick choice specific values corresponding to y \n",
        "    return (v - ev)/sigma"
      ]
    },
    {
      "cell_type": "code",
      "execution_count": 27,
      "metadata": {},
      "outputs": [],
      "source": [
        "def logsum(v, sigma=1): # Maximal expected utility - the \"log-sum\"\n",
        "\t# Expected max over iid extreme value shocks with scale parameter sigma\n",
        "\t# Logsum is reentered around maximum to obtain numerical stability (avoids overflow, but accepts underflow)\n",
        "\tmax_v = v.max(axis=1).reshape(-1, 1) #max_v = største værdi i hver række og derfor valget (y) uden støj.\n",
        "\treturn max_v + sigma*np.log(np.sum(np.exp((v-max_v)/sigma), 1)).reshape(-1, 1)"
      ]
    },
    {
      "cell_type": "code",
      "execution_count": 28,
      "metadata": {},
      "outputs": [],
      "source": [
        "def estimation(Qfun, theta0, deriv=0, cov_type ='sandwich', parnames='', output=False): \n",
        "\n",
        "    tic = time.perf_counter()\n",
        "    \n",
        "    # Q: Sample objective function to minimize (e.g. sample average of negative log-livelihood)\n",
        "    Q = lambda theta:  Qfun(theta, out='Q')\n",
        "\n",
        "    # dQ: Derivative of sample objective function wrt parameters theta (function returns size K array)\n",
        "    dQ = None\n",
        "    if deriv>0: # use user-supplied 1 order derivatives\n",
        "        dQ = lambda theta:  Qfun(theta, out='dQ')\n",
        "\n",
        "    hess = None\n",
        "    if deriv>1: # use user-supplied 2 order derivatives\n",
        "        hess  =  lambda theta:  Qfun(theta, out='H')\n",
        "        result=minimize(fun=Q, jac=dQ, hess=hess, x0=theta0, method='trust-ncg')\n",
        "        result.hess_inv=la.inv(result.hess)\n",
        "    else: # use bfgs\n",
        "        result=minimize(fun=Q, jac=dQ, x0=theta0, method='bfgs')\n",
        "    \n",
        "    theta_hat=np.array(result.x).reshape(-1,1)\n",
        "    \n",
        "    toc = time.perf_counter()\n",
        "\n",
        "    # variance co-variance matrix\n",
        "    s_i=Qfun(theta_hat, out='s_i')\n",
        "\n",
        "    cov = avar(s_i, result.hess_inv, cov_type)\n",
        "    se = np.sqrt(np.diag(cov)).reshape(-1, 1)\n",
        "\n",
        "    # collect output\n",
        "    names =   ['parnames', 'theta_hat', 'se',  't-values',  'cov', 'Q', 'time', 's_i']\n",
        "    results = [parnames, theta_hat, se, theta_hat/se, cov, Q(theta_hat), toc - tic, s_i]\n",
        "\n",
        "    result.update(dict(zip(names, results)))\n",
        "\n",
        "    if output: \n",
        "        if result.parnames: \n",
        "            table=({k:result[k] for k in ['parnames', 'theta_hat', 'se', 't-values', 'jac']})\n",
        "        else: \n",
        "            table=({k:result[k] for k in ['theta_hat', 'se', 't-values', 'jac']})\n",
        "        print(tabulate(table, headers=\"keys\",floatfmt=\"10.5f\"))\n",
        "        print('')\n",
        "        print(result.message)\n",
        "        print('Objective function:', result['Q'])\n",
        "        print ('Iteration info: %d iterations, %d evaluations of objective, and %d evaluations of gradients' \n",
        "            % (result.nit,result.nfev, result.njev))\n",
        "        print(f\"Elapsed time: {result['time']:0.4f} seconds\")\n",
        "\n",
        "    return result"
      ]
    },
    {
      "cell_type": "code",
      "execution_count": 29,
      "metadata": {},
      "outputs": [
        {
          "ename": "ValueError",
          "evalue": "operands could not be broadcast together with shapes (110,1,11) (110,) ",
          "output_type": "error",
          "traceback": [
            "\u001b[0;31m---------------------------------------------------------------------------\u001b[0m",
            "\u001b[0;31mValueError\u001b[0m                                Traceback (most recent call last)",
            "Input \u001b[0;32mIn [29]\u001b[0m, in \u001b[0;36m<cell line: 1>\u001b[0;34m()\u001b[0m\n\u001b[0;32m----> 1\u001b[0m \u001b[43mclogit\u001b[49m\u001b[43m(\u001b[49m\u001b[43my\u001b[49m\u001b[43m,\u001b[49m\u001b[43m \u001b[49m\u001b[43mx\u001b[49m\u001b[43m,\u001b[49m\u001b[43m \u001b[49m\u001b[43mcov_type\u001b[49m\u001b[38;5;241;43m=\u001b[39;49m\u001b[38;5;124;43m'\u001b[39;49m\u001b[38;5;124;43mAinv\u001b[39;49m\u001b[38;5;124;43m'\u001b[39;49m\u001b[43m,\u001b[49m\u001b[43mtheta0\u001b[49m\u001b[38;5;241;43m=\u001b[39;49m\u001b[38;5;28;43;01mNone\u001b[39;49;00m\u001b[43m,\u001b[49m\u001b[43m \u001b[49m\u001b[43mderiv\u001b[49m\u001b[38;5;241;43m=\u001b[39;49m\u001b[38;5;241;43m0\u001b[39;49m\u001b[43m,\u001b[49m\u001b[43m \u001b[49m\u001b[43mquiet\u001b[49m\u001b[38;5;241;43m=\u001b[39;49m\u001b[38;5;28;43;01mFalse\u001b[39;49;00m\u001b[43m)\u001b[49m\n",
            "Input \u001b[0;32mIn [23]\u001b[0m, in \u001b[0;36mclogit\u001b[0;34m(y, x, cov_type, theta0, deriv, quiet)\u001b[0m\n\u001b[1;32m      7\u001b[0m \u001b[38;5;28;01mif\u001b[39;00m theta0 \u001b[38;5;129;01mis\u001b[39;00m \u001b[38;5;28;01mNone\u001b[39;00m: \n\u001b[1;32m      8\u001b[0m     theta0\u001b[38;5;241m=\u001b[39mnp\u001b[38;5;241m.\u001b[39mzeros((T,\u001b[38;5;241m1\u001b[39m))\n\u001b[0;32m---> 10\u001b[0m res \u001b[38;5;241m=\u001b[39m \u001b[43mestimation\u001b[49m\u001b[43m(\u001b[49m\u001b[43mQfun\u001b[49m\u001b[43m,\u001b[49m\u001b[43m \u001b[49m\u001b[43mtheta0\u001b[49m\u001b[43m,\u001b[49m\u001b[43m \u001b[49m\u001b[43mderiv\u001b[49m\u001b[43m,\u001b[49m\u001b[43m \u001b[49m\u001b[43mcov_type\u001b[49m\u001b[43m,\u001b[49m\u001b[43m \u001b[49m\u001b[43mparnames\u001b[49m\u001b[38;5;241;43m=\u001b[39;49m\u001b[43mxvars\u001b[49m\u001b[43m)\u001b[49m\n",
            "Input \u001b[0;32mIn [28]\u001b[0m, in \u001b[0;36mestimation\u001b[0;34m(Qfun, theta0, deriv, cov_type, parnames, output)\u001b[0m\n\u001b[1;32m     17\u001b[0m     result\u001b[38;5;241m.\u001b[39mhess_inv\u001b[38;5;241m=\u001b[39mla\u001b[38;5;241m.\u001b[39minv(result\u001b[38;5;241m.\u001b[39mhess)\n\u001b[1;32m     18\u001b[0m \u001b[38;5;28;01melse\u001b[39;00m: \u001b[38;5;66;03m# use bfgs\u001b[39;00m\n\u001b[0;32m---> 19\u001b[0m     result\u001b[38;5;241m=\u001b[39m\u001b[43mminimize\u001b[49m\u001b[43m(\u001b[49m\u001b[43mfun\u001b[49m\u001b[38;5;241;43m=\u001b[39;49m\u001b[43mQ\u001b[49m\u001b[43m,\u001b[49m\u001b[43m \u001b[49m\u001b[43mjac\u001b[49m\u001b[38;5;241;43m=\u001b[39;49m\u001b[43mdQ\u001b[49m\u001b[43m,\u001b[49m\u001b[43m \u001b[49m\u001b[43mx0\u001b[49m\u001b[38;5;241;43m=\u001b[39;49m\u001b[43mtheta0\u001b[49m\u001b[43m,\u001b[49m\u001b[43m \u001b[49m\u001b[43mmethod\u001b[49m\u001b[38;5;241;43m=\u001b[39;49m\u001b[38;5;124;43m'\u001b[39;49m\u001b[38;5;124;43mbfgs\u001b[39;49m\u001b[38;5;124;43m'\u001b[39;49m\u001b[43m)\u001b[49m\n\u001b[1;32m     21\u001b[0m theta_hat\u001b[38;5;241m=\u001b[39mnp\u001b[38;5;241m.\u001b[39marray(result\u001b[38;5;241m.\u001b[39mx)\u001b[38;5;241m.\u001b[39mreshape(\u001b[38;5;241m-\u001b[39m\u001b[38;5;241m1\u001b[39m,\u001b[38;5;241m1\u001b[39m)\n\u001b[1;32m     23\u001b[0m toc \u001b[38;5;241m=\u001b[39m time\u001b[38;5;241m.\u001b[39mperf_counter()\n",
            "File \u001b[0;32m/opt/anaconda3/lib/python3.9/site-packages/scipy/optimize/_minimize.py:618\u001b[0m, in \u001b[0;36mminimize\u001b[0;34m(fun, x0, args, method, jac, hess, hessp, bounds, constraints, tol, callback, options)\u001b[0m\n\u001b[1;32m    616\u001b[0m     \u001b[38;5;28;01mreturn\u001b[39;00m _minimize_cg(fun, x0, args, jac, callback, \u001b[38;5;241m*\u001b[39m\u001b[38;5;241m*\u001b[39moptions)\n\u001b[1;32m    617\u001b[0m \u001b[38;5;28;01melif\u001b[39;00m meth \u001b[38;5;241m==\u001b[39m \u001b[38;5;124m'\u001b[39m\u001b[38;5;124mbfgs\u001b[39m\u001b[38;5;124m'\u001b[39m:\n\u001b[0;32m--> 618\u001b[0m     \u001b[38;5;28;01mreturn\u001b[39;00m \u001b[43m_minimize_bfgs\u001b[49m\u001b[43m(\u001b[49m\u001b[43mfun\u001b[49m\u001b[43m,\u001b[49m\u001b[43m \u001b[49m\u001b[43mx0\u001b[49m\u001b[43m,\u001b[49m\u001b[43m \u001b[49m\u001b[43margs\u001b[49m\u001b[43m,\u001b[49m\u001b[43m \u001b[49m\u001b[43mjac\u001b[49m\u001b[43m,\u001b[49m\u001b[43m \u001b[49m\u001b[43mcallback\u001b[49m\u001b[43m,\u001b[49m\u001b[43m \u001b[49m\u001b[38;5;241;43m*\u001b[39;49m\u001b[38;5;241;43m*\u001b[39;49m\u001b[43moptions\u001b[49m\u001b[43m)\u001b[49m\n\u001b[1;32m    619\u001b[0m \u001b[38;5;28;01melif\u001b[39;00m meth \u001b[38;5;241m==\u001b[39m \u001b[38;5;124m'\u001b[39m\u001b[38;5;124mnewton-cg\u001b[39m\u001b[38;5;124m'\u001b[39m:\n\u001b[1;32m    620\u001b[0m     \u001b[38;5;28;01mreturn\u001b[39;00m _minimize_newtoncg(fun, x0, args, jac, hess, hessp, callback,\n\u001b[1;32m    621\u001b[0m                               \u001b[38;5;241m*\u001b[39m\u001b[38;5;241m*\u001b[39moptions)\n",
            "File \u001b[0;32m/opt/anaconda3/lib/python3.9/site-packages/scipy/optimize/optimize.py:1201\u001b[0m, in \u001b[0;36m_minimize_bfgs\u001b[0;34m(fun, x0, args, jac, callback, gtol, norm, eps, maxiter, disp, return_all, finite_diff_rel_step, **unknown_options)\u001b[0m\n\u001b[1;32m   1198\u001b[0m \u001b[38;5;28;01mif\u001b[39;00m maxiter \u001b[38;5;129;01mis\u001b[39;00m \u001b[38;5;28;01mNone\u001b[39;00m:\n\u001b[1;32m   1199\u001b[0m     maxiter \u001b[38;5;241m=\u001b[39m \u001b[38;5;28mlen\u001b[39m(x0) \u001b[38;5;241m*\u001b[39m \u001b[38;5;241m200\u001b[39m\n\u001b[0;32m-> 1201\u001b[0m sf \u001b[38;5;241m=\u001b[39m \u001b[43m_prepare_scalar_function\u001b[49m\u001b[43m(\u001b[49m\u001b[43mfun\u001b[49m\u001b[43m,\u001b[49m\u001b[43m \u001b[49m\u001b[43mx0\u001b[49m\u001b[43m,\u001b[49m\u001b[43m \u001b[49m\u001b[43mjac\u001b[49m\u001b[43m,\u001b[49m\u001b[43m \u001b[49m\u001b[43margs\u001b[49m\u001b[38;5;241;43m=\u001b[39;49m\u001b[43margs\u001b[49m\u001b[43m,\u001b[49m\u001b[43m \u001b[49m\u001b[43mepsilon\u001b[49m\u001b[38;5;241;43m=\u001b[39;49m\u001b[43meps\u001b[49m\u001b[43m,\u001b[49m\n\u001b[1;32m   1202\u001b[0m \u001b[43m                              \u001b[49m\u001b[43mfinite_diff_rel_step\u001b[49m\u001b[38;5;241;43m=\u001b[39;49m\u001b[43mfinite_diff_rel_step\u001b[49m\u001b[43m)\u001b[49m\n\u001b[1;32m   1204\u001b[0m f \u001b[38;5;241m=\u001b[39m sf\u001b[38;5;241m.\u001b[39mfun\n\u001b[1;32m   1205\u001b[0m myfprime \u001b[38;5;241m=\u001b[39m sf\u001b[38;5;241m.\u001b[39mgrad\n",
            "File \u001b[0;32m/opt/anaconda3/lib/python3.9/site-packages/scipy/optimize/optimize.py:261\u001b[0m, in \u001b[0;36m_prepare_scalar_function\u001b[0;34m(fun, x0, jac, args, bounds, epsilon, finite_diff_rel_step, hess)\u001b[0m\n\u001b[1;32m    257\u001b[0m     bounds \u001b[38;5;241m=\u001b[39m (\u001b[38;5;241m-\u001b[39mnp\u001b[38;5;241m.\u001b[39minf, np\u001b[38;5;241m.\u001b[39minf)\n\u001b[1;32m    259\u001b[0m \u001b[38;5;66;03m# ScalarFunction caches. Reuse of fun(x) during grad\u001b[39;00m\n\u001b[1;32m    260\u001b[0m \u001b[38;5;66;03m# calculation reduces overall function evaluations.\u001b[39;00m\n\u001b[0;32m--> 261\u001b[0m sf \u001b[38;5;241m=\u001b[39m \u001b[43mScalarFunction\u001b[49m\u001b[43m(\u001b[49m\u001b[43mfun\u001b[49m\u001b[43m,\u001b[49m\u001b[43m \u001b[49m\u001b[43mx0\u001b[49m\u001b[43m,\u001b[49m\u001b[43m \u001b[49m\u001b[43margs\u001b[49m\u001b[43m,\u001b[49m\u001b[43m \u001b[49m\u001b[43mgrad\u001b[49m\u001b[43m,\u001b[49m\u001b[43m \u001b[49m\u001b[43mhess\u001b[49m\u001b[43m,\u001b[49m\n\u001b[1;32m    262\u001b[0m \u001b[43m                    \u001b[49m\u001b[43mfinite_diff_rel_step\u001b[49m\u001b[43m,\u001b[49m\u001b[43m \u001b[49m\u001b[43mbounds\u001b[49m\u001b[43m,\u001b[49m\u001b[43m \u001b[49m\u001b[43mepsilon\u001b[49m\u001b[38;5;241;43m=\u001b[39;49m\u001b[43mepsilon\u001b[49m\u001b[43m)\u001b[49m\n\u001b[1;32m    264\u001b[0m \u001b[38;5;28;01mreturn\u001b[39;00m sf\n",
            "File \u001b[0;32m/opt/anaconda3/lib/python3.9/site-packages/scipy/optimize/_differentiable_functions.py:140\u001b[0m, in \u001b[0;36mScalarFunction.__init__\u001b[0;34m(self, fun, x0, args, grad, hess, finite_diff_rel_step, finite_diff_bounds, epsilon)\u001b[0m\n\u001b[1;32m    137\u001b[0m     \u001b[38;5;28mself\u001b[39m\u001b[38;5;241m.\u001b[39mf \u001b[38;5;241m=\u001b[39m fun_wrapped(\u001b[38;5;28mself\u001b[39m\u001b[38;5;241m.\u001b[39mx)\n\u001b[1;32m    139\u001b[0m \u001b[38;5;28mself\u001b[39m\u001b[38;5;241m.\u001b[39m_update_fun_impl \u001b[38;5;241m=\u001b[39m update_fun\n\u001b[0;32m--> 140\u001b[0m \u001b[38;5;28;43mself\u001b[39;49m\u001b[38;5;241;43m.\u001b[39;49m\u001b[43m_update_fun\u001b[49m\u001b[43m(\u001b[49m\u001b[43m)\u001b[49m\n\u001b[1;32m    142\u001b[0m \u001b[38;5;66;03m# Gradient evaluation\u001b[39;00m\n\u001b[1;32m    143\u001b[0m \u001b[38;5;28;01mif\u001b[39;00m callable(grad):\n",
            "File \u001b[0;32m/opt/anaconda3/lib/python3.9/site-packages/scipy/optimize/_differentiable_functions.py:233\u001b[0m, in \u001b[0;36mScalarFunction._update_fun\u001b[0;34m(self)\u001b[0m\n\u001b[1;32m    231\u001b[0m \u001b[38;5;28;01mdef\u001b[39;00m \u001b[38;5;21m_update_fun\u001b[39m(\u001b[38;5;28mself\u001b[39m):\n\u001b[1;32m    232\u001b[0m     \u001b[38;5;28;01mif\u001b[39;00m \u001b[38;5;129;01mnot\u001b[39;00m \u001b[38;5;28mself\u001b[39m\u001b[38;5;241m.\u001b[39mf_updated:\n\u001b[0;32m--> 233\u001b[0m         \u001b[38;5;28;43mself\u001b[39;49m\u001b[38;5;241;43m.\u001b[39;49m\u001b[43m_update_fun_impl\u001b[49m\u001b[43m(\u001b[49m\u001b[43m)\u001b[49m\n\u001b[1;32m    234\u001b[0m         \u001b[38;5;28mself\u001b[39m\u001b[38;5;241m.\u001b[39mf_updated \u001b[38;5;241m=\u001b[39m \u001b[38;5;28;01mTrue\u001b[39;00m\n",
            "File \u001b[0;32m/opt/anaconda3/lib/python3.9/site-packages/scipy/optimize/_differentiable_functions.py:137\u001b[0m, in \u001b[0;36mScalarFunction.__init__.<locals>.update_fun\u001b[0;34m()\u001b[0m\n\u001b[1;32m    136\u001b[0m \u001b[38;5;28;01mdef\u001b[39;00m \u001b[38;5;21mupdate_fun\u001b[39m():\n\u001b[0;32m--> 137\u001b[0m     \u001b[38;5;28mself\u001b[39m\u001b[38;5;241m.\u001b[39mf \u001b[38;5;241m=\u001b[39m \u001b[43mfun_wrapped\u001b[49m\u001b[43m(\u001b[49m\u001b[38;5;28;43mself\u001b[39;49m\u001b[38;5;241;43m.\u001b[39;49m\u001b[43mx\u001b[49m\u001b[43m)\u001b[49m\n",
            "File \u001b[0;32m/opt/anaconda3/lib/python3.9/site-packages/scipy/optimize/_differentiable_functions.py:134\u001b[0m, in \u001b[0;36mScalarFunction.__init__.<locals>.fun_wrapped\u001b[0;34m(x)\u001b[0m\n\u001b[1;32m    130\u001b[0m \u001b[38;5;28mself\u001b[39m\u001b[38;5;241m.\u001b[39mnfev \u001b[38;5;241m+\u001b[39m\u001b[38;5;241m=\u001b[39m \u001b[38;5;241m1\u001b[39m\n\u001b[1;32m    131\u001b[0m \u001b[38;5;66;03m# Send a copy because the user may overwrite it.\u001b[39;00m\n\u001b[1;32m    132\u001b[0m \u001b[38;5;66;03m# Overwriting results in undefined behaviour because\u001b[39;00m\n\u001b[1;32m    133\u001b[0m \u001b[38;5;66;03m# fun(self.x) will change self.x, with the two no longer linked.\u001b[39;00m\n\u001b[0;32m--> 134\u001b[0m \u001b[38;5;28;01mreturn\u001b[39;00m \u001b[43mfun\u001b[49m\u001b[43m(\u001b[49m\u001b[43mnp\u001b[49m\u001b[38;5;241;43m.\u001b[39;49m\u001b[43mcopy\u001b[49m\u001b[43m(\u001b[49m\u001b[43mx\u001b[49m\u001b[43m)\u001b[49m\u001b[43m,\u001b[49m\u001b[43m \u001b[49m\u001b[38;5;241;43m*\u001b[39;49m\u001b[43margs\u001b[49m\u001b[43m)\u001b[49m\n",
            "Input \u001b[0;32mIn [28]\u001b[0m, in \u001b[0;36mestimation.<locals>.<lambda>\u001b[0;34m(theta)\u001b[0m\n\u001b[1;32m      3\u001b[0m tic \u001b[38;5;241m=\u001b[39m time\u001b[38;5;241m.\u001b[39mperf_counter()\n\u001b[1;32m      5\u001b[0m \u001b[38;5;66;03m# Q: Sample objective function to minimize (e.g. sample average of negative log-livelihood)\u001b[39;00m\n\u001b[0;32m----> 6\u001b[0m Q \u001b[38;5;241m=\u001b[39m \u001b[38;5;28;01mlambda\u001b[39;00m theta:  \u001b[43mQfun\u001b[49m\u001b[43m(\u001b[49m\u001b[43mtheta\u001b[49m\u001b[43m,\u001b[49m\u001b[43m \u001b[49m\u001b[43mout\u001b[49m\u001b[38;5;241;43m=\u001b[39;49m\u001b[38;5;124;43m'\u001b[39;49m\u001b[38;5;124;43mQ\u001b[39;49m\u001b[38;5;124;43m'\u001b[39;49m\u001b[43m)\u001b[49m\n\u001b[1;32m      8\u001b[0m \u001b[38;5;66;03m# dQ: Derivative of sample objective function wrt parameters theta (function returns size K array)\u001b[39;00m\n\u001b[1;32m      9\u001b[0m dQ \u001b[38;5;241m=\u001b[39m \u001b[38;5;28;01mNone\u001b[39;00m\n",
            "Input \u001b[0;32mIn [23]\u001b[0m, in \u001b[0;36mclogit.<locals>.<lambda>\u001b[0;34m(theta, out)\u001b[0m\n\u001b[1;32m      1\u001b[0m \u001b[38;5;28;01mdef\u001b[39;00m \u001b[38;5;21mclogit\u001b[39m(y, x, cov_type\u001b[38;5;241m=\u001b[39m\u001b[38;5;124m'\u001b[39m\u001b[38;5;124mAinv\u001b[39m\u001b[38;5;124m'\u001b[39m, theta0\u001b[38;5;241m=\u001b[39m\u001b[38;5;28;01mNone\u001b[39;00m, deriv\u001b[38;5;241m=\u001b[39m\u001b[38;5;241m0\u001b[39m, quiet\u001b[38;5;241m=\u001b[39m\u001b[38;5;28;01mFalse\u001b[39;00m): \n\u001b[1;32m      2\u001b[0m \t\u001b[38;5;66;03m# Objective function and derivatives for \u001b[39;00m\n\u001b[1;32m      3\u001b[0m     M, V, T, palt, xalt, xvars \u001b[38;5;241m=\u001b[39m labels(x)\n\u001b[0;32m----> 5\u001b[0m     Qfun     \u001b[38;5;241m=\u001b[39m \u001b[38;5;28;01mlambda\u001b[39;00m theta, out:  \u001b[43mQ_clogit\u001b[49m\u001b[43m(\u001b[49m\u001b[43mtheta\u001b[49m\u001b[43m,\u001b[49m\u001b[43m \u001b[49m\u001b[43my\u001b[49m\u001b[43m,\u001b[49m\u001b[43m \u001b[49m\u001b[43mx\u001b[49m\u001b[43m,\u001b[49m\u001b[43m \u001b[49m\u001b[43mout\u001b[49m\u001b[43m)\u001b[49m\n\u001b[1;32m      7\u001b[0m     \u001b[38;5;28;01mif\u001b[39;00m theta0 \u001b[38;5;129;01mis\u001b[39;00m \u001b[38;5;28;01mNone\u001b[39;00m: \n\u001b[1;32m      8\u001b[0m         theta0\u001b[38;5;241m=\u001b[39mnp\u001b[38;5;241m.\u001b[39mzeros((T,\u001b[38;5;241m1\u001b[39m))\n",
            "Input \u001b[0;32mIn [25]\u001b[0m, in \u001b[0;36mQ_clogit\u001b[0;34m(theta, y, x, out)\u001b[0m\n\u001b[1;32m      5\u001b[0m     \u001b[38;5;66;03m#def utiliy(theta, x):\u001b[39;00m\n\u001b[1;32m      6\u001b[0m     \u001b[38;5;66;03m#   u = x @ theta\u001b[39;00m\n\u001b[1;32m      7\u001b[0m \t\u001b[38;5;66;03m#   return u.reshape(N,V) \u001b[39;00m\n\u001b[1;32m      9\u001b[0m     v \u001b[38;5;241m=\u001b[39m utiliy(theta, x) \u001b[38;5;66;03m# v = x @ theta \t# Deterministic component of utility\u001b[39;00m\n\u001b[0;32m---> 10\u001b[0m     ll_i\u001b[38;5;241m=\u001b[39m\u001b[43mlogccp\u001b[49m\u001b[43m(\u001b[49m\u001b[43mv\u001b[49m\u001b[43m,\u001b[49m\u001b[43m \u001b[49m\u001b[43my\u001b[49m\u001b[43m)\u001b[49m \n\u001b[1;32m     11\u001b[0m     q_i\u001b[38;5;241m=\u001b[39m \u001b[38;5;241m-\u001b[39m ll_i   \n\u001b[1;32m     12\u001b[0m     \u001b[38;5;28;01mif\u001b[39;00m out\u001b[38;5;241m==\u001b[39m\u001b[38;5;124m'\u001b[39m\u001b[38;5;124mQ\u001b[39m\u001b[38;5;124m'\u001b[39m:\n",
            "Input \u001b[0;32mIn [26]\u001b[0m, in \u001b[0;36mlogccp\u001b[0;34m(v, y, sigma)\u001b[0m\n\u001b[1;32m      6\u001b[0m \u001b[38;5;28;01mif\u001b[39;00m y \u001b[38;5;129;01mis\u001b[39;00m \u001b[38;5;129;01mnot\u001b[39;00m \u001b[38;5;28;01mNone\u001b[39;00m:\t\n\u001b[1;32m      7\u001b[0m \tN, J\u001b[38;5;241m=\u001b[39mv\u001b[38;5;241m.\u001b[39mshape\n\u001b[0;32m----> 8\u001b[0m \tidx\u001b[38;5;241m=\u001b[39m\u001b[43my\u001b[49m\u001b[43m[\u001b[49m\u001b[43m:\u001b[49m\u001b[43m,\u001b[49m\u001b[43m]\u001b[49m\u001b[43m \u001b[49m\u001b[38;5;241;43m+\u001b[39;49m\u001b[43m \u001b[49m\u001b[43mJ\u001b[49m\u001b[38;5;241;43m*\u001b[39;49m\u001b[43mnp\u001b[49m\u001b[38;5;241;43m.\u001b[39;49m\u001b[43marange\u001b[49m\u001b[43m(\u001b[49m\u001b[38;5;241;43m0\u001b[39;49m\u001b[43m,\u001b[49m\u001b[43m \u001b[49m\u001b[43mN\u001b[49m\u001b[43m)\u001b[49m\n\u001b[1;32m      9\u001b[0m \tv\u001b[38;5;241m=\u001b[39mv\u001b[38;5;241m.\u001b[39mreshape(N\u001b[38;5;241m*\u001b[39mJ, \u001b[38;5;241m1\u001b[39m)[idx] \t\u001b[38;5;66;03m# pick choice specific values corresponding to y \u001b[39;00m\n\u001b[1;32m     10\u001b[0m \u001b[38;5;28;01mreturn\u001b[39;00m (v \u001b[38;5;241m-\u001b[39m ev)\u001b[38;5;241m/\u001b[39msigma\n",
            "\u001b[0;31mValueError\u001b[0m: operands could not be broadcast together with shapes (110,1,11) (110,) "
          ]
        }
      ],
      "source": [
        "clogit(y, x, cov_type='Ainv',theta0=None, deriv=0, quiet=False)"
      ]
    }
  ],
  "metadata": {
    "colab": {
      "provenance": []
    },
    "kernelspec": {
      "display_name": "Python 3",
      "name": "python3"
    },
    "language_info": {
      "codemirror_mode": {
        "name": "ipython",
        "version": 3
      },
      "file_extension": ".py",
      "mimetype": "text/x-python",
      "name": "python",
      "nbconvert_exporter": "python",
      "pygments_lexer": "ipython3",
      "version": "3.9.12"
    }
  },
  "nbformat": 4,
  "nbformat_minor": 0
}
