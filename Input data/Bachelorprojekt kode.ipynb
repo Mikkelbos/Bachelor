{
 "cells": [
  {
   "cell_type": "code",
   "execution_count": 18,
   "metadata": {},
   "outputs": [],
   "source": [
    "import pandas as pd\n",
    "import numpy as np\n",
    "from tabulate import tabulate\n",
    "import matplotlib.pyplot as plt\n",
    "import statsmodels.api as sm"
   ]
  },
  {
   "cell_type": "markdown",
   "metadata": {},
   "source": [
    "# Create Overview"
   ]
  },
  {
   "cell_type": "code",
   "execution_count": 19,
   "metadata": {},
   "outputs": [
    {
     "name": "stdout",
     "output_type": "stream",
     "text": [
      "              ID Manufacturer      Model        Range            Price  \\\n",
      "0     1.00000000       Aiways         U5 400.23038397  330825.78947368   \n",
      "1     2.00000000       Aiways         U6 405.00000000  375710.00000000   \n",
      "2     3.00000000         Audi     e-tron 375.78400000  714953.03016688   \n",
      "3     4.00000000         Audi  e-tron GT 472.15204678 1081416.34131737   \n",
      "4     5.00000000         Audi  Q4 e-tron 496.95164718  454724.62672152   \n",
      "..           ...          ...        ...          ...              ...   \n",
      "193 194.00000000      Xingyun        UTV  70.00000000       0.00000000   \n",
      "194 195.00000000      Xinyang        ATV   0.00000000       0.00000000   \n",
      "195 196.00000000        Xpeng         G9 512.62886598       0.00000000   \n",
      "196 197.00000000        Xpeng         P5 450.00000000       0.00000000   \n",
      "197 198.00000000        Xpeng         P7 546.84210526       0.00000000   \n",
      "\n",
      "              HP  Fast charge (min)   Type Segment Country  \n",
      "0   201.15000000        34.00000000    SUV       C      CH  \n",
      "1   214.56000000        34.00000000    SUV       C      CH  \n",
      "2   402.30000000        17.00000000    SUV       F      DE  \n",
      "3   522.99000000        17.00000000  Sedan       F      DE  \n",
      "4   281.61000000        28.00000000    SUV       C      DE  \n",
      "..           ...                ...    ...     ...     ...  \n",
      "193          NaN                NaN    NaN     NaN     NaN  \n",
      "194          NaN                NaN    NaN     NaN     NaN  \n",
      "195          NaN                NaN    NaN     NaN     NaN  \n",
      "196          NaN                NaN    NaN     NaN     NaN  \n",
      "197          NaN                NaN    NaN     NaN     NaN  \n",
      "\n",
      "[198 rows x 10 columns]\n"
     ]
    }
   ],
   "source": [
    "# Read the Excel file into a DataFrame, skipping row 12 and using row 11 as the header\n",
    "info = pd.read_excel('pris og rækkevidde.xlsx', sheet_name='med attributes', header=10, usecols=\"A:K\")\n",
    "info = info.drop(columns=['Elektrisk rækkevidde (NEDC)'])\n",
    "info = info.drop(index=0).reset_index(drop=True) # Drop row 0 (no info)\n",
    "\n",
    "info = info.rename(columns={'Nr.':'ID', 'Mærke':'Manufacturer', 'Elektrisk rækkevidde (WLTP)': 'Range', 'Udsalgspris': 'Price', 'kW (power)': 'HP', \n",
    "                            'Ladetid (fastcharge 10-70)': 'Fast charge (min)', 'Type': 'Type', 'Segment': 'Segment', 'Country': 'Country'})\n",
    "\n",
    "info['HP'] = (info['HP'] * 1.341)\n",
    "\n",
    "\n",
    "# Display the resulting DataFrame\n",
    "print(info)"
   ]
  },
  {
   "cell_type": "code",
   "execution_count": 20,
   "metadata": {},
   "outputs": [
    {
     "name": "stdout",
     "output_type": "stream",
     "text": [
      "              ID  Count      Share Percentage\n",
      "0     1.00000000    617 0.00416416      0.42%\n",
      "1     2.00000000      3 0.00002025       0.0%\n",
      "2     3.00000000   1579 0.01065675      1.07%\n",
      "3     4.00000000    171 0.00115409      0.12%\n",
      "4     5.00000000   5646 0.03810514      3.81%\n",
      "..           ...    ...        ...        ...\n",
      "193 194.00000000     29 0.00019572      0.02%\n",
      "194 195.00000000      4 0.00002700       0.0%\n",
      "195 196.00000000    582 0.00392795      0.39%\n",
      "196 197.00000000      4 0.00002700       0.0%\n",
      "197 198.00000000     76 0.00051293      0.05%\n",
      "\n",
      "[198 rows x 4 columns]\n"
     ]
    },
    {
     "name": "stderr",
     "output_type": "stream",
     "text": [
      "/opt/anaconda3/lib/python3.9/site-packages/openpyxl/styles/stylesheet.py:226: UserWarning: Workbook contains no default style, apply openpyxl's default\n",
      "  warn(\"Workbook contains no default style, apply openpyxl's default\")\n"
     ]
    }
   ],
   "source": [
    "# Read the Excel file into a DataFrame, skipping row 12 and using row 11 as the header\n",
    "total_market_share = pd.read_excel('Nyregistreringer pr. model, 01-01-2013 - 31-12-2023.xlsx', header=11, usecols=\"A,Z:AA\")\n",
    "total_market_share = total_market_share.drop(index=0).reset_index(drop=True) # Drop row 0 (no info)\n",
    "\n",
    "# Rename columns\n",
    "total_market_share = total_market_share.rename(columns={'Nr.':'ID', 'Antal.11': 'Count', 'Andel.11': 'Share'}) \n",
    "\n",
    "# Display share in percentage\n",
    "total_market_share['Percentage'] = ((total_market_share['Share'] * 100).round(2)).astype(str)+'%'\n",
    "\n",
    "# Display the resulting DataFrame\n",
    "print(total_market_share)"
   ]
  },
  {
   "cell_type": "code",
   "execution_count": 21,
   "metadata": {},
   "outputs": [
    {
     "name": "stdout",
     "output_type": "stream",
     "text": [
      "      ID Manufacturer      Model  Range            Price   HP  \\\n",
      "0      1       Aiways         U5    400  330825.78947368  201   \n",
      "1      2       Aiways         U6    405  375710.00000000  214   \n",
      "2      3         Audi     e-tron    375  714953.03016688  402   \n",
      "3      4         Audi  e-tron GT    472 1081416.34131737  522   \n",
      "4      5         Audi  Q4 e-tron    496  454724.62672152  281   \n",
      "..   ...          ...        ...    ...              ...  ...   \n",
      "186  187   Volkswagen        up!    256  173761.91926256   81   \n",
      "187  188        Volvo        C40    466  449203.70797546  402   \n",
      "188  189        Volvo       EX30    475  368245.00000000  268   \n",
      "189  190        Volvo       XC40    457  443449.84952038  402   \n",
      "191  192        Voyah       Free    500  504768.50000000  482   \n",
      "\n",
      "     Fast charge (min)       Type Segment Country  Count      Share Percentage  \n",
      "0                   34        SUV       C      CH    617 0.00416416      0.42%  \n",
      "1                   34        SUV       C      CH      3 0.00002025       0.0%  \n",
      "2                   17        SUV       F      DE   1579 0.01065675      1.07%  \n",
      "3                   17      Sedan       F      DE    171 0.00115409      0.12%  \n",
      "4                   28        SUV       C      DE   5646 0.03810514      3.81%  \n",
      "..                 ...        ...     ...     ...    ...        ...        ...  \n",
      "186                 48  Hatchback       A      DE   1909 0.01288394      1.29%  \n",
      "187                 28        SUV       C      SE    815 0.00550048      0.55%  \n",
      "188                 28        SUV       B      SE      4 0.00002700       0.0%  \n",
      "189                 28        SUV       C      SE   3348 0.02259582      2.26%  \n",
      "191                 55        SUV       E      CH      8 0.00005399      0.01%  \n",
      "\n",
      "[112 rows x 13 columns]\n"
     ]
    }
   ],
   "source": [
    "# Merge DataFrames based on the 'ID' column\n",
    "overview = pd.merge(info, total_market_share, on='ID', how='left')\n",
    "\n",
    "# Removes columns with no HP\n",
    "overview['HP'] = overview['HP'].fillna('Nan')\n",
    "overview = overview[overview['HP'] != \"Nan\"]\n",
    "\n",
    "# Convert columns to integer\n",
    "convert_to_int = ['ID', 'Range', 'HP', 'Fast charge (min)']\n",
    "overview[convert_to_int] = overview[convert_to_int].astype(int)\n",
    "\n",
    "# Display the resulting DataFrame\n",
    "print(overview)\n",
    "# Export the DataFrame to an Excel file\n",
    "overview.to_excel('Overview.xlsx', index=False)"
   ]
  },
  {
   "cell_type": "markdown",
   "metadata": {},
   "source": [
    "# Descriptive statistics"
   ]
  },
  {
   "cell_type": "code",
   "execution_count": 22,
   "metadata": {},
   "outputs": [
    {
     "data": {
      "text/html": [
       "<div>\n",
       "<style scoped>\n",
       "    .dataframe tbody tr th:only-of-type {\n",
       "        vertical-align: middle;\n",
       "    }\n",
       "\n",
       "    .dataframe tbody tr th {\n",
       "        vertical-align: top;\n",
       "    }\n",
       "\n",
       "    .dataframe thead th {\n",
       "        text-align: right;\n",
       "    }\n",
       "</style>\n",
       "<table border=\"1\" class=\"dataframe\">\n",
       "  <thead>\n",
       "    <tr style=\"text-align: right;\">\n",
       "      <th></th>\n",
       "      <th>Share</th>\n",
       "      <th>Range</th>\n",
       "      <th>Price</th>\n",
       "      <th>HP</th>\n",
       "      <th>Fast charge (min)</th>\n",
       "      <th>Count</th>\n",
       "    </tr>\n",
       "  </thead>\n",
       "  <tbody>\n",
       "    <tr>\n",
       "      <th>count</th>\n",
       "      <td>112.00000000</td>\n",
       "      <td>112.00000000</td>\n",
       "      <td>112.00000000</td>\n",
       "      <td>112.00000000</td>\n",
       "      <td>112.00000000</td>\n",
       "      <td>112.00000000</td>\n",
       "    </tr>\n",
       "    <tr>\n",
       "      <th>mean</th>\n",
       "      <td>0.00881426</td>\n",
       "      <td>411.94642857</td>\n",
       "      <td>490635.38066830</td>\n",
       "      <td>263.56250000</td>\n",
       "      <td>34.41071429</td>\n",
       "      <td>1306.00000000</td>\n",
       "    </tr>\n",
       "    <tr>\n",
       "      <th>std</th>\n",
       "      <td>0.01843637</td>\n",
       "      <td>111.28300416</td>\n",
       "      <td>277620.66189183</td>\n",
       "      <td>151.62363202</td>\n",
       "      <td>12.85928947</td>\n",
       "      <td>2731.69882133</td>\n",
       "    </tr>\n",
       "    <tr>\n",
       "      <th>min</th>\n",
       "      <td>0.00000675</td>\n",
       "      <td>127.00000000</td>\n",
       "      <td>143848.98377282</td>\n",
       "      <td>44.00000000</td>\n",
       "      <td>16.00000000</td>\n",
       "      <td>1.00000000</td>\n",
       "    </tr>\n",
       "    <tr>\n",
       "      <th>25%</th>\n",
       "      <td>0.00032902</td>\n",
       "      <td>323.25000000</td>\n",
       "      <td>312881.66491126</td>\n",
       "      <td>154.00000000</td>\n",
       "      <td>27.75000000</td>\n",
       "      <td>48.75000000</td>\n",
       "    </tr>\n",
       "    <tr>\n",
       "      <th>50%</th>\n",
       "      <td>0.00206858</td>\n",
       "      <td>426.50000000</td>\n",
       "      <td>423702.12783784</td>\n",
       "      <td>201.00000000</td>\n",
       "      <td>31.00000000</td>\n",
       "      <td>306.50000000</td>\n",
       "    </tr>\n",
       "    <tr>\n",
       "      <th>75%</th>\n",
       "      <td>0.00875014</td>\n",
       "      <td>490.00000000</td>\n",
       "      <td>571829.79946652</td>\n",
       "      <td>337.50000000</td>\n",
       "      <td>40.00000000</td>\n",
       "      <td>1296.50000000</td>\n",
       "    </tr>\n",
       "    <tr>\n",
       "      <th>max</th>\n",
       "      <td>0.14707530</td>\n",
       "      <td>700.00000000</td>\n",
       "      <td>1715594.40816327</td>\n",
       "      <td>675.00000000</td>\n",
       "      <td>120.00000000</td>\n",
       "      <td>21792.00000000</td>\n",
       "    </tr>\n",
       "  </tbody>\n",
       "</table>\n",
       "</div>"
      ],
      "text/plain": [
       "             Share        Range            Price           HP  \\\n",
       "count 112.00000000 112.00000000     112.00000000 112.00000000   \n",
       "mean    0.00881426 411.94642857  490635.38066830 263.56250000   \n",
       "std     0.01843637 111.28300416  277620.66189183 151.62363202   \n",
       "min     0.00000675 127.00000000  143848.98377282  44.00000000   \n",
       "25%     0.00032902 323.25000000  312881.66491126 154.00000000   \n",
       "50%     0.00206858 426.50000000  423702.12783784 201.00000000   \n",
       "75%     0.00875014 490.00000000  571829.79946652 337.50000000   \n",
       "max     0.14707530 700.00000000 1715594.40816327 675.00000000   \n",
       "\n",
       "       Fast charge (min)          Count  \n",
       "count       112.00000000   112.00000000  \n",
       "mean         34.41071429  1306.00000000  \n",
       "std          12.85928947  2731.69882133  \n",
       "min          16.00000000     1.00000000  \n",
       "25%          27.75000000    48.75000000  \n",
       "50%          31.00000000   306.50000000  \n",
       "75%          40.00000000  1296.50000000  \n",
       "max         120.00000000 21792.00000000  "
      ]
     },
     "execution_count": 22,
     "metadata": {},
     "output_type": "execute_result"
    }
   ],
   "source": [
    "overview[['Share', 'Range','Price', 'HP','Fast charge (min)','Type', 'Segment', 'Count']].describe()"
   ]
  },
  {
   "cell_type": "markdown",
   "metadata": {},
   "source": [
    "# Create Dataset"
   ]
  },
  {
   "cell_type": "code",
   "execution_count": 23,
   "metadata": {},
   "outputs": [
    {
     "name": "stdout",
     "output_type": "stream",
     "text": [
      "       ID  year\n",
      "0       1  2013\n",
      "1       1  2014\n",
      "2       1  2015\n",
      "3       1  2016\n",
      "4       1  2017\n",
      "...   ...   ...\n",
      "2173  198  2019\n",
      "2174  198  2020\n",
      "2175  198  2021\n",
      "2176  198  2022\n",
      "2177  198  2023\n",
      "\n",
      "[2178 rows x 2 columns]\n"
     ]
    }
   ],
   "source": [
    "# Create a list of tuples with the data\n",
    "data = [(i, year) for i in range(1, 199) for year in range(2013, 2024)]\n",
    "\n",
    "# Create a DataFrame from the list of tuples\n",
    "df = pd.DataFrame(data, columns=['ID', 'year'])\n",
    "print(df)\n"
   ]
  },
  {
   "cell_type": "code",
   "execution_count": 24,
   "metadata": {},
   "outputs": [
    {
     "name": "stdout",
     "output_type": "stream",
     "text": [
      "0      0.00000000\n",
      "1      0.00000000\n",
      "2      0.00000000\n",
      "3      0.00000000\n",
      "4      0.00000000\n",
      "          ...    \n",
      "2173   0.00000000\n",
      "2174   0.00000000\n",
      "2175   0.00008031\n",
      "2176   0.00012978\n",
      "2177   0.00111596\n",
      "Length: 2178, dtype: float64\n"
     ]
    }
   ],
   "source": [
    "# Read market share\n",
    "market_share = pd.read_excel('andel.xlsx', sheet_name='marketshare', header=0)\n",
    "market_share = market_share.iloc[:, 1:] # Removes ID column\n",
    "market_share = market_share.stack().reset_index(drop=True) # Stacks columns on top of each other\n",
    "print(market_share)\n"
   ]
  },
  {
   "cell_type": "code",
   "execution_count": 25,
   "metadata": {},
   "outputs": [
    {
     "name": "stdout",
     "output_type": "stream",
     "text": [
      "0        0\n",
      "1        0\n",
      "2        0\n",
      "3        0\n",
      "4        0\n",
      "        ..\n",
      "2173     0\n",
      "2174     0\n",
      "2175     2\n",
      "2176     4\n",
      "2177    70\n",
      "Length: 2178, dtype: int64\n"
     ]
    }
   ],
   "source": [
    "antal = pd.read_excel('andel.xlsx', sheet_name='antal',  header=0)\n",
    "antal = antal.iloc[:, 1:] # Removes ID column\n",
    "antal = antal.stack().reset_index(drop=True) # Stacks columns on top of each other\n",
    "print(antal)"
   ]
  },
  {
   "cell_type": "code",
   "execution_count": 26,
   "metadata": {},
   "outputs": [
    {
     "name": "stdout",
     "output_type": "stream",
     "text": [
      "       ID  year  Antal\n",
      "0       1  2013      0\n",
      "1       1  2014      0\n",
      "2       1  2015      0\n",
      "3       1  2016      0\n",
      "4       1  2017      0\n",
      "...   ...   ...    ...\n",
      "2173  198  2019      0\n",
      "2174  198  2020      0\n",
      "2175  198  2021      2\n",
      "2176  198  2022      4\n",
      "2177  198  2023     70\n",
      "\n",
      "[2178 rows x 3 columns]\n"
     ]
    }
   ],
   "source": [
    "df['Antal'] = antal[0:] \n",
    "print(df)"
   ]
  },
  {
   "cell_type": "code",
   "execution_count": 27,
   "metadata": {},
   "outputs": [
    {
     "name": "stdout",
     "output_type": "stream",
     "text": [
      "       ID  year  Antal  Market share\n",
      "0       1  2013      0    0.00000000\n",
      "1       1  2014      0    0.00000000\n",
      "2       1  2015      0    0.00000000\n",
      "3       1  2016      0    0.00000000\n",
      "4       1  2017      0    0.00000000\n",
      "...   ...   ...    ...           ...\n",
      "2173  198  2019      0    0.00000000\n",
      "2174  198  2020      0    0.00000000\n",
      "2175  198  2021      2    0.00008031\n",
      "2176  198  2022      4    0.00012978\n",
      "2177  198  2023     70    0.00111596\n",
      "\n",
      "[2178 rows x 4 columns]\n"
     ]
    }
   ],
   "source": [
    "pd.set_option('display.float_format', '{:.8f}'.format) # Display market share with more decimals\n",
    "df['Market share'] = market_share[0:] \n",
    "print(df)"
   ]
  },
  {
   "cell_type": "code",
   "execution_count": 28,
   "metadata": {},
   "outputs": [
    {
     "name": "stdout",
     "output_type": "stream",
     "text": [
      "       ID  year  Antal  Market share Manufacturer Model  Range  \\\n",
      "0       1  2013      0    0.00000000       Aiways    U5    400   \n",
      "1       1  2014      0    0.00000000       Aiways    U5    400   \n",
      "2       1  2015      0    0.00000000       Aiways    U5    400   \n",
      "3       1  2016      0    0.00000000       Aiways    U5    400   \n",
      "4       1  2017      0    0.00000000       Aiways    U5    400   \n",
      "...   ...   ...    ...           ...          ...   ...    ...   \n",
      "2107  192  2019      0    0.00000000        Voyah  Free    500   \n",
      "2108  192  2020      0    0.00000000        Voyah  Free    500   \n",
      "2109  192  2021      0    0.00000000        Voyah  Free    500   \n",
      "2110  192  2022      0    0.00000000        Voyah  Free    500   \n",
      "2111  192  2023      8    0.00012754        Voyah  Free    500   \n",
      "\n",
      "               Price   HP  Fast charge (min) Type Segment Country  \n",
      "0    330825.78947368  201                 34  SUV       C      CH  \n",
      "1    330825.78947368  201                 34  SUV       C      CH  \n",
      "2    330825.78947368  201                 34  SUV       C      CH  \n",
      "3    330825.78947368  201                 34  SUV       C      CH  \n",
      "4    330825.78947368  201                 34  SUV       C      CH  \n",
      "...              ...  ...                ...  ...     ...     ...  \n",
      "2107 504768.50000000  482                 55  SUV       E      CH  \n",
      "2108 504768.50000000  482                 55  SUV       E      CH  \n",
      "2109 504768.50000000  482                 55  SUV       E      CH  \n",
      "2110 504768.50000000  482                 55  SUV       E      CH  \n",
      "2111 504768.50000000  482                 55  SUV       E      CH  \n",
      "\n",
      "[1232 rows x 13 columns]\n"
     ]
    }
   ],
   "source": [
    "# Merge the original DataFrame with the prices DataFrame based on the 'ID' column\n",
    "df2 = pd.merge(df, info, on='ID', how='left')\n",
    "df2['HP'] = df2['HP'].fillna('Nan')\n",
    "df2 = df2[df2['HP'] != \"Nan\"]\n",
    "\n",
    "# Convert columns to integer\n",
    "df2[convert_to_int] = df2[convert_to_int].astype(int)\n",
    "\n",
    "# Display the resulting DataFrame\n",
    "print(df2)"
   ]
  },
  {
   "cell_type": "code",
   "execution_count": 29,
   "metadata": {},
   "outputs": [],
   "source": [
    "# Export the DataFrame to an Excel file\n",
    "df2.to_excel('Dataset.xlsx', index=False)"
   ]
  }
 ],
 "metadata": {
  "kernelspec": {
   "display_name": "Python 3",
   "language": "python",
   "name": "python3"
  },
  "language_info": {
   "codemirror_mode": {
    "name": "ipython",
    "version": 3
   },
   "file_extension": ".py",
   "mimetype": "text/x-python",
   "name": "python",
   "nbconvert_exporter": "python",
   "pygments_lexer": "ipython3",
   "version": "3.9.12"
  },
  "orig_nbformat": 4
 },
 "nbformat": 4,
 "nbformat_minor": 2
}
