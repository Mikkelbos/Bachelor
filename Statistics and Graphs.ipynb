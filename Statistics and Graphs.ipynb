{
  "cells": [
    {
      "cell_type": "code",
      "execution_count": 130,
      "metadata": {
        "id": "uwJZ1lbaEHID"
      },
      "outputs": [
        {
          "name": "stdout",
          "output_type": "stream",
          "text": [
            "The autoreload extension is already loaded. To reload it, use:\n",
            "  %reload_ext autoreload\n"
          ]
        }
      ],
      "source": [
        "%reset -f\n",
        "%load_ext autoreload\n",
        "%autoreload 2\n",
        "import pandas as pd\n",
        "import numpy as np\n",
        "from tabulate import tabulate\n",
        "from matplotlib import pyplot as plt\n",
        "import scipy.stats as st\n",
        "import statsmodels.api as sm\n",
        "import seaborn as sns\n",
        "import plotly.express as px\n",
        "import plotly.graph_objects as go\n",
        "from IPython.display import Image\n",
        "import plotly.graph_objects as go\n",
        "from plotly.subplots import make_subplots"
      ]
    },
    {
      "cell_type": "code",
      "execution_count": 131,
      "metadata": {},
      "outputs": [
        {
          "data": {
            "text/html": [
              "<div>\n",
              "<style scoped>\n",
              "    .dataframe tbody tr th:only-of-type {\n",
              "        vertical-align: middle;\n",
              "    }\n",
              "\n",
              "    .dataframe tbody tr th {\n",
              "        vertical-align: top;\n",
              "    }\n",
              "\n",
              "    .dataframe thead th {\n",
              "        text-align: right;\n",
              "    }\n",
              "</style>\n",
              "<table border=\"1\" class=\"dataframe\">\n",
              "  <thead>\n",
              "    <tr style=\"text-align: right;\">\n",
              "      <th></th>\n",
              "      <th>ID</th>\n",
              "      <th>Year</th>\n",
              "      <th>Market share</th>\n",
              "      <th>Manufacturer</th>\n",
              "      <th>Model</th>\n",
              "      <th>Range</th>\n",
              "      <th>Price</th>\n",
              "      <th>HP</th>\n",
              "      <th>Chargetime</th>\n",
              "      <th>Type</th>\n",
              "      <th>Segment</th>\n",
              "      <th>Country</th>\n",
              "      <th>Sales</th>\n",
              "    </tr>\n",
              "  </thead>\n",
              "  <tbody>\n",
              "    <tr>\n",
              "      <th>0</th>\n",
              "      <td>1</td>\n",
              "      <td>2013</td>\n",
              "      <td>0.000000</td>\n",
              "      <td>Aiways</td>\n",
              "      <td>U5</td>\n",
              "      <td>400</td>\n",
              "      <td>0.000</td>\n",
              "      <td>201</td>\n",
              "      <td>34</td>\n",
              "      <td>SUV</td>\n",
              "      <td>C</td>\n",
              "      <td>CN</td>\n",
              "      <td>0</td>\n",
              "    </tr>\n",
              "    <tr>\n",
              "      <th>1</th>\n",
              "      <td>1</td>\n",
              "      <td>2014</td>\n",
              "      <td>0.000000</td>\n",
              "      <td>Aiways</td>\n",
              "      <td>U5</td>\n",
              "      <td>400</td>\n",
              "      <td>0.000</td>\n",
              "      <td>201</td>\n",
              "      <td>34</td>\n",
              "      <td>SUV</td>\n",
              "      <td>C</td>\n",
              "      <td>CN</td>\n",
              "      <td>0</td>\n",
              "    </tr>\n",
              "    <tr>\n",
              "      <th>2</th>\n",
              "      <td>1</td>\n",
              "      <td>2015</td>\n",
              "      <td>0.000000</td>\n",
              "      <td>Aiways</td>\n",
              "      <td>U5</td>\n",
              "      <td>400</td>\n",
              "      <td>0.000</td>\n",
              "      <td>201</td>\n",
              "      <td>34</td>\n",
              "      <td>SUV</td>\n",
              "      <td>C</td>\n",
              "      <td>CN</td>\n",
              "      <td>0</td>\n",
              "    </tr>\n",
              "    <tr>\n",
              "      <th>3</th>\n",
              "      <td>1</td>\n",
              "      <td>2016</td>\n",
              "      <td>0.000000</td>\n",
              "      <td>Aiways</td>\n",
              "      <td>U5</td>\n",
              "      <td>400</td>\n",
              "      <td>0.000</td>\n",
              "      <td>201</td>\n",
              "      <td>34</td>\n",
              "      <td>SUV</td>\n",
              "      <td>C</td>\n",
              "      <td>CN</td>\n",
              "      <td>0</td>\n",
              "    </tr>\n",
              "    <tr>\n",
              "      <th>4</th>\n",
              "      <td>1</td>\n",
              "      <td>2017</td>\n",
              "      <td>0.000000</td>\n",
              "      <td>Aiways</td>\n",
              "      <td>U5</td>\n",
              "      <td>400</td>\n",
              "      <td>0.000</td>\n",
              "      <td>201</td>\n",
              "      <td>34</td>\n",
              "      <td>SUV</td>\n",
              "      <td>C</td>\n",
              "      <td>CN</td>\n",
              "      <td>0</td>\n",
              "    </tr>\n",
              "    <tr>\n",
              "      <th>5</th>\n",
              "      <td>1</td>\n",
              "      <td>2018</td>\n",
              "      <td>0.000000</td>\n",
              "      <td>Aiways</td>\n",
              "      <td>U5</td>\n",
              "      <td>400</td>\n",
              "      <td>0.000</td>\n",
              "      <td>201</td>\n",
              "      <td>34</td>\n",
              "      <td>SUV</td>\n",
              "      <td>C</td>\n",
              "      <td>CN</td>\n",
              "      <td>0</td>\n",
              "    </tr>\n",
              "    <tr>\n",
              "      <th>6</th>\n",
              "      <td>1</td>\n",
              "      <td>2019</td>\n",
              "      <td>0.000000</td>\n",
              "      <td>Aiways</td>\n",
              "      <td>U5</td>\n",
              "      <td>400</td>\n",
              "      <td>0.000</td>\n",
              "      <td>201</td>\n",
              "      <td>34</td>\n",
              "      <td>SUV</td>\n",
              "      <td>C</td>\n",
              "      <td>CN</td>\n",
              "      <td>0</td>\n",
              "    </tr>\n",
              "    <tr>\n",
              "      <th>7</th>\n",
              "      <td>1</td>\n",
              "      <td>2020</td>\n",
              "      <td>0.000000</td>\n",
              "      <td>Aiways</td>\n",
              "      <td>U5</td>\n",
              "      <td>400</td>\n",
              "      <td>0.000</td>\n",
              "      <td>201</td>\n",
              "      <td>34</td>\n",
              "      <td>SUV</td>\n",
              "      <td>C</td>\n",
              "      <td>CN</td>\n",
              "      <td>0</td>\n",
              "    </tr>\n",
              "    <tr>\n",
              "      <th>8</th>\n",
              "      <td>1</td>\n",
              "      <td>2021</td>\n",
              "      <td>0.010373</td>\n",
              "      <td>Aiways</td>\n",
              "      <td>U5</td>\n",
              "      <td>400</td>\n",
              "      <td>284621.700</td>\n",
              "      <td>201</td>\n",
              "      <td>34</td>\n",
              "      <td>SUV</td>\n",
              "      <td>C</td>\n",
              "      <td>CN</td>\n",
              "      <td>257</td>\n",
              "    </tr>\n",
              "    <tr>\n",
              "      <th>9</th>\n",
              "      <td>1</td>\n",
              "      <td>2022</td>\n",
              "      <td>0.005976</td>\n",
              "      <td>Aiways</td>\n",
              "      <td>U5</td>\n",
              "      <td>400</td>\n",
              "      <td>313681.829</td>\n",
              "      <td>201</td>\n",
              "      <td>34</td>\n",
              "      <td>SUV</td>\n",
              "      <td>C</td>\n",
              "      <td>CN</td>\n",
              "      <td>183</td>\n",
              "    </tr>\n",
              "    <tr>\n",
              "      <th>10</th>\n",
              "      <td>1</td>\n",
              "      <td>2023</td>\n",
              "      <td>0.002860</td>\n",
              "      <td>Aiways</td>\n",
              "      <td>U5</td>\n",
              "      <td>400</td>\n",
              "      <td>264524.000</td>\n",
              "      <td>201</td>\n",
              "      <td>34</td>\n",
              "      <td>SUV</td>\n",
              "      <td>C</td>\n",
              "      <td>CN</td>\n",
              "      <td>177</td>\n",
              "    </tr>\n",
              "    <tr>\n",
              "      <th>11</th>\n",
              "      <td>2</td>\n",
              "      <td>2013</td>\n",
              "      <td>0.000000</td>\n",
              "      <td>Aiways</td>\n",
              "      <td>U6</td>\n",
              "      <td>405</td>\n",
              "      <td>0.000</td>\n",
              "      <td>214</td>\n",
              "      <td>34</td>\n",
              "      <td>SUV</td>\n",
              "      <td>C</td>\n",
              "      <td>CN</td>\n",
              "      <td>0</td>\n",
              "    </tr>\n",
              "    <tr>\n",
              "      <th>12</th>\n",
              "      <td>2</td>\n",
              "      <td>2014</td>\n",
              "      <td>0.000000</td>\n",
              "      <td>Aiways</td>\n",
              "      <td>U6</td>\n",
              "      <td>405</td>\n",
              "      <td>0.000</td>\n",
              "      <td>214</td>\n",
              "      <td>34</td>\n",
              "      <td>SUV</td>\n",
              "      <td>C</td>\n",
              "      <td>CN</td>\n",
              "      <td>0</td>\n",
              "    </tr>\n",
              "    <tr>\n",
              "      <th>13</th>\n",
              "      <td>2</td>\n",
              "      <td>2015</td>\n",
              "      <td>0.000000</td>\n",
              "      <td>Aiways</td>\n",
              "      <td>U6</td>\n",
              "      <td>405</td>\n",
              "      <td>0.000</td>\n",
              "      <td>214</td>\n",
              "      <td>34</td>\n",
              "      <td>SUV</td>\n",
              "      <td>C</td>\n",
              "      <td>CN</td>\n",
              "      <td>0</td>\n",
              "    </tr>\n",
              "    <tr>\n",
              "      <th>14</th>\n",
              "      <td>2</td>\n",
              "      <td>2016</td>\n",
              "      <td>0.000000</td>\n",
              "      <td>Aiways</td>\n",
              "      <td>U6</td>\n",
              "      <td>405</td>\n",
              "      <td>0.000</td>\n",
              "      <td>214</td>\n",
              "      <td>34</td>\n",
              "      <td>SUV</td>\n",
              "      <td>C</td>\n",
              "      <td>CN</td>\n",
              "      <td>0</td>\n",
              "    </tr>\n",
              "    <tr>\n",
              "      <th>15</th>\n",
              "      <td>2</td>\n",
              "      <td>2017</td>\n",
              "      <td>0.000000</td>\n",
              "      <td>Aiways</td>\n",
              "      <td>U6</td>\n",
              "      <td>405</td>\n",
              "      <td>0.000</td>\n",
              "      <td>214</td>\n",
              "      <td>34</td>\n",
              "      <td>SUV</td>\n",
              "      <td>C</td>\n",
              "      <td>CN</td>\n",
              "      <td>0</td>\n",
              "    </tr>\n",
              "    <tr>\n",
              "      <th>16</th>\n",
              "      <td>2</td>\n",
              "      <td>2018</td>\n",
              "      <td>0.000000</td>\n",
              "      <td>Aiways</td>\n",
              "      <td>U6</td>\n",
              "      <td>405</td>\n",
              "      <td>0.000</td>\n",
              "      <td>214</td>\n",
              "      <td>34</td>\n",
              "      <td>SUV</td>\n",
              "      <td>C</td>\n",
              "      <td>CN</td>\n",
              "      <td>0</td>\n",
              "    </tr>\n",
              "    <tr>\n",
              "      <th>17</th>\n",
              "      <td>2</td>\n",
              "      <td>2019</td>\n",
              "      <td>0.000000</td>\n",
              "      <td>Aiways</td>\n",
              "      <td>U6</td>\n",
              "      <td>405</td>\n",
              "      <td>0.000</td>\n",
              "      <td>214</td>\n",
              "      <td>34</td>\n",
              "      <td>SUV</td>\n",
              "      <td>C</td>\n",
              "      <td>CN</td>\n",
              "      <td>0</td>\n",
              "    </tr>\n",
              "    <tr>\n",
              "      <th>18</th>\n",
              "      <td>2</td>\n",
              "      <td>2020</td>\n",
              "      <td>0.000000</td>\n",
              "      <td>Aiways</td>\n",
              "      <td>U6</td>\n",
              "      <td>405</td>\n",
              "      <td>0.000</td>\n",
              "      <td>214</td>\n",
              "      <td>34</td>\n",
              "      <td>SUV</td>\n",
              "      <td>C</td>\n",
              "      <td>CN</td>\n",
              "      <td>0</td>\n",
              "    </tr>\n",
              "    <tr>\n",
              "      <th>19</th>\n",
              "      <td>2</td>\n",
              "      <td>2021</td>\n",
              "      <td>0.000000</td>\n",
              "      <td>Aiways</td>\n",
              "      <td>U6</td>\n",
              "      <td>405</td>\n",
              "      <td>0.000</td>\n",
              "      <td>214</td>\n",
              "      <td>34</td>\n",
              "      <td>SUV</td>\n",
              "      <td>C</td>\n",
              "      <td>CN</td>\n",
              "      <td>0</td>\n",
              "    </tr>\n",
              "  </tbody>\n",
              "</table>\n",
              "</div>"
            ],
            "text/plain": [
              "    ID  Year  Market share Manufacturer Model  Range       Price   HP  \\\n",
              "0    1  2013      0.000000       Aiways    U5    400       0.000  201   \n",
              "1    1  2014      0.000000       Aiways    U5    400       0.000  201   \n",
              "2    1  2015      0.000000       Aiways    U5    400       0.000  201   \n",
              "3    1  2016      0.000000       Aiways    U5    400       0.000  201   \n",
              "4    1  2017      0.000000       Aiways    U5    400       0.000  201   \n",
              "5    1  2018      0.000000       Aiways    U5    400       0.000  201   \n",
              "6    1  2019      0.000000       Aiways    U5    400       0.000  201   \n",
              "7    1  2020      0.000000       Aiways    U5    400       0.000  201   \n",
              "8    1  2021      0.010373       Aiways    U5    400  284621.700  201   \n",
              "9    1  2022      0.005976       Aiways    U5    400  313681.829  201   \n",
              "10   1  2023      0.002860       Aiways    U5    400  264524.000  201   \n",
              "11   2  2013      0.000000       Aiways    U6    405       0.000  214   \n",
              "12   2  2014      0.000000       Aiways    U6    405       0.000  214   \n",
              "13   2  2015      0.000000       Aiways    U6    405       0.000  214   \n",
              "14   2  2016      0.000000       Aiways    U6    405       0.000  214   \n",
              "15   2  2017      0.000000       Aiways    U6    405       0.000  214   \n",
              "16   2  2018      0.000000       Aiways    U6    405       0.000  214   \n",
              "17   2  2019      0.000000       Aiways    U6    405       0.000  214   \n",
              "18   2  2020      0.000000       Aiways    U6    405       0.000  214   \n",
              "19   2  2021      0.000000       Aiways    U6    405       0.000  214   \n",
              "\n",
              "    Chargetime Type Segment Country  Sales  \n",
              "0           34  SUV       C      CN      0  \n",
              "1           34  SUV       C      CN      0  \n",
              "2           34  SUV       C      CN      0  \n",
              "3           34  SUV       C      CN      0  \n",
              "4           34  SUV       C      CN      0  \n",
              "5           34  SUV       C      CN      0  \n",
              "6           34  SUV       C      CN      0  \n",
              "7           34  SUV       C      CN      0  \n",
              "8           34  SUV       C      CN    257  \n",
              "9           34  SUV       C      CN    183  \n",
              "10          34  SUV       C      CN    177  \n",
              "11          34  SUV       C      CN      0  \n",
              "12          34  SUV       C      CN      0  \n",
              "13          34  SUV       C      CN      0  \n",
              "14          34  SUV       C      CN      0  \n",
              "15          34  SUV       C      CN      0  \n",
              "16          34  SUV       C      CN      0  \n",
              "17          34  SUV       C      CN      0  \n",
              "18          34  SUV       C      CN      0  \n",
              "19          34  SUV       C      CN      0  "
            ]
          },
          "execution_count": 131,
          "metadata": {},
          "output_type": "execute_result"
        }
      ],
      "source": [
        "df = pd.read_csv('dataset.csv')\n",
        "df.head(20)\n"
      ]
    },
    {
      "cell_type": "code",
      "execution_count": 132,
      "metadata": {},
      "outputs": [
        {
          "data": {
            "text/html": [
              "<div>\n",
              "<style scoped>\n",
              "    .dataframe tbody tr th:only-of-type {\n",
              "        vertical-align: middle;\n",
              "    }\n",
              "\n",
              "    .dataframe tbody tr th {\n",
              "        vertical-align: top;\n",
              "    }\n",
              "\n",
              "    .dataframe thead th {\n",
              "        text-align: right;\n",
              "    }\n",
              "</style>\n",
              "<table border=\"1\" class=\"dataframe\">\n",
              "  <thead>\n",
              "    <tr style=\"text-align: right;\">\n",
              "      <th></th>\n",
              "      <th>ID</th>\n",
              "      <th>Year</th>\n",
              "      <th>Market share</th>\n",
              "      <th>Manufacturer</th>\n",
              "      <th>Model</th>\n",
              "      <th>Range</th>\n",
              "      <th>Price</th>\n",
              "      <th>HP</th>\n",
              "      <th>Chargetime</th>\n",
              "      <th>Type</th>\n",
              "      <th>Segment</th>\n",
              "      <th>Country</th>\n",
              "      <th>Sales</th>\n",
              "    </tr>\n",
              "  </thead>\n",
              "  <tbody>\n",
              "    <tr>\n",
              "      <th>8</th>\n",
              "      <td>1</td>\n",
              "      <td>2021</td>\n",
              "      <td>0.010373</td>\n",
              "      <td>Aiways</td>\n",
              "      <td>U5</td>\n",
              "      <td>400</td>\n",
              "      <td>284621.700</td>\n",
              "      <td>201</td>\n",
              "      <td>34</td>\n",
              "      <td>SUV</td>\n",
              "      <td>C</td>\n",
              "      <td>CN</td>\n",
              "      <td>257</td>\n",
              "    </tr>\n",
              "    <tr>\n",
              "      <th>9</th>\n",
              "      <td>1</td>\n",
              "      <td>2022</td>\n",
              "      <td>0.005976</td>\n",
              "      <td>Aiways</td>\n",
              "      <td>U5</td>\n",
              "      <td>400</td>\n",
              "      <td>313681.829</td>\n",
              "      <td>201</td>\n",
              "      <td>34</td>\n",
              "      <td>SUV</td>\n",
              "      <td>C</td>\n",
              "      <td>CN</td>\n",
              "      <td>183</td>\n",
              "    </tr>\n",
              "    <tr>\n",
              "      <th>10</th>\n",
              "      <td>1</td>\n",
              "      <td>2023</td>\n",
              "      <td>0.002860</td>\n",
              "      <td>Aiways</td>\n",
              "      <td>U5</td>\n",
              "      <td>400</td>\n",
              "      <td>264524.000</td>\n",
              "      <td>201</td>\n",
              "      <td>34</td>\n",
              "      <td>SUV</td>\n",
              "      <td>C</td>\n",
              "      <td>CN</td>\n",
              "      <td>177</td>\n",
              "    </tr>\n",
              "    <tr>\n",
              "      <th>21</th>\n",
              "      <td>2</td>\n",
              "      <td>2023</td>\n",
              "      <td>0.000048</td>\n",
              "      <td>Aiways</td>\n",
              "      <td>U6</td>\n",
              "      <td>405</td>\n",
              "      <td>360638.000</td>\n",
              "      <td>214</td>\n",
              "      <td>34</td>\n",
              "      <td>SUV</td>\n",
              "      <td>C</td>\n",
              "      <td>CN</td>\n",
              "      <td>3</td>\n",
              "    </tr>\n",
              "    <tr>\n",
              "      <th>28</th>\n",
              "      <td>3</td>\n",
              "      <td>2019</td>\n",
              "      <td>0.040630</td>\n",
              "      <td>Audi</td>\n",
              "      <td>e-tron</td>\n",
              "      <td>375</td>\n",
              "      <td>979704.475</td>\n",
              "      <td>402</td>\n",
              "      <td>17</td>\n",
              "      <td>SUV</td>\n",
              "      <td>F</td>\n",
              "      <td>DE</td>\n",
              "      <td>222</td>\n",
              "    </tr>\n",
              "    <tr>\n",
              "      <th>29</th>\n",
              "      <td>3</td>\n",
              "      <td>2020</td>\n",
              "      <td>0.034680</td>\n",
              "      <td>Audi</td>\n",
              "      <td>e-tron</td>\n",
              "      <td>375</td>\n",
              "      <td>890101.410</td>\n",
              "      <td>402</td>\n",
              "      <td>17</td>\n",
              "      <td>SUV</td>\n",
              "      <td>F</td>\n",
              "      <td>DE</td>\n",
              "      <td>491</td>\n",
              "    </tr>\n",
              "    <tr>\n",
              "      <th>30</th>\n",
              "      <td>3</td>\n",
              "      <td>2021</td>\n",
              "      <td>0.010494</td>\n",
              "      <td>Audi</td>\n",
              "      <td>e-tron</td>\n",
              "      <td>375</td>\n",
              "      <td>800035.193</td>\n",
              "      <td>402</td>\n",
              "      <td>17</td>\n",
              "      <td>SUV</td>\n",
              "      <td>F</td>\n",
              "      <td>DE</td>\n",
              "      <td>260</td>\n",
              "    </tr>\n",
              "    <tr>\n",
              "      <th>31</th>\n",
              "      <td>3</td>\n",
              "      <td>2022</td>\n",
              "      <td>0.017570</td>\n",
              "      <td>Audi</td>\n",
              "      <td>e-tron</td>\n",
              "      <td>375</td>\n",
              "      <td>789723.656</td>\n",
              "      <td>402</td>\n",
              "      <td>17</td>\n",
              "      <td>SUV</td>\n",
              "      <td>F</td>\n",
              "      <td>DE</td>\n",
              "      <td>538</td>\n",
              "    </tr>\n",
              "    <tr>\n",
              "      <th>32</th>\n",
              "      <td>3</td>\n",
              "      <td>2023</td>\n",
              "      <td>0.001099</td>\n",
              "      <td>Audi</td>\n",
              "      <td>e-tron</td>\n",
              "      <td>375</td>\n",
              "      <td>673037.728</td>\n",
              "      <td>402</td>\n",
              "      <td>17</td>\n",
              "      <td>SUV</td>\n",
              "      <td>F</td>\n",
              "      <td>DE</td>\n",
              "      <td>68</td>\n",
              "    </tr>\n",
              "    <tr>\n",
              "      <th>41</th>\n",
              "      <td>4</td>\n",
              "      <td>2021</td>\n",
              "      <td>0.003391</td>\n",
              "      <td>Audi</td>\n",
              "      <td>e-tron GT</td>\n",
              "      <td>472</td>\n",
              "      <td>1278896.110</td>\n",
              "      <td>522</td>\n",
              "      <td>17</td>\n",
              "      <td>Sedan</td>\n",
              "      <td>F</td>\n",
              "      <td>DE</td>\n",
              "      <td>84</td>\n",
              "    </tr>\n",
              "    <tr>\n",
              "      <th>42</th>\n",
              "      <td>4</td>\n",
              "      <td>2022</td>\n",
              "      <td>0.002090</td>\n",
              "      <td>Audi</td>\n",
              "      <td>e-tron GT</td>\n",
              "      <td>472</td>\n",
              "      <td>1287318.500</td>\n",
              "      <td>522</td>\n",
              "      <td>17</td>\n",
              "      <td>Sedan</td>\n",
              "      <td>F</td>\n",
              "      <td>DE</td>\n",
              "      <td>64</td>\n",
              "    </tr>\n",
              "    <tr>\n",
              "      <th>43</th>\n",
              "      <td>4</td>\n",
              "      <td>2023</td>\n",
              "      <td>0.000372</td>\n",
              "      <td>Audi</td>\n",
              "      <td>e-tron GT</td>\n",
              "      <td>472</td>\n",
              "      <td>1219342.000</td>\n",
              "      <td>522</td>\n",
              "      <td>17</td>\n",
              "      <td>Sedan</td>\n",
              "      <td>F</td>\n",
              "      <td>DE</td>\n",
              "      <td>23</td>\n",
              "    </tr>\n",
              "    <tr>\n",
              "      <th>52</th>\n",
              "      <td>5</td>\n",
              "      <td>2021</td>\n",
              "      <td>0.061231</td>\n",
              "      <td>Audi</td>\n",
              "      <td>Q4 e-tron</td>\n",
              "      <td>496</td>\n",
              "      <td>523778.222</td>\n",
              "      <td>281</td>\n",
              "      <td>28</td>\n",
              "      <td>SUV</td>\n",
              "      <td>C</td>\n",
              "      <td>DE</td>\n",
              "      <td>1517</td>\n",
              "    </tr>\n",
              "    <tr>\n",
              "      <th>53</th>\n",
              "      <td>5</td>\n",
              "      <td>2022</td>\n",
              "      <td>0.058130</td>\n",
              "      <td>Audi</td>\n",
              "      <td>Q4 e-tron</td>\n",
              "      <td>496</td>\n",
              "      <td>525536.206</td>\n",
              "      <td>281</td>\n",
              "      <td>28</td>\n",
              "      <td>SUV</td>\n",
              "      <td>C</td>\n",
              "      <td>DE</td>\n",
              "      <td>1780</td>\n",
              "    </tr>\n",
              "    <tr>\n",
              "      <th>54</th>\n",
              "      <td>5</td>\n",
              "      <td>2023</td>\n",
              "      <td>0.037958</td>\n",
              "      <td>Audi</td>\n",
              "      <td>Q4 e-tron</td>\n",
              "      <td>496</td>\n",
              "      <td>658553.070</td>\n",
              "      <td>281</td>\n",
              "      <td>28</td>\n",
              "      <td>SUV</td>\n",
              "      <td>C</td>\n",
              "      <td>DE</td>\n",
              "      <td>2349</td>\n",
              "    </tr>\n",
              "    <tr>\n",
              "      <th>65</th>\n",
              "      <td>6</td>\n",
              "      <td>2023</td>\n",
              "      <td>0.007255</td>\n",
              "      <td>Audi</td>\n",
              "      <td>Q8 e-tron</td>\n",
              "      <td>518</td>\n",
              "      <td>796974.400</td>\n",
              "      <td>335</td>\n",
              "      <td>27</td>\n",
              "      <td>SUV</td>\n",
              "      <td>E</td>\n",
              "      <td>DE</td>\n",
              "      <td>449</td>\n",
              "    </tr>\n",
              "    <tr>\n",
              "      <th>66</th>\n",
              "      <td>10</td>\n",
              "      <td>2013</td>\n",
              "      <td>0.002237</td>\n",
              "      <td>BMW</td>\n",
              "      <td>I3</td>\n",
              "      <td>295</td>\n",
              "      <td>250000.000</td>\n",
              "      <td>167</td>\n",
              "      <td>18</td>\n",
              "      <td>Hatchback</td>\n",
              "      <td>B</td>\n",
              "      <td>DE</td>\n",
              "      <td>1</td>\n",
              "    </tr>\n",
              "    <tr>\n",
              "      <th>67</th>\n",
              "      <td>10</td>\n",
              "      <td>2014</td>\n",
              "      <td>0.041751</td>\n",
              "      <td>BMW</td>\n",
              "      <td>I3</td>\n",
              "      <td>295</td>\n",
              "      <td>282999.667</td>\n",
              "      <td>167</td>\n",
              "      <td>18</td>\n",
              "      <td>Hatchback</td>\n",
              "      <td>B</td>\n",
              "      <td>DE</td>\n",
              "      <td>62</td>\n",
              "    </tr>\n",
              "    <tr>\n",
              "      <th>68</th>\n",
              "      <td>10</td>\n",
              "      <td>2015</td>\n",
              "      <td>0.124302</td>\n",
              "      <td>BMW</td>\n",
              "      <td>I3</td>\n",
              "      <td>295</td>\n",
              "      <td>282299.667</td>\n",
              "      <td>167</td>\n",
              "      <td>18</td>\n",
              "      <td>Hatchback</td>\n",
              "      <td>B</td>\n",
              "      <td>DE</td>\n",
              "      <td>490</td>\n",
              "    </tr>\n",
              "    <tr>\n",
              "      <th>69</th>\n",
              "      <td>10</td>\n",
              "      <td>2016</td>\n",
              "      <td>0.190756</td>\n",
              "      <td>BMW</td>\n",
              "      <td>I3</td>\n",
              "      <td>295</td>\n",
              "      <td>282300.000</td>\n",
              "      <td>167</td>\n",
              "      <td>18</td>\n",
              "      <td>Hatchback</td>\n",
              "      <td>B</td>\n",
              "      <td>DE</td>\n",
              "      <td>227</td>\n",
              "    </tr>\n",
              "  </tbody>\n",
              "</table>\n",
              "</div>"
            ],
            "text/plain": [
              "    ID  Year  Market share Manufacturer      Model  Range        Price   HP  \\\n",
              "8    1  2021      0.010373       Aiways         U5    400   284621.700  201   \n",
              "9    1  2022      0.005976       Aiways         U5    400   313681.829  201   \n",
              "10   1  2023      0.002860       Aiways         U5    400   264524.000  201   \n",
              "21   2  2023      0.000048       Aiways         U6    405   360638.000  214   \n",
              "28   3  2019      0.040630         Audi     e-tron    375   979704.475  402   \n",
              "29   3  2020      0.034680         Audi     e-tron    375   890101.410  402   \n",
              "30   3  2021      0.010494         Audi     e-tron    375   800035.193  402   \n",
              "31   3  2022      0.017570         Audi     e-tron    375   789723.656  402   \n",
              "32   3  2023      0.001099         Audi     e-tron    375   673037.728  402   \n",
              "41   4  2021      0.003391         Audi  e-tron GT    472  1278896.110  522   \n",
              "42   4  2022      0.002090         Audi  e-tron GT    472  1287318.500  522   \n",
              "43   4  2023      0.000372         Audi  e-tron GT    472  1219342.000  522   \n",
              "52   5  2021      0.061231         Audi  Q4 e-tron    496   523778.222  281   \n",
              "53   5  2022      0.058130         Audi  Q4 e-tron    496   525536.206  281   \n",
              "54   5  2023      0.037958         Audi  Q4 e-tron    496   658553.070  281   \n",
              "65   6  2023      0.007255         Audi  Q8 e-tron    518   796974.400  335   \n",
              "66  10  2013      0.002237          BMW         I3    295   250000.000  167   \n",
              "67  10  2014      0.041751          BMW         I3    295   282999.667  167   \n",
              "68  10  2015      0.124302          BMW         I3    295   282299.667  167   \n",
              "69  10  2016      0.190756          BMW         I3    295   282300.000  167   \n",
              "\n",
              "    Chargetime       Type Segment Country  Sales  \n",
              "8           34        SUV       C      CN    257  \n",
              "9           34        SUV       C      CN    183  \n",
              "10          34        SUV       C      CN    177  \n",
              "21          34        SUV       C      CN      3  \n",
              "28          17        SUV       F      DE    222  \n",
              "29          17        SUV       F      DE    491  \n",
              "30          17        SUV       F      DE    260  \n",
              "31          17        SUV       F      DE    538  \n",
              "32          17        SUV       F      DE     68  \n",
              "41          17      Sedan       F      DE     84  \n",
              "42          17      Sedan       F      DE     64  \n",
              "43          17      Sedan       F      DE     23  \n",
              "52          28        SUV       C      DE   1517  \n",
              "53          28        SUV       C      DE   1780  \n",
              "54          28        SUV       C      DE   2349  \n",
              "65          27        SUV       E      DE    449  \n",
              "66          18  Hatchback       B      DE      1  \n",
              "67          18  Hatchback       B      DE     62  \n",
              "68          18  Hatchback       B      DE    490  \n",
              "69          18  Hatchback       B      DE    227  "
            ]
          },
          "execution_count": 132,
          "metadata": {},
          "output_type": "execute_result"
        }
      ],
      "source": [
        "data = df[df['Market share'] != 0]\n",
        "data.head(20)"
      ]
    },
    {
      "cell_type": "markdown",
      "metadata": {},
      "source": [
        "# Statistics"
      ]
    },
    {
      "cell_type": "markdown",
      "metadata": {},
      "source": [
        "## Average per year"
      ]
    },
    {
      "cell_type": "code",
      "execution_count": 133,
      "metadata": {},
      "outputs": [
        {
          "name": "stdout",
          "output_type": "stream",
          "text": [
            "      Number of Unique Models  Sales  Average Price  Average Range  \\\n",
            "Year                                                                 \n",
            "2013                        6    447  296770.419877     330.000000   \n",
            "2014                        6   1485  310058.947710     347.166667   \n",
            "2015                        7   3942  321165.598038     361.857143   \n",
            "2016                        8   1190  458294.975000     382.750000   \n",
            "2017                        9    650  453467.325000     374.666667   \n",
            "2018                       11   1467  475000.854545     389.090909   \n",
            "2019                       16   5464  481717.118813     386.500000   \n",
            "2020                       33  14158  423285.467182     359.333333   \n",
            "2021                       57  24775  445642.696800     384.438596   \n",
            "2022                       81  30621  507474.479558     402.222222   \n",
            "2023                      100  61885  496384.861756     421.740000   \n",
            "\n",
            "      Average HP  Average Charge Time  \n",
            "Year                                   \n",
            "2013  214.000000            42.500000  \n",
            "2014  223.000000            38.500000  \n",
            "2015  219.857143            39.285714  \n",
            "2016  276.750000            38.125000  \n",
            "2017  259.111111            36.000000  \n",
            "2018  267.272727            37.181818  \n",
            "2019  268.937500            36.687500  \n",
            "2020  228.515152            35.030303  \n",
            "2021  241.824561            33.245614  \n",
            "2022  253.580247            33.308642  \n",
            "2023  266.040000            32.750000  \n"
          ]
        }
      ],
      "source": [
        "# Group the data by year\n",
        "grouped_data = data.groupby('Year')\n",
        "\n",
        "# Calculate the required statistics\n",
        "desc_stats = grouped_data.agg({\n",
        "    'Model': pd.Series.nunique,  # number of unique models\n",
        "    'Sales': 'sum',  # sum of count\n",
        "    'Price': 'mean',  # average price\n",
        "    'Range': 'mean',  # average range\n",
        "    'HP': 'mean',  # average hp\n",
        "    'Chargetime': 'mean'  # average charge time\n",
        "})\n",
        "\n",
        "# Rename the columns\n",
        "desc_stats.columns = ['Number of Unique Models', 'Sales', 'Average Price', 'Average Range', 'Average HP', 'Average Charge Time']\n",
        "\n",
        "# Print the descriptive statistics table\n",
        "print(desc_stats)\n"
      ]
    },
    {
      "cell_type": "markdown",
      "metadata": {},
      "source": [
        "### Total average"
      ]
    },
    {
      "cell_type": "code",
      "execution_count": 134,
      "metadata": {},
      "outputs": [
        {
          "name": "stdout",
          "output_type": "stream",
          "text": [
            "   Total Unique Models  Total Sales  Average Sales per model  Average Price  \\\n",
            "0                  107       146084              1365.271028  469111.250216   \n",
            "\n",
            "   Average Range  Average HP  Average Chargetime  \n",
            "0     395.266467  252.751497           34.161677  \n"
          ]
        }
      ],
      "source": [
        "# Calculate the required statistics\n",
        "total_unique_models = data['Model'].nunique()\n",
        "total_count = data['Sales'].sum()\n",
        "average_sales_per_model = total_count / total_unique_models\n",
        "average_price = data['Price'].mean()\n",
        "average_range = data['Range'].mean()\n",
        "average_hp = data['HP'].mean()\n",
        "average_charge_time = data['Chargetime'].mean()\n",
        "\n",
        "# Create the DataFrame\n",
        "desc_stats = pd.DataFrame({\n",
        "    'Total Unique Models': [total_unique_models],\n",
        "    'Total Sales': [total_count],\n",
        "    'Average Sales per model': [average_sales_per_model],\n",
        "    'Average Price': [average_price],\n",
        "    'Average Range': [average_range],\n",
        "    'Average HP': [average_hp],\n",
        "    'Average Chargetime': [average_charge_time]\n",
        "})\n",
        "\n",
        "# Print the descriptive statistics table\n",
        "print(desc_stats)\n"
      ]
    },
    {
      "cell_type": "markdown",
      "metadata": {},
      "source": [
        "## Sales-weighted average"
      ]
    },
    {
      "cell_type": "code",
      "execution_count": 135,
      "metadata": {},
      "outputs": [
        {
          "name": "stdout",
          "output_type": "stream",
          "text": [
            "      Number of Unique Models  Sales  Sales Weighted Average Price  \\\n",
            "Year                                                                 \n",
            "2013                        6    447                 348373.092344   \n",
            "2014                        6   1485                 363124.700251   \n",
            "2015                        7   3942                 573531.215995   \n",
            "2016                        8   1190                 375604.406050   \n",
            "2017                        9    650                 383234.055462   \n",
            "2018                       11   1467                 328732.444649   \n",
            "2019                       16   5464                 432898.014253   \n",
            "2020                       33  14158                 421266.359033   \n",
            "2021                       57  24775                 401596.162755   \n",
            "2022                       81  30621                 467262.704107   \n",
            "2023                      100  61885                 436564.177553   \n",
            "\n",
            "      Sales Weighted Average Range  Sales Weighted Average HP  \\\n",
            "Year                                                            \n",
            "2013                    400.666667                 272.085011   \n",
            "2014                    405.719192                 300.923906   \n",
            "2015                    517.813293                 511.904363   \n",
            "2016                    372.910084                 219.622689   \n",
            "2017                    375.066154                 213.773846   \n",
            "2018                    349.128153                 176.993865   \n",
            "2019                    461.556918                 258.415081   \n",
            "2020                    427.895465                 236.038847   \n",
            "2021                    443.393905                 251.655378   \n",
            "2022                    467.251363                 286.769668   \n",
            "2023                    484.599176                 337.711740   \n",
            "\n",
            "      Sales Weighted Average Charge Time  \n",
            "Year                                      \n",
            "2013                           42.736018  \n",
            "2014                           39.824242  \n",
            "2015                           31.930238  \n",
            "2016                           43.180672  \n",
            "2017                           46.726154  \n",
            "2018                           41.839809  \n",
            "2019                           31.443448  \n",
            "2020                           32.525357  \n",
            "2021                           31.489485  \n",
            "2022                           30.060122  \n",
            "2023                           28.952864  \n"
          ]
        }
      ],
      "source": [
        "# Group the data by year\n",
        "grouped_data = data.groupby('Year')\n",
        "\n",
        "# Calculate the required statistics\n",
        "desc_stats = grouped_data.agg({\n",
        "    'Model': pd.Series.nunique,  # number of unique models\n",
        "    'Sales': ['sum'],  # sum of sales per model\n",
        "    'Price': lambda x: np.average(x, weights=data.loc[x.index, 'Sales']),  # sales-weighted average price\n",
        "    'Range': lambda x: np.average(x, weights=data.loc[x.index, 'Sales']),  # sales-weighted average range\n",
        "    'HP': lambda x: np.average(x, weights=data.loc[x.index, 'Sales']),  # sales-weighted average HP\n",
        "    'Chargetime': lambda x: np.average(x, weights=data.loc[x.index, 'Sales'])  # sales-weighted average charge time\n",
        "})\n",
        "\n",
        "# Rename the columns\n",
        "desc_stats.columns = ['Number of Unique Models', 'Sales',\n",
        "                      'Sales Weighted Average Price', 'Sales Weighted Average Range', \n",
        "                      'Sales Weighted Average HP', 'Sales Weighted Average Charge Time']\n",
        "\n",
        "# Print the descriptive statistics table\n",
        "print(desc_stats)"
      ]
    },
    {
      "cell_type": "markdown",
      "metadata": {},
      "source": [
        "### Total sales-weighted average"
      ]
    },
    {
      "cell_type": "code",
      "execution_count": 136,
      "metadata": {},
      "outputs": [
        {
          "name": "stdout",
          "output_type": "stream",
          "text": [
            "Total Sales Weighted Average Price: 436311.70466856\n",
            "Total Sales Weighted Average Range: 464.69727690917557\n",
            "Total Sales Weighted Average HP: 300.61758987979516\n",
            "Total Sales Weighted Average Charge Time: 30.611969825579802\n"
          ]
        }
      ],
      "source": [
        "# Calculate the total sales-weighted means\n",
        "total_sales_weighted_average_price = np.average(data['Price'], weights=data['Sales'])\n",
        "total_sales_weighted_average_range = np.average(data['Range'], weights=data['Sales'])\n",
        "total_sales_weighted_average_hp = np.average(data['HP'], weights=data['Sales'])\n",
        "total_sales_weighted_average_charge_time = np.average(data['Chargetime'], weights=data['Sales'])\n",
        "\n",
        "# Print the results\n",
        "print(\"Total Sales Weighted Average Price:\", total_sales_weighted_average_price)\n",
        "print(\"Total Sales Weighted Average Range:\", total_sales_weighted_average_range)\n",
        "print(\"Total Sales Weighted Average HP:\", total_sales_weighted_average_hp)\n",
        "print(\"Total Sales Weighted Average Charge Time:\", total_sales_weighted_average_charge_time)\n"
      ]
    },
    {
      "cell_type": "code",
      "execution_count": 137,
      "metadata": {},
      "outputs": [
        {
          "data": {
            "text/plain": [
              "Year\n",
              "2013     74.500000\n",
              "2014    247.500000\n",
              "2015    563.142857\n",
              "2016    148.750000\n",
              "2017     72.222222\n",
              "2018    133.363636\n",
              "2019    341.500000\n",
              "2020    429.030303\n",
              "2021    434.649123\n",
              "2022    378.037037\n",
              "2023    618.850000\n",
              "Name: Sales, dtype: float64"
            ]
          },
          "execution_count": 137,
          "metadata": {},
          "output_type": "execute_result"
        }
      ],
      "source": [
        "# calculate the average sales per model per year\n",
        "average_sales_per_model_per_year = data.groupby(['Year'])['Sales'].mean()\n",
        "average_sales_per_model_per_year\n"
      ]
    },
    {
      "cell_type": "code",
      "execution_count": 138,
      "metadata": {},
      "outputs": [
        {
          "data": {
            "text/html": [
              "<div>\n",
              "<style scoped>\n",
              "    .dataframe tbody tr th:only-of-type {\n",
              "        vertical-align: middle;\n",
              "    }\n",
              "\n",
              "    .dataframe tbody tr th {\n",
              "        vertical-align: top;\n",
              "    }\n",
              "\n",
              "    .dataframe thead th {\n",
              "        text-align: right;\n",
              "    }\n",
              "</style>\n",
              "<table border=\"1\" class=\"dataframe\">\n",
              "  <thead>\n",
              "    <tr style=\"text-align: right;\">\n",
              "      <th></th>\n",
              "      <th>Year</th>\n",
              "      <th>Sales</th>\n",
              "    </tr>\n",
              "  </thead>\n",
              "  <tbody>\n",
              "    <tr>\n",
              "      <th>0</th>\n",
              "      <td>2013</td>\n",
              "      <td>447</td>\n",
              "    </tr>\n",
              "    <tr>\n",
              "      <th>1</th>\n",
              "      <td>2014</td>\n",
              "      <td>1485</td>\n",
              "    </tr>\n",
              "    <tr>\n",
              "      <th>2</th>\n",
              "      <td>2015</td>\n",
              "      <td>3942</td>\n",
              "    </tr>\n",
              "    <tr>\n",
              "      <th>3</th>\n",
              "      <td>2016</td>\n",
              "      <td>1190</td>\n",
              "    </tr>\n",
              "    <tr>\n",
              "      <th>4</th>\n",
              "      <td>2017</td>\n",
              "      <td>650</td>\n",
              "    </tr>\n",
              "    <tr>\n",
              "      <th>5</th>\n",
              "      <td>2018</td>\n",
              "      <td>1467</td>\n",
              "    </tr>\n",
              "    <tr>\n",
              "      <th>6</th>\n",
              "      <td>2019</td>\n",
              "      <td>5464</td>\n",
              "    </tr>\n",
              "    <tr>\n",
              "      <th>7</th>\n",
              "      <td>2020</td>\n",
              "      <td>14158</td>\n",
              "    </tr>\n",
              "    <tr>\n",
              "      <th>8</th>\n",
              "      <td>2021</td>\n",
              "      <td>24775</td>\n",
              "    </tr>\n",
              "    <tr>\n",
              "      <th>9</th>\n",
              "      <td>2022</td>\n",
              "      <td>30621</td>\n",
              "    </tr>\n",
              "    <tr>\n",
              "      <th>10</th>\n",
              "      <td>2023</td>\n",
              "      <td>61885</td>\n",
              "    </tr>\n",
              "  </tbody>\n",
              "</table>\n",
              "</div>"
            ],
            "text/plain": [
              "    Year  Sales\n",
              "0   2013    447\n",
              "1   2014   1485\n",
              "2   2015   3942\n",
              "3   2016   1190\n",
              "4   2017    650\n",
              "5   2018   1467\n",
              "6   2019   5464\n",
              "7   2020  14158\n",
              "8   2021  24775\n",
              "9   2022  30621\n",
              "10  2023  61885"
            ]
          },
          "execution_count": 138,
          "metadata": {},
          "output_type": "execute_result"
        }
      ],
      "source": [
        "# Create a groupby object to sum sales by year\n",
        "sales_by_year = df.groupby('Year')['Sales'].sum()\n",
        "\n",
        "# Convert the groupby object to a DataFrame\n",
        "sales_by_year_df = pd.DataFrame(sales_by_year).reset_index()\n",
        "\n",
        "sales_by_year_df"
      ]
    },
    {
      "cell_type": "markdown",
      "metadata": {},
      "source": [
        "# Quartiles"
      ]
    },
    {
      "cell_type": "code",
      "execution_count": 139,
      "metadata": {},
      "outputs": [
        {
          "name": "stdout",
          "output_type": "stream",
          "text": [
            "Quartiles of Sales Distribution with Manufacturer and Model\n",
            "     Variable Quartile  Year   Manufacturer           Model  Sales\n",
            "66      Sales       0%  2013            BMW              I3      1\n",
            "1141    Sales       0%  2021          Volvo             C40      1\n",
            "1066    Sales       0%  2023     Volkswagen            Golf      1\n",
            "1065    Sales       0%  2022     Volkswagen            Golf      1\n",
            "998     Sales       0%  2021          Tesla         Model S      1\n",
            "953     Sales       0%  2020          Smart          Fortwo      1\n",
            "1009    Sales       0%  2021          Tesla         Model X      1\n",
            "778     Sales       0%  2021           Opel           Combo      1\n",
            "315     Sales       0%  2020           Ford  Mustang Mach-E      1\n",
            "174     Sales       0%  2022            BYD             Han      1\n",
            "76      Sales       0%  2023            BMW              I3      1\n",
            "946     Sales       0%  2013          Smart          Fortwo      1\n",
            "1010    Sales      25%  2022          Tesla         Model X     25\n",
            "614     Sales      50%  2022  Mercedes-Benz             EQS    144\n",
            "681     Sales      50%  2023             MG              ZS    144\n",
            "65      Sales      75%  2023           Audi       Q8 e-tron    449\n",
            "1022    Sales     100%  2023          Tesla         Model Y  17953\n",
            "\n",
            "Quartiles of Price Distribution with Manufacturer and Model\n",
            "    Variable Quartile  Year Manufacturer    Model       Price\n",
            "273    Price       0%  2022        Dacia   Spring    124864.0\n",
            "217    Price      25%  2021      Citroen       C4  283858.176\n",
            "989    Price      50%  2023        Tesla  Model 3    358991.0\n",
            "142    Price      75%  2023          BMW      iX3  530977.135\n",
            "108    Price     100%  2022          BMW       I7   1940521.2\n",
            "\n",
            "Quartiles of Range Distribution with Manufacturer and Model\n",
            "    Variable Quartile  Year Manufacturer      Model Range\n",
            "946    Range       0%  2013        Smart     Fortwo   127\n",
            "356    Range      25%  2017      Hyundai      Ioniq   310\n",
            "492    Range      25%  2021        Lexus         UX   310\n",
            "8      Range      50%  2021       Aiways         U5   400\n",
            "196    Range      50%  2022          BYD       Tang   400\n",
            "41     Range      75%  2021         Audi  e-tron GT   472\n",
            "307    Range     100%  2023       Fisker      Ocean   700\n",
            "\n",
            "Quartiles of Chargetime Distribution with Manufacturer and Model\n",
            "        Variable Quartile  Year   Manufacturer      Model Chargetime\n",
            "384   Chargetime       0%  2023        Hyundai    Ioniq 6         16\n",
            "437   Chargetime       0%  2021            Kia        EV6         16\n",
            "65    Chargetime      25%  2023           Audi  Q8 e-tron         27\n",
            "689   Chargetime      25%  2020           Mini     3-dørs         27\n",
            "788   Chargetime      25%  2020           Opel      Corsa         27\n",
            "832   Chargetime      25%  2020        Peugeot        208         27\n",
            "1020  Chargetime      25%  2021          Tesla    Model Y         27\n",
            "570   Chargetime      50%  2022  Mercedes-Benz        EQB         31\n",
            "261   Chargetime      50%  2021          Cupra       Born         31\n",
            "118   Chargetime      50%  2021            BMW         iX         31\n",
            "86    Chargetime      50%  2022            BMW         i4         31\n",
            "140   Chargetime      50%  2021            BMW        iX3         31\n",
            "647   Chargetime      75%  2022             MG          4         41\n",
            "390   Chargetime      75%  2018        Hyundai       Kona         41\n",
            "457   Chargetime      75%  2019            Kia       Niro         41\n",
            "634   Chargetime      75%  2020  Mercedes-Benz        EQV         41\n",
            "492   Chargetime     100%  2021          Lexus         UX         81\n",
            "\n",
            "Quartiles of HP Distribution with Manufacturer and Model\n",
            "     Variable Quartile  Year   Manufacturer              Model   HP\n",
            "272        HP       0%  2021          Dacia             Spring   44\n",
            "1053       HP      25%  2021         Toyota       Proace Verso  134\n",
            "1043       HP      25%  2022         Toyota  Proace City Verso  134\n",
            "902        HP      25%  2013        Renault                Zoe  134\n",
            "866        HP      25%  2021        Peugeot          Traveller  134\n",
            "856        HP      25%  2022        Peugeot             Rifter  134\n",
            "846        HP      25%  2023        Peugeot             Expert  134\n",
            "1057       HP      25%  2014     Volkswagen               Golf  134\n",
            "778        HP      25%  2021           Opel              Combo  134\n",
            "250        HP      25%  2021        Citroen              Jumpy  134\n",
            "240        HP      25%  2022        Citroen      e-SpaceTourer  134\n",
            "230        HP      25%  2023        Citroen             ë-C4 X  134\n",
            "217        HP      25%  2021        Citroen                 C4  134\n",
            "207        HP      25%  2022        Citroen           Berlingo  134\n",
            "812        HP      25%  2022           Opel             Zafira  134\n",
            "1120       HP      50%  2022     Volkswagen            ID.Buzz  201\n",
            "1074       HP      50%  2020     Volkswagen               ID.3  201\n",
            "634        HP      50%  2020  Mercedes-Benz                EQV  201\n",
            "492        HP      50%  2021          Lexus                 UX  201\n",
            "464        HP      50%  2015            Kia               Soul  201\n",
            "261        HP      50%  2021          Cupra               Born  201\n",
            "340        HP      50%  2023          Honda              e:Ny1  201\n",
            "152        HP      50%  2022            BYD             Atto 3  201\n",
            "130        HP      50%  2022            BMW                iX1  201\n",
            "8          HP      50%  2021         Aiways                 U5  201\n",
            "457        HP      50%  2019            Kia               Niro  201\n",
            "65         HP      75%  2023           Audi          Q8 e-tron  335\n",
            "98         HP      75%  2023            BMW                 i5  335\n",
            "990        HP     100%  2013          Tesla            Model S  675\n",
            "1004       HP     100%  2016          Tesla            Model X  675\n",
            "\n"
          ]
        }
      ],
      "source": [
        "# Variables to calculate quartiles for\n",
        "variables = ['Sales', 'Price', 'Range', 'Chargetime', 'HP']\n",
        "copy_df = df.copy()\n",
        "\n",
        "for variable in variables:\n",
        "    # Calculate quartiles for the variable\n",
        "    quartiles = data[variable].describe(percentiles=[0, 0.25, 0.5, 0.75, 1.0])\n",
        "    \n",
        "    # Find the rows corresponding to each quartile\n",
        "    quartile_rows = {}\n",
        "    for quartile in ['0%', '25%', '50%', '75%', '100%']:\n",
        "        if quartile == '0%':\n",
        "            value = quartiles['min']\n",
        "        elif quartile == '100%':\n",
        "            value = quartiles['max']\n",
        "        else:\n",
        "            if quartiles[quartile] in data[variable].values:\n",
        "                value = quartiles[quartile]\n",
        "            else:\n",
        "                value = data[variable].iloc[(data[variable]-quartiles[quartile]).abs().argsort()[:1]].values[0]\n",
        "        quartile_rows[quartile] = data[data[variable] == value]\n",
        "    \n",
        "    # Create a DataFrame to store the quartiles along with the associated manufacturer and model\n",
        "    quartiles_df = pd.DataFrame(columns=['Variable', 'Quartile', 'Year', 'Manufacturer', 'Model', variable])\n",
        "    for quartile, copy_df in quartile_rows.items():\n",
        "        quartiles_df = pd.concat([quartiles_df, copy_df[['Year', 'Manufacturer', 'Model', variable]].assign(Variable=variable, Quartile=quartile)])\n",
        "\n",
        "    # Define the desired order of quartiles\n",
        "    quartile_order = ['0%', '25%', '50%', '75%', '100%']\n",
        "\n",
        "    # Convert the 'Quartile' column to a categorical type with the desired order\n",
        "    quartiles_df['Quartile'] = pd.Categorical(quartiles_df['Quartile'], categories=quartile_order, ordered=True)\n",
        "\n",
        "    # Drop duplicates for 'Range', 'Chargetime', and 'HP' while keeping 'Sales' and 'Price' unchanged\n",
        "    if variable in ['Range', 'Chargetime', 'HP']:\n",
        "        quartiles_df.drop_duplicates(subset=['Manufacturer', 'Model', 'Variable', 'Quartile'], inplace=True)\n",
        "    else:\n",
        "        quartiles_df.drop_duplicates(inplace=True)\n",
        "\n",
        "    # Sort the DataFrame by quartile\n",
        "    quartiles_df.sort_values(by='Quartile', inplace=True)\n",
        "\n",
        "    print(f\"Quartiles of {variable} Distribution with Manufacturer and Model\")\n",
        "    print(quartiles_df)\n",
        "    print()\n"
      ]
    },
    {
      "cell_type": "markdown",
      "metadata": {},
      "source": [
        "# Graphs"
      ]
    },
    {
      "cell_type": "code",
      "execution_count": 140,
      "metadata": {},
      "outputs": [
        {
          "data": {
            "image/png": "[encoded data removed]",
            "text/plain": [
              "<Figure size 720x432 with 1 Axes>"
            ]
          },
          "metadata": {
            "needs_background": "light"
          },
          "output_type": "display_data"
        }
      ],
      "source": [
        "# Group by Year and calculate mean range\n",
        "range_by_year = data.groupby('Year')['Range'].mean().reset_index()\n",
        "\n",
        "# Plotting\n",
        "plt.figure(figsize=(10, 6))\n",
        "plt.plot(range_by_year['Year'], range_by_year['Range'], marker='o', linestyle='-', color='green')\n",
        "plt.xlabel('Year',fontsize=16)\n",
        "plt.ylabel('Range',fontsize=16)\n",
        "plt.grid(True)\n",
        "plt.yticks(fontsize=16)\n",
        "plt.xticks([2013, 2014, 2015, 2016, 2017, 2018, 2019, 2020, 2021, 2022, 2023], fontsize=16)\n",
        "plt.show()"
      ]
    },
    {
      "cell_type": "code",
      "execution_count": 141,
      "metadata": {},
      "outputs": [
        {
          "data": {
            "image/png": "[encoded data removed]",
            "text/plain": [
              "<Figure size 720x432 with 1 Axes>"
            ]
          },
          "metadata": {
            "needs_background": "light"
          },
          "output_type": "display_data"
        }
      ],
      "source": [
        "# Group by Year and calculate mean range\n",
        "chargetime_by_year = data.groupby('Year')['Chargetime'].mean().reset_index()\n",
        "\n",
        "# Plotting\n",
        "plt.figure(figsize=(10, 6))\n",
        "plt.plot(chargetime_by_year['Year'], chargetime_by_year['Chargetime'], marker='o', linestyle='-')\n",
        "plt.xlabel('Year',fontsize=16)\n",
        "plt.ylabel('Charging time',fontsize=16)\n",
        "plt.grid(True)\n",
        "plt.yticks(fontsize=16)\n",
        "plt.xticks([2013, 2014, 2015, 2016, 2017, 2018, 2019, 2020, 2021, 2022, 2023], fontsize=16)\n",
        "plt.show()"
      ]
    },
    {
      "cell_type": "code",
      "execution_count": 142,
      "metadata": {},
      "outputs": [
        {
          "data": {
            "image/png": "[encoded data removed]",
            "text/plain": [
              "<Figure size 720x432 with 1 Axes>"
            ]
          },
          "metadata": {
            "needs_background": "light"
          },
          "output_type": "display_data"
        }
      ],
      "source": [
        "# Group the data by Year and Type and calculate the count of models\n",
        "grouped_type = data.groupby(['Year', 'Type'])['Model'].count().reset_index()\n",
        "\n",
        "# Sort unique values of 'Type' alphabetically\n",
        "sorted_types = sorted(grouped_type['Type'].unique())\n",
        "\n",
        "# Create the line chart\n",
        "plt.figure(figsize=(10, 6))\n",
        "for t in sorted_types:\n",
        "    plt.plot(grouped_type[grouped_type['Type'] == t]['Year'], grouped_type[grouped_type['Type'] == t]['Model'], label=t)\n",
        "\n",
        "#plt.title('Number of Models for Each Type per Year', fontsize=16)\n",
        "plt.xlabel('Year', fontsize=14)\n",
        "plt.ylabel('No. of models', fontsize=14)\n",
        "plt.legend(loc='upper left', fontsize=12)\n",
        "plt.xticks([2013, 2014, 2015, 2016, 2017, 2018, 2019, 2020, 2021, 2022, 2023], fontsize=16)\n",
        "plt.xlim(2013, 2023)\n",
        "plt.grid(True)\n",
        "plt.show()\n"
      ]
    },
    {
      "cell_type": "code",
      "execution_count": 143,
      "metadata": {},
      "outputs": [
        {
          "name": "stderr",
          "output_type": "stream",
          "text": [
            "/var/folders/84/nl1t_q050914klynvps92vkc0000gn/T/ipykernel_73470/907378431.py:2: SettingWithCopyWarning:\n",
            "\n",
            "\n",
            "A value is trying to be set on a copy of a slice from a DataFrame.\n",
            "Try using .loc[row_indexer,col_indexer] = value instead\n",
            "\n",
            "See the caveats in the documentation: https://pandas.pydata.org/pandas-docs/stable/user_guide/indexing.html#returning-a-view-versus-a-copy\n",
            "\n"
          ]
        },
        {
          "data": {
            "application/vnd.plotly.v1+json": {
              "config": {
                "plotlyServerURL": "https://plot.ly"
              },
              "data": [
                {
                  "name": "Market Share",
                  "type": "scatter",
                  "x": [
                    2013,
                    2014,
                    2015,
                    2016,
                    2017
                  ],
                  "xaxis": "x",
                  "y": [
                    25.05592841163311,
                    31.11111111111111,
                    69.1273465246068,
                    6.55462184873949,
                    7.0769230769230695
                  ],
                  "yaxis": "y"
                },
                {
                  "name": "Price",
                  "type": "scatter",
                  "x": [
                    2013,
                    2014,
                    2015,
                    2016,
                    2017
                  ],
                  "xaxis": "x",
                  "y": [
                    719563.1,
                    663972.1,
                    718250,
                    951251,
                    969077.7
                  ],
                  "yaxis": "y2"
                }
              ],
              "layout": {
                "template": {
                  "data": {
                    "bar": [
                      {
                        "error_x": {
                          "color": "#2a3f5f"
                        },
                        "error_y": {
                          "color": "#2a3f5f"
                        },
                        "marker": {
                          "line": {
                            "color": "#E5ECF6",
                            "width": 0.5
                          },
                          "pattern": {
                            "fillmode": "overlay",
                            "size": 10,
                            "solidity": 0.2
                          }
                        },
                        "type": "bar"
                      }
                    ],
                    "barpolar": [
                      {
                        "marker": {
                          "line": {
                            "color": "#E5ECF6",
                            "width": 0.5
                          },
                          "pattern": {
                            "fillmode": "overlay",
                            "size": 10,
                            "solidity": 0.2
                          }
                        },
                        "type": "barpolar"
                      }
                    ],
                    "carpet": [
                      {
                        "aaxis": {
                          "endlinecolor": "#2a3f5f",
                          "gridcolor": "white",
                          "linecolor": "white",
                          "minorgridcolor": "white",
                          "startlinecolor": "#2a3f5f"
                        },
                        "baxis": {
                          "endlinecolor": "#2a3f5f",
                          "gridcolor": "white",
                          "linecolor": "white",
                          "minorgridcolor": "white",
                          "startlinecolor": "#2a3f5f"
                        },
                        "type": "carpet"
                      }
                    ],
                    "choropleth": [
                      {
                        "colorbar": {
                          "outlinewidth": 0,
                          "ticks": ""
                        },
                        "type": "choropleth"
                      }
                    ],
                    "contour": [
                      {
                        "colorbar": {
                          "outlinewidth": 0,
                          "ticks": ""
                        },
                        "colorscale": [
                          [
                            0,
                            "#0d0887"
                          ],
                          [
                            0.1111111111111111,
                            "#46039f"
                          ],
                          [
                            0.2222222222222222,
                            "#7201a8"
                          ],
                          [
                            0.3333333333333333,
                            "#9c179e"
                          ],
                          [
                            0.4444444444444444,
                            "#bd3786"
                          ],
                          [
                            0.5555555555555556,
                            "#d8576b"
                          ],
                          [
                            0.6666666666666666,
                            "#ed7953"
                          ],
                          [
                            0.7777777777777778,
                            "#fb9f3a"
                          ],
                          [
                            0.8888888888888888,
                            "#fdca26"
                          ],
                          [
                            1,
                            "#f0f921"
                          ]
                        ],
                        "type": "contour"
                      }
                    ],
                    "contourcarpet": [
                      {
                        "colorbar": {
                          "outlinewidth": 0,
                          "ticks": ""
                        },
                        "type": "contourcarpet"
                      }
                    ],
                    "heatmap": [
                      {
                        "colorbar": {
                          "outlinewidth": 0,
                          "ticks": ""
                        },
                        "colorscale": [
                          [
                            0,
                            "#0d0887"
                          ],
                          [
                            0.1111111111111111,
                            "#46039f"
                          ],
                          [
                            0.2222222222222222,
                            "#7201a8"
                          ],
                          [
                            0.3333333333333333,
                            "#9c179e"
                          ],
                          [
                            0.4444444444444444,
                            "#bd3786"
                          ],
                          [
                            0.5555555555555556,
                            "#d8576b"
                          ],
                          [
                            0.6666666666666666,
                            "#ed7953"
                          ],
                          [
                            0.7777777777777778,
                            "#fb9f3a"
                          ],
                          [
                            0.8888888888888888,
                            "#fdca26"
                          ],
                          [
                            1,
                            "#f0f921"
                          ]
                        ],
                        "type": "heatmap"
                      }
                    ],
                    "heatmapgl": [
                      {
                        "colorbar": {
                          "outlinewidth": 0,
                          "ticks": ""
                        },
                        "colorscale": [
                          [
                            0,
                            "#0d0887"
                          ],
                          [
                            0.1111111111111111,
                            "#46039f"
                          ],
                          [
                            0.2222222222222222,
                            "#7201a8"
                          ],
                          [
                            0.3333333333333333,
                            "#9c179e"
                          ],
                          [
                            0.4444444444444444,
                            "#bd3786"
                          ],
                          [
                            0.5555555555555556,
                            "#d8576b"
                          ],
                          [
                            0.6666666666666666,
                            "#ed7953"
                          ],
                          [
                            0.7777777777777778,
                            "#fb9f3a"
                          ],
                          [
                            0.8888888888888888,
                            "#fdca26"
                          ],
                          [
                            1,
                            "#f0f921"
                          ]
                        ],
                        "type": "heatmapgl"
                      }
                    ],
                    "histogram": [
                      {
                        "marker": {
                          "pattern": {
                            "fillmode": "overlay",
                            "size": 10,
                            "solidity": 0.2
                          }
                        },
                        "type": "histogram"
                      }
                    ],
                    "histogram2d": [
                      {
                        "colorbar": {
                          "outlinewidth": 0,
                          "ticks": ""
                        },
                        "colorscale": [
                          [
                            0,
                            "#0d0887"
                          ],
                          [
                            0.1111111111111111,
                            "#46039f"
                          ],
                          [
                            0.2222222222222222,
                            "#7201a8"
                          ],
                          [
                            0.3333333333333333,
                            "#9c179e"
                          ],
                          [
                            0.4444444444444444,
                            "#bd3786"
                          ],
                          [
                            0.5555555555555556,
                            "#d8576b"
                          ],
                          [
                            0.6666666666666666,
                            "#ed7953"
                          ],
                          [
                            0.7777777777777778,
                            "#fb9f3a"
                          ],
                          [
                            0.8888888888888888,
                            "#fdca26"
                          ],
                          [
                            1,
                            "#f0f921"
                          ]
                        ],
                        "type": "histogram2d"
                      }
                    ],
                    "histogram2dcontour": [
                      {
                        "colorbar": {
                          "outlinewidth": 0,
                          "ticks": ""
                        },
                        "colorscale": [
                          [
                            0,
                            "#0d0887"
                          ],
                          [
                            0.1111111111111111,
                            "#46039f"
                          ],
                          [
                            0.2222222222222222,
                            "#7201a8"
                          ],
                          [
                            0.3333333333333333,
                            "#9c179e"
                          ],
                          [
                            0.4444444444444444,
                            "#bd3786"
                          ],
                          [
                            0.5555555555555556,
                            "#d8576b"
                          ],
                          [
                            0.6666666666666666,
                            "#ed7953"
                          ],
                          [
                            0.7777777777777778,
                            "#fb9f3a"
                          ],
                          [
                            0.8888888888888888,
                            "#fdca26"
                          ],
                          [
                            1,
                            "#f0f921"
                          ]
                        ],
                        "type": "histogram2dcontour"
                      }
                    ],
                    "mesh3d": [
                      {
                        "colorbar": {
                          "outlinewidth": 0,
                          "ticks": ""
                        },
                        "type": "mesh3d"
                      }
                    ],
                    "parcoords": [
                      {
                        "line": {
                          "colorbar": {
                            "outlinewidth": 0,
                            "ticks": ""
                          }
                        },
                        "type": "parcoords"
                      }
                    ],
                    "pie": [
                      {
                        "automargin": true,
                        "type": "pie"
                      }
                    ],
                    "scatter": [
                      {
                        "marker": {
                          "colorbar": {
                            "outlinewidth": 0,
                            "ticks": ""
                          }
                        },
                        "type": "scatter"
                      }
                    ],
                    "scatter3d": [
                      {
                        "line": {
                          "colorbar": {
                            "outlinewidth": 0,
                            "ticks": ""
                          }
                        },
                        "marker": {
                          "colorbar": {
                            "outlinewidth": 0,
                            "ticks": ""
                          }
                        },
                        "type": "scatter3d"
                      }
                    ],
                    "scattercarpet": [
                      {
                        "marker": {
                          "colorbar": {
                            "outlinewidth": 0,
                            "ticks": ""
                          }
                        },
                        "type": "scattercarpet"
                      }
                    ],
                    "scattergeo": [
                      {
                        "marker": {
                          "colorbar": {
                            "outlinewidth": 0,
                            "ticks": ""
                          }
                        },
                        "type": "scattergeo"
                      }
                    ],
                    "scattergl": [
                      {
                        "marker": {
                          "colorbar": {
                            "outlinewidth": 0,
                            "ticks": ""
                          }
                        },
                        "type": "scattergl"
                      }
                    ],
                    "scattermapbox": [
                      {
                        "marker": {
                          "colorbar": {
                            "outlinewidth": 0,
                            "ticks": ""
                          }
                        },
                        "type": "scattermapbox"
                      }
                    ],
                    "scatterpolar": [
                      {
                        "marker": {
                          "colorbar": {
                            "outlinewidth": 0,
                            "ticks": ""
                          }
                        },
                        "type": "scatterpolar"
                      }
                    ],
                    "scatterpolargl": [
                      {
                        "marker": {
                          "colorbar": {
                            "outlinewidth": 0,
                            "ticks": ""
                          }
                        },
                        "type": "scatterpolargl"
                      }
                    ],
                    "scatterternary": [
                      {
                        "marker": {
                          "colorbar": {
                            "outlinewidth": 0,
                            "ticks": ""
                          }
                        },
                        "type": "scatterternary"
                      }
                    ],
                    "surface": [
                      {
                        "colorbar": {
                          "outlinewidth": 0,
                          "ticks": ""
                        },
                        "colorscale": [
                          [
                            0,
                            "#0d0887"
                          ],
                          [
                            0.1111111111111111,
                            "#46039f"
                          ],
                          [
                            0.2222222222222222,
                            "#7201a8"
                          ],
                          [
                            0.3333333333333333,
                            "#9c179e"
                          ],
                          [
                            0.4444444444444444,
                            "#bd3786"
                          ],
                          [
                            0.5555555555555556,
                            "#d8576b"
                          ],
                          [
                            0.6666666666666666,
                            "#ed7953"
                          ],
                          [
                            0.7777777777777778,
                            "#fb9f3a"
                          ],
                          [
                            0.8888888888888888,
                            "#fdca26"
                          ],
                          [
                            1,
                            "#f0f921"
                          ]
                        ],
                        "type": "surface"
                      }
                    ],
                    "table": [
                      {
                        "cells": {
                          "fill": {
                            "color": "#EBF0F8"
                          },
                          "line": {
                            "color": "white"
                          }
                        },
                        "header": {
                          "fill": {
                            "color": "#C8D4E3"
                          },
                          "line": {
                            "color": "white"
                          }
                        },
                        "type": "table"
                      }
                    ]
                  },
                  "layout": {
                    "annotationdefaults": {
                      "arrowcolor": "#2a3f5f",
                      "arrowhead": 0,
                      "arrowwidth": 1
                    },
                    "autotypenumbers": "strict",
                    "coloraxis": {
                      "colorbar": {
                        "outlinewidth": 0,
                        "ticks": ""
                      }
                    },
                    "colorscale": {
                      "diverging": [
                        [
                          0,
                          "#8e0152"
                        ],
                        [
                          0.1,
                          "#c51b7d"
                        ],
                        [
                          0.2,
                          "#de77ae"
                        ],
                        [
                          0.3,
                          "#f1b6da"
                        ],
                        [
                          0.4,
                          "#fde0ef"
                        ],
                        [
                          0.5,
                          "#f7f7f7"
                        ],
                        [
                          0.6,
                          "#e6f5d0"
                        ],
                        [
                          0.7,
                          "#b8e186"
                        ],
                        [
                          0.8,
                          "#7fbc41"
                        ],
                        [
                          0.9,
                          "#4d9221"
                        ],
                        [
                          1,
                          "#276419"
                        ]
                      ],
                      "sequential": [
                        [
                          0,
                          "#0d0887"
                        ],
                        [
                          0.1111111111111111,
                          "#46039f"
                        ],
                        [
                          0.2222222222222222,
                          "#7201a8"
                        ],
                        [
                          0.3333333333333333,
                          "#9c179e"
                        ],
                        [
                          0.4444444444444444,
                          "#bd3786"
                        ],
                        [
                          0.5555555555555556,
                          "#d8576b"
                        ],
                        [
                          0.6666666666666666,
                          "#ed7953"
                        ],
                        [
                          0.7777777777777778,
                          "#fb9f3a"
                        ],
                        [
                          0.8888888888888888,
                          "#fdca26"
                        ],
                        [
                          1,
                          "#f0f921"
                        ]
                      ],
                      "sequentialminus": [
                        [
                          0,
                          "#0d0887"
                        ],
                        [
                          0.1111111111111111,
                          "#46039f"
                        ],
                        [
                          0.2222222222222222,
                          "#7201a8"
                        ],
                        [
                          0.3333333333333333,
                          "#9c179e"
                        ],
                        [
                          0.4444444444444444,
                          "#bd3786"
                        ],
                        [
                          0.5555555555555556,
                          "#d8576b"
                        ],
                        [
                          0.6666666666666666,
                          "#ed7953"
                        ],
                        [
                          0.7777777777777778,
                          "#fb9f3a"
                        ],
                        [
                          0.8888888888888888,
                          "#fdca26"
                        ],
                        [
                          1,
                          "#f0f921"
                        ]
                      ]
                    },
                    "colorway": [
                      "#636efa",
                      "#EF553B",
                      "#00cc96",
                      "#ab63fa",
                      "#FFA15A",
                      "#19d3f3",
                      "#FF6692",
                      "#B6E880",
                      "#FF97FF",
                      "#FECB52"
                    ],
                    "font": {
                      "color": "#2a3f5f"
                    },
                    "geo": {
                      "bgcolor": "white",
                      "lakecolor": "white",
                      "landcolor": "#E5ECF6",
                      "showlakes": true,
                      "showland": true,
                      "subunitcolor": "white"
                    },
                    "hoverlabel": {
                      "align": "left"
                    },
                    "hovermode": "closest",
                    "mapbox": {
                      "style": "light"
                    },
                    "paper_bgcolor": "white",
                    "plot_bgcolor": "#E5ECF6",
                    "polar": {
                      "angularaxis": {
                        "gridcolor": "white",
                        "linecolor": "white",
                        "ticks": ""
                      },
                      "bgcolor": "#E5ECF6",
                      "radialaxis": {
                        "gridcolor": "white",
                        "linecolor": "white",
                        "ticks": ""
                      }
                    },
                    "scene": {
                      "xaxis": {
                        "backgroundcolor": "#E5ECF6",
                        "gridcolor": "white",
                        "gridwidth": 2,
                        "linecolor": "white",
                        "showbackground": true,
                        "ticks": "",
                        "zerolinecolor": "white"
                      },
                      "yaxis": {
                        "backgroundcolor": "#E5ECF6",
                        "gridcolor": "white",
                        "gridwidth": 2,
                        "linecolor": "white",
                        "showbackground": true,
                        "ticks": "",
                        "zerolinecolor": "white"
                      },
                      "zaxis": {
                        "backgroundcolor": "#E5ECF6",
                        "gridcolor": "white",
                        "gridwidth": 2,
                        "linecolor": "white",
                        "showbackground": true,
                        "ticks": "",
                        "zerolinecolor": "white"
                      }
                    },
                    "shapedefaults": {
                      "line": {
                        "color": "#2a3f5f"
                      }
                    },
                    "ternary": {
                      "aaxis": {
                        "gridcolor": "white",
                        "linecolor": "white",
                        "ticks": ""
                      },
                      "baxis": {
                        "gridcolor": "white",
                        "linecolor": "white",
                        "ticks": ""
                      },
                      "bgcolor": "#E5ECF6",
                      "caxis": {
                        "gridcolor": "white",
                        "linecolor": "white",
                        "ticks": ""
                      }
                    },
                    "title": {
                      "x": 0.05
                    },
                    "xaxis": {
                      "automargin": true,
                      "gridcolor": "white",
                      "linecolor": "white",
                      "ticks": "",
                      "title": {
                        "standoff": 15
                      },
                      "zerolinecolor": "white",
                      "zerolinewidth": 2
                    },
                    "yaxis": {
                      "automargin": true,
                      "gridcolor": "white",
                      "linecolor": "white",
                      "ticks": "",
                      "title": {
                        "standoff": 15
                      },
                      "zerolinecolor": "white",
                      "zerolinewidth": 2
                    }
                  }
                },
                "xaxis": {
                  "anchor": "y",
                  "domain": [
                    0,
                    0.94
                  ],
                  "tickvals": [
                    2013,
                    2014,
                    2015,
                    2016,
                    2017
                  ]
                },
                "yaxis": {
                  "anchor": "x",
                  "domain": [
                    0,
                    1
                  ],
                  "title": {
                    "text": "Market Share (%)"
                  }
                },
                "yaxis2": {
                  "anchor": "x",
                  "overlaying": "y",
                  "side": "right",
                  "title": {
                    "text": "Price"
                  }
                }
              }
            }
          },
          "metadata": {},
          "output_type": "display_data"
        }
      ],
      "source": [
        "model_s_data = data[(data['Model'] == 'Model S') & (data['Year'].isin([2013, 2014, 2015, 2016, 2017]))]\n",
        "model_s_data['Market share'] *= 100\n",
        "# Create figure with secondary y-axis\n",
        "fig = make_subplots(specs=[[{\"secondary_y\": True}]])\n",
        "\n",
        "# Add traces\n",
        "fig.add_trace(\n",
        "    go.Scatter(x=model_s_data['Year'], y=model_s_data['Market share'], name=\"Market Share\"),\n",
        "    secondary_y=False,\n",
        ")\n",
        "\n",
        "fig.add_trace(\n",
        "    go.Scatter(x=model_s_data['Year'], y=model_s_data['Price'], name=\"Price\"),\n",
        "    secondary_y=True,\n",
        ")\n",
        "\n",
        "\n",
        "# Set x-axis title\n",
        "fig.update_xaxes(tickvals=[2013, 2014, 2015, 2016, 2017])\n",
        "\n",
        "# Set y-axes titles\n",
        "fig.update_yaxes(title_text=\"Market Share (%)\", secondary_y=False)\n",
        "fig.update_yaxes(title_text=\"Price\", secondary_y=True)\n",
        "\n",
        "fig.show()"
      ]
    },
    {
      "cell_type": "code",
      "execution_count": 144,
      "metadata": {},
      "outputs": [
        {
          "name": "stderr",
          "output_type": "stream",
          "text": [
            "/var/folders/84/nl1t_q050914klynvps92vkc0000gn/T/ipykernel_73470/4232239934.py:13: SettingWithCopyWarning:\n",
            "\n",
            "\n",
            "A value is trying to be set on a copy of a slice from a DataFrame.\n",
            "Try using .loc[row_indexer,col_indexer] = value instead\n",
            "\n",
            "See the caveats in the documentation: https://pandas.pydata.org/pandas-docs/stable/user_guide/indexing.html#returning-a-view-versus-a-copy\n",
            "\n"
          ]
        }
      ],
      "source": [
        "# Define a custom aggregation function\n",
        "def regions(country):\n",
        "    if country in ['DE', 'FR', 'DK', 'IT', 'RO', 'CZ', 'ES', 'SE']:\n",
        "        return 'EU'\n",
        "    elif country in ['JP', 'KR']:\n",
        "        return 'Asia'\n",
        "    elif country in ['CN']:\n",
        "        return 'China'\n",
        "    else:\n",
        "        return country\n",
        "\n",
        "# Apply the function to the 'Country' column\n",
        "data['Region'] = data['Country'].apply(regions)"
      ]
    },
    {
      "cell_type": "code",
      "execution_count": 145,
      "metadata": {},
      "outputs": [],
      "source": [
        "# Define the color of regions\n",
        "color_region = {'China': 'red', 'US': 'black', 'Asia': 'green', 'GB': 'brown', 'EU': 'blue'}\n",
        "\n",
        "# Define the color of countries\n",
        "color_country = {'CN': 'red', 'US': 'black', 'DE': 'aqua', 'FR': 'blue', 'ES': 'orange', 'RO': 'purple', 'IT': 'green', 'DK': 'grey', 'JP': 'pink', 'KR': 'violet', 'GB': 'brown', 'SE': 'yellow', 'CZ': 'olive'}\n"
      ]
    },
    {
      "cell_type": "code",
      "execution_count": 146,
      "metadata": {},
      "outputs": [
        {
          "data": {
            "image/png": "[encoded data removed]",
            "text/plain": [
              "<Figure size 720x432 with 1 Axes>"
            ]
          },
          "metadata": {
            "needs_background": "light"
          },
          "output_type": "display_data"
        }
      ],
      "source": [
        "grouped_model = data.groupby(['Year', 'Region'])['Model'].count().reset_index()\n",
        "\n",
        "sorted_types = sorted(grouped_model['Region'].unique())\n",
        "\n",
        "# Create the line chart\n",
        "plt.figure(figsize=(10, 6))\n",
        "for t in sorted_types:\n",
        "    plt.plot(grouped_model[grouped_model['Region'] == t]['Year'], \n",
        "             grouped_model[grouped_model['Region'] == t]['Model'], \n",
        "             label=t, \n",
        "             color=color_region.get(t))\n",
        "\n",
        "\n",
        "#plt.title('Number of Models for Each Region per Year', fontsize=16)\n",
        "plt.xlabel('Year', fontsize=14)\n",
        "plt.ylabel('No. of models', fontsize=14)\n",
        "plt.legend(loc='upper left', fontsize=12)\n",
        "plt.xticks([2013, 2014, 2015, 2016, 2017, 2018, 2019, 2020, 2021, 2022, 2023], fontsize=16)\n",
        "plt.xlim(2013, 2023)\n",
        "plt.grid(True)\n",
        "plt.show()\n"
      ]
    },
    {
      "cell_type": "code",
      "execution_count": 147,
      "metadata": {},
      "outputs": [
        {
          "data": {
            "image/png": "[encoded data removed]",
            "text/plain": [
              "<Figure size 720x432 with 1 Axes>"
            ]
          },
          "metadata": {
            "needs_background": "light"
          },
          "output_type": "display_data"
        }
      ],
      "source": [
        "grouped_ms = data.groupby(['Year', 'Region'])['Market share'].sum().reset_index()\n",
        "grouped_ms['Market share'] *= 100\n",
        "\n",
        "sorted_types = sorted(grouped_ms['Region'].unique())\n",
        "\n",
        "# Create the line chart\n",
        "plt.figure(figsize=(10, 6))\n",
        "for t in sorted_types:\n",
        "    plt.plot(grouped_ms[grouped_ms['Region'] == t]['Year'], \n",
        "             grouped_ms[grouped_ms['Region'] == t]['Market share'], \n",
        "             label=t, \n",
        "             color=color_region.get(t))\n",
        "\n",
        "\n",
        "plt.xlabel('Year', fontsize=14)\n",
        "plt.ylabel('Market share (%)', fontsize=14)\n",
        "plt.legend(loc='upper left', fontsize=12)\n",
        "plt.xticks([2013, 2014, 2015, 2016, 2017, 2018, 2019, 2020, 2021, 2022, 2023], fontsize=16)\n",
        "plt.xlim(2013, 2023)\n",
        "plt.grid(True)\n",
        "plt.show()\n"
      ]
    },
    {
      "cell_type": "code",
      "execution_count": 148,
      "metadata": {},
      "outputs": [
        {
          "name": "stderr",
          "output_type": "stream",
          "text": [
            "/var/folders/84/nl1t_q050914klynvps92vkc0000gn/T/ipykernel_73470/3028671595.py:2: SettingWithCopyWarning:\n",
            "\n",
            "\n",
            "A value is trying to be set on a copy of a slice from a DataFrame.\n",
            "Try using .loc[row_indexer,col_indexer] = value instead\n",
            "\n",
            "See the caveats in the documentation: https://pandas.pydata.org/pandas-docs/stable/user_guide/indexing.html#returning-a-view-versus-a-copy\n",
            "\n"
          ]
        },
        {
          "data": {
            "application/vnd.plotly.v1+json": {
              "config": {
                "plotlyServerURL": "https://plot.ly"
              },
              "data": [
                {
                  "name": "Market Share",
                  "type": "scatter",
                  "x": [
                    2021,
                    2022,
                    2023
                  ],
                  "xaxis": "x",
                  "y": [
                    6.15136226034308,
                    7.56017112439175,
                    29.010260967924378
                  ],
                  "yaxis": "y"
                },
                {
                  "name": "Price",
                  "type": "scatter",
                  "x": [
                    2021,
                    2022,
                    2023
                  ],
                  "xaxis": "x",
                  "y": [
                    503239,
                    521150.6,
                    405554.4
                  ],
                  "yaxis": "y2"
                }
              ],
              "layout": {
                "template": {
                  "data": {
                    "bar": [
                      {
                        "error_x": {
                          "color": "#2a3f5f"
                        },
                        "error_y": {
                          "color": "#2a3f5f"
                        },
                        "marker": {
                          "line": {
                            "color": "#E5ECF6",
                            "width": 0.5
                          },
                          "pattern": {
                            "fillmode": "overlay",
                            "size": 10,
                            "solidity": 0.2
                          }
                        },
                        "type": "bar"
                      }
                    ],
                    "barpolar": [
                      {
                        "marker": {
                          "line": {
                            "color": "#E5ECF6",
                            "width": 0.5
                          },
                          "pattern": {
                            "fillmode": "overlay",
                            "size": 10,
                            "solidity": 0.2
                          }
                        },
                        "type": "barpolar"
                      }
                    ],
                    "carpet": [
                      {
                        "aaxis": {
                          "endlinecolor": "#2a3f5f",
                          "gridcolor": "white",
                          "linecolor": "white",
                          "minorgridcolor": "white",
                          "startlinecolor": "#2a3f5f"
                        },
                        "baxis": {
                          "endlinecolor": "#2a3f5f",
                          "gridcolor": "white",
                          "linecolor": "white",
                          "minorgridcolor": "white",
                          "startlinecolor": "#2a3f5f"
                        },
                        "type": "carpet"
                      }
                    ],
                    "choropleth": [
                      {
                        "colorbar": {
                          "outlinewidth": 0,
                          "ticks": ""
                        },
                        "type": "choropleth"
                      }
                    ],
                    "contour": [
                      {
                        "colorbar": {
                          "outlinewidth": 0,
                          "ticks": ""
                        },
                        "colorscale": [
                          [
                            0,
                            "#0d0887"
                          ],
                          [
                            0.1111111111111111,
                            "#46039f"
                          ],
                          [
                            0.2222222222222222,
                            "#7201a8"
                          ],
                          [
                            0.3333333333333333,
                            "#9c179e"
                          ],
                          [
                            0.4444444444444444,
                            "#bd3786"
                          ],
                          [
                            0.5555555555555556,
                            "#d8576b"
                          ],
                          [
                            0.6666666666666666,
                            "#ed7953"
                          ],
                          [
                            0.7777777777777778,
                            "#fb9f3a"
                          ],
                          [
                            0.8888888888888888,
                            "#fdca26"
                          ],
                          [
                            1,
                            "#f0f921"
                          ]
                        ],
                        "type": "contour"
                      }
                    ],
                    "contourcarpet": [
                      {
                        "colorbar": {
                          "outlinewidth": 0,
                          "ticks": ""
                        },
                        "type": "contourcarpet"
                      }
                    ],
                    "heatmap": [
                      {
                        "colorbar": {
                          "outlinewidth": 0,
                          "ticks": ""
                        },
                        "colorscale": [
                          [
                            0,
                            "#0d0887"
                          ],
                          [
                            0.1111111111111111,
                            "#46039f"
                          ],
                          [
                            0.2222222222222222,
                            "#7201a8"
                          ],
                          [
                            0.3333333333333333,
                            "#9c179e"
                          ],
                          [
                            0.4444444444444444,
                            "#bd3786"
                          ],
                          [
                            0.5555555555555556,
                            "#d8576b"
                          ],
                          [
                            0.6666666666666666,
                            "#ed7953"
                          ],
                          [
                            0.7777777777777778,
                            "#fb9f3a"
                          ],
                          [
                            0.8888888888888888,
                            "#fdca26"
                          ],
                          [
                            1,
                            "#f0f921"
                          ]
                        ],
                        "type": "heatmap"
                      }
                    ],
                    "heatmapgl": [
                      {
                        "colorbar": {
                          "outlinewidth": 0,
                          "ticks": ""
                        },
                        "colorscale": [
                          [
                            0,
                            "#0d0887"
                          ],
                          [
                            0.1111111111111111,
                            "#46039f"
                          ],
                          [
                            0.2222222222222222,
                            "#7201a8"
                          ],
                          [
                            0.3333333333333333,
                            "#9c179e"
                          ],
                          [
                            0.4444444444444444,
                            "#bd3786"
                          ],
                          [
                            0.5555555555555556,
                            "#d8576b"
                          ],
                          [
                            0.6666666666666666,
                            "#ed7953"
                          ],
                          [
                            0.7777777777777778,
                            "#fb9f3a"
                          ],
                          [
                            0.8888888888888888,
                            "#fdca26"
                          ],
                          [
                            1,
                            "#f0f921"
                          ]
                        ],
                        "type": "heatmapgl"
                      }
                    ],
                    "histogram": [
                      {
                        "marker": {
                          "pattern": {
                            "fillmode": "overlay",
                            "size": 10,
                            "solidity": 0.2
                          }
                        },
                        "type": "histogram"
                      }
                    ],
                    "histogram2d": [
                      {
                        "colorbar": {
                          "outlinewidth": 0,
                          "ticks": ""
                        },
                        "colorscale": [
                          [
                            0,
                            "#0d0887"
                          ],
                          [
                            0.1111111111111111,
                            "#46039f"
                          ],
                          [
                            0.2222222222222222,
                            "#7201a8"
                          ],
                          [
                            0.3333333333333333,
                            "#9c179e"
                          ],
                          [
                            0.4444444444444444,
                            "#bd3786"
                          ],
                          [
                            0.5555555555555556,
                            "#d8576b"
                          ],
                          [
                            0.6666666666666666,
                            "#ed7953"
                          ],
                          [
                            0.7777777777777778,
                            "#fb9f3a"
                          ],
                          [
                            0.8888888888888888,
                            "#fdca26"
                          ],
                          [
                            1,
                            "#f0f921"
                          ]
                        ],
                        "type": "histogram2d"
                      }
                    ],
                    "histogram2dcontour": [
                      {
                        "colorbar": {
                          "outlinewidth": 0,
                          "ticks": ""
                        },
                        "colorscale": [
                          [
                            0,
                            "#0d0887"
                          ],
                          [
                            0.1111111111111111,
                            "#46039f"
                          ],
                          [
                            0.2222222222222222,
                            "#7201a8"
                          ],
                          [
                            0.3333333333333333,
                            "#9c179e"
                          ],
                          [
                            0.4444444444444444,
                            "#bd3786"
                          ],
                          [
                            0.5555555555555556,
                            "#d8576b"
                          ],
                          [
                            0.6666666666666666,
                            "#ed7953"
                          ],
                          [
                            0.7777777777777778,
                            "#fb9f3a"
                          ],
                          [
                            0.8888888888888888,
                            "#fdca26"
                          ],
                          [
                            1,
                            "#f0f921"
                          ]
                        ],
                        "type": "histogram2dcontour"
                      }
                    ],
                    "mesh3d": [
                      {
                        "colorbar": {
                          "outlinewidth": 0,
                          "ticks": ""
                        },
                        "type": "mesh3d"
                      }
                    ],
                    "parcoords": [
                      {
                        "line": {
                          "colorbar": {
                            "outlinewidth": 0,
                            "ticks": ""
                          }
                        },
                        "type": "parcoords"
                      }
                    ],
                    "pie": [
                      {
                        "automargin": true,
                        "type": "pie"
                      }
                    ],
                    "scatter": [
                      {
                        "marker": {
                          "colorbar": {
                            "outlinewidth": 0,
                            "ticks": ""
                          }
                        },
                        "type": "scatter"
                      }
                    ],
                    "scatter3d": [
                      {
                        "line": {
                          "colorbar": {
                            "outlinewidth": 0,
                            "ticks": ""
                          }
                        },
                        "marker": {
                          "colorbar": {
                            "outlinewidth": 0,
                            "ticks": ""
                          }
                        },
                        "type": "scatter3d"
                      }
                    ],
                    "scattercarpet": [
                      {
                        "marker": {
                          "colorbar": {
                            "outlinewidth": 0,
                            "ticks": ""
                          }
                        },
                        "type": "scattercarpet"
                      }
                    ],
                    "scattergeo": [
                      {
                        "marker": {
                          "colorbar": {
                            "outlinewidth": 0,
                            "ticks": ""
                          }
                        },
                        "type": "scattergeo"
                      }
                    ],
                    "scattergl": [
                      {
                        "marker": {
                          "colorbar": {
                            "outlinewidth": 0,
                            "ticks": ""
                          }
                        },
                        "type": "scattergl"
                      }
                    ],
                    "scattermapbox": [
                      {
                        "marker": {
                          "colorbar": {
                            "outlinewidth": 0,
                            "ticks": ""
                          }
                        },
                        "type": "scattermapbox"
                      }
                    ],
                    "scatterpolar": [
                      {
                        "marker": {
                          "colorbar": {
                            "outlinewidth": 0,
                            "ticks": ""
                          }
                        },
                        "type": "scatterpolar"
                      }
                    ],
                    "scatterpolargl": [
                      {
                        "marker": {
                          "colorbar": {
                            "outlinewidth": 0,
                            "ticks": ""
                          }
                        },
                        "type": "scatterpolargl"
                      }
                    ],
                    "scatterternary": [
                      {
                        "marker": {
                          "colorbar": {
                            "outlinewidth": 0,
                            "ticks": ""
                          }
                        },
                        "type": "scatterternary"
                      }
                    ],
                    "surface": [
                      {
                        "colorbar": {
                          "outlinewidth": 0,
                          "ticks": ""
                        },
                        "colorscale": [
                          [
                            0,
                            "#0d0887"
                          ],
                          [
                            0.1111111111111111,
                            "#46039f"
                          ],
                          [
                            0.2222222222222222,
                            "#7201a8"
                          ],
                          [
                            0.3333333333333333,
                            "#9c179e"
                          ],
                          [
                            0.4444444444444444,
                            "#bd3786"
                          ],
                          [
                            0.5555555555555556,
                            "#d8576b"
                          ],
                          [
                            0.6666666666666666,
                            "#ed7953"
                          ],
                          [
                            0.7777777777777778,
                            "#fb9f3a"
                          ],
                          [
                            0.8888888888888888,
                            "#fdca26"
                          ],
                          [
                            1,
                            "#f0f921"
                          ]
                        ],
                        "type": "surface"
                      }
                    ],
                    "table": [
                      {
                        "cells": {
                          "fill": {
                            "color": "#EBF0F8"
                          },
                          "line": {
                            "color": "white"
                          }
                        },
                        "header": {
                          "fill": {
                            "color": "#C8D4E3"
                          },
                          "line": {
                            "color": "white"
                          }
                        },
                        "type": "table"
                      }
                    ]
                  },
                  "layout": {
                    "annotationdefaults": {
                      "arrowcolor": "#2a3f5f",
                      "arrowhead": 0,
                      "arrowwidth": 1
                    },
                    "autotypenumbers": "strict",
                    "coloraxis": {
                      "colorbar": {
                        "outlinewidth": 0,
                        "ticks": ""
                      }
                    },
                    "colorscale": {
                      "diverging": [
                        [
                          0,
                          "#8e0152"
                        ],
                        [
                          0.1,
                          "#c51b7d"
                        ],
                        [
                          0.2,
                          "#de77ae"
                        ],
                        [
                          0.3,
                          "#f1b6da"
                        ],
                        [
                          0.4,
                          "#fde0ef"
                        ],
                        [
                          0.5,
                          "#f7f7f7"
                        ],
                        [
                          0.6,
                          "#e6f5d0"
                        ],
                        [
                          0.7,
                          "#b8e186"
                        ],
                        [
                          0.8,
                          "#7fbc41"
                        ],
                        [
                          0.9,
                          "#4d9221"
                        ],
                        [
                          1,
                          "#276419"
                        ]
                      ],
                      "sequential": [
                        [
                          0,
                          "#0d0887"
                        ],
                        [
                          0.1111111111111111,
                          "#46039f"
                        ],
                        [
                          0.2222222222222222,
                          "#7201a8"
                        ],
                        [
                          0.3333333333333333,
                          "#9c179e"
                        ],
                        [
                          0.4444444444444444,
                          "#bd3786"
                        ],
                        [
                          0.5555555555555556,
                          "#d8576b"
                        ],
                        [
                          0.6666666666666666,
                          "#ed7953"
                        ],
                        [
                          0.7777777777777778,
                          "#fb9f3a"
                        ],
                        [
                          0.8888888888888888,
                          "#fdca26"
                        ],
                        [
                          1,
                          "#f0f921"
                        ]
                      ],
                      "sequentialminus": [
                        [
                          0,
                          "#0d0887"
                        ],
                        [
                          0.1111111111111111,
                          "#46039f"
                        ],
                        [
                          0.2222222222222222,
                          "#7201a8"
                        ],
                        [
                          0.3333333333333333,
                          "#9c179e"
                        ],
                        [
                          0.4444444444444444,
                          "#bd3786"
                        ],
                        [
                          0.5555555555555556,
                          "#d8576b"
                        ],
                        [
                          0.6666666666666666,
                          "#ed7953"
                        ],
                        [
                          0.7777777777777778,
                          "#fb9f3a"
                        ],
                        [
                          0.8888888888888888,
                          "#fdca26"
                        ],
                        [
                          1,
                          "#f0f921"
                        ]
                      ]
                    },
                    "colorway": [
                      "#636efa",
                      "#EF553B",
                      "#00cc96",
                      "#ab63fa",
                      "#FFA15A",
                      "#19d3f3",
                      "#FF6692",
                      "#B6E880",
                      "#FF97FF",
                      "#FECB52"
                    ],
                    "font": {
                      "color": "#2a3f5f"
                    },
                    "geo": {
                      "bgcolor": "white",
                      "lakecolor": "white",
                      "landcolor": "#E5ECF6",
                      "showlakes": true,
                      "showland": true,
                      "subunitcolor": "white"
                    },
                    "hoverlabel": {
                      "align": "left"
                    },
                    "hovermode": "closest",
                    "mapbox": {
                      "style": "light"
                    },
                    "paper_bgcolor": "white",
                    "plot_bgcolor": "#E5ECF6",
                    "polar": {
                      "angularaxis": {
                        "gridcolor": "white",
                        "linecolor": "white",
                        "ticks": ""
                      },
                      "bgcolor": "#E5ECF6",
                      "radialaxis": {
                        "gridcolor": "white",
                        "linecolor": "white",
                        "ticks": ""
                      }
                    },
                    "scene": {
                      "xaxis": {
                        "backgroundcolor": "#E5ECF6",
                        "gridcolor": "white",
                        "gridwidth": 2,
                        "linecolor": "white",
                        "showbackground": true,
                        "ticks": "",
                        "zerolinecolor": "white"
                      },
                      "yaxis": {
                        "backgroundcolor": "#E5ECF6",
                        "gridcolor": "white",
                        "gridwidth": 2,
                        "linecolor": "white",
                        "showbackground": true,
                        "ticks": "",
                        "zerolinecolor": "white"
                      },
                      "zaxis": {
                        "backgroundcolor": "#E5ECF6",
                        "gridcolor": "white",
                        "gridwidth": 2,
                        "linecolor": "white",
                        "showbackground": true,
                        "ticks": "",
                        "zerolinecolor": "white"
                      }
                    },
                    "shapedefaults": {
                      "line": {
                        "color": "#2a3f5f"
                      }
                    },
                    "ternary": {
                      "aaxis": {
                        "gridcolor": "white",
                        "linecolor": "white",
                        "ticks": ""
                      },
                      "baxis": {
                        "gridcolor": "white",
                        "linecolor": "white",
                        "ticks": ""
                      },
                      "bgcolor": "#E5ECF6",
                      "caxis": {
                        "gridcolor": "white",
                        "linecolor": "white",
                        "ticks": ""
                      }
                    },
                    "title": {
                      "x": 0.05
                    },
                    "xaxis": {
                      "automargin": true,
                      "gridcolor": "white",
                      "linecolor": "white",
                      "ticks": "",
                      "title": {
                        "standoff": 15
                      },
                      "zerolinecolor": "white",
                      "zerolinewidth": 2
                    },
                    "yaxis": {
                      "automargin": true,
                      "gridcolor": "white",
                      "linecolor": "white",
                      "ticks": "",
                      "title": {
                        "standoff": 15
                      },
                      "zerolinecolor": "white",
                      "zerolinewidth": 2
                    }
                  }
                },
                "xaxis": {
                  "anchor": "y",
                  "domain": [
                    0,
                    0.94
                  ],
                  "tickvals": [
                    2021,
                    2022,
                    2023
                  ]
                },
                "yaxis": {
                  "anchor": "x",
                  "domain": [
                    0,
                    1
                  ],
                  "title": {
                    "text": "Market Share (%)"
                  }
                },
                "yaxis2": {
                  "anchor": "x",
                  "overlaying": "y",
                  "side": "right",
                  "title": {
                    "text": "Price"
                  }
                }
              }
            }
          },
          "metadata": {},
          "output_type": "display_data"
        }
      ],
      "source": [
        "model_y_data = data[(data['Model'] == 'Model Y') & (data['Year'].isin([2021, 2022, 2023]))]\n",
        "model_y_data['Market share'] *= 100\n",
        "# Create figure with secondary y-axis\n",
        "fig = make_subplots(specs=[[{\"secondary_y\": True}]])\n",
        "\n",
        "# Add traces\n",
        "fig.add_trace(\n",
        "    go.Scatter(x=model_y_data['Year'], y=model_y_data['Market share'], name=\"Market Share\"),\n",
        "    secondary_y=False,\n",
        ")\n",
        "\n",
        "fig.add_trace(\n",
        "    go.Scatter(x=model_y_data['Year'], y=model_y_data['Price'], name=\"Price\"),\n",
        "    secondary_y=True,\n",
        ")\n",
        "\n",
        "\n",
        "# Set x-axis title\n",
        "fig.update_xaxes(tickvals=[2021, 2022, 2023])\n",
        "\n",
        "# Set y-axes titles\n",
        "fig.update_yaxes(title_text=\"Market Share (%)\", secondary_y=False)\n",
        "fig.update_yaxes(title_text=\"Price\", secondary_y=True)\n",
        "\n",
        "fig.show()"
      ]
    },
    {
      "cell_type": "code",
      "execution_count": 149,
      "metadata": {},
      "outputs": [],
      "source": [
        "data_china = data[data['Region'] == 'China']\n",
        "\n",
        "average_price_china = np.average(data_china['Price'])\n",
        "average_range_china = np.average(data_china['Range'])\n",
        "average_hp_china = np.average(data_china['HP'])\n",
        "average_charge_time_china = np.average(data_china['Chargetime'])\n",
        "\n",
        "data_others = data[(data['Region'] != 'China') & (data['Region'] != 'UK') & (data['Year'].isin([2020, 2021, 2022, 2023]))]\n",
        "\n",
        "average_price = np.average(data_others['Price'])\n",
        "average_range = np.average(data_others['Range'])\n",
        "average_hp = np.average(data_others['HP'])\n",
        "average_charge_time = np.average(data_others['Chargetime'])"
      ]
    },
    {
      "cell_type": "code",
      "execution_count": 150,
      "metadata": {},
      "outputs": [
        {
          "data": {
            "text/html": [
              "<div>\n",
              "<style scoped>\n",
              "    .dataframe tbody tr th:only-of-type {\n",
              "        vertical-align: middle;\n",
              "    }\n",
              "\n",
              "    .dataframe tbody tr th {\n",
              "        vertical-align: top;\n",
              "    }\n",
              "\n",
              "    .dataframe thead th {\n",
              "        text-align: right;\n",
              "    }\n",
              "</style>\n",
              "<table border=\"1\" class=\"dataframe\">\n",
              "  <thead>\n",
              "    <tr style=\"text-align: right;\">\n",
              "      <th></th>\n",
              "      <th>China</th>\n",
              "      <th>Others</th>\n",
              "    </tr>\n",
              "  </thead>\n",
              "  <tbody>\n",
              "    <tr>\n",
              "      <th>Price</th>\n",
              "      <td>403965.756957</td>\n",
              "      <td>492928.054453</td>\n",
              "    </tr>\n",
              "    <tr>\n",
              "      <th>Range</th>\n",
              "      <td>407.974359</td>\n",
              "      <td>399.198276</td>\n",
              "    </tr>\n",
              "    <tr>\n",
              "      <th>HP</th>\n",
              "      <td>291.641026</td>\n",
              "      <td>246.099138</td>\n",
              "    </tr>\n",
              "    <tr>\n",
              "      <th>Chargetime</th>\n",
              "      <td>40.230769</td>\n",
              "      <td>32.133621</td>\n",
              "    </tr>\n",
              "  </tbody>\n",
              "</table>\n",
              "</div>"
            ],
            "text/plain": [
              "                    China         Others\n",
              "Price       403965.756957  492928.054453\n",
              "Range          407.974359     399.198276\n",
              "HP             291.641026     246.099138\n",
              "Chargetime      40.230769      32.133621"
            ]
          },
          "execution_count": 150,
          "metadata": {},
          "output_type": "execute_result"
        }
      ],
      "source": [
        "pd.DataFrame(index=['Price', 'Range', 'HP', 'Chargetime'], data={\n",
        "                    'China': [average_price_china, average_range_china, average_hp_china, average_charge_time_china],\n",
        "                    'Others': [average_price, average_range, average_hp, average_charge_time]\n",
        "                })"
      ]
    },
    {
      "cell_type": "markdown",
      "metadata": {},
      "source": [
        "# Ikke i brug"
      ]
    },
    {
      "cell_type": "code",
      "execution_count": 151,
      "metadata": {},
      "outputs": [
        {
          "data": {
            "application/vnd.plotly.v1+json": {
              "config": {
                "plotlyServerURL": "https://plot.ly"
              },
              "data": [
                {
                  "line": {
                    "color": "green"
                  },
                  "name": "Asia Market share",
                  "type": "scatter",
                  "x": [
                    2013,
                    2014,
                    2015,
                    2016,
                    2017,
                    2018,
                    2019,
                    2020,
                    2021,
                    2022,
                    2023
                  ],
                  "xaxis": "x",
                  "y": [
                    47.20357941834452,
                    38.85521885521885,
                    5.75849822425164,
                    8.65546218487394,
                    8.76923076923075,
                    54.464894342194945,
                    24.67057101024888,
                    22.1712106229693,
                    19.05953582240157,
                    12.511021847751477,
                    9.622687242465803
                  ],
                  "yaxis": "y"
                },
                {
                  "line": {
                    "color": "green",
                    "dash": "dash"
                  },
                  "name": "Asia Models",
                  "type": "scatter",
                  "x": [
                    2013,
                    2014,
                    2015,
                    2016,
                    2017,
                    2018,
                    2019,
                    2020,
                    2021,
                    2022,
                    2023
                  ],
                  "xaxis": "x",
                  "y": [
                    1,
                    1,
                    2,
                    2,
                    3,
                    4,
                    5,
                    7,
                    11,
                    14,
                    18
                  ],
                  "yaxis": "y2"
                },
                {
                  "line": {
                    "color": "red"
                  },
                  "name": "China Market share",
                  "type": "scatter",
                  "x": [
                    2013,
                    2014,
                    2015,
                    2016,
                    2017,
                    2018,
                    2019,
                    2020,
                    2021,
                    2022,
                    2023
                  ],
                  "xaxis": "x2",
                  "y": [
                    0,
                    0,
                    0,
                    0,
                    0,
                    0,
                    0,
                    2.31671139991524,
                    2.17558022199797,
                    2.997942588419645,
                    3.619617031590791
                  ],
                  "yaxis": "y3"
                },
                {
                  "line": {
                    "color": "red",
                    "dash": "dash"
                  },
                  "name": "China Models",
                  "type": "scatter",
                  "x": [
                    2013,
                    2014,
                    2015,
                    2016,
                    2017,
                    2018,
                    2019,
                    2020,
                    2021,
                    2022,
                    2023
                  ],
                  "xaxis": "x2",
                  "y": [
                    0,
                    0,
                    0,
                    0,
                    0,
                    0,
                    0,
                    2,
                    4,
                    13,
                    20
                  ],
                  "yaxis": "y4"
                },
                {
                  "line": {
                    "color": "blue"
                  },
                  "name": "EU Market share",
                  "type": "scatter",
                  "x": [
                    2013,
                    2014,
                    2015,
                    2016,
                    2017,
                    2018,
                    2019,
                    2020,
                    2021,
                    2022,
                    2023
                  ],
                  "xaxis": "x3",
                  "y": [
                    27.740492170022353,
                    30.033670033670013,
                    25.11415525114153,
                    76.55462184873947,
                    76.15384615384615,
                    38.24130879345602,
                    23.53587115666175,
                    39.40528323209486,
                    59.4793138244196,
                    69.91933640312182,
                    48.13767471923706
                  ],
                  "yaxis": "y5"
                },
                {
                  "line": {
                    "color": "blue",
                    "dash": "dash"
                  },
                  "name": "EU Models",
                  "type": "scatter",
                  "x": [
                    2013,
                    2014,
                    2015,
                    2016,
                    2017,
                    2018,
                    2019,
                    2020,
                    2021,
                    2022,
                    2023
                  ],
                  "xaxis": "x3",
                  "y": [
                    4,
                    4,
                    4,
                    4,
                    4,
                    4,
                    7,
                    18,
                    35,
                    47,
                    53
                  ],
                  "yaxis": "y6"
                },
                {
                  "line": {
                    "color": "black"
                  },
                  "name": "US Market share",
                  "type": "scatter",
                  "x": [
                    2013,
                    2014,
                    2015,
                    2016,
                    2017,
                    2018,
                    2019,
                    2020,
                    2021,
                    2022,
                    2023
                  ],
                  "xaxis": "x4",
                  "y": [
                    25.05592841163311,
                    31.11111111111111,
                    69.1273465246068,
                    14.789915966386541,
                    15.076923076923071,
                    6.475800954328561,
                    50.03660322108344,
                    33.34510524085321,
                    18.127144298688176,
                    13.87936383527642,
                    38.37440413670517
                  ],
                  "yaxis": "y7"
                },
                {
                  "line": {
                    "color": "black",
                    "dash": "dash"
                  },
                  "name": "US Models",
                  "type": "scatter",
                  "x": [
                    2013,
                    2014,
                    2015,
                    2016,
                    2017,
                    2018,
                    2019,
                    2020,
                    2021,
                    2022,
                    2023
                  ],
                  "xaxis": "x4",
                  "y": [
                    1,
                    1,
                    1,
                    2,
                    2,
                    2,
                    3,
                    4,
                    5,
                    5,
                    6
                  ],
                  "yaxis": "y8"
                }
              ],
              "layout": {
                "annotations": [
                  {
                    "font": {
                      "size": 16
                    },
                    "showarrow": false,
                    "text": "Asia",
                    "x": 0.185,
                    "xanchor": "center",
                    "xref": "paper",
                    "y": 1,
                    "yanchor": "bottom",
                    "yref": "paper"
                  },
                  {
                    "font": {
                      "size": 16
                    },
                    "showarrow": false,
                    "text": "China",
                    "x": 0.7550000000000001,
                    "xanchor": "center",
                    "xref": "paper",
                    "y": 1,
                    "yanchor": "bottom",
                    "yref": "paper"
                  },
                  {
                    "font": {
                      "size": 16
                    },
                    "showarrow": false,
                    "text": "EU",
                    "x": 0.185,
                    "xanchor": "center",
                    "xref": "paper",
                    "y": 0.375,
                    "yanchor": "bottom",
                    "yref": "paper"
                  },
                  {
                    "font": {
                      "size": 16
                    },
                    "showarrow": false,
                    "text": "US",
                    "x": 0.7550000000000001,
                    "xanchor": "center",
                    "xref": "paper",
                    "y": 0.375,
                    "yanchor": "bottom",
                    "yref": "paper"
                  }
                ],
                "height": 600,
                "template": {
                  "data": {
                    "bar": [
                      {
                        "error_x": {
                          "color": "#2a3f5f"
                        },
                        "error_y": {
                          "color": "#2a3f5f"
                        },
                        "marker": {
                          "line": {
                            "color": "#E5ECF6",
                            "width": 0.5
                          },
                          "pattern": {
                            "fillmode": "overlay",
                            "size": 10,
                            "solidity": 0.2
                          }
                        },
                        "type": "bar"
                      }
                    ],
                    "barpolar": [
                      {
                        "marker": {
                          "line": {
                            "color": "#E5ECF6",
                            "width": 0.5
                          },
                          "pattern": {
                            "fillmode": "overlay",
                            "size": 10,
                            "solidity": 0.2
                          }
                        },
                        "type": "barpolar"
                      }
                    ],
                    "carpet": [
                      {
                        "aaxis": {
                          "endlinecolor": "#2a3f5f",
                          "gridcolor": "white",
                          "linecolor": "white",
                          "minorgridcolor": "white",
                          "startlinecolor": "#2a3f5f"
                        },
                        "baxis": {
                          "endlinecolor": "#2a3f5f",
                          "gridcolor": "white",
                          "linecolor": "white",
                          "minorgridcolor": "white",
                          "startlinecolor": "#2a3f5f"
                        },
                        "type": "carpet"
                      }
                    ],
                    "choropleth": [
                      {
                        "colorbar": {
                          "outlinewidth": 0,
                          "ticks": ""
                        },
                        "type": "choropleth"
                      }
                    ],
                    "contour": [
                      {
                        "colorbar": {
                          "outlinewidth": 0,
                          "ticks": ""
                        },
                        "colorscale": [
                          [
                            0,
                            "#0d0887"
                          ],
                          [
                            0.1111111111111111,
                            "#46039f"
                          ],
                          [
                            0.2222222222222222,
                            "#7201a8"
                          ],
                          [
                            0.3333333333333333,
                            "#9c179e"
                          ],
                          [
                            0.4444444444444444,
                            "#bd3786"
                          ],
                          [
                            0.5555555555555556,
                            "#d8576b"
                          ],
                          [
                            0.6666666666666666,
                            "#ed7953"
                          ],
                          [
                            0.7777777777777778,
                            "#fb9f3a"
                          ],
                          [
                            0.8888888888888888,
                            "#fdca26"
                          ],
                          [
                            1,
                            "#f0f921"
                          ]
                        ],
                        "type": "contour"
                      }
                    ],
                    "contourcarpet": [
                      {
                        "colorbar": {
                          "outlinewidth": 0,
                          "ticks": ""
                        },
                        "type": "contourcarpet"
                      }
                    ],
                    "heatmap": [
                      {
                        "colorbar": {
                          "outlinewidth": 0,
                          "ticks": ""
                        },
                        "colorscale": [
                          [
                            0,
                            "#0d0887"
                          ],
                          [
                            0.1111111111111111,
                            "#46039f"
                          ],
                          [
                            0.2222222222222222,
                            "#7201a8"
                          ],
                          [
                            0.3333333333333333,
                            "#9c179e"
                          ],
                          [
                            0.4444444444444444,
                            "#bd3786"
                          ],
                          [
                            0.5555555555555556,
                            "#d8576b"
                          ],
                          [
                            0.6666666666666666,
                            "#ed7953"
                          ],
                          [
                            0.7777777777777778,
                            "#fb9f3a"
                          ],
                          [
                            0.8888888888888888,
                            "#fdca26"
                          ],
                          [
                            1,
                            "#f0f921"
                          ]
                        ],
                        "type": "heatmap"
                      }
                    ],
                    "heatmapgl": [
                      {
                        "colorbar": {
                          "outlinewidth": 0,
                          "ticks": ""
                        },
                        "colorscale": [
                          [
                            0,
                            "#0d0887"
                          ],
                          [
                            0.1111111111111111,
                            "#46039f"
                          ],
                          [
                            0.2222222222222222,
                            "#7201a8"
                          ],
                          [
                            0.3333333333333333,
                            "#9c179e"
                          ],
                          [
                            0.4444444444444444,
                            "#bd3786"
                          ],
                          [
                            0.5555555555555556,
                            "#d8576b"
                          ],
                          [
                            0.6666666666666666,
                            "#ed7953"
                          ],
                          [
                            0.7777777777777778,
                            "#fb9f3a"
                          ],
                          [
                            0.8888888888888888,
                            "#fdca26"
                          ],
                          [
                            1,
                            "#f0f921"
                          ]
                        ],
                        "type": "heatmapgl"
                      }
                    ],
                    "histogram": [
                      {
                        "marker": {
                          "pattern": {
                            "fillmode": "overlay",
                            "size": 10,
                            "solidity": 0.2
                          }
                        },
                        "type": "histogram"
                      }
                    ],
                    "histogram2d": [
                      {
                        "colorbar": {
                          "outlinewidth": 0,
                          "ticks": ""
                        },
                        "colorscale": [
                          [
                            0,
                            "#0d0887"
                          ],
                          [
                            0.1111111111111111,
                            "#46039f"
                          ],
                          [
                            0.2222222222222222,
                            "#7201a8"
                          ],
                          [
                            0.3333333333333333,
                            "#9c179e"
                          ],
                          [
                            0.4444444444444444,
                            "#bd3786"
                          ],
                          [
                            0.5555555555555556,
                            "#d8576b"
                          ],
                          [
                            0.6666666666666666,
                            "#ed7953"
                          ],
                          [
                            0.7777777777777778,
                            "#fb9f3a"
                          ],
                          [
                            0.8888888888888888,
                            "#fdca26"
                          ],
                          [
                            1,
                            "#f0f921"
                          ]
                        ],
                        "type": "histogram2d"
                      }
                    ],
                    "histogram2dcontour": [
                      {
                        "colorbar": {
                          "outlinewidth": 0,
                          "ticks": ""
                        },
                        "colorscale": [
                          [
                            0,
                            "#0d0887"
                          ],
                          [
                            0.1111111111111111,
                            "#46039f"
                          ],
                          [
                            0.2222222222222222,
                            "#7201a8"
                          ],
                          [
                            0.3333333333333333,
                            "#9c179e"
                          ],
                          [
                            0.4444444444444444,
                            "#bd3786"
                          ],
                          [
                            0.5555555555555556,
                            "#d8576b"
                          ],
                          [
                            0.6666666666666666,
                            "#ed7953"
                          ],
                          [
                            0.7777777777777778,
                            "#fb9f3a"
                          ],
                          [
                            0.8888888888888888,
                            "#fdca26"
                          ],
                          [
                            1,
                            "#f0f921"
                          ]
                        ],
                        "type": "histogram2dcontour"
                      }
                    ],
                    "mesh3d": [
                      {
                        "colorbar": {
                          "outlinewidth": 0,
                          "ticks": ""
                        },
                        "type": "mesh3d"
                      }
                    ],
                    "parcoords": [
                      {
                        "line": {
                          "colorbar": {
                            "outlinewidth": 0,
                            "ticks": ""
                          }
                        },
                        "type": "parcoords"
                      }
                    ],
                    "pie": [
                      {
                        "automargin": true,
                        "type": "pie"
                      }
                    ],
                    "scatter": [
                      {
                        "marker": {
                          "colorbar": {
                            "outlinewidth": 0,
                            "ticks": ""
                          }
                        },
                        "type": "scatter"
                      }
                    ],
                    "scatter3d": [
                      {
                        "line": {
                          "colorbar": {
                            "outlinewidth": 0,
                            "ticks": ""
                          }
                        },
                        "marker": {
                          "colorbar": {
                            "outlinewidth": 0,
                            "ticks": ""
                          }
                        },
                        "type": "scatter3d"
                      }
                    ],
                    "scattercarpet": [
                      {
                        "marker": {
                          "colorbar": {
                            "outlinewidth": 0,
                            "ticks": ""
                          }
                        },
                        "type": "scattercarpet"
                      }
                    ],
                    "scattergeo": [
                      {
                        "marker": {
                          "colorbar": {
                            "outlinewidth": 0,
                            "ticks": ""
                          }
                        },
                        "type": "scattergeo"
                      }
                    ],
                    "scattergl": [
                      {
                        "marker": {
                          "colorbar": {
                            "outlinewidth": 0,
                            "ticks": ""
                          }
                        },
                        "type": "scattergl"
                      }
                    ],
                    "scattermapbox": [
                      {
                        "marker": {
                          "colorbar": {
                            "outlinewidth": 0,
                            "ticks": ""
                          }
                        },
                        "type": "scattermapbox"
                      }
                    ],
                    "scatterpolar": [
                      {
                        "marker": {
                          "colorbar": {
                            "outlinewidth": 0,
                            "ticks": ""
                          }
                        },
                        "type": "scatterpolar"
                      }
                    ],
                    "scatterpolargl": [
                      {
                        "marker": {
                          "colorbar": {
                            "outlinewidth": 0,
                            "ticks": ""
                          }
                        },
                        "type": "scatterpolargl"
                      }
                    ],
                    "scatterternary": [
                      {
                        "marker": {
                          "colorbar": {
                            "outlinewidth": 0,
                            "ticks": ""
                          }
                        },
                        "type": "scatterternary"
                      }
                    ],
                    "surface": [
                      {
                        "colorbar": {
                          "outlinewidth": 0,
                          "ticks": ""
                        },
                        "colorscale": [
                          [
                            0,
                            "#0d0887"
                          ],
                          [
                            0.1111111111111111,
                            "#46039f"
                          ],
                          [
                            0.2222222222222222,
                            "#7201a8"
                          ],
                          [
                            0.3333333333333333,
                            "#9c179e"
                          ],
                          [
                            0.4444444444444444,
                            "#bd3786"
                          ],
                          [
                            0.5555555555555556,
                            "#d8576b"
                          ],
                          [
                            0.6666666666666666,
                            "#ed7953"
                          ],
                          [
                            0.7777777777777778,
                            "#fb9f3a"
                          ],
                          [
                            0.8888888888888888,
                            "#fdca26"
                          ],
                          [
                            1,
                            "#f0f921"
                          ]
                        ],
                        "type": "surface"
                      }
                    ],
                    "table": [
                      {
                        "cells": {
                          "fill": {
                            "color": "#EBF0F8"
                          },
                          "line": {
                            "color": "white"
                          }
                        },
                        "header": {
                          "fill": {
                            "color": "#C8D4E3"
                          },
                          "line": {
                            "color": "white"
                          }
                        },
                        "type": "table"
                      }
                    ]
                  },
                  "layout": {
                    "annotationdefaults": {
                      "arrowcolor": "#2a3f5f",
                      "arrowhead": 0,
                      "arrowwidth": 1
                    },
                    "autotypenumbers": "strict",
                    "coloraxis": {
                      "colorbar": {
                        "outlinewidth": 0,
                        "ticks": ""
                      }
                    },
                    "colorscale": {
                      "diverging": [
                        [
                          0,
                          "#8e0152"
                        ],
                        [
                          0.1,
                          "#c51b7d"
                        ],
                        [
                          0.2,
                          "#de77ae"
                        ],
                        [
                          0.3,
                          "#f1b6da"
                        ],
                        [
                          0.4,
                          "#fde0ef"
                        ],
                        [
                          0.5,
                          "#f7f7f7"
                        ],
                        [
                          0.6,
                          "#e6f5d0"
                        ],
                        [
                          0.7,
                          "#b8e186"
                        ],
                        [
                          0.8,
                          "#7fbc41"
                        ],
                        [
                          0.9,
                          "#4d9221"
                        ],
                        [
                          1,
                          "#276419"
                        ]
                      ],
                      "sequential": [
                        [
                          0,
                          "#0d0887"
                        ],
                        [
                          0.1111111111111111,
                          "#46039f"
                        ],
                        [
                          0.2222222222222222,
                          "#7201a8"
                        ],
                        [
                          0.3333333333333333,
                          "#9c179e"
                        ],
                        [
                          0.4444444444444444,
                          "#bd3786"
                        ],
                        [
                          0.5555555555555556,
                          "#d8576b"
                        ],
                        [
                          0.6666666666666666,
                          "#ed7953"
                        ],
                        [
                          0.7777777777777778,
                          "#fb9f3a"
                        ],
                        [
                          0.8888888888888888,
                          "#fdca26"
                        ],
                        [
                          1,
                          "#f0f921"
                        ]
                      ],
                      "sequentialminus": [
                        [
                          0,
                          "#0d0887"
                        ],
                        [
                          0.1111111111111111,
                          "#46039f"
                        ],
                        [
                          0.2222222222222222,
                          "#7201a8"
                        ],
                        [
                          0.3333333333333333,
                          "#9c179e"
                        ],
                        [
                          0.4444444444444444,
                          "#bd3786"
                        ],
                        [
                          0.5555555555555556,
                          "#d8576b"
                        ],
                        [
                          0.6666666666666666,
                          "#ed7953"
                        ],
                        [
                          0.7777777777777778,
                          "#fb9f3a"
                        ],
                        [
                          0.8888888888888888,
                          "#fdca26"
                        ],
                        [
                          1,
                          "#f0f921"
                        ]
                      ]
                    },
                    "colorway": [
                      "#636efa",
                      "#EF553B",
                      "#00cc96",
                      "#ab63fa",
                      "#FFA15A",
                      "#19d3f3",
                      "#FF6692",
                      "#B6E880",
                      "#FF97FF",
                      "#FECB52"
                    ],
                    "font": {
                      "color": "#2a3f5f"
                    },
                    "geo": {
                      "bgcolor": "white",
                      "lakecolor": "white",
                      "landcolor": "#E5ECF6",
                      "showlakes": true,
                      "showland": true,
                      "subunitcolor": "white"
                    },
                    "hoverlabel": {
                      "align": "left"
                    },
                    "hovermode": "closest",
                    "mapbox": {
                      "style": "light"
                    },
                    "paper_bgcolor": "white",
                    "plot_bgcolor": "#E5ECF6",
                    "polar": {
                      "angularaxis": {
                        "gridcolor": "white",
                        "linecolor": "white",
                        "ticks": ""
                      },
                      "bgcolor": "#E5ECF6",
                      "radialaxis": {
                        "gridcolor": "white",
                        "linecolor": "white",
                        "ticks": ""
                      }
                    },
                    "scene": {
                      "xaxis": {
                        "backgroundcolor": "#E5ECF6",
                        "gridcolor": "white",
                        "gridwidth": 2,
                        "linecolor": "white",
                        "showbackground": true,
                        "ticks": "",
                        "zerolinecolor": "white"
                      },
                      "yaxis": {
                        "backgroundcolor": "#E5ECF6",
                        "gridcolor": "white",
                        "gridwidth": 2,
                        "linecolor": "white",
                        "showbackground": true,
                        "ticks": "",
                        "zerolinecolor": "white"
                      },
                      "zaxis": {
                        "backgroundcolor": "#E5ECF6",
                        "gridcolor": "white",
                        "gridwidth": 2,
                        "linecolor": "white",
                        "showbackground": true,
                        "ticks": "",
                        "zerolinecolor": "white"
                      }
                    },
                    "shapedefaults": {
                      "line": {
                        "color": "#2a3f5f"
                      }
                    },
                    "ternary": {
                      "aaxis": {
                        "gridcolor": "white",
                        "linecolor": "white",
                        "ticks": ""
                      },
                      "baxis": {
                        "gridcolor": "white",
                        "linecolor": "white",
                        "ticks": ""
                      },
                      "bgcolor": "#E5ECF6",
                      "caxis": {
                        "gridcolor": "white",
                        "linecolor": "white",
                        "ticks": ""
                      }
                    },
                    "title": {
                      "x": 0.05
                    },
                    "xaxis": {
                      "automargin": true,
                      "gridcolor": "white",
                      "linecolor": "white",
                      "ticks": "",
                      "title": {
                        "standoff": 15
                      },
                      "zerolinecolor": "white",
                      "zerolinewidth": 2
                    },
                    "yaxis": {
                      "automargin": true,
                      "gridcolor": "white",
                      "linecolor": "white",
                      "ticks": "",
                      "title": {
                        "standoff": 15
                      },
                      "zerolinecolor": "white",
                      "zerolinewidth": 2
                    }
                  }
                },
                "width": 1100,
                "xaxis": {
                  "anchor": "y",
                  "domain": [
                    0,
                    0.37
                  ],
                  "tickvals": [
                    2013,
                    2014,
                    2015,
                    2016,
                    2017,
                    2018,
                    2019,
                    2020,
                    2021,
                    2022,
                    2023
                  ],
                  "title": {
                    "text": "Year"
                  }
                },
                "xaxis2": {
                  "anchor": "y3",
                  "domain": [
                    0.5700000000000001,
                    0.9400000000000001
                  ],
                  "tickvals": [
                    2013,
                    2014,
                    2015,
                    2016,
                    2017,
                    2018,
                    2019,
                    2020,
                    2021,
                    2022,
                    2023
                  ],
                  "title": {
                    "text": "Year"
                  }
                },
                "xaxis3": {
                  "anchor": "y5",
                  "domain": [
                    0,
                    0.37
                  ],
                  "tickvals": [
                    2013,
                    2014,
                    2015,
                    2016,
                    2017,
                    2018,
                    2019,
                    2020,
                    2021,
                    2022,
                    2023
                  ],
                  "title": {
                    "text": "Year"
                  }
                },
                "xaxis4": {
                  "anchor": "y7",
                  "domain": [
                    0.5700000000000001,
                    0.9400000000000001
                  ],
                  "tickvals": [
                    2013,
                    2014,
                    2015,
                    2016,
                    2017,
                    2018,
                    2019,
                    2020,
                    2021,
                    2022,
                    2023
                  ],
                  "title": {
                    "text": "Year"
                  }
                },
                "yaxis": {
                  "anchor": "x",
                  "domain": [
                    0.625,
                    1
                  ],
                  "range": [
                    0,
                    80
                  ],
                  "title": {
                    "text": "Market share (%)"
                  }
                },
                "yaxis2": {
                  "anchor": "x",
                  "overlaying": "y",
                  "range": [
                    0,
                    60
                  ],
                  "side": "right",
                  "title": {
                    "text": "Models"
                  }
                },
                "yaxis3": {
                  "anchor": "x2",
                  "domain": [
                    0.625,
                    1
                  ],
                  "range": [
                    0,
                    80
                  ],
                  "title": {
                    "text": "Market share (%)"
                  }
                },
                "yaxis4": {
                  "anchor": "x2",
                  "overlaying": "y3",
                  "range": [
                    0,
                    60
                  ],
                  "side": "right",
                  "title": {
                    "text": "Models"
                  }
                },
                "yaxis5": {
                  "anchor": "x3",
                  "domain": [
                    0,
                    0.375
                  ],
                  "range": [
                    0,
                    80
                  ],
                  "title": {
                    "text": "Market share (%)"
                  }
                },
                "yaxis6": {
                  "anchor": "x3",
                  "overlaying": "y5",
                  "range": [
                    0,
                    60
                  ],
                  "side": "right",
                  "title": {
                    "text": "Models"
                  }
                },
                "yaxis7": {
                  "anchor": "x4",
                  "domain": [
                    0,
                    0.375
                  ],
                  "range": [
                    0,
                    80
                  ],
                  "title": {
                    "text": "Market share (%)"
                  }
                },
                "yaxis8": {
                  "anchor": "x4",
                  "overlaying": "y7",
                  "range": [
                    0,
                    60
                  ],
                  "side": "right",
                  "title": {
                    "text": "Models"
                  }
                }
              }
            }
          },
          "metadata": {},
          "output_type": "display_data"
        }
      ],
      "source": [
        "regional_data = data.groupby(['Region', 'Year']).agg({\n",
        "    'Market share': 'sum',\n",
        "    'Model': 'count'\n",
        "}).reset_index()\n",
        "\n",
        "# China and GB is not in the data in some years\n",
        "# Fill missing combinations with zeros\n",
        "regions = data['Region'].unique()\n",
        "years = data['Year'].unique()\n",
        "combinations = [(region, year) for region in regions for year in years]\n",
        "missing_combinations = set(combinations) - set(zip(regional_data['Region'], regional_data['Year']))\n",
        "missing_rows = pd.DataFrame(list(missing_combinations), columns=['Region', 'Year'])\n",
        "missing_rows['Market share'] = 0\n",
        "missing_rows['Model'] = 0\n",
        "\n",
        "regional_data2 = pd.concat([regional_data, missing_rows], ignore_index=True)\n",
        "\n",
        "regional_data2['Market share'] *= 100\n",
        "\n",
        "regional_data2 = regional_data2[['Region', 'Year', 'Market share', 'Model']]\n",
        "\n",
        "\n",
        "grouped_data3 = regional_data2.groupby(['Region', 'Year']).agg({\n",
        "    'Market share': 'sum',\n",
        "    'Model': 'sum'\n",
        "}).reset_index()\n",
        "\n",
        "\n",
        "fig = make_subplots(rows=2, cols=2,\n",
        "                    specs=[[{\"secondary_y\": True}, {\"secondary_y\": True}],\n",
        "                           [{\"secondary_y\": True}, {\"secondary_y\": True}]],\n",
        "                           subplot_titles=(\"Asia\", \"China\", \"EU\", 'US'))\n",
        "\n",
        "\n",
        "# Asia\n",
        "fig.add_trace(\n",
        "    go.Scatter(x=grouped_data3['Year'].unique(), y=grouped_data3[grouped_data3['Region']=='Asia']['Market share'], name=\"Asia Market share\",\n",
        "                line=dict(color='green')),row=1, col=1, secondary_y=False)\n",
        "\n",
        "fig.add_trace(\n",
        "    go.Scatter(x=grouped_data3['Year'].unique(), y=grouped_data3[grouped_data3['Region']=='Asia']['Model'], name=\"Asia Models\",\n",
        "    line=dict(dash='dash', color='green')), row=1, col=1, secondary_y=True,\n",
        ")\n",
        "\n",
        "\n",
        "# China\n",
        "fig.add_trace(\n",
        "    go.Scatter(x=grouped_data3['Year'].unique(), y=grouped_data3[grouped_data3['Region']=='China']['Market share'], name=\"China Market share\",\n",
        "                line=dict(color='red')),row=1, col=2, secondary_y=False)\n",
        "\n",
        "fig.add_trace(\n",
        "    go.Scatter(x=grouped_data3['Year'].unique(), y=grouped_data3[grouped_data3['Region']=='China']['Model'], name=\"China Models\",\n",
        "    line=dict(dash='dash', color='red')), row=1, col=2, secondary_y=True,\n",
        ")\n",
        "\n",
        "\n",
        "# EU\n",
        "fig.add_trace(\n",
        "    go.Scatter(x=grouped_data3['Year'].unique(), y=grouped_data3[grouped_data3['Region']=='EU']['Market share'], name=\"EU Market share\",\n",
        "                line=dict(color='blue')),row=2, col=1, secondary_y=False)\n",
        "\n",
        "fig.add_trace(\n",
        "    go.Scatter(x=grouped_data3['Year'].unique(), y=grouped_data3[grouped_data3['Region']=='EU']['Model'], name=\"EU Models\",\n",
        "    line=dict(dash='dash', color='blue')), row=2, col=1, secondary_y=True,\n",
        ")\n",
        "\n",
        "\n",
        "# US\n",
        "fig.add_trace(\n",
        "    go.Scatter(x=grouped_data3['Year'].unique(), y=grouped_data3[grouped_data3['Region']=='US']['Market share'], name=\"US Market share\",\n",
        "                line=dict(color='black')),row=2, col=2, secondary_y=False)\n",
        "\n",
        "fig.add_trace(\n",
        "    go.Scatter(x=grouped_data3['Year'].unique(), y=grouped_data3[grouped_data3['Region']=='US']['Model'], name=\"US Models\",\n",
        "    line=dict(dash='dash', color='black')), row=2, col=2, secondary_y=True,\n",
        ")\n",
        "\n",
        "\n",
        "fig.update_xaxes(title_text=\"Year\", tickvals=grouped_data3['Year'].unique())\n",
        "\n",
        "fig.update_yaxes(title_text=\"Market share (%)\", range=(0, 80), secondary_y=False)\n",
        "\n",
        "fig.update_yaxes(title_text=\"Models\", range=(0, 60), secondary_y=True)\n",
        "\n",
        "# Update yaxis properties\n",
        "#fig.update_yaxes(title_text=\"yaxis 1 title\", row=1, col=1)\n",
        "#fig.update_yaxes(title_text=\"yaxis 2 title\", range=[40, 80], row=1, col=2)\n",
        "#fig.update_yaxes(title_text=\"yaxis 3 title\", showgrid=False, row=2, col=1)\n",
        "#fig.update_yaxes(title_text=\"yaxis 4 title\", row=2, col=2)\n",
        "\n",
        "fig.update_layout(\n",
        "    height=600,  \n",
        "    width=1100\n",
        ")\n",
        "\n",
        "fig.show()"
      ]
    },
    {
      "cell_type": "code",
      "execution_count": 152,
      "metadata": {},
      "outputs": [
        {
          "data": {
            "application/vnd.plotly.v1+json": {
              "config": {
                "plotlyServerURL": "https://plot.ly"
              },
              "data": [
                {
                  "domain": {
                    "x": [
                      0,
                      0.1388888888888889
                    ],
                    "y": [
                      0.575,
                      1
                    ]
                  },
                  "hoverinfo": "label+value+name",
                  "labels": [
                    "Asia",
                    "EU",
                    "US"
                  ],
                  "marker": {
                    "colors": [
                      "green",
                      "blue",
                      "black"
                    ]
                  },
                  "name": "2013",
                  "scalegroup": "one",
                  "textinfo": "label+percent",
                  "type": "pie",
                  "values": [
                    211,
                    124,
                    112
                  ]
                },
                {
                  "domain": {
                    "x": [
                      0.17222222222222222,
                      0.3111111111111111
                    ],
                    "y": [
                      0.575,
                      1
                    ]
                  },
                  "hoverinfo": "label+value+name",
                  "labels": [
                    "Asia",
                    "EU",
                    "US"
                  ],
                  "marker": {
                    "colors": [
                      "green",
                      "blue",
                      "black"
                    ]
                  },
                  "name": "2014",
                  "scalegroup": "one",
                  "textinfo": "label+percent",
                  "type": "pie",
                  "values": [
                    577,
                    446,
                    462
                  ]
                },
                {
                  "domain": {
                    "x": [
                      0.34444444444444444,
                      0.48333333333333334
                    ],
                    "y": [
                      0.575,
                      1
                    ]
                  },
                  "hoverinfo": "label+value+name",
                  "labels": [
                    "Asia",
                    "EU",
                    "US"
                  ],
                  "marker": {
                    "colors": [
                      "green",
                      "blue",
                      "black"
                    ]
                  },
                  "name": "2015",
                  "scalegroup": "one",
                  "textinfo": "label+percent",
                  "type": "pie",
                  "values": [
                    227,
                    990,
                    2725
                  ]
                },
                {
                  "domain": {
                    "x": [
                      0.5166666666666667,
                      0.6555555555555557
                    ],
                    "y": [
                      0.575,
                      1
                    ]
                  },
                  "hoverinfo": "label+value+name",
                  "labels": [
                    "Asia",
                    "EU",
                    "US"
                  ],
                  "marker": {
                    "colors": [
                      "green",
                      "blue",
                      "black"
                    ]
                  },
                  "name": "2016",
                  "scalegroup": "one",
                  "textinfo": "label+percent",
                  "type": "pie",
                  "values": [
                    103,
                    911,
                    176
                  ]
                },
                {
                  "domain": {
                    "x": [
                      0.6888888888888889,
                      0.8277777777777777
                    ],
                    "y": [
                      0.575,
                      1
                    ]
                  },
                  "hoverinfo": "label+value+name",
                  "labels": [
                    "Asia",
                    "EU",
                    "US"
                  ],
                  "marker": {
                    "colors": [
                      "green",
                      "blue",
                      "black"
                    ]
                  },
                  "name": "2017",
                  "scalegroup": "one",
                  "textinfo": "label+percent",
                  "type": "pie",
                  "values": [
                    57,
                    495,
                    98
                  ]
                },
                {
                  "domain": {
                    "x": [
                      0.861111111111111,
                      1
                    ],
                    "y": [
                      0.575,
                      1
                    ]
                  },
                  "hoverinfo": "label+value+name",
                  "labels": [
                    "Asia",
                    "EU",
                    "GB",
                    "US"
                  ],
                  "marker": {
                    "colors": [
                      "green",
                      "blue",
                      "brown",
                      "black"
                    ]
                  },
                  "name": "2018",
                  "scalegroup": "one",
                  "textinfo": "label+percent",
                  "type": "pie",
                  "values": [
                    799,
                    561,
                    12,
                    95
                  ]
                },
                {
                  "domain": {
                    "x": [
                      0,
                      0.1388888888888889
                    ],
                    "y": [
                      0,
                      0.425
                    ]
                  },
                  "hoverinfo": "label+value+name",
                  "labels": [
                    "Asia",
                    "EU",
                    "GB",
                    "US"
                  ],
                  "marker": {
                    "colors": [
                      "green",
                      "blue",
                      "brown",
                      "black"
                    ]
                  },
                  "name": "2019",
                  "scalegroup": "one",
                  "textinfo": "label+percent",
                  "type": "pie",
                  "values": [
                    1348,
                    1286,
                    96,
                    2734
                  ]
                },
                {
                  "domain": {
                    "x": [
                      0.17222222222222222,
                      0.3111111111111111
                    ],
                    "y": [
                      0,
                      0.425
                    ]
                  },
                  "hoverinfo": "label+value+name",
                  "labels": [
                    "Asia",
                    "China",
                    "EU",
                    "GB",
                    "US"
                  ],
                  "marker": {
                    "colors": [
                      "green",
                      "red",
                      "blue",
                      "brown",
                      "black"
                    ]
                  },
                  "name": "2020",
                  "scalegroup": "one",
                  "textinfo": "label+percent",
                  "type": "pie",
                  "values": [
                    3139,
                    328,
                    5579,
                    391,
                    4721
                  ]
                },
                {
                  "domain": {
                    "x": [
                      0.34444444444444444,
                      0.48333333333333334
                    ],
                    "y": [
                      0,
                      0.425
                    ]
                  },
                  "hoverinfo": "label+value+name",
                  "labels": [
                    "Asia",
                    "China",
                    "EU",
                    "GB",
                    "US"
                  ],
                  "marker": {
                    "colors": [
                      "green",
                      "red",
                      "blue",
                      "brown",
                      "black"
                    ]
                  },
                  "name": "2021",
                  "scalegroup": "one",
                  "textinfo": "label+percent",
                  "type": "pie",
                  "values": [
                    4722,
                    539,
                    14736,
                    287,
                    4491
                  ]
                },
                {
                  "domain": {
                    "x": [
                      0.5166666666666667,
                      0.6555555555555557
                    ],
                    "y": [
                      0,
                      0.425
                    ]
                  },
                  "hoverinfo": "label+value+name",
                  "labels": [
                    "Asia",
                    "China",
                    "EU",
                    "GB",
                    "US"
                  ],
                  "marker": {
                    "colors": [
                      "green",
                      "red",
                      "blue",
                      "brown",
                      "black"
                    ]
                  },
                  "name": "2022",
                  "scalegroup": "one",
                  "textinfo": "label+percent",
                  "type": "pie",
                  "values": [
                    3831,
                    918,
                    21410,
                    212,
                    4250
                  ]
                },
                {
                  "domain": {
                    "x": [
                      0.6888888888888889,
                      0.8277777777777777
                    ],
                    "y": [
                      0,
                      0.425
                    ]
                  },
                  "hoverinfo": "label+value+name",
                  "labels": [
                    "Asia",
                    "China",
                    "EU",
                    "GB",
                    "US"
                  ],
                  "marker": {
                    "colors": [
                      "green",
                      "red",
                      "blue",
                      "brown",
                      "black"
                    ]
                  },
                  "name": "2023",
                  "scalegroup": "one",
                  "textinfo": "label+percent",
                  "type": "pie",
                  "values": [
                    5955,
                    2240,
                    29790,
                    152,
                    23748
                  ]
                }
              ],
              "layout": {
                "template": {
                  "data": {
                    "bar": [
                      {
                        "error_x": {
                          "color": "#2a3f5f"
                        },
                        "error_y": {
                          "color": "#2a3f5f"
                        },
                        "marker": {
                          "line": {
                            "color": "#E5ECF6",
                            "width": 0.5
                          },
                          "pattern": {
                            "fillmode": "overlay",
                            "size": 10,
                            "solidity": 0.2
                          }
                        },
                        "type": "bar"
                      }
                    ],
                    "barpolar": [
                      {
                        "marker": {
                          "line": {
                            "color": "#E5ECF6",
                            "width": 0.5
                          },
                          "pattern": {
                            "fillmode": "overlay",
                            "size": 10,
                            "solidity": 0.2
                          }
                        },
                        "type": "barpolar"
                      }
                    ],
                    "carpet": [
                      {
                        "aaxis": {
                          "endlinecolor": "#2a3f5f",
                          "gridcolor": "white",
                          "linecolor": "white",
                          "minorgridcolor": "white",
                          "startlinecolor": "#2a3f5f"
                        },
                        "baxis": {
                          "endlinecolor": "#2a3f5f",
                          "gridcolor": "white",
                          "linecolor": "white",
                          "minorgridcolor": "white",
                          "startlinecolor": "#2a3f5f"
                        },
                        "type": "carpet"
                      }
                    ],
                    "choropleth": [
                      {
                        "colorbar": {
                          "outlinewidth": 0,
                          "ticks": ""
                        },
                        "type": "choropleth"
                      }
                    ],
                    "contour": [
                      {
                        "colorbar": {
                          "outlinewidth": 0,
                          "ticks": ""
                        },
                        "colorscale": [
                          [
                            0,
                            "#0d0887"
                          ],
                          [
                            0.1111111111111111,
                            "#46039f"
                          ],
                          [
                            0.2222222222222222,
                            "#7201a8"
                          ],
                          [
                            0.3333333333333333,
                            "#9c179e"
                          ],
                          [
                            0.4444444444444444,
                            "#bd3786"
                          ],
                          [
                            0.5555555555555556,
                            "#d8576b"
                          ],
                          [
                            0.6666666666666666,
                            "#ed7953"
                          ],
                          [
                            0.7777777777777778,
                            "#fb9f3a"
                          ],
                          [
                            0.8888888888888888,
                            "#fdca26"
                          ],
                          [
                            1,
                            "#f0f921"
                          ]
                        ],
                        "type": "contour"
                      }
                    ],
                    "contourcarpet": [
                      {
                        "colorbar": {
                          "outlinewidth": 0,
                          "ticks": ""
                        },
                        "type": "contourcarpet"
                      }
                    ],
                    "heatmap": [
                      {
                        "colorbar": {
                          "outlinewidth": 0,
                          "ticks": ""
                        },
                        "colorscale": [
                          [
                            0,
                            "#0d0887"
                          ],
                          [
                            0.1111111111111111,
                            "#46039f"
                          ],
                          [
                            0.2222222222222222,
                            "#7201a8"
                          ],
                          [
                            0.3333333333333333,
                            "#9c179e"
                          ],
                          [
                            0.4444444444444444,
                            "#bd3786"
                          ],
                          [
                            0.5555555555555556,
                            "#d8576b"
                          ],
                          [
                            0.6666666666666666,
                            "#ed7953"
                          ],
                          [
                            0.7777777777777778,
                            "#fb9f3a"
                          ],
                          [
                            0.8888888888888888,
                            "#fdca26"
                          ],
                          [
                            1,
                            "#f0f921"
                          ]
                        ],
                        "type": "heatmap"
                      }
                    ],
                    "heatmapgl": [
                      {
                        "colorbar": {
                          "outlinewidth": 0,
                          "ticks": ""
                        },
                        "colorscale": [
                          [
                            0,
                            "#0d0887"
                          ],
                          [
                            0.1111111111111111,
                            "#46039f"
                          ],
                          [
                            0.2222222222222222,
                            "#7201a8"
                          ],
                          [
                            0.3333333333333333,
                            "#9c179e"
                          ],
                          [
                            0.4444444444444444,
                            "#bd3786"
                          ],
                          [
                            0.5555555555555556,
                            "#d8576b"
                          ],
                          [
                            0.6666666666666666,
                            "#ed7953"
                          ],
                          [
                            0.7777777777777778,
                            "#fb9f3a"
                          ],
                          [
                            0.8888888888888888,
                            "#fdca26"
                          ],
                          [
                            1,
                            "#f0f921"
                          ]
                        ],
                        "type": "heatmapgl"
                      }
                    ],
                    "histogram": [
                      {
                        "marker": {
                          "pattern": {
                            "fillmode": "overlay",
                            "size": 10,
                            "solidity": 0.2
                          }
                        },
                        "type": "histogram"
                      }
                    ],
                    "histogram2d": [
                      {
                        "colorbar": {
                          "outlinewidth": 0,
                          "ticks": ""
                        },
                        "colorscale": [
                          [
                            0,
                            "#0d0887"
                          ],
                          [
                            0.1111111111111111,
                            "#46039f"
                          ],
                          [
                            0.2222222222222222,
                            "#7201a8"
                          ],
                          [
                            0.3333333333333333,
                            "#9c179e"
                          ],
                          [
                            0.4444444444444444,
                            "#bd3786"
                          ],
                          [
                            0.5555555555555556,
                            "#d8576b"
                          ],
                          [
                            0.6666666666666666,
                            "#ed7953"
                          ],
                          [
                            0.7777777777777778,
                            "#fb9f3a"
                          ],
                          [
                            0.8888888888888888,
                            "#fdca26"
                          ],
                          [
                            1,
                            "#f0f921"
                          ]
                        ],
                        "type": "histogram2d"
                      }
                    ],
                    "histogram2dcontour": [
                      {
                        "colorbar": {
                          "outlinewidth": 0,
                          "ticks": ""
                        },
                        "colorscale": [
                          [
                            0,
                            "#0d0887"
                          ],
                          [
                            0.1111111111111111,
                            "#46039f"
                          ],
                          [
                            0.2222222222222222,
                            "#7201a8"
                          ],
                          [
                            0.3333333333333333,
                            "#9c179e"
                          ],
                          [
                            0.4444444444444444,
                            "#bd3786"
                          ],
                          [
                            0.5555555555555556,
                            "#d8576b"
                          ],
                          [
                            0.6666666666666666,
                            "#ed7953"
                          ],
                          [
                            0.7777777777777778,
                            "#fb9f3a"
                          ],
                          [
                            0.8888888888888888,
                            "#fdca26"
                          ],
                          [
                            1,
                            "#f0f921"
                          ]
                        ],
                        "type": "histogram2dcontour"
                      }
                    ],
                    "mesh3d": [
                      {
                        "colorbar": {
                          "outlinewidth": 0,
                          "ticks": ""
                        },
                        "type": "mesh3d"
                      }
                    ],
                    "parcoords": [
                      {
                        "line": {
                          "colorbar": {
                            "outlinewidth": 0,
                            "ticks": ""
                          }
                        },
                        "type": "parcoords"
                      }
                    ],
                    "pie": [
                      {
                        "automargin": true,
                        "type": "pie"
                      }
                    ],
                    "scatter": [
                      {
                        "marker": {
                          "colorbar": {
                            "outlinewidth": 0,
                            "ticks": ""
                          }
                        },
                        "type": "scatter"
                      }
                    ],
                    "scatter3d": [
                      {
                        "line": {
                          "colorbar": {
                            "outlinewidth": 0,
                            "ticks": ""
                          }
                        },
                        "marker": {
                          "colorbar": {
                            "outlinewidth": 0,
                            "ticks": ""
                          }
                        },
                        "type": "scatter3d"
                      }
                    ],
                    "scattercarpet": [
                      {
                        "marker": {
                          "colorbar": {
                            "outlinewidth": 0,
                            "ticks": ""
                          }
                        },
                        "type": "scattercarpet"
                      }
                    ],
                    "scattergeo": [
                      {
                        "marker": {
                          "colorbar": {
                            "outlinewidth": 0,
                            "ticks": ""
                          }
                        },
                        "type": "scattergeo"
                      }
                    ],
                    "scattergl": [
                      {
                        "marker": {
                          "colorbar": {
                            "outlinewidth": 0,
                            "ticks": ""
                          }
                        },
                        "type": "scattergl"
                      }
                    ],
                    "scattermapbox": [
                      {
                        "marker": {
                          "colorbar": {
                            "outlinewidth": 0,
                            "ticks": ""
                          }
                        },
                        "type": "scattermapbox"
                      }
                    ],
                    "scatterpolar": [
                      {
                        "marker": {
                          "colorbar": {
                            "outlinewidth": 0,
                            "ticks": ""
                          }
                        },
                        "type": "scatterpolar"
                      }
                    ],
                    "scatterpolargl": [
                      {
                        "marker": {
                          "colorbar": {
                            "outlinewidth": 0,
                            "ticks": ""
                          }
                        },
                        "type": "scatterpolargl"
                      }
                    ],
                    "scatterternary": [
                      {
                        "marker": {
                          "colorbar": {
                            "outlinewidth": 0,
                            "ticks": ""
                          }
                        },
                        "type": "scatterternary"
                      }
                    ],
                    "surface": [
                      {
                        "colorbar": {
                          "outlinewidth": 0,
                          "ticks": ""
                        },
                        "colorscale": [
                          [
                            0,
                            "#0d0887"
                          ],
                          [
                            0.1111111111111111,
                            "#46039f"
                          ],
                          [
                            0.2222222222222222,
                            "#7201a8"
                          ],
                          [
                            0.3333333333333333,
                            "#9c179e"
                          ],
                          [
                            0.4444444444444444,
                            "#bd3786"
                          ],
                          [
                            0.5555555555555556,
                            "#d8576b"
                          ],
                          [
                            0.6666666666666666,
                            "#ed7953"
                          ],
                          [
                            0.7777777777777778,
                            "#fb9f3a"
                          ],
                          [
                            0.8888888888888888,
                            "#fdca26"
                          ],
                          [
                            1,
                            "#f0f921"
                          ]
                        ],
                        "type": "surface"
                      }
                    ],
                    "table": [
                      {
                        "cells": {
                          "fill": {
                            "color": "#EBF0F8"
                          },
                          "line": {
                            "color": "white"
                          }
                        },
                        "header": {
                          "fill": {
                            "color": "#C8D4E3"
                          },
                          "line": {
                            "color": "white"
                          }
                        },
                        "type": "table"
                      }
                    ]
                  },
                  "layout": {
                    "annotationdefaults": {
                      "arrowcolor": "#2a3f5f",
                      "arrowhead": 0,
                      "arrowwidth": 1
                    },
                    "autotypenumbers": "strict",
                    "coloraxis": {
                      "colorbar": {
                        "outlinewidth": 0,
                        "ticks": ""
                      }
                    },
                    "colorscale": {
                      "diverging": [
                        [
                          0,
                          "#8e0152"
                        ],
                        [
                          0.1,
                          "#c51b7d"
                        ],
                        [
                          0.2,
                          "#de77ae"
                        ],
                        [
                          0.3,
                          "#f1b6da"
                        ],
                        [
                          0.4,
                          "#fde0ef"
                        ],
                        [
                          0.5,
                          "#f7f7f7"
                        ],
                        [
                          0.6,
                          "#e6f5d0"
                        ],
                        [
                          0.7,
                          "#b8e186"
                        ],
                        [
                          0.8,
                          "#7fbc41"
                        ],
                        [
                          0.9,
                          "#4d9221"
                        ],
                        [
                          1,
                          "#276419"
                        ]
                      ],
                      "sequential": [
                        [
                          0,
                          "#0d0887"
                        ],
                        [
                          0.1111111111111111,
                          "#46039f"
                        ],
                        [
                          0.2222222222222222,
                          "#7201a8"
                        ],
                        [
                          0.3333333333333333,
                          "#9c179e"
                        ],
                        [
                          0.4444444444444444,
                          "#bd3786"
                        ],
                        [
                          0.5555555555555556,
                          "#d8576b"
                        ],
                        [
                          0.6666666666666666,
                          "#ed7953"
                        ],
                        [
                          0.7777777777777778,
                          "#fb9f3a"
                        ],
                        [
                          0.8888888888888888,
                          "#fdca26"
                        ],
                        [
                          1,
                          "#f0f921"
                        ]
                      ],
                      "sequentialminus": [
                        [
                          0,
                          "#0d0887"
                        ],
                        [
                          0.1111111111111111,
                          "#46039f"
                        ],
                        [
                          0.2222222222222222,
                          "#7201a8"
                        ],
                        [
                          0.3333333333333333,
                          "#9c179e"
                        ],
                        [
                          0.4444444444444444,
                          "#bd3786"
                        ],
                        [
                          0.5555555555555556,
                          "#d8576b"
                        ],
                        [
                          0.6666666666666666,
                          "#ed7953"
                        ],
                        [
                          0.7777777777777778,
                          "#fb9f3a"
                        ],
                        [
                          0.8888888888888888,
                          "#fdca26"
                        ],
                        [
                          1,
                          "#f0f921"
                        ]
                      ]
                    },
                    "colorway": [
                      "#636efa",
                      "#EF553B",
                      "#00cc96",
                      "#ab63fa",
                      "#FFA15A",
                      "#19d3f3",
                      "#FF6692",
                      "#B6E880",
                      "#FF97FF",
                      "#FECB52"
                    ],
                    "font": {
                      "color": "#2a3f5f"
                    },
                    "geo": {
                      "bgcolor": "white",
                      "lakecolor": "white",
                      "landcolor": "#E5ECF6",
                      "showlakes": true,
                      "showland": true,
                      "subunitcolor": "white"
                    },
                    "hoverlabel": {
                      "align": "left"
                    },
                    "hovermode": "closest",
                    "mapbox": {
                      "style": "light"
                    },
                    "paper_bgcolor": "white",
                    "plot_bgcolor": "#E5ECF6",
                    "polar": {
                      "angularaxis": {
                        "gridcolor": "white",
                        "linecolor": "white",
                        "ticks": ""
                      },
                      "bgcolor": "#E5ECF6",
                      "radialaxis": {
                        "gridcolor": "white",
                        "linecolor": "white",
                        "ticks": ""
                      }
                    },
                    "scene": {
                      "xaxis": {
                        "backgroundcolor": "#E5ECF6",
                        "gridcolor": "white",
                        "gridwidth": 2,
                        "linecolor": "white",
                        "showbackground": true,
                        "ticks": "",
                        "zerolinecolor": "white"
                      },
                      "yaxis": {
                        "backgroundcolor": "#E5ECF6",
                        "gridcolor": "white",
                        "gridwidth": 2,
                        "linecolor": "white",
                        "showbackground": true,
                        "ticks": "",
                        "zerolinecolor": "white"
                      },
                      "zaxis": {
                        "backgroundcolor": "#E5ECF6",
                        "gridcolor": "white",
                        "gridwidth": 2,
                        "linecolor": "white",
                        "showbackground": true,
                        "ticks": "",
                        "zerolinecolor": "white"
                      }
                    },
                    "shapedefaults": {
                      "line": {
                        "color": "#2a3f5f"
                      }
                    },
                    "ternary": {
                      "aaxis": {
                        "gridcolor": "white",
                        "linecolor": "white",
                        "ticks": ""
                      },
                      "baxis": {
                        "gridcolor": "white",
                        "linecolor": "white",
                        "ticks": ""
                      },
                      "bgcolor": "#E5ECF6",
                      "caxis": {
                        "gridcolor": "white",
                        "linecolor": "white",
                        "ticks": ""
                      }
                    },
                    "title": {
                      "x": 0.05
                    },
                    "xaxis": {
                      "automargin": true,
                      "gridcolor": "white",
                      "linecolor": "white",
                      "ticks": "",
                      "title": {
                        "standoff": 15
                      },
                      "zerolinecolor": "white",
                      "zerolinewidth": 2
                    },
                    "yaxis": {
                      "automargin": true,
                      "gridcolor": "white",
                      "linecolor": "white",
                      "ticks": "",
                      "title": {
                        "standoff": 15
                      },
                      "zerolinecolor": "white",
                      "zerolinewidth": 2
                    }
                  }
                },
                "title": {
                  "text": "Market share in the Danish EV market by region and year"
                }
              }
            }
          },
          "metadata": {},
          "output_type": "display_data"
        }
      ],
      "source": [
        "# Sort the 'data' DataFrame by 'Year'\n",
        "data_sorted = data.sort_values(by='Year')\n",
        "\n",
        "# Get unique years\n",
        "years = data_sorted['Year'].unique()\n",
        "\n",
        "# Calculate the number of pie charts per line\n",
        "num_charts_per_line = (len(years) + 1) // 2  # Round up to ensure half the charts are on each line\n",
        "\n",
        "# Create subplots with two rows and the calculated number of columns\n",
        "fig = make_subplots(rows=2, cols=num_charts_per_line, specs=[[{'type':'domain'}] * num_charts_per_line] * 2)\n",
        "\n",
        "\n",
        "# Iterate over each year\n",
        "for i, year in enumerate(years, start=1):\n",
        "    # Calculate the row and column indices for the current chart\n",
        "    row_index = (i - 1) // num_charts_per_line + 1  # Divide by the number of charts per line and round up\n",
        "    col_index = (i - 1) % num_charts_per_line + 1\n",
        "    \n",
        "    # Filter data for the current year\n",
        "    year_data = data_sorted[data_sorted['Year'] == year]\n",
        "    \n",
        "    # Group the data by region and sum up the sales\n",
        "    sales_by_region = year_data.groupby('Region')['Sales'].sum().reset_index()\n",
        "    \n",
        "    # Add a pie chart trace for the current year\n",
        "    pie_trace = go.Pie(\n",
        "        labels=sales_by_region['Region'], \n",
        "        values=sales_by_region['Sales'], \n",
        "        scalegroup='one', \n",
        "        name=f\"{year}\",\n",
        "        marker=dict(colors=[color_region[region] for region in sales_by_region['Region']]),\n",
        "        textinfo='label+percent',\n",
        "        hoverinfo='label+value+name'  # Include value of sales in the hover info\n",
        "    )\n",
        "    \n",
        "    fig.add_trace(pie_trace, row=row_index, col=col_index)\n",
        "\n",
        "# Update layout\n",
        "fig.update_layout(title_text='Market share in the Danish EV market by region and year')\n",
        "\n",
        "fig.show()\n"
      ]
    },
    {
      "cell_type": "code",
      "execution_count": 153,
      "metadata": {},
      "outputs": [
        {
          "data": {
            "image/png": "[encoded data removed]",
            "text/plain": [
              "<Figure size 720x432 with 1 Axes>"
            ]
          },
          "metadata": {
            "needs_background": "light"
          },
          "output_type": "display_data"
        }
      ],
      "source": [
        "# Group the data by Year and Type and calculate the count of models\n",
        "grouped_segment = data.groupby(['Year', 'Segment'])['Model'].count().reset_index()\n",
        "\n",
        "# Sort unique values of 'Type' alphabetically\n",
        "sorted_types = sorted(grouped_segment['Segment'].unique())\n",
        "\n",
        "# Create the bar plot\n",
        "plt.figure(figsize=(10, 6))\n",
        "sns.barplot(x='Year', y='Model', hue='Segment', data=grouped_segment, hue_order=sorted_types)\n",
        "plt.title('Number of Models for Each Segment per Year')\n",
        "plt.xlabel('Year')\n",
        "plt.ylabel('Number of Models')\n",
        "plt.legend(loc='upper left', bbox_to_anchor=(1, 1))\n",
        "plt.show()\n"
      ]
    },
    {
      "cell_type": "code",
      "execution_count": 154,
      "metadata": {},
      "outputs": [
        {
          "data": {
            "text/html": [
              "<div>\n",
              "<style scoped>\n",
              "    .dataframe tbody tr th:only-of-type {\n",
              "        vertical-align: middle;\n",
              "    }\n",
              "\n",
              "    .dataframe tbody tr th {\n",
              "        vertical-align: top;\n",
              "    }\n",
              "\n",
              "    .dataframe thead th {\n",
              "        text-align: right;\n",
              "    }\n",
              "</style>\n",
              "<table border=\"1\" class=\"dataframe\">\n",
              "  <thead>\n",
              "    <tr style=\"text-align: right;\">\n",
              "      <th></th>\n",
              "      <th>ID</th>\n",
              "      <th>Year</th>\n",
              "      <th>Market share</th>\n",
              "      <th>Manufacturer</th>\n",
              "      <th>Model</th>\n",
              "      <th>Range</th>\n",
              "      <th>Price</th>\n",
              "      <th>HP</th>\n",
              "      <th>Chargetime</th>\n",
              "      <th>Type</th>\n",
              "      <th>Segment</th>\n",
              "      <th>Country</th>\n",
              "      <th>Sales</th>\n",
              "      <th>Region</th>\n",
              "    </tr>\n",
              "  </thead>\n",
              "  <tbody>\n",
              "    <tr>\n",
              "      <th>759</th>\n",
              "      <td>132</td>\n",
              "      <td>2013</td>\n",
              "      <td>0.472036</td>\n",
              "      <td>Nissan</td>\n",
              "      <td>Leaf</td>\n",
              "      <td>328</td>\n",
              "      <td>253690.0</td>\n",
              "      <td>147</td>\n",
              "      <td>43</td>\n",
              "      <td>Hatchback</td>\n",
              "      <td>C</td>\n",
              "      <td>JP</td>\n",
              "      <td>211</td>\n",
              "      <td>Asia</td>\n",
              "    </tr>\n",
              "    <tr>\n",
              "      <th>760</th>\n",
              "      <td>132</td>\n",
              "      <td>2014</td>\n",
              "      <td>0.388552</td>\n",
              "      <td>Nissan</td>\n",
              "      <td>Leaf</td>\n",
              "      <td>328</td>\n",
              "      <td>253690.0</td>\n",
              "      <td>147</td>\n",
              "      <td>43</td>\n",
              "      <td>Hatchback</td>\n",
              "      <td>C</td>\n",
              "      <td>JP</td>\n",
              "      <td>577</td>\n",
              "      <td>Asia</td>\n",
              "    </tr>\n",
              "    <tr>\n",
              "      <th>992</th>\n",
              "      <td>173</td>\n",
              "      <td>2015</td>\n",
              "      <td>0.691273</td>\n",
              "      <td>Tesla</td>\n",
              "      <td>Model S</td>\n",
              "      <td>609</td>\n",
              "      <td>718250.0</td>\n",
              "      <td>675</td>\n",
              "      <td>30</td>\n",
              "      <td>Liftback</td>\n",
              "      <td>F</td>\n",
              "      <td>US</td>\n",
              "      <td>2725</td>\n",
              "      <td>US</td>\n",
              "    </tr>\n",
              "    <tr>\n",
              "      <th>905</th>\n",
              "      <td>158</td>\n",
              "      <td>2016</td>\n",
              "      <td>0.514286</td>\n",
              "      <td>Renault</td>\n",
              "      <td>Zoe</td>\n",
              "      <td>365</td>\n",
              "      <td>258205.2</td>\n",
              "      <td>134</td>\n",
              "      <td>56</td>\n",
              "      <td>Hatchback</td>\n",
              "      <td>B</td>\n",
              "      <td>FR</td>\n",
              "      <td>612</td>\n",
              "      <td>EU</td>\n",
              "    </tr>\n",
              "    <tr>\n",
              "      <th>906</th>\n",
              "      <td>158</td>\n",
              "      <td>2017</td>\n",
              "      <td>0.595385</td>\n",
              "      <td>Renault</td>\n",
              "      <td>Zoe</td>\n",
              "      <td>365</td>\n",
              "      <td>258205.2</td>\n",
              "      <td>134</td>\n",
              "      <td>56</td>\n",
              "      <td>Hatchback</td>\n",
              "      <td>B</td>\n",
              "      <td>FR</td>\n",
              "      <td>387</td>\n",
              "      <td>EU</td>\n",
              "    </tr>\n",
              "    <tr>\n",
              "      <th>764</th>\n",
              "      <td>132</td>\n",
              "      <td>2018</td>\n",
              "      <td>0.434219</td>\n",
              "      <td>Nissan</td>\n",
              "      <td>Leaf</td>\n",
              "      <td>328</td>\n",
              "      <td>296943.5</td>\n",
              "      <td>147</td>\n",
              "      <td>43</td>\n",
              "      <td>Hatchback</td>\n",
              "      <td>C</td>\n",
              "      <td>JP</td>\n",
              "      <td>637</td>\n",
              "      <td>Asia</td>\n",
              "    </tr>\n",
              "    <tr>\n",
              "      <th>985</th>\n",
              "      <td>172</td>\n",
              "      <td>2019</td>\n",
              "      <td>0.446376</td>\n",
              "      <td>Tesla</td>\n",
              "      <td>Model 3</td>\n",
              "      <td>542</td>\n",
              "      <td>437753.3</td>\n",
              "      <td>278</td>\n",
              "      <td>25</td>\n",
              "      <td>Sedan</td>\n",
              "      <td>D</td>\n",
              "      <td>US</td>\n",
              "      <td>2439</td>\n",
              "      <td>US</td>\n",
              "    </tr>\n",
              "    <tr>\n",
              "      <th>986</th>\n",
              "      <td>172</td>\n",
              "      <td>2020</td>\n",
              "      <td>0.302091</td>\n",
              "      <td>Tesla</td>\n",
              "      <td>Model 3</td>\n",
              "      <td>542</td>\n",
              "      <td>442589.3</td>\n",
              "      <td>278</td>\n",
              "      <td>25</td>\n",
              "      <td>Sedan</td>\n",
              "      <td>D</td>\n",
              "      <td>US</td>\n",
              "      <td>4277</td>\n",
              "      <td>US</td>\n",
              "    </tr>\n",
              "    <tr>\n",
              "      <th>1086</th>\n",
              "      <td>183</td>\n",
              "      <td>2021</td>\n",
              "      <td>0.107730</td>\n",
              "      <td>Volkswagen</td>\n",
              "      <td>ID.4</td>\n",
              "      <td>502</td>\n",
              "      <td>409920.0</td>\n",
              "      <td>281</td>\n",
              "      <td>28</td>\n",
              "      <td>SUV</td>\n",
              "      <td>C</td>\n",
              "      <td>DE</td>\n",
              "      <td>2669</td>\n",
              "      <td>EU</td>\n",
              "    </tr>\n",
              "    <tr>\n",
              "      <th>944</th>\n",
              "      <td>165</td>\n",
              "      <td>2022</td>\n",
              "      <td>0.079357</td>\n",
              "      <td>Skoda</td>\n",
              "      <td>Enyaq iV</td>\n",
              "      <td>496</td>\n",
              "      <td>434204.2</td>\n",
              "      <td>281</td>\n",
              "      <td>28</td>\n",
              "      <td>SUV</td>\n",
              "      <td>C</td>\n",
              "      <td>CZ</td>\n",
              "      <td>2430</td>\n",
              "      <td>EU</td>\n",
              "    </tr>\n",
              "    <tr>\n",
              "      <th>1022</th>\n",
              "      <td>175</td>\n",
              "      <td>2023</td>\n",
              "      <td>0.290103</td>\n",
              "      <td>Tesla</td>\n",
              "      <td>Model Y</td>\n",
              "      <td>506</td>\n",
              "      <td>405554.4</td>\n",
              "      <td>506</td>\n",
              "      <td>27</td>\n",
              "      <td>SUV</td>\n",
              "      <td>D</td>\n",
              "      <td>US</td>\n",
              "      <td>17953</td>\n",
              "      <td>US</td>\n",
              "    </tr>\n",
              "  </tbody>\n",
              "</table>\n",
              "</div>"
            ],
            "text/plain": [
              "       ID  Year  Market share Manufacturer     Model  Range     Price   HP  \\\n",
              "759   132  2013      0.472036       Nissan      Leaf    328  253690.0  147   \n",
              "760   132  2014      0.388552       Nissan      Leaf    328  253690.0  147   \n",
              "992   173  2015      0.691273        Tesla   Model S    609  718250.0  675   \n",
              "905   158  2016      0.514286      Renault       Zoe    365  258205.2  134   \n",
              "906   158  2017      0.595385      Renault       Zoe    365  258205.2  134   \n",
              "764   132  2018      0.434219       Nissan      Leaf    328  296943.5  147   \n",
              "985   172  2019      0.446376        Tesla   Model 3    542  437753.3  278   \n",
              "986   172  2020      0.302091        Tesla   Model 3    542  442589.3  278   \n",
              "1086  183  2021      0.107730   Volkswagen      ID.4    502  409920.0  281   \n",
              "944   165  2022      0.079357        Skoda  Enyaq iV    496  434204.2  281   \n",
              "1022  175  2023      0.290103        Tesla   Model Y    506  405554.4  506   \n",
              "\n",
              "      Chargetime       Type Segment Country  Sales Region  \n",
              "759           43  Hatchback       C      JP    211   Asia  \n",
              "760           43  Hatchback       C      JP    577   Asia  \n",
              "992           30   Liftback       F      US   2725     US  \n",
              "905           56  Hatchback       B      FR    612     EU  \n",
              "906           56  Hatchback       B      FR    387     EU  \n",
              "764           43  Hatchback       C      JP    637   Asia  \n",
              "985           25      Sedan       D      US   2439     US  \n",
              "986           25      Sedan       D      US   4277     US  \n",
              "1086          28        SUV       C      DE   2669     EU  \n",
              "944           28        SUV       C      CZ   2430     EU  \n",
              "1022          27        SUV       D      US  17953     US  "
            ]
          },
          "execution_count": 154,
          "metadata": {},
          "output_type": "execute_result"
        }
      ],
      "source": [
        "# Group the data by Year and get the model with maximum sales each year\n",
        "most_sold_car_each_year = data.groupby('Year')['Sales'].idxmax()\n",
        "most_sold_car_each_year_df = data.loc[most_sold_car_each_year]\n",
        "most_sold_car_each_year_df"
      ]
    },
    {
      "cell_type": "code",
      "execution_count": 155,
      "metadata": {},
      "outputs": [
        {
          "data": {
            "image/png": "[encoded data removed]",
            "text/plain": [
              "<Figure size 720x432 with 1 Axes>"
            ]
          },
          "metadata": {
            "needs_background": "light"
          },
          "output_type": "display_data"
        }
      ],
      "source": [
        "# Group the data by Year and Country and calculate the sum of Sales\n",
        "grouped_data = data.groupby(['Year', 'Country'])['Sales'].sum().reset_index()\n",
        "\n",
        "plt.figure(figsize=(10, 6))\n",
        "sns.barplot(x='Year', y='Sales', hue='Country', data=grouped_data, palette=color_country)\n",
        "plt.title('Total Sales for Each Country per Year')\n",
        "plt.xlabel('Year')\n",
        "plt.ylabel('Total Sales')\n",
        "plt.legend(loc='upper left', bbox_to_anchor=(1, 1))\n",
        "plt.show()\n",
        "\n",
        "\n"
      ]
    },
    {
      "cell_type": "markdown",
      "metadata": {},
      "source": [
        "# TEST"
      ]
    },
    {
      "cell_type": "code",
      "execution_count": 156,
      "metadata": {},
      "outputs": [
        {
          "data": {
            "application/vnd.plotly.v1+json": {
              "config": {
                "plotlyServerURL": "https://plot.ly"
              },
              "data": [
                {
                  "hoverinfo": "text",
                  "marker": {
                    "color": "red"
                  },
                  "name": "China",
                  "text": [],
                  "textposition": "auto",
                  "type": "bar",
                  "x": [],
                  "y": []
                },
                {
                  "hoverinfo": "text",
                  "marker": {
                    "color": "blue"
                  },
                  "name": "EU",
                  "text": [
                    "Renault Zoe (92 cars)",
                    "Volkswagen up! (219 cars)",
                    "BMW I3 (490 cars)",
                    "Renault Zoe (612 cars)",
                    "Renault Zoe (387 cars)",
                    "Renault Zoe (421 cars)"
                  ],
                  "textposition": "auto",
                  "type": "bar",
                  "x": [
                    2013,
                    2014,
                    2015,
                    2016,
                    2017,
                    2018
                  ],
                  "y": [
                    124,
                    446,
                    990,
                    911,
                    495,
                    561
                  ]
                },
                {
                  "hoverinfo": "text",
                  "marker": {
                    "color": "black"
                  },
                  "name": "US",
                  "text": [
                    "Tesla Model S (112 cars)",
                    "Tesla Model S (462 cars)",
                    "Tesla Model S (2725 cars)",
                    "Tesla Model X (98 cars)",
                    "Tesla Model X (52 cars)",
                    "Tesla Model X (48 cars)"
                  ],
                  "textposition": "auto",
                  "type": "bar",
                  "x": [
                    2013,
                    2014,
                    2015,
                    2016,
                    2017,
                    2018
                  ],
                  "y": [
                    112,
                    462,
                    2725,
                    176,
                    98,
                    95
                  ]
                },
                {
                  "hoverinfo": "text",
                  "marker": {
                    "color": "green"
                  },
                  "name": "Asia",
                  "text": [
                    "Nissan Leaf (211 cars)",
                    "Nissan Leaf (577 cars)",
                    "Nissan Leaf (217 cars)",
                    "Nissan Leaf (85 cars)",
                    "Hyundai Ioniq (28 cars)",
                    "Nissan Leaf (637 cars)"
                  ],
                  "textposition": "auto",
                  "type": "bar",
                  "x": [
                    2013,
                    2014,
                    2015,
                    2016,
                    2017,
                    2018
                  ],
                  "y": [
                    211,
                    577,
                    227,
                    103,
                    57,
                    799
                  ]
                },
                {
                  "hoverinfo": "text",
                  "marker": {
                    "color": "brown"
                  },
                  "name": "GB",
                  "text": [
                    "Jaguar I-Pace (12 cars)"
                  ],
                  "textposition": "auto",
                  "type": "bar",
                  "x": [
                    2018
                  ],
                  "y": [
                    12
                  ]
                }
              ],
              "layout": {
                "barmode": "group",
                "height": 800,
                "template": {
                  "data": {
                    "bar": [
                      {
                        "error_x": {
                          "color": "#2a3f5f"
                        },
                        "error_y": {
                          "color": "#2a3f5f"
                        },
                        "marker": {
                          "line": {
                            "color": "#E5ECF6",
                            "width": 0.5
                          },
                          "pattern": {
                            "fillmode": "overlay",
                            "size": 10,
                            "solidity": 0.2
                          }
                        },
                        "type": "bar"
                      }
                    ],
                    "barpolar": [
                      {
                        "marker": {
                          "line": {
                            "color": "#E5ECF6",
                            "width": 0.5
                          },
                          "pattern": {
                            "fillmode": "overlay",
                            "size": 10,
                            "solidity": 0.2
                          }
                        },
                        "type": "barpolar"
                      }
                    ],
                    "carpet": [
                      {
                        "aaxis": {
                          "endlinecolor": "#2a3f5f",
                          "gridcolor": "white",
                          "linecolor": "white",
                          "minorgridcolor": "white",
                          "startlinecolor": "#2a3f5f"
                        },
                        "baxis": {
                          "endlinecolor": "#2a3f5f",
                          "gridcolor": "white",
                          "linecolor": "white",
                          "minorgridcolor": "white",
                          "startlinecolor": "#2a3f5f"
                        },
                        "type": "carpet"
                      }
                    ],
                    "choropleth": [
                      {
                        "colorbar": {
                          "outlinewidth": 0,
                          "ticks": ""
                        },
                        "type": "choropleth"
                      }
                    ],
                    "contour": [
                      {
                        "colorbar": {
                          "outlinewidth": 0,
                          "ticks": ""
                        },
                        "colorscale": [
                          [
                            0,
                            "#0d0887"
                          ],
                          [
                            0.1111111111111111,
                            "#46039f"
                          ],
                          [
                            0.2222222222222222,
                            "#7201a8"
                          ],
                          [
                            0.3333333333333333,
                            "#9c179e"
                          ],
                          [
                            0.4444444444444444,
                            "#bd3786"
                          ],
                          [
                            0.5555555555555556,
                            "#d8576b"
                          ],
                          [
                            0.6666666666666666,
                            "#ed7953"
                          ],
                          [
                            0.7777777777777778,
                            "#fb9f3a"
                          ],
                          [
                            0.8888888888888888,
                            "#fdca26"
                          ],
                          [
                            1,
                            "#f0f921"
                          ]
                        ],
                        "type": "contour"
                      }
                    ],
                    "contourcarpet": [
                      {
                        "colorbar": {
                          "outlinewidth": 0,
                          "ticks": ""
                        },
                        "type": "contourcarpet"
                      }
                    ],
                    "heatmap": [
                      {
                        "colorbar": {
                          "outlinewidth": 0,
                          "ticks": ""
                        },
                        "colorscale": [
                          [
                            0,
                            "#0d0887"
                          ],
                          [
                            0.1111111111111111,
                            "#46039f"
                          ],
                          [
                            0.2222222222222222,
                            "#7201a8"
                          ],
                          [
                            0.3333333333333333,
                            "#9c179e"
                          ],
                          [
                            0.4444444444444444,
                            "#bd3786"
                          ],
                          [
                            0.5555555555555556,
                            "#d8576b"
                          ],
                          [
                            0.6666666666666666,
                            "#ed7953"
                          ],
                          [
                            0.7777777777777778,
                            "#fb9f3a"
                          ],
                          [
                            0.8888888888888888,
                            "#fdca26"
                          ],
                          [
                            1,
                            "#f0f921"
                          ]
                        ],
                        "type": "heatmap"
                      }
                    ],
                    "heatmapgl": [
                      {
                        "colorbar": {
                          "outlinewidth": 0,
                          "ticks": ""
                        },
                        "colorscale": [
                          [
                            0,
                            "#0d0887"
                          ],
                          [
                            0.1111111111111111,
                            "#46039f"
                          ],
                          [
                            0.2222222222222222,
                            "#7201a8"
                          ],
                          [
                            0.3333333333333333,
                            "#9c179e"
                          ],
                          [
                            0.4444444444444444,
                            "#bd3786"
                          ],
                          [
                            0.5555555555555556,
                            "#d8576b"
                          ],
                          [
                            0.6666666666666666,
                            "#ed7953"
                          ],
                          [
                            0.7777777777777778,
                            "#fb9f3a"
                          ],
                          [
                            0.8888888888888888,
                            "#fdca26"
                          ],
                          [
                            1,
                            "#f0f921"
                          ]
                        ],
                        "type": "heatmapgl"
                      }
                    ],
                    "histogram": [
                      {
                        "marker": {
                          "pattern": {
                            "fillmode": "overlay",
                            "size": 10,
                            "solidity": 0.2
                          }
                        },
                        "type": "histogram"
                      }
                    ],
                    "histogram2d": [
                      {
                        "colorbar": {
                          "outlinewidth": 0,
                          "ticks": ""
                        },
                        "colorscale": [
                          [
                            0,
                            "#0d0887"
                          ],
                          [
                            0.1111111111111111,
                            "#46039f"
                          ],
                          [
                            0.2222222222222222,
                            "#7201a8"
                          ],
                          [
                            0.3333333333333333,
                            "#9c179e"
                          ],
                          [
                            0.4444444444444444,
                            "#bd3786"
                          ],
                          [
                            0.5555555555555556,
                            "#d8576b"
                          ],
                          [
                            0.6666666666666666,
                            "#ed7953"
                          ],
                          [
                            0.7777777777777778,
                            "#fb9f3a"
                          ],
                          [
                            0.8888888888888888,
                            "#fdca26"
                          ],
                          [
                            1,
                            "#f0f921"
                          ]
                        ],
                        "type": "histogram2d"
                      }
                    ],
                    "histogram2dcontour": [
                      {
                        "colorbar": {
                          "outlinewidth": 0,
                          "ticks": ""
                        },
                        "colorscale": [
                          [
                            0,
                            "#0d0887"
                          ],
                          [
                            0.1111111111111111,
                            "#46039f"
                          ],
                          [
                            0.2222222222222222,
                            "#7201a8"
                          ],
                          [
                            0.3333333333333333,
                            "#9c179e"
                          ],
                          [
                            0.4444444444444444,
                            "#bd3786"
                          ],
                          [
                            0.5555555555555556,
                            "#d8576b"
                          ],
                          [
                            0.6666666666666666,
                            "#ed7953"
                          ],
                          [
                            0.7777777777777778,
                            "#fb9f3a"
                          ],
                          [
                            0.8888888888888888,
                            "#fdca26"
                          ],
                          [
                            1,
                            "#f0f921"
                          ]
                        ],
                        "type": "histogram2dcontour"
                      }
                    ],
                    "mesh3d": [
                      {
                        "colorbar": {
                          "outlinewidth": 0,
                          "ticks": ""
                        },
                        "type": "mesh3d"
                      }
                    ],
                    "parcoords": [
                      {
                        "line": {
                          "colorbar": {
                            "outlinewidth": 0,
                            "ticks": ""
                          }
                        },
                        "type": "parcoords"
                      }
                    ],
                    "pie": [
                      {
                        "automargin": true,
                        "type": "pie"
                      }
                    ],
                    "scatter": [
                      {
                        "marker": {
                          "colorbar": {
                            "outlinewidth": 0,
                            "ticks": ""
                          }
                        },
                        "type": "scatter"
                      }
                    ],
                    "scatter3d": [
                      {
                        "line": {
                          "colorbar": {
                            "outlinewidth": 0,
                            "ticks": ""
                          }
                        },
                        "marker": {
                          "colorbar": {
                            "outlinewidth": 0,
                            "ticks": ""
                          }
                        },
                        "type": "scatter3d"
                      }
                    ],
                    "scattercarpet": [
                      {
                        "marker": {
                          "colorbar": {
                            "outlinewidth": 0,
                            "ticks": ""
                          }
                        },
                        "type": "scattercarpet"
                      }
                    ],
                    "scattergeo": [
                      {
                        "marker": {
                          "colorbar": {
                            "outlinewidth": 0,
                            "ticks": ""
                          }
                        },
                        "type": "scattergeo"
                      }
                    ],
                    "scattergl": [
                      {
                        "marker": {
                          "colorbar": {
                            "outlinewidth": 0,
                            "ticks": ""
                          }
                        },
                        "type": "scattergl"
                      }
                    ],
                    "scattermapbox": [
                      {
                        "marker": {
                          "colorbar": {
                            "outlinewidth": 0,
                            "ticks": ""
                          }
                        },
                        "type": "scattermapbox"
                      }
                    ],
                    "scatterpolar": [
                      {
                        "marker": {
                          "colorbar": {
                            "outlinewidth": 0,
                            "ticks": ""
                          }
                        },
                        "type": "scatterpolar"
                      }
                    ],
                    "scatterpolargl": [
                      {
                        "marker": {
                          "colorbar": {
                            "outlinewidth": 0,
                            "ticks": ""
                          }
                        },
                        "type": "scatterpolargl"
                      }
                    ],
                    "scatterternary": [
                      {
                        "marker": {
                          "colorbar": {
                            "outlinewidth": 0,
                            "ticks": ""
                          }
                        },
                        "type": "scatterternary"
                      }
                    ],
                    "surface": [
                      {
                        "colorbar": {
                          "outlinewidth": 0,
                          "ticks": ""
                        },
                        "colorscale": [
                          [
                            0,
                            "#0d0887"
                          ],
                          [
                            0.1111111111111111,
                            "#46039f"
                          ],
                          [
                            0.2222222222222222,
                            "#7201a8"
                          ],
                          [
                            0.3333333333333333,
                            "#9c179e"
                          ],
                          [
                            0.4444444444444444,
                            "#bd3786"
                          ],
                          [
                            0.5555555555555556,
                            "#d8576b"
                          ],
                          [
                            0.6666666666666666,
                            "#ed7953"
                          ],
                          [
                            0.7777777777777778,
                            "#fb9f3a"
                          ],
                          [
                            0.8888888888888888,
                            "#fdca26"
                          ],
                          [
                            1,
                            "#f0f921"
                          ]
                        ],
                        "type": "surface"
                      }
                    ],
                    "table": [
                      {
                        "cells": {
                          "fill": {
                            "color": "#EBF0F8"
                          },
                          "line": {
                            "color": "white"
                          }
                        },
                        "header": {
                          "fill": {
                            "color": "#C8D4E3"
                          },
                          "line": {
                            "color": "white"
                          }
                        },
                        "type": "table"
                      }
                    ]
                  },
                  "layout": {
                    "annotationdefaults": {
                      "arrowcolor": "#2a3f5f",
                      "arrowhead": 0,
                      "arrowwidth": 1
                    },
                    "autotypenumbers": "strict",
                    "coloraxis": {
                      "colorbar": {
                        "outlinewidth": 0,
                        "ticks": ""
                      }
                    },
                    "colorscale": {
                      "diverging": [
                        [
                          0,
                          "#8e0152"
                        ],
                        [
                          0.1,
                          "#c51b7d"
                        ],
                        [
                          0.2,
                          "#de77ae"
                        ],
                        [
                          0.3,
                          "#f1b6da"
                        ],
                        [
                          0.4,
                          "#fde0ef"
                        ],
                        [
                          0.5,
                          "#f7f7f7"
                        ],
                        [
                          0.6,
                          "#e6f5d0"
                        ],
                        [
                          0.7,
                          "#b8e186"
                        ],
                        [
                          0.8,
                          "#7fbc41"
                        ],
                        [
                          0.9,
                          "#4d9221"
                        ],
                        [
                          1,
                          "#276419"
                        ]
                      ],
                      "sequential": [
                        [
                          0,
                          "#0d0887"
                        ],
                        [
                          0.1111111111111111,
                          "#46039f"
                        ],
                        [
                          0.2222222222222222,
                          "#7201a8"
                        ],
                        [
                          0.3333333333333333,
                          "#9c179e"
                        ],
                        [
                          0.4444444444444444,
                          "#bd3786"
                        ],
                        [
                          0.5555555555555556,
                          "#d8576b"
                        ],
                        [
                          0.6666666666666666,
                          "#ed7953"
                        ],
                        [
                          0.7777777777777778,
                          "#fb9f3a"
                        ],
                        [
                          0.8888888888888888,
                          "#fdca26"
                        ],
                        [
                          1,
                          "#f0f921"
                        ]
                      ],
                      "sequentialminus": [
                        [
                          0,
                          "#0d0887"
                        ],
                        [
                          0.1111111111111111,
                          "#46039f"
                        ],
                        [
                          0.2222222222222222,
                          "#7201a8"
                        ],
                        [
                          0.3333333333333333,
                          "#9c179e"
                        ],
                        [
                          0.4444444444444444,
                          "#bd3786"
                        ],
                        [
                          0.5555555555555556,
                          "#d8576b"
                        ],
                        [
                          0.6666666666666666,
                          "#ed7953"
                        ],
                        [
                          0.7777777777777778,
                          "#fb9f3a"
                        ],
                        [
                          0.8888888888888888,
                          "#fdca26"
                        ],
                        [
                          1,
                          "#f0f921"
                        ]
                      ]
                    },
                    "colorway": [
                      "#636efa",
                      "#EF553B",
                      "#00cc96",
                      "#ab63fa",
                      "#FFA15A",
                      "#19d3f3",
                      "#FF6692",
                      "#B6E880",
                      "#FF97FF",
                      "#FECB52"
                    ],
                    "font": {
                      "color": "#2a3f5f"
                    },
                    "geo": {
                      "bgcolor": "white",
                      "lakecolor": "white",
                      "landcolor": "#E5ECF6",
                      "showlakes": true,
                      "showland": true,
                      "subunitcolor": "white"
                    },
                    "hoverlabel": {
                      "align": "left"
                    },
                    "hovermode": "closest",
                    "mapbox": {
                      "style": "light"
                    },
                    "paper_bgcolor": "white",
                    "plot_bgcolor": "#E5ECF6",
                    "polar": {
                      "angularaxis": {
                        "gridcolor": "white",
                        "linecolor": "white",
                        "ticks": ""
                      },
                      "bgcolor": "#E5ECF6",
                      "radialaxis": {
                        "gridcolor": "white",
                        "linecolor": "white",
                        "ticks": ""
                      }
                    },
                    "scene": {
                      "xaxis": {
                        "backgroundcolor": "#E5ECF6",
                        "gridcolor": "white",
                        "gridwidth": 2,
                        "linecolor": "white",
                        "showbackground": true,
                        "ticks": "",
                        "zerolinecolor": "white"
                      },
                      "yaxis": {
                        "backgroundcolor": "#E5ECF6",
                        "gridcolor": "white",
                        "gridwidth": 2,
                        "linecolor": "white",
                        "showbackground": true,
                        "ticks": "",
                        "zerolinecolor": "white"
                      },
                      "zaxis": {
                        "backgroundcolor": "#E5ECF6",
                        "gridcolor": "white",
                        "gridwidth": 2,
                        "linecolor": "white",
                        "showbackground": true,
                        "ticks": "",
                        "zerolinecolor": "white"
                      }
                    },
                    "shapedefaults": {
                      "line": {
                        "color": "#2a3f5f"
                      }
                    },
                    "ternary": {
                      "aaxis": {
                        "gridcolor": "white",
                        "linecolor": "white",
                        "ticks": ""
                      },
                      "baxis": {
                        "gridcolor": "white",
                        "linecolor": "white",
                        "ticks": ""
                      },
                      "bgcolor": "#E5ECF6",
                      "caxis": {
                        "gridcolor": "white",
                        "linecolor": "white",
                        "ticks": ""
                      }
                    },
                    "title": {
                      "x": 0.05
                    },
                    "xaxis": {
                      "automargin": true,
                      "gridcolor": "white",
                      "linecolor": "white",
                      "ticks": "",
                      "title": {
                        "standoff": 15
                      },
                      "zerolinecolor": "white",
                      "zerolinewidth": 2
                    },
                    "yaxis": {
                      "automargin": true,
                      "gridcolor": "white",
                      "linecolor": "white",
                      "ticks": "",
                      "title": {
                        "standoff": 15
                      },
                      "zerolinecolor": "white",
                      "zerolinewidth": 2
                    }
                  }
                },
                "title": {
                  "text": "Cars Sold by Year and Region (2013-2018)"
                },
                "width": 1200,
                "xaxis": {
                  "title": {
                    "text": "Year"
                  }
                },
                "yaxis": {
                  "title": {
                    "text": "Number of Cars Sold"
                  }
                }
              }
            }
          },
          "metadata": {},
          "output_type": "display_data"
        },
        {
          "data": {
            "application/vnd.plotly.v1+json": {
              "config": {
                "plotlyServerURL": "https://plot.ly"
              },
              "data": [
                {
                  "hoverinfo": "text",
                  "marker": {
                    "color": "red"
                  },
                  "name": "China",
                  "text": [
                    "MG ZS (289 cars)",
                    "Aiways U5 (257 cars)",
                    "MG ZS (232 cars)",
                    "MG 4 (742 cars)"
                  ],
                  "textposition": "auto",
                  "type": "bar",
                  "x": [
                    2020,
                    2021,
                    2022,
                    2023
                  ],
                  "y": [
                    328,
                    539,
                    918,
                    2240
                  ]
                },
                {
                  "hoverinfo": "text",
                  "marker": {
                    "color": "blue"
                  },
                  "name": "EU",
                  "text": [
                    "Renault Zoe (568 cars)",
                    "Volkswagen ID.3 (1722 cars)",
                    "Volkswagen ID.4 (2669 cars)",
                    "Skoda Enyaq iV (2430 cars)",
                    "Skoda Enyaq iV (3069 cars)"
                  ],
                  "textposition": "auto",
                  "type": "bar",
                  "x": [
                    2019,
                    2020,
                    2021,
                    2022,
                    2023
                  ],
                  "y": [
                    1286,
                    5579,
                    14736,
                    21410,
                    29790
                  ]
                },
                {
                  "hoverinfo": "text",
                  "marker": {
                    "color": "black"
                  },
                  "name": "US",
                  "text": [
                    "Tesla Model 3 (2439 cars)",
                    "Tesla Model 3 (4277 cars)",
                    "Tesla Model 3 (1899 cars)",
                    "Tesla Model Y (2315 cars)",
                    "Tesla Model Y (17953 cars)"
                  ],
                  "textposition": "auto",
                  "type": "bar",
                  "x": [
                    2019,
                    2020,
                    2021,
                    2022,
                    2023
                  ],
                  "y": [
                    2734,
                    4721,
                    4491,
                    4250,
                    23748
                  ]
                },
                {
                  "hoverinfo": "text",
                  "marker": {
                    "color": "green"
                  },
                  "name": "Asia",
                  "text": [
                    "Hyundai Kona (663 cars)",
                    "Hyundai Kona (1160 cars)",
                    "Hyundai Kona (1166 cars)",
                    "Kia EV6 (800 cars)",
                    "Nissan Ariya (966 cars)"
                  ],
                  "textposition": "auto",
                  "type": "bar",
                  "x": [
                    2019,
                    2020,
                    2021,
                    2022,
                    2023
                  ],
                  "y": [
                    1348,
                    3139,
                    4722,
                    3831,
                    5955
                  ]
                },
                {
                  "hoverinfo": "text",
                  "marker": {
                    "color": "brown"
                  },
                  "name": "GB",
                  "text": [
                    "Jaguar I-Pace (96 cars)",
                    "Mini 3-dørs (268 cars)",
                    "Mini 3-dørs (244 cars)",
                    "Mini 3-dørs (198 cars)",
                    "Mini 3-dørs (140 cars)"
                  ],
                  "textposition": "auto",
                  "type": "bar",
                  "x": [
                    2019,
                    2020,
                    2021,
                    2022,
                    2023
                  ],
                  "y": [
                    96,
                    391,
                    287,
                    212,
                    152
                  ]
                }
              ],
              "layout": {
                "barmode": "group",
                "height": 800,
                "template": {
                  "data": {
                    "bar": [
                      {
                        "error_x": {
                          "color": "#2a3f5f"
                        },
                        "error_y": {
                          "color": "#2a3f5f"
                        },
                        "marker": {
                          "line": {
                            "color": "#E5ECF6",
                            "width": 0.5
                          },
                          "pattern": {
                            "fillmode": "overlay",
                            "size": 10,
                            "solidity": 0.2
                          }
                        },
                        "type": "bar"
                      }
                    ],
                    "barpolar": [
                      {
                        "marker": {
                          "line": {
                            "color": "#E5ECF6",
                            "width": 0.5
                          },
                          "pattern": {
                            "fillmode": "overlay",
                            "size": 10,
                            "solidity": 0.2
                          }
                        },
                        "type": "barpolar"
                      }
                    ],
                    "carpet": [
                      {
                        "aaxis": {
                          "endlinecolor": "#2a3f5f",
                          "gridcolor": "white",
                          "linecolor": "white",
                          "minorgridcolor": "white",
                          "startlinecolor": "#2a3f5f"
                        },
                        "baxis": {
                          "endlinecolor": "#2a3f5f",
                          "gridcolor": "white",
                          "linecolor": "white",
                          "minorgridcolor": "white",
                          "startlinecolor": "#2a3f5f"
                        },
                        "type": "carpet"
                      }
                    ],
                    "choropleth": [
                      {
                        "colorbar": {
                          "outlinewidth": 0,
                          "ticks": ""
                        },
                        "type": "choropleth"
                      }
                    ],
                    "contour": [
                      {
                        "colorbar": {
                          "outlinewidth": 0,
                          "ticks": ""
                        },
                        "colorscale": [
                          [
                            0,
                            "#0d0887"
                          ],
                          [
                            0.1111111111111111,
                            "#46039f"
                          ],
                          [
                            0.2222222222222222,
                            "#7201a8"
                          ],
                          [
                            0.3333333333333333,
                            "#9c179e"
                          ],
                          [
                            0.4444444444444444,
                            "#bd3786"
                          ],
                          [
                            0.5555555555555556,
                            "#d8576b"
                          ],
                          [
                            0.6666666666666666,
                            "#ed7953"
                          ],
                          [
                            0.7777777777777778,
                            "#fb9f3a"
                          ],
                          [
                            0.8888888888888888,
                            "#fdca26"
                          ],
                          [
                            1,
                            "#f0f921"
                          ]
                        ],
                        "type": "contour"
                      }
                    ],
                    "contourcarpet": [
                      {
                        "colorbar": {
                          "outlinewidth": 0,
                          "ticks": ""
                        },
                        "type": "contourcarpet"
                      }
                    ],
                    "heatmap": [
                      {
                        "colorbar": {
                          "outlinewidth": 0,
                          "ticks": ""
                        },
                        "colorscale": [
                          [
                            0,
                            "#0d0887"
                          ],
                          [
                            0.1111111111111111,
                            "#46039f"
                          ],
                          [
                            0.2222222222222222,
                            "#7201a8"
                          ],
                          [
                            0.3333333333333333,
                            "#9c179e"
                          ],
                          [
                            0.4444444444444444,
                            "#bd3786"
                          ],
                          [
                            0.5555555555555556,
                            "#d8576b"
                          ],
                          [
                            0.6666666666666666,
                            "#ed7953"
                          ],
                          [
                            0.7777777777777778,
                            "#fb9f3a"
                          ],
                          [
                            0.8888888888888888,
                            "#fdca26"
                          ],
                          [
                            1,
                            "#f0f921"
                          ]
                        ],
                        "type": "heatmap"
                      }
                    ],
                    "heatmapgl": [
                      {
                        "colorbar": {
                          "outlinewidth": 0,
                          "ticks": ""
                        },
                        "colorscale": [
                          [
                            0,
                            "#0d0887"
                          ],
                          [
                            0.1111111111111111,
                            "#46039f"
                          ],
                          [
                            0.2222222222222222,
                            "#7201a8"
                          ],
                          [
                            0.3333333333333333,
                            "#9c179e"
                          ],
                          [
                            0.4444444444444444,
                            "#bd3786"
                          ],
                          [
                            0.5555555555555556,
                            "#d8576b"
                          ],
                          [
                            0.6666666666666666,
                            "#ed7953"
                          ],
                          [
                            0.7777777777777778,
                            "#fb9f3a"
                          ],
                          [
                            0.8888888888888888,
                            "#fdca26"
                          ],
                          [
                            1,
                            "#f0f921"
                          ]
                        ],
                        "type": "heatmapgl"
                      }
                    ],
                    "histogram": [
                      {
                        "marker": {
                          "pattern": {
                            "fillmode": "overlay",
                            "size": 10,
                            "solidity": 0.2
                          }
                        },
                        "type": "histogram"
                      }
                    ],
                    "histogram2d": [
                      {
                        "colorbar": {
                          "outlinewidth": 0,
                          "ticks": ""
                        },
                        "colorscale": [
                          [
                            0,
                            "#0d0887"
                          ],
                          [
                            0.1111111111111111,
                            "#46039f"
                          ],
                          [
                            0.2222222222222222,
                            "#7201a8"
                          ],
                          [
                            0.3333333333333333,
                            "#9c179e"
                          ],
                          [
                            0.4444444444444444,
                            "#bd3786"
                          ],
                          [
                            0.5555555555555556,
                            "#d8576b"
                          ],
                          [
                            0.6666666666666666,
                            "#ed7953"
                          ],
                          [
                            0.7777777777777778,
                            "#fb9f3a"
                          ],
                          [
                            0.8888888888888888,
                            "#fdca26"
                          ],
                          [
                            1,
                            "#f0f921"
                          ]
                        ],
                        "type": "histogram2d"
                      }
                    ],
                    "histogram2dcontour": [
                      {
                        "colorbar": {
                          "outlinewidth": 0,
                          "ticks": ""
                        },
                        "colorscale": [
                          [
                            0,
                            "#0d0887"
                          ],
                          [
                            0.1111111111111111,
                            "#46039f"
                          ],
                          [
                            0.2222222222222222,
                            "#7201a8"
                          ],
                          [
                            0.3333333333333333,
                            "#9c179e"
                          ],
                          [
                            0.4444444444444444,
                            "#bd3786"
                          ],
                          [
                            0.5555555555555556,
                            "#d8576b"
                          ],
                          [
                            0.6666666666666666,
                            "#ed7953"
                          ],
                          [
                            0.7777777777777778,
                            "#fb9f3a"
                          ],
                          [
                            0.8888888888888888,
                            "#fdca26"
                          ],
                          [
                            1,
                            "#f0f921"
                          ]
                        ],
                        "type": "histogram2dcontour"
                      }
                    ],
                    "mesh3d": [
                      {
                        "colorbar": {
                          "outlinewidth": 0,
                          "ticks": ""
                        },
                        "type": "mesh3d"
                      }
                    ],
                    "parcoords": [
                      {
                        "line": {
                          "colorbar": {
                            "outlinewidth": 0,
                            "ticks": ""
                          }
                        },
                        "type": "parcoords"
                      }
                    ],
                    "pie": [
                      {
                        "automargin": true,
                        "type": "pie"
                      }
                    ],
                    "scatter": [
                      {
                        "marker": {
                          "colorbar": {
                            "outlinewidth": 0,
                            "ticks": ""
                          }
                        },
                        "type": "scatter"
                      }
                    ],
                    "scatter3d": [
                      {
                        "line": {
                          "colorbar": {
                            "outlinewidth": 0,
                            "ticks": ""
                          }
                        },
                        "marker": {
                          "colorbar": {
                            "outlinewidth": 0,
                            "ticks": ""
                          }
                        },
                        "type": "scatter3d"
                      }
                    ],
                    "scattercarpet": [
                      {
                        "marker": {
                          "colorbar": {
                            "outlinewidth": 0,
                            "ticks": ""
                          }
                        },
                        "type": "scattercarpet"
                      }
                    ],
                    "scattergeo": [
                      {
                        "marker": {
                          "colorbar": {
                            "outlinewidth": 0,
                            "ticks": ""
                          }
                        },
                        "type": "scattergeo"
                      }
                    ],
                    "scattergl": [
                      {
                        "marker": {
                          "colorbar": {
                            "outlinewidth": 0,
                            "ticks": ""
                          }
                        },
                        "type": "scattergl"
                      }
                    ],
                    "scattermapbox": [
                      {
                        "marker": {
                          "colorbar": {
                            "outlinewidth": 0,
                            "ticks": ""
                          }
                        },
                        "type": "scattermapbox"
                      }
                    ],
                    "scatterpolar": [
                      {
                        "marker": {
                          "colorbar": {
                            "outlinewidth": 0,
                            "ticks": ""
                          }
                        },
                        "type": "scatterpolar"
                      }
                    ],
                    "scatterpolargl": [
                      {
                        "marker": {
                          "colorbar": {
                            "outlinewidth": 0,
                            "ticks": ""
                          }
                        },
                        "type": "scatterpolargl"
                      }
                    ],
                    "scatterternary": [
                      {
                        "marker": {
                          "colorbar": {
                            "outlinewidth": 0,
                            "ticks": ""
                          }
                        },
                        "type": "scatterternary"
                      }
                    ],
                    "surface": [
                      {
                        "colorbar": {
                          "outlinewidth": 0,
                          "ticks": ""
                        },
                        "colorscale": [
                          [
                            0,
                            "#0d0887"
                          ],
                          [
                            0.1111111111111111,
                            "#46039f"
                          ],
                          [
                            0.2222222222222222,
                            "#7201a8"
                          ],
                          [
                            0.3333333333333333,
                            "#9c179e"
                          ],
                          [
                            0.4444444444444444,
                            "#bd3786"
                          ],
                          [
                            0.5555555555555556,
                            "#d8576b"
                          ],
                          [
                            0.6666666666666666,
                            "#ed7953"
                          ],
                          [
                            0.7777777777777778,
                            "#fb9f3a"
                          ],
                          [
                            0.8888888888888888,
                            "#fdca26"
                          ],
                          [
                            1,
                            "#f0f921"
                          ]
                        ],
                        "type": "surface"
                      }
                    ],
                    "table": [
                      {
                        "cells": {
                          "fill": {
                            "color": "#EBF0F8"
                          },
                          "line": {
                            "color": "white"
                          }
                        },
                        "header": {
                          "fill": {
                            "color": "#C8D4E3"
                          },
                          "line": {
                            "color": "white"
                          }
                        },
                        "type": "table"
                      }
                    ]
                  },
                  "layout": {
                    "annotationdefaults": {
                      "arrowcolor": "#2a3f5f",
                      "arrowhead": 0,
                      "arrowwidth": 1
                    },
                    "autotypenumbers": "strict",
                    "coloraxis": {
                      "colorbar": {
                        "outlinewidth": 0,
                        "ticks": ""
                      }
                    },
                    "colorscale": {
                      "diverging": [
                        [
                          0,
                          "#8e0152"
                        ],
                        [
                          0.1,
                          "#c51b7d"
                        ],
                        [
                          0.2,
                          "#de77ae"
                        ],
                        [
                          0.3,
                          "#f1b6da"
                        ],
                        [
                          0.4,
                          "#fde0ef"
                        ],
                        [
                          0.5,
                          "#f7f7f7"
                        ],
                        [
                          0.6,
                          "#e6f5d0"
                        ],
                        [
                          0.7,
                          "#b8e186"
                        ],
                        [
                          0.8,
                          "#7fbc41"
                        ],
                        [
                          0.9,
                          "#4d9221"
                        ],
                        [
                          1,
                          "#276419"
                        ]
                      ],
                      "sequential": [
                        [
                          0,
                          "#0d0887"
                        ],
                        [
                          0.1111111111111111,
                          "#46039f"
                        ],
                        [
                          0.2222222222222222,
                          "#7201a8"
                        ],
                        [
                          0.3333333333333333,
                          "#9c179e"
                        ],
                        [
                          0.4444444444444444,
                          "#bd3786"
                        ],
                        [
                          0.5555555555555556,
                          "#d8576b"
                        ],
                        [
                          0.6666666666666666,
                          "#ed7953"
                        ],
                        [
                          0.7777777777777778,
                          "#fb9f3a"
                        ],
                        [
                          0.8888888888888888,
                          "#fdca26"
                        ],
                        [
                          1,
                          "#f0f921"
                        ]
                      ],
                      "sequentialminus": [
                        [
                          0,
                          "#0d0887"
                        ],
                        [
                          0.1111111111111111,
                          "#46039f"
                        ],
                        [
                          0.2222222222222222,
                          "#7201a8"
                        ],
                        [
                          0.3333333333333333,
                          "#9c179e"
                        ],
                        [
                          0.4444444444444444,
                          "#bd3786"
                        ],
                        [
                          0.5555555555555556,
                          "#d8576b"
                        ],
                        [
                          0.6666666666666666,
                          "#ed7953"
                        ],
                        [
                          0.7777777777777778,
                          "#fb9f3a"
                        ],
                        [
                          0.8888888888888888,
                          "#fdca26"
                        ],
                        [
                          1,
                          "#f0f921"
                        ]
                      ]
                    },
                    "colorway": [
                      "#636efa",
                      "#EF553B",
                      "#00cc96",
                      "#ab63fa",
                      "#FFA15A",
                      "#19d3f3",
                      "#FF6692",
                      "#B6E880",
                      "#FF97FF",
                      "#FECB52"
                    ],
                    "font": {
                      "color": "#2a3f5f"
                    },
                    "geo": {
                      "bgcolor": "white",
                      "lakecolor": "white",
                      "landcolor": "#E5ECF6",
                      "showlakes": true,
                      "showland": true,
                      "subunitcolor": "white"
                    },
                    "hoverlabel": {
                      "align": "left"
                    },
                    "hovermode": "closest",
                    "mapbox": {
                      "style": "light"
                    },
                    "paper_bgcolor": "white",
                    "plot_bgcolor": "#E5ECF6",
                    "polar": {
                      "angularaxis": {
                        "gridcolor": "white",
                        "linecolor": "white",
                        "ticks": ""
                      },
                      "bgcolor": "#E5ECF6",
                      "radialaxis": {
                        "gridcolor": "white",
                        "linecolor": "white",
                        "ticks": ""
                      }
                    },
                    "scene": {
                      "xaxis": {
                        "backgroundcolor": "#E5ECF6",
                        "gridcolor": "white",
                        "gridwidth": 2,
                        "linecolor": "white",
                        "showbackground": true,
                        "ticks": "",
                        "zerolinecolor": "white"
                      },
                      "yaxis": {
                        "backgroundcolor": "#E5ECF6",
                        "gridcolor": "white",
                        "gridwidth": 2,
                        "linecolor": "white",
                        "showbackground": true,
                        "ticks": "",
                        "zerolinecolor": "white"
                      },
                      "zaxis": {
                        "backgroundcolor": "#E5ECF6",
                        "gridcolor": "white",
                        "gridwidth": 2,
                        "linecolor": "white",
                        "showbackground": true,
                        "ticks": "",
                        "zerolinecolor": "white"
                      }
                    },
                    "shapedefaults": {
                      "line": {
                        "color": "#2a3f5f"
                      }
                    },
                    "ternary": {
                      "aaxis": {
                        "gridcolor": "white",
                        "linecolor": "white",
                        "ticks": ""
                      },
                      "baxis": {
                        "gridcolor": "white",
                        "linecolor": "white",
                        "ticks": ""
                      },
                      "bgcolor": "#E5ECF6",
                      "caxis": {
                        "gridcolor": "white",
                        "linecolor": "white",
                        "ticks": ""
                      }
                    },
                    "title": {
                      "x": 0.05
                    },
                    "xaxis": {
                      "automargin": true,
                      "gridcolor": "white",
                      "linecolor": "white",
                      "ticks": "",
                      "title": {
                        "standoff": 15
                      },
                      "zerolinecolor": "white",
                      "zerolinewidth": 2
                    },
                    "yaxis": {
                      "automargin": true,
                      "gridcolor": "white",
                      "linecolor": "white",
                      "ticks": "",
                      "title": {
                        "standoff": 15
                      },
                      "zerolinecolor": "white",
                      "zerolinewidth": 2
                    }
                  }
                },
                "title": {
                  "text": "Cars Sold by Year and Region (2019-2023)"
                },
                "width": 1200,
                "xaxis": {
                  "title": {
                    "text": "Year"
                  }
                },
                "yaxis": {
                  "title": {
                    "text": "Number of Cars Sold"
                  }
                }
              }
            }
          },
          "metadata": {},
          "output_type": "display_data"
        }
      ],
      "source": [
        "# Initialize empty lists to store subplot traces\n",
        "fig1 = go.Figure()\n",
        "fig2 = go.Figure()\n",
        "\n",
        "# Filter data for the first half of the years (2013-2018)\n",
        "first_half_data = data_sorted[data_sorted['Year'].between(2013, 2018)]\n",
        "\n",
        "# Filter data for the second half of the years (2019-2023)\n",
        "second_half_data = data_sorted[data_sorted['Year'].between(2019, 2023)]\n",
        "\n",
        "# Iterate over each region\n",
        "for region in data['Region'].unique():\n",
        "    # Filter data for the current region in the first half of the years\n",
        "    region_first_half_data = first_half_data[first_half_data['Region'] == region]\n",
        "    \n",
        "    # Grouping data by 'Year' and summing up the 'Sales' column\n",
        "    year_sales_first_half = region_first_half_data.groupby('Year')['Sales'].sum().reset_index()\n",
        "\n",
        "    # Extracting years and number of cars sold for the first half\n",
        "    x1 = year_sales_first_half['Year'].tolist()\n",
        "    y1 = year_sales_first_half['Sales'].tolist()\n",
        "\n",
        "    # Find the top-selling car in each year for the first half\n",
        "    top_models_first_half = region_first_half_data.loc[region_first_half_data.groupby('Year')['Sales'].idxmax()][['Year', 'Manufacturer', 'Model', 'Sales']]\n",
        "\n",
        "    # Create text labels for the first half\n",
        "    text_labels1 = [f\"{row['Manufacturer']} {row['Model']} ({row['Sales']} cars)\" for index, row in top_models_first_half.iterrows()]\n",
        "\n",
        "    # Create a bar trace for the first half with specified color\n",
        "    trace1 = go.Bar(\n",
        "        x=x1, \n",
        "        y=y1,\n",
        "        text=text_labels1,\n",
        "        textposition='auto',\n",
        "        name=region,\n",
        "        hoverinfo='text',\n",
        "        marker=dict(color=color_region[region])  # Assign color based on region\n",
        "    )\n",
        "\n",
        "    # Add the trace to the first figure\n",
        "    fig1.add_trace(trace1)\n",
        "    \n",
        "    # Filter data for the current region in the second half of the years\n",
        "    region_second_half_data = second_half_data[second_half_data['Region'] == region]\n",
        "    \n",
        "    # Grouping data by 'Year' and summing up the 'Sales' column for the second half\n",
        "    year_sales_second_half = region_second_half_data.groupby('Year')['Sales'].sum().reset_index()\n",
        "\n",
        "    # Extracting years and number of cars sold for the second half\n",
        "    x2 = year_sales_second_half['Year'].tolist()\n",
        "    y2 = year_sales_second_half['Sales'].tolist()\n",
        "\n",
        "    # Find the top-selling car in each year for the second half\n",
        "    top_models_second_half = region_second_half_data.loc[region_second_half_data.groupby('Year')['Sales'].idxmax()][['Year', 'Manufacturer', 'Model', 'Sales']]\n",
        "\n",
        "    # Create text labels for the second half\n",
        "    text_labels2 = [f\"{row['Manufacturer']} {row['Model']} ({row['Sales']} cars)\" for index, row in top_models_second_half.iterrows()]\n",
        "\n",
        "    # Create a bar trace for the second half with specified color\n",
        "    trace2 = go.Bar(\n",
        "        x=x2, \n",
        "        y=y2,\n",
        "        text=text_labels2,\n",
        "        textposition='auto',\n",
        "        name=region,\n",
        "        hoverinfo='text',\n",
        "        marker=dict(color=color_region[region])  # Assign color based on region\n",
        "    )\n",
        "\n",
        "    # Add the trace to the second figure\n",
        "    fig2.add_trace(trace2)\n",
        "\n",
        "# Update layout for the first figure\n",
        "fig1.update_layout(\n",
        "    title=\"Cars Sold by Year and Region (2013-2018)\",\n",
        "    xaxis_title=\"Year\",\n",
        "    yaxis_title=\"Number of Cars Sold\",\n",
        "    barmode='group',\n",
        "    height=800,  # Adjust height as needed\n",
        "    width=1200,  # Adjust width as needed\n",
        ")\n",
        "\n",
        "# Update layout for the second figure\n",
        "fig2.update_layout(\n",
        "    title=\"Cars Sold by Year and Region (2019-2023)\",\n",
        "    xaxis_title=\"Year\",\n",
        "    yaxis_title=\"Number of Cars Sold\",\n",
        "    barmode='group',\n",
        "    height=800,  # Adjust height as needed\n",
        "    width=1200,  # Adjust width as needed\n",
        ")\n",
        "\n",
        "# Show the plots\n",
        "fig1.show()\n",
        "fig2.show()\n",
        "\n",
        "# SAVE TO LATEX\n",
        "# Save the plot as an HTML file\n",
        "#fig.write_html(\"interactive_plot.html\")\n",
        "\n",
        "# Print the HTML code to embed into LaTeX\n",
        "#print(f\"<iframe src='interactive_plot.html' width='1200' height='800'></iframe>\")\n"
      ]
    },
    {
      "cell_type": "code",
      "execution_count": 157,
      "metadata": {},
      "outputs": [
        {
          "data": {
            "application/vnd.plotly.v1+json": {
              "config": {
                "plotlyServerURL": "https://plot.ly"
              },
              "data": [
                {
                  "domain": {
                    "x": [
                      0,
                      0.1388888888888889
                    ],
                    "y": [
                      0.575,
                      1
                    ]
                  },
                  "hoverinfo": "label+value+name",
                  "labels": [
                    "A",
                    "B",
                    "C",
                    "F"
                  ],
                  "name": "2013",
                  "scalegroup": "one",
                  "textinfo": "label+percent",
                  "type": "pie",
                  "values": [
                    31,
                    93,
                    211,
                    112
                  ]
                },
                {
                  "domain": {
                    "x": [
                      0.17222222222222222,
                      0.3111111111111111
                    ],
                    "y": [
                      0.575,
                      1
                    ]
                  },
                  "hoverinfo": "label+value+name",
                  "labels": [
                    "A",
                    "B",
                    "C",
                    "F"
                  ],
                  "name": "2014",
                  "scalegroup": "one",
                  "textinfo": "label+percent",
                  "type": "pie",
                  "values": [
                    219,
                    207,
                    597,
                    462
                  ]
                },
                {
                  "domain": {
                    "x": [
                      0.34444444444444444,
                      0.48333333333333334
                    ],
                    "y": [
                      0.575,
                      1
                    ]
                  },
                  "hoverinfo": "label+value+name",
                  "labels": [
                    "A",
                    "B",
                    "C",
                    "F"
                  ],
                  "name": "2015",
                  "scalegroup": "one",
                  "textinfo": "label+percent",
                  "type": "pie",
                  "values": [
                    79,
                    829,
                    309,
                    2725
                  ]
                },
                {
                  "domain": {
                    "x": [
                      0.5166666666666667,
                      0.6555555555555557
                    ],
                    "y": [
                      0.575,
                      1
                    ]
                  },
                  "hoverinfo": "label+value+name",
                  "labels": [
                    "A",
                    "B",
                    "C",
                    "F"
                  ],
                  "name": "2016",
                  "scalegroup": "one",
                  "textinfo": "label+percent",
                  "type": "pie",
                  "values": [
                    59,
                    857,
                    98,
                    176
                  ]
                },
                {
                  "domain": {
                    "x": [
                      0.6888888888888889,
                      0.8277777777777777
                    ],
                    "y": [
                      0.575,
                      1
                    ]
                  },
                  "hoverinfo": "label+value+name",
                  "labels": [
                    "A",
                    "B",
                    "C",
                    "F"
                  ],
                  "name": "2017",
                  "scalegroup": "one",
                  "textinfo": "label+percent",
                  "type": "pie",
                  "values": [
                    46,
                    422,
                    84,
                    98
                  ]
                },
                {
                  "domain": {
                    "x": [
                      0.861111111111111,
                      1
                    ],
                    "y": [
                      0.575,
                      1
                    ]
                  },
                  "hoverinfo": "label+value+name",
                  "labels": [
                    "A",
                    "B",
                    "C",
                    "E",
                    "F"
                  ],
                  "name": "2018",
                  "scalegroup": "one",
                  "textinfo": "label+percent",
                  "type": "pie",
                  "values": [
                    19,
                    519,
                    822,
                    12,
                    95
                  ]
                },
                {
                  "domain": {
                    "x": [
                      0,
                      0.1388888888888889
                    ],
                    "y": [
                      0,
                      0.425
                    ]
                  },
                  "hoverinfo": "label+value+name",
                  "labels": [
                    "A",
                    "B",
                    "C",
                    "D",
                    "E",
                    "F"
                  ],
                  "name": "2019",
                  "scalegroup": "one",
                  "textinfo": "label+percent",
                  "type": "pie",
                  "values": [
                    26,
                    1706,
                    661,
                    2458,
                    96,
                    517
                  ]
                },
                {
                  "domain": {
                    "x": [
                      0.17222222222222222,
                      0.3111111111111111
                    ],
                    "y": [
                      0,
                      0.425
                    ]
                  },
                  "hoverinfo": "label+value+name",
                  "labels": [
                    "A",
                    "B",
                    "C",
                    "D",
                    "E",
                    "F",
                    "M"
                  ],
                  "name": "2020",
                  "scalegroup": "one",
                  "textinfo": "label+percent",
                  "type": "pie",
                  "values": [
                    654,
                    3312,
                    4202,
                    4514,
                    123,
                    1258,
                    95
                  ]
                },
                {
                  "domain": {
                    "x": [
                      0.34444444444444444,
                      0.48333333333333334
                    ],
                    "y": [
                      0,
                      0.425
                    ]
                  },
                  "hoverinfo": "label+value+name",
                  "labels": [
                    "A",
                    "B",
                    "C",
                    "D",
                    "E",
                    "F",
                    "M"
                  ],
                  "name": "2021",
                  "scalegroup": "one",
                  "textinfo": "label+percent",
                  "type": "pie",
                  "values": [
                    1351,
                    4510,
                    12156,
                    5840,
                    70,
                    659,
                    189
                  ]
                },
                {
                  "domain": {
                    "x": [
                      0.5166666666666667,
                      0.6555555555555557
                    ],
                    "y": [
                      0,
                      0.425
                    ]
                  },
                  "hoverinfo": "label+value+name",
                  "labels": [
                    "A",
                    "B",
                    "C",
                    "D",
                    "E",
                    "F",
                    "M"
                  ],
                  "name": "2022",
                  "scalegroup": "one",
                  "textinfo": "label+percent",
                  "type": "pie",
                  "values": [
                    469,
                    2962,
                    17078,
                    7776,
                    806,
                    1092,
                    438
                  ]
                },
                {
                  "domain": {
                    "x": [
                      0.6888888888888889,
                      0.8277777777777777
                    ],
                    "y": [
                      0,
                      0.425
                    ]
                  },
                  "hoverinfo": "label+value+name",
                  "labels": [
                    "A",
                    "B",
                    "C",
                    "D",
                    "E",
                    "F",
                    "J",
                    "M"
                  ],
                  "name": "2023",
                  "scalegroup": "one",
                  "textinfo": "label+percent",
                  "type": "pie",
                  "values": [
                    182,
                    2689,
                    24010,
                    29832,
                    2574,
                    760,
                    85,
                    1753
                  ]
                }
              ],
              "layout": {
                "template": {
                  "data": {
                    "bar": [
                      {
                        "error_x": {
                          "color": "#2a3f5f"
                        },
                        "error_y": {
                          "color": "#2a3f5f"
                        },
                        "marker": {
                          "line": {
                            "color": "#E5ECF6",
                            "width": 0.5
                          },
                          "pattern": {
                            "fillmode": "overlay",
                            "size": 10,
                            "solidity": 0.2
                          }
                        },
                        "type": "bar"
                      }
                    ],
                    "barpolar": [
                      {
                        "marker": {
                          "line": {
                            "color": "#E5ECF6",
                            "width": 0.5
                          },
                          "pattern": {
                            "fillmode": "overlay",
                            "size": 10,
                            "solidity": 0.2
                          }
                        },
                        "type": "barpolar"
                      }
                    ],
                    "carpet": [
                      {
                        "aaxis": {
                          "endlinecolor": "#2a3f5f",
                          "gridcolor": "white",
                          "linecolor": "white",
                          "minorgridcolor": "white",
                          "startlinecolor": "#2a3f5f"
                        },
                        "baxis": {
                          "endlinecolor": "#2a3f5f",
                          "gridcolor": "white",
                          "linecolor": "white",
                          "minorgridcolor": "white",
                          "startlinecolor": "#2a3f5f"
                        },
                        "type": "carpet"
                      }
                    ],
                    "choropleth": [
                      {
                        "colorbar": {
                          "outlinewidth": 0,
                          "ticks": ""
                        },
                        "type": "choropleth"
                      }
                    ],
                    "contour": [
                      {
                        "colorbar": {
                          "outlinewidth": 0,
                          "ticks": ""
                        },
                        "colorscale": [
                          [
                            0,
                            "#0d0887"
                          ],
                          [
                            0.1111111111111111,
                            "#46039f"
                          ],
                          [
                            0.2222222222222222,
                            "#7201a8"
                          ],
                          [
                            0.3333333333333333,
                            "#9c179e"
                          ],
                          [
                            0.4444444444444444,
                            "#bd3786"
                          ],
                          [
                            0.5555555555555556,
                            "#d8576b"
                          ],
                          [
                            0.6666666666666666,
                            "#ed7953"
                          ],
                          [
                            0.7777777777777778,
                            "#fb9f3a"
                          ],
                          [
                            0.8888888888888888,
                            "#fdca26"
                          ],
                          [
                            1,
                            "#f0f921"
                          ]
                        ],
                        "type": "contour"
                      }
                    ],
                    "contourcarpet": [
                      {
                        "colorbar": {
                          "outlinewidth": 0,
                          "ticks": ""
                        },
                        "type": "contourcarpet"
                      }
                    ],
                    "heatmap": [
                      {
                        "colorbar": {
                          "outlinewidth": 0,
                          "ticks": ""
                        },
                        "colorscale": [
                          [
                            0,
                            "#0d0887"
                          ],
                          [
                            0.1111111111111111,
                            "#46039f"
                          ],
                          [
                            0.2222222222222222,
                            "#7201a8"
                          ],
                          [
                            0.3333333333333333,
                            "#9c179e"
                          ],
                          [
                            0.4444444444444444,
                            "#bd3786"
                          ],
                          [
                            0.5555555555555556,
                            "#d8576b"
                          ],
                          [
                            0.6666666666666666,
                            "#ed7953"
                          ],
                          [
                            0.7777777777777778,
                            "#fb9f3a"
                          ],
                          [
                            0.8888888888888888,
                            "#fdca26"
                          ],
                          [
                            1,
                            "#f0f921"
                          ]
                        ],
                        "type": "heatmap"
                      }
                    ],
                    "heatmapgl": [
                      {
                        "colorbar": {
                          "outlinewidth": 0,
                          "ticks": ""
                        },
                        "colorscale": [
                          [
                            0,
                            "#0d0887"
                          ],
                          [
                            0.1111111111111111,
                            "#46039f"
                          ],
                          [
                            0.2222222222222222,
                            "#7201a8"
                          ],
                          [
                            0.3333333333333333,
                            "#9c179e"
                          ],
                          [
                            0.4444444444444444,
                            "#bd3786"
                          ],
                          [
                            0.5555555555555556,
                            "#d8576b"
                          ],
                          [
                            0.6666666666666666,
                            "#ed7953"
                          ],
                          [
                            0.7777777777777778,
                            "#fb9f3a"
                          ],
                          [
                            0.8888888888888888,
                            "#fdca26"
                          ],
                          [
                            1,
                            "#f0f921"
                          ]
                        ],
                        "type": "heatmapgl"
                      }
                    ],
                    "histogram": [
                      {
                        "marker": {
                          "pattern": {
                            "fillmode": "overlay",
                            "size": 10,
                            "solidity": 0.2
                          }
                        },
                        "type": "histogram"
                      }
                    ],
                    "histogram2d": [
                      {
                        "colorbar": {
                          "outlinewidth": 0,
                          "ticks": ""
                        },
                        "colorscale": [
                          [
                            0,
                            "#0d0887"
                          ],
                          [
                            0.1111111111111111,
                            "#46039f"
                          ],
                          [
                            0.2222222222222222,
                            "#7201a8"
                          ],
                          [
                            0.3333333333333333,
                            "#9c179e"
                          ],
                          [
                            0.4444444444444444,
                            "#bd3786"
                          ],
                          [
                            0.5555555555555556,
                            "#d8576b"
                          ],
                          [
                            0.6666666666666666,
                            "#ed7953"
                          ],
                          [
                            0.7777777777777778,
                            "#fb9f3a"
                          ],
                          [
                            0.8888888888888888,
                            "#fdca26"
                          ],
                          [
                            1,
                            "#f0f921"
                          ]
                        ],
                        "type": "histogram2d"
                      }
                    ],
                    "histogram2dcontour": [
                      {
                        "colorbar": {
                          "outlinewidth": 0,
                          "ticks": ""
                        },
                        "colorscale": [
                          [
                            0,
                            "#0d0887"
                          ],
                          [
                            0.1111111111111111,
                            "#46039f"
                          ],
                          [
                            0.2222222222222222,
                            "#7201a8"
                          ],
                          [
                            0.3333333333333333,
                            "#9c179e"
                          ],
                          [
                            0.4444444444444444,
                            "#bd3786"
                          ],
                          [
                            0.5555555555555556,
                            "#d8576b"
                          ],
                          [
                            0.6666666666666666,
                            "#ed7953"
                          ],
                          [
                            0.7777777777777778,
                            "#fb9f3a"
                          ],
                          [
                            0.8888888888888888,
                            "#fdca26"
                          ],
                          [
                            1,
                            "#f0f921"
                          ]
                        ],
                        "type": "histogram2dcontour"
                      }
                    ],
                    "mesh3d": [
                      {
                        "colorbar": {
                          "outlinewidth": 0,
                          "ticks": ""
                        },
                        "type": "mesh3d"
                      }
                    ],
                    "parcoords": [
                      {
                        "line": {
                          "colorbar": {
                            "outlinewidth": 0,
                            "ticks": ""
                          }
                        },
                        "type": "parcoords"
                      }
                    ],
                    "pie": [
                      {
                        "automargin": true,
                        "type": "pie"
                      }
                    ],
                    "scatter": [
                      {
                        "marker": {
                          "colorbar": {
                            "outlinewidth": 0,
                            "ticks": ""
                          }
                        },
                        "type": "scatter"
                      }
                    ],
                    "scatter3d": [
                      {
                        "line": {
                          "colorbar": {
                            "outlinewidth": 0,
                            "ticks": ""
                          }
                        },
                        "marker": {
                          "colorbar": {
                            "outlinewidth": 0,
                            "ticks": ""
                          }
                        },
                        "type": "scatter3d"
                      }
                    ],
                    "scattercarpet": [
                      {
                        "marker": {
                          "colorbar": {
                            "outlinewidth": 0,
                            "ticks": ""
                          }
                        },
                        "type": "scattercarpet"
                      }
                    ],
                    "scattergeo": [
                      {
                        "marker": {
                          "colorbar": {
                            "outlinewidth": 0,
                            "ticks": ""
                          }
                        },
                        "type": "scattergeo"
                      }
                    ],
                    "scattergl": [
                      {
                        "marker": {
                          "colorbar": {
                            "outlinewidth": 0,
                            "ticks": ""
                          }
                        },
                        "type": "scattergl"
                      }
                    ],
                    "scattermapbox": [
                      {
                        "marker": {
                          "colorbar": {
                            "outlinewidth": 0,
                            "ticks": ""
                          }
                        },
                        "type": "scattermapbox"
                      }
                    ],
                    "scatterpolar": [
                      {
                        "marker": {
                          "colorbar": {
                            "outlinewidth": 0,
                            "ticks": ""
                          }
                        },
                        "type": "scatterpolar"
                      }
                    ],
                    "scatterpolargl": [
                      {
                        "marker": {
                          "colorbar": {
                            "outlinewidth": 0,
                            "ticks": ""
                          }
                        },
                        "type": "scatterpolargl"
                      }
                    ],
                    "scatterternary": [
                      {
                        "marker": {
                          "colorbar": {
                            "outlinewidth": 0,
                            "ticks": ""
                          }
                        },
                        "type": "scatterternary"
                      }
                    ],
                    "surface": [
                      {
                        "colorbar": {
                          "outlinewidth": 0,
                          "ticks": ""
                        },
                        "colorscale": [
                          [
                            0,
                            "#0d0887"
                          ],
                          [
                            0.1111111111111111,
                            "#46039f"
                          ],
                          [
                            0.2222222222222222,
                            "#7201a8"
                          ],
                          [
                            0.3333333333333333,
                            "#9c179e"
                          ],
                          [
                            0.4444444444444444,
                            "#bd3786"
                          ],
                          [
                            0.5555555555555556,
                            "#d8576b"
                          ],
                          [
                            0.6666666666666666,
                            "#ed7953"
                          ],
                          [
                            0.7777777777777778,
                            "#fb9f3a"
                          ],
                          [
                            0.8888888888888888,
                            "#fdca26"
                          ],
                          [
                            1,
                            "#f0f921"
                          ]
                        ],
                        "type": "surface"
                      }
                    ],
                    "table": [
                      {
                        "cells": {
                          "fill": {
                            "color": "#EBF0F8"
                          },
                          "line": {
                            "color": "white"
                          }
                        },
                        "header": {
                          "fill": {
                            "color": "#C8D4E3"
                          },
                          "line": {
                            "color": "white"
                          }
                        },
                        "type": "table"
                      }
                    ]
                  },
                  "layout": {
                    "annotationdefaults": {
                      "arrowcolor": "#2a3f5f",
                      "arrowhead": 0,
                      "arrowwidth": 1
                    },
                    "autotypenumbers": "strict",
                    "coloraxis": {
                      "colorbar": {
                        "outlinewidth": 0,
                        "ticks": ""
                      }
                    },
                    "colorscale": {
                      "diverging": [
                        [
                          0,
                          "#8e0152"
                        ],
                        [
                          0.1,
                          "#c51b7d"
                        ],
                        [
                          0.2,
                          "#de77ae"
                        ],
                        [
                          0.3,
                          "#f1b6da"
                        ],
                        [
                          0.4,
                          "#fde0ef"
                        ],
                        [
                          0.5,
                          "#f7f7f7"
                        ],
                        [
                          0.6,
                          "#e6f5d0"
                        ],
                        [
                          0.7,
                          "#b8e186"
                        ],
                        [
                          0.8,
                          "#7fbc41"
                        ],
                        [
                          0.9,
                          "#4d9221"
                        ],
                        [
                          1,
                          "#276419"
                        ]
                      ],
                      "sequential": [
                        [
                          0,
                          "#0d0887"
                        ],
                        [
                          0.1111111111111111,
                          "#46039f"
                        ],
                        [
                          0.2222222222222222,
                          "#7201a8"
                        ],
                        [
                          0.3333333333333333,
                          "#9c179e"
                        ],
                        [
                          0.4444444444444444,
                          "#bd3786"
                        ],
                        [
                          0.5555555555555556,
                          "#d8576b"
                        ],
                        [
                          0.6666666666666666,
                          "#ed7953"
                        ],
                        [
                          0.7777777777777778,
                          "#fb9f3a"
                        ],
                        [
                          0.8888888888888888,
                          "#fdca26"
                        ],
                        [
                          1,
                          "#f0f921"
                        ]
                      ],
                      "sequentialminus": [
                        [
                          0,
                          "#0d0887"
                        ],
                        [
                          0.1111111111111111,
                          "#46039f"
                        ],
                        [
                          0.2222222222222222,
                          "#7201a8"
                        ],
                        [
                          0.3333333333333333,
                          "#9c179e"
                        ],
                        [
                          0.4444444444444444,
                          "#bd3786"
                        ],
                        [
                          0.5555555555555556,
                          "#d8576b"
                        ],
                        [
                          0.6666666666666666,
                          "#ed7953"
                        ],
                        [
                          0.7777777777777778,
                          "#fb9f3a"
                        ],
                        [
                          0.8888888888888888,
                          "#fdca26"
                        ],
                        [
                          1,
                          "#f0f921"
                        ]
                      ]
                    },
                    "colorway": [
                      "#636efa",
                      "#EF553B",
                      "#00cc96",
                      "#ab63fa",
                      "#FFA15A",
                      "#19d3f3",
                      "#FF6692",
                      "#B6E880",
                      "#FF97FF",
                      "#FECB52"
                    ],
                    "font": {
                      "color": "#2a3f5f"
                    },
                    "geo": {
                      "bgcolor": "white",
                      "lakecolor": "white",
                      "landcolor": "#E5ECF6",
                      "showlakes": true,
                      "showland": true,
                      "subunitcolor": "white"
                    },
                    "hoverlabel": {
                      "align": "left"
                    },
                    "hovermode": "closest",
                    "mapbox": {
                      "style": "light"
                    },
                    "paper_bgcolor": "white",
                    "plot_bgcolor": "#E5ECF6",
                    "polar": {
                      "angularaxis": {
                        "gridcolor": "white",
                        "linecolor": "white",
                        "ticks": ""
                      },
                      "bgcolor": "#E5ECF6",
                      "radialaxis": {
                        "gridcolor": "white",
                        "linecolor": "white",
                        "ticks": ""
                      }
                    },
                    "scene": {
                      "xaxis": {
                        "backgroundcolor": "#E5ECF6",
                        "gridcolor": "white",
                        "gridwidth": 2,
                        "linecolor": "white",
                        "showbackground": true,
                        "ticks": "",
                        "zerolinecolor": "white"
                      },
                      "yaxis": {
                        "backgroundcolor": "#E5ECF6",
                        "gridcolor": "white",
                        "gridwidth": 2,
                        "linecolor": "white",
                        "showbackground": true,
                        "ticks": "",
                        "zerolinecolor": "white"
                      },
                      "zaxis": {
                        "backgroundcolor": "#E5ECF6",
                        "gridcolor": "white",
                        "gridwidth": 2,
                        "linecolor": "white",
                        "showbackground": true,
                        "ticks": "",
                        "zerolinecolor": "white"
                      }
                    },
                    "shapedefaults": {
                      "line": {
                        "color": "#2a3f5f"
                      }
                    },
                    "ternary": {
                      "aaxis": {
                        "gridcolor": "white",
                        "linecolor": "white",
                        "ticks": ""
                      },
                      "baxis": {
                        "gridcolor": "white",
                        "linecolor": "white",
                        "ticks": ""
                      },
                      "bgcolor": "#E5ECF6",
                      "caxis": {
                        "gridcolor": "white",
                        "linecolor": "white",
                        "ticks": ""
                      }
                    },
                    "title": {
                      "x": 0.05
                    },
                    "xaxis": {
                      "automargin": true,
                      "gridcolor": "white",
                      "linecolor": "white",
                      "ticks": "",
                      "title": {
                        "standoff": 15
                      },
                      "zerolinecolor": "white",
                      "zerolinewidth": 2
                    },
                    "yaxis": {
                      "automargin": true,
                      "gridcolor": "white",
                      "linecolor": "white",
                      "ticks": "",
                      "title": {
                        "standoff": 15
                      },
                      "zerolinecolor": "white",
                      "zerolinewidth": 2
                    }
                  }
                },
                "title": {
                  "text": "Market share in the Danish EV market by segment and year"
                }
              }
            }
          },
          "metadata": {},
          "output_type": "display_data"
        }
      ],
      "source": [
        "# Get unique years\n",
        "years = data_sorted['Year'].unique()\n",
        "\n",
        "# Calculate the number of pie charts per line\n",
        "num_charts_per_line = (len(years) + 1) // 2  # Round up to ensure half the charts are on each line\n",
        "\n",
        "# Create subplots with two rows and the calculated number of columns\n",
        "fig = make_subplots(rows=2, cols=num_charts_per_line, specs=[[{'type':'domain'}] * num_charts_per_line] * 2)\n",
        "\n",
        "\n",
        "# Iterate over each year\n",
        "for i, year in enumerate(years, start=1):\n",
        "    # Calculate the row and column indices for the current chart\n",
        "    row_index = (i - 1) // num_charts_per_line + 1  # Divide by the number of charts per line and round up\n",
        "    col_index = (i - 1) % num_charts_per_line + 1\n",
        "    \n",
        "    # Filter data for the current year\n",
        "    year_data = data_sorted[data_sorted['Year'] == year]\n",
        "    \n",
        "    # Group the data by region and sum up the sales\n",
        "    sales_by_region = year_data.groupby('Segment')['Sales'].sum().reset_index()\n",
        "    \n",
        "    # Add a pie chart trace for the current year\n",
        "    pie_trace = go.Pie(\n",
        "        labels=sales_by_region['Segment'], \n",
        "        values=sales_by_region['Sales'], \n",
        "        scalegroup='one', \n",
        "        name=f\"{year}\",\n",
        "        textinfo='label+percent',\n",
        "        hoverinfo='label+value+name'  # Include value of sales in the hover info\n",
        "    )\n",
        "    \n",
        "    fig.add_trace(pie_trace, row=row_index, col=col_index)\n",
        "\n",
        "# Update layout\n",
        "fig.update_layout(title_text='Market share in the Danish EV market by segment and year')\n",
        "\n",
        "fig.show()\n"
      ]
    },
    {
      "cell_type": "code",
      "execution_count": 158,
      "metadata": {},
      "outputs": [
        {
          "data": {
            "image/png": "[encoded data removed]",
            "text/plain": [
              "<IPython.core.display.Image object>"
            ]
          },
          "execution_count": 158,
          "metadata": {},
          "output_type": "execute_result"
        }
      ],
      "source": [
        "img_bytes = fig.to_image(format=\"png\", width=1200, height=600, scale=2)\n",
        "Image(img_bytes)"
      ]
    },
    {
      "cell_type": "code",
      "execution_count": null,
      "metadata": {},
      "outputs": [],
      "source": []
    }
  ],
  "metadata": {
    "colab": {
      "provenance": []
    },
    "kernelspec": {
      "display_name": "Python 3",
      "name": "python3"
    },
    "language_info": {
      "codemirror_mode": {
        "name": "ipython",
        "version": 3
      },
      "file_extension": ".py",
      "mimetype": "text/x-python",
      "name": "python",
      "nbconvert_exporter": "python",
      "pygments_lexer": "ipython3",
      "version": "3.9.12"
    }
  },
  "nbformat": 4,
  "nbformat_minor": 0
}
