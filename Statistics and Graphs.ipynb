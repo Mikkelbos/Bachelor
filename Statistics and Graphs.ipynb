{
  "cells": [
    {
      "cell_type": "code",
      "execution_count": 1,
      "metadata": {
        "id": "uwJZ1lbaEHID"
      },
      "outputs": [],
      "source": [
        "%reset -f\n",
        "%load_ext autoreload\n",
        "%autoreload 2\n",
        "import pandas as pd\n",
        "import numpy as np\n",
        "from tabulate import tabulate\n",
        "from matplotlib import pyplot as plt\n",
        "import scipy.stats as st\n",
        "import statsmodels.api as sm\n",
        "import seaborn as sns\n",
        "import plotly.express as px\n",
        "import plotly.graph_objects as go"
      ]
    },
    {
      "cell_type": "code",
      "execution_count": 2,
      "metadata": {},
      "outputs": [
        {
          "data": {
            "text/html": [
              "<div>\n",
              "<style scoped>\n",
              "    .dataframe tbody tr th:only-of-type {\n",
              "        vertical-align: middle;\n",
              "    }\n",
              "\n",
              "    .dataframe tbody tr th {\n",
              "        vertical-align: top;\n",
              "    }\n",
              "\n",
              "    .dataframe thead th {\n",
              "        text-align: right;\n",
              "    }\n",
              "</style>\n",
              "<table border=\"1\" class=\"dataframe\">\n",
              "  <thead>\n",
              "    <tr style=\"text-align: right;\">\n",
              "      <th></th>\n",
              "      <th>ID</th>\n",
              "      <th>Year</th>\n",
              "      <th>Sales</th>\n",
              "      <th>Market share</th>\n",
              "      <th>Manufacturer</th>\n",
              "      <th>Model</th>\n",
              "      <th>Range</th>\n",
              "      <th>Price</th>\n",
              "      <th>HP</th>\n",
              "      <th>Chargetime</th>\n",
              "      <th>Type</th>\n",
              "      <th>Segment</th>\n",
              "      <th>Country</th>\n",
              "    </tr>\n",
              "  </thead>\n",
              "  <tbody>\n",
              "    <tr>\n",
              "      <th>0</th>\n",
              "      <td>1</td>\n",
              "      <td>2013</td>\n",
              "      <td>0</td>\n",
              "      <td>0.000000</td>\n",
              "      <td>Aiways</td>\n",
              "      <td>U5</td>\n",
              "      <td>400</td>\n",
              "      <td>330825.789474</td>\n",
              "      <td>201</td>\n",
              "      <td>34</td>\n",
              "      <td>SUV</td>\n",
              "      <td>C</td>\n",
              "      <td>CH</td>\n",
              "    </tr>\n",
              "    <tr>\n",
              "      <th>1</th>\n",
              "      <td>1</td>\n",
              "      <td>2014</td>\n",
              "      <td>0</td>\n",
              "      <td>0.000000</td>\n",
              "      <td>Aiways</td>\n",
              "      <td>U5</td>\n",
              "      <td>400</td>\n",
              "      <td>330825.789474</td>\n",
              "      <td>201</td>\n",
              "      <td>34</td>\n",
              "      <td>SUV</td>\n",
              "      <td>C</td>\n",
              "      <td>CH</td>\n",
              "    </tr>\n",
              "    <tr>\n",
              "      <th>2</th>\n",
              "      <td>1</td>\n",
              "      <td>2015</td>\n",
              "      <td>0</td>\n",
              "      <td>0.000000</td>\n",
              "      <td>Aiways</td>\n",
              "      <td>U5</td>\n",
              "      <td>400</td>\n",
              "      <td>330825.789474</td>\n",
              "      <td>201</td>\n",
              "      <td>34</td>\n",
              "      <td>SUV</td>\n",
              "      <td>C</td>\n",
              "      <td>CH</td>\n",
              "    </tr>\n",
              "    <tr>\n",
              "      <th>3</th>\n",
              "      <td>1</td>\n",
              "      <td>2016</td>\n",
              "      <td>0</td>\n",
              "      <td>0.000000</td>\n",
              "      <td>Aiways</td>\n",
              "      <td>U5</td>\n",
              "      <td>400</td>\n",
              "      <td>330825.789474</td>\n",
              "      <td>201</td>\n",
              "      <td>34</td>\n",
              "      <td>SUV</td>\n",
              "      <td>C</td>\n",
              "      <td>CH</td>\n",
              "    </tr>\n",
              "    <tr>\n",
              "      <th>4</th>\n",
              "      <td>1</td>\n",
              "      <td>2017</td>\n",
              "      <td>0</td>\n",
              "      <td>0.000000</td>\n",
              "      <td>Aiways</td>\n",
              "      <td>U5</td>\n",
              "      <td>400</td>\n",
              "      <td>330825.789474</td>\n",
              "      <td>201</td>\n",
              "      <td>34</td>\n",
              "      <td>SUV</td>\n",
              "      <td>C</td>\n",
              "      <td>CH</td>\n",
              "    </tr>\n",
              "    <tr>\n",
              "      <th>5</th>\n",
              "      <td>1</td>\n",
              "      <td>2018</td>\n",
              "      <td>0</td>\n",
              "      <td>0.000000</td>\n",
              "      <td>Aiways</td>\n",
              "      <td>U5</td>\n",
              "      <td>400</td>\n",
              "      <td>330825.789474</td>\n",
              "      <td>201</td>\n",
              "      <td>34</td>\n",
              "      <td>SUV</td>\n",
              "      <td>C</td>\n",
              "      <td>CH</td>\n",
              "    </tr>\n",
              "    <tr>\n",
              "      <th>6</th>\n",
              "      <td>1</td>\n",
              "      <td>2019</td>\n",
              "      <td>0</td>\n",
              "      <td>0.000000</td>\n",
              "      <td>Aiways</td>\n",
              "      <td>U5</td>\n",
              "      <td>400</td>\n",
              "      <td>330825.789474</td>\n",
              "      <td>201</td>\n",
              "      <td>34</td>\n",
              "      <td>SUV</td>\n",
              "      <td>C</td>\n",
              "      <td>CH</td>\n",
              "    </tr>\n",
              "    <tr>\n",
              "      <th>7</th>\n",
              "      <td>1</td>\n",
              "      <td>2020</td>\n",
              "      <td>0</td>\n",
              "      <td>0.000000</td>\n",
              "      <td>Aiways</td>\n",
              "      <td>U5</td>\n",
              "      <td>400</td>\n",
              "      <td>330825.789474</td>\n",
              "      <td>201</td>\n",
              "      <td>34</td>\n",
              "      <td>SUV</td>\n",
              "      <td>C</td>\n",
              "      <td>CH</td>\n",
              "    </tr>\n",
              "    <tr>\n",
              "      <th>8</th>\n",
              "      <td>1</td>\n",
              "      <td>2021</td>\n",
              "      <td>257</td>\n",
              "      <td>0.010319</td>\n",
              "      <td>Aiways</td>\n",
              "      <td>U5</td>\n",
              "      <td>400</td>\n",
              "      <td>330825.789474</td>\n",
              "      <td>201</td>\n",
              "      <td>34</td>\n",
              "      <td>SUV</td>\n",
              "      <td>C</td>\n",
              "      <td>CH</td>\n",
              "    </tr>\n",
              "    <tr>\n",
              "      <th>9</th>\n",
              "      <td>1</td>\n",
              "      <td>2022</td>\n",
              "      <td>183</td>\n",
              "      <td>0.005938</td>\n",
              "      <td>Aiways</td>\n",
              "      <td>U5</td>\n",
              "      <td>400</td>\n",
              "      <td>330825.789474</td>\n",
              "      <td>201</td>\n",
              "      <td>34</td>\n",
              "      <td>SUV</td>\n",
              "      <td>C</td>\n",
              "      <td>CH</td>\n",
              "    </tr>\n",
              "    <tr>\n",
              "      <th>10</th>\n",
              "      <td>1</td>\n",
              "      <td>2023</td>\n",
              "      <td>177</td>\n",
              "      <td>0.002822</td>\n",
              "      <td>Aiways</td>\n",
              "      <td>U5</td>\n",
              "      <td>400</td>\n",
              "      <td>330825.789474</td>\n",
              "      <td>201</td>\n",
              "      <td>34</td>\n",
              "      <td>SUV</td>\n",
              "      <td>C</td>\n",
              "      <td>CH</td>\n",
              "    </tr>\n",
              "    <tr>\n",
              "      <th>11</th>\n",
              "      <td>2</td>\n",
              "      <td>2013</td>\n",
              "      <td>0</td>\n",
              "      <td>0.000000</td>\n",
              "      <td>Aiways</td>\n",
              "      <td>U6</td>\n",
              "      <td>405</td>\n",
              "      <td>375710.000000</td>\n",
              "      <td>214</td>\n",
              "      <td>34</td>\n",
              "      <td>SUV</td>\n",
              "      <td>C</td>\n",
              "      <td>CH</td>\n",
              "    </tr>\n",
              "    <tr>\n",
              "      <th>12</th>\n",
              "      <td>2</td>\n",
              "      <td>2014</td>\n",
              "      <td>0</td>\n",
              "      <td>0.000000</td>\n",
              "      <td>Aiways</td>\n",
              "      <td>U6</td>\n",
              "      <td>405</td>\n",
              "      <td>375710.000000</td>\n",
              "      <td>214</td>\n",
              "      <td>34</td>\n",
              "      <td>SUV</td>\n",
              "      <td>C</td>\n",
              "      <td>CH</td>\n",
              "    </tr>\n",
              "    <tr>\n",
              "      <th>13</th>\n",
              "      <td>2</td>\n",
              "      <td>2015</td>\n",
              "      <td>0</td>\n",
              "      <td>0.000000</td>\n",
              "      <td>Aiways</td>\n",
              "      <td>U6</td>\n",
              "      <td>405</td>\n",
              "      <td>375710.000000</td>\n",
              "      <td>214</td>\n",
              "      <td>34</td>\n",
              "      <td>SUV</td>\n",
              "      <td>C</td>\n",
              "      <td>CH</td>\n",
              "    </tr>\n",
              "    <tr>\n",
              "      <th>14</th>\n",
              "      <td>2</td>\n",
              "      <td>2016</td>\n",
              "      <td>0</td>\n",
              "      <td>0.000000</td>\n",
              "      <td>Aiways</td>\n",
              "      <td>U6</td>\n",
              "      <td>405</td>\n",
              "      <td>375710.000000</td>\n",
              "      <td>214</td>\n",
              "      <td>34</td>\n",
              "      <td>SUV</td>\n",
              "      <td>C</td>\n",
              "      <td>CH</td>\n",
              "    </tr>\n",
              "    <tr>\n",
              "      <th>15</th>\n",
              "      <td>2</td>\n",
              "      <td>2017</td>\n",
              "      <td>0</td>\n",
              "      <td>0.000000</td>\n",
              "      <td>Aiways</td>\n",
              "      <td>U6</td>\n",
              "      <td>405</td>\n",
              "      <td>375710.000000</td>\n",
              "      <td>214</td>\n",
              "      <td>34</td>\n",
              "      <td>SUV</td>\n",
              "      <td>C</td>\n",
              "      <td>CH</td>\n",
              "    </tr>\n",
              "    <tr>\n",
              "      <th>16</th>\n",
              "      <td>2</td>\n",
              "      <td>2018</td>\n",
              "      <td>0</td>\n",
              "      <td>0.000000</td>\n",
              "      <td>Aiways</td>\n",
              "      <td>U6</td>\n",
              "      <td>405</td>\n",
              "      <td>375710.000000</td>\n",
              "      <td>214</td>\n",
              "      <td>34</td>\n",
              "      <td>SUV</td>\n",
              "      <td>C</td>\n",
              "      <td>CH</td>\n",
              "    </tr>\n",
              "    <tr>\n",
              "      <th>17</th>\n",
              "      <td>2</td>\n",
              "      <td>2019</td>\n",
              "      <td>0</td>\n",
              "      <td>0.000000</td>\n",
              "      <td>Aiways</td>\n",
              "      <td>U6</td>\n",
              "      <td>405</td>\n",
              "      <td>375710.000000</td>\n",
              "      <td>214</td>\n",
              "      <td>34</td>\n",
              "      <td>SUV</td>\n",
              "      <td>C</td>\n",
              "      <td>CH</td>\n",
              "    </tr>\n",
              "    <tr>\n",
              "      <th>18</th>\n",
              "      <td>2</td>\n",
              "      <td>2020</td>\n",
              "      <td>0</td>\n",
              "      <td>0.000000</td>\n",
              "      <td>Aiways</td>\n",
              "      <td>U6</td>\n",
              "      <td>405</td>\n",
              "      <td>375710.000000</td>\n",
              "      <td>214</td>\n",
              "      <td>34</td>\n",
              "      <td>SUV</td>\n",
              "      <td>C</td>\n",
              "      <td>CH</td>\n",
              "    </tr>\n",
              "    <tr>\n",
              "      <th>19</th>\n",
              "      <td>2</td>\n",
              "      <td>2021</td>\n",
              "      <td>0</td>\n",
              "      <td>0.000000</td>\n",
              "      <td>Aiways</td>\n",
              "      <td>U6</td>\n",
              "      <td>405</td>\n",
              "      <td>375710.000000</td>\n",
              "      <td>214</td>\n",
              "      <td>34</td>\n",
              "      <td>SUV</td>\n",
              "      <td>C</td>\n",
              "      <td>CH</td>\n",
              "    </tr>\n",
              "  </tbody>\n",
              "</table>\n",
              "</div>"
            ],
            "text/plain": [
              "    ID  Year  Sales  Market share Manufacturer Model  Range          Price  \\\n",
              "0    1  2013      0      0.000000       Aiways    U5    400  330825.789474   \n",
              "1    1  2014      0      0.000000       Aiways    U5    400  330825.789474   \n",
              "2    1  2015      0      0.000000       Aiways    U5    400  330825.789474   \n",
              "3    1  2016      0      0.000000       Aiways    U5    400  330825.789474   \n",
              "4    1  2017      0      0.000000       Aiways    U5    400  330825.789474   \n",
              "5    1  2018      0      0.000000       Aiways    U5    400  330825.789474   \n",
              "6    1  2019      0      0.000000       Aiways    U5    400  330825.789474   \n",
              "7    1  2020      0      0.000000       Aiways    U5    400  330825.789474   \n",
              "8    1  2021    257      0.010319       Aiways    U5    400  330825.789474   \n",
              "9    1  2022    183      0.005938       Aiways    U5    400  330825.789474   \n",
              "10   1  2023    177      0.002822       Aiways    U5    400  330825.789474   \n",
              "11   2  2013      0      0.000000       Aiways    U6    405  375710.000000   \n",
              "12   2  2014      0      0.000000       Aiways    U6    405  375710.000000   \n",
              "13   2  2015      0      0.000000       Aiways    U6    405  375710.000000   \n",
              "14   2  2016      0      0.000000       Aiways    U6    405  375710.000000   \n",
              "15   2  2017      0      0.000000       Aiways    U6    405  375710.000000   \n",
              "16   2  2018      0      0.000000       Aiways    U6    405  375710.000000   \n",
              "17   2  2019      0      0.000000       Aiways    U6    405  375710.000000   \n",
              "18   2  2020      0      0.000000       Aiways    U6    405  375710.000000   \n",
              "19   2  2021      0      0.000000       Aiways    U6    405  375710.000000   \n",
              "\n",
              "     HP  Chargetime Type Segment Country  \n",
              "0   201          34  SUV       C      CH  \n",
              "1   201          34  SUV       C      CH  \n",
              "2   201          34  SUV       C      CH  \n",
              "3   201          34  SUV       C      CH  \n",
              "4   201          34  SUV       C      CH  \n",
              "5   201          34  SUV       C      CH  \n",
              "6   201          34  SUV       C      CH  \n",
              "7   201          34  SUV       C      CH  \n",
              "8   201          34  SUV       C      CH  \n",
              "9   201          34  SUV       C      CH  \n",
              "10  201          34  SUV       C      CH  \n",
              "11  214          34  SUV       C      CH  \n",
              "12  214          34  SUV       C      CH  \n",
              "13  214          34  SUV       C      CH  \n",
              "14  214          34  SUV       C      CH  \n",
              "15  214          34  SUV       C      CH  \n",
              "16  214          34  SUV       C      CH  \n",
              "17  214          34  SUV       C      CH  \n",
              "18  214          34  SUV       C      CH  \n",
              "19  214          34  SUV       C      CH  "
            ]
          },
          "execution_count": 2,
          "metadata": {},
          "output_type": "execute_result"
        }
      ],
      "source": [
        "df = pd.read_csv('dataset.csv')\n",
        "df.head(20)\n"
      ]
    },
    {
      "cell_type": "code",
      "execution_count": 3,
      "metadata": {},
      "outputs": [
        {
          "data": {
            "text/html": [
              "<div>\n",
              "<style scoped>\n",
              "    .dataframe tbody tr th:only-of-type {\n",
              "        vertical-align: middle;\n",
              "    }\n",
              "\n",
              "    .dataframe tbody tr th {\n",
              "        vertical-align: top;\n",
              "    }\n",
              "\n",
              "    .dataframe thead th {\n",
              "        text-align: right;\n",
              "    }\n",
              "</style>\n",
              "<table border=\"1\" class=\"dataframe\">\n",
              "  <thead>\n",
              "    <tr style=\"text-align: right;\">\n",
              "      <th></th>\n",
              "      <th>ID</th>\n",
              "      <th>Year</th>\n",
              "      <th>Sales</th>\n",
              "      <th>Market share</th>\n",
              "      <th>Manufacturer</th>\n",
              "      <th>Model</th>\n",
              "      <th>Range</th>\n",
              "      <th>Price</th>\n",
              "      <th>HP</th>\n",
              "      <th>Chargetime</th>\n",
              "      <th>Type</th>\n",
              "      <th>Segment</th>\n",
              "      <th>Country</th>\n",
              "    </tr>\n",
              "  </thead>\n",
              "  <tbody>\n",
              "    <tr>\n",
              "      <th>8</th>\n",
              "      <td>1</td>\n",
              "      <td>2021</td>\n",
              "      <td>257</td>\n",
              "      <td>0.010319</td>\n",
              "      <td>Aiways</td>\n",
              "      <td>U5</td>\n",
              "      <td>400</td>\n",
              "      <td>3.308258e+05</td>\n",
              "      <td>201</td>\n",
              "      <td>34</td>\n",
              "      <td>SUV</td>\n",
              "      <td>C</td>\n",
              "      <td>CH</td>\n",
              "    </tr>\n",
              "    <tr>\n",
              "      <th>9</th>\n",
              "      <td>1</td>\n",
              "      <td>2022</td>\n",
              "      <td>183</td>\n",
              "      <td>0.005938</td>\n",
              "      <td>Aiways</td>\n",
              "      <td>U5</td>\n",
              "      <td>400</td>\n",
              "      <td>3.308258e+05</td>\n",
              "      <td>201</td>\n",
              "      <td>34</td>\n",
              "      <td>SUV</td>\n",
              "      <td>C</td>\n",
              "      <td>CH</td>\n",
              "    </tr>\n",
              "    <tr>\n",
              "      <th>10</th>\n",
              "      <td>1</td>\n",
              "      <td>2023</td>\n",
              "      <td>177</td>\n",
              "      <td>0.002822</td>\n",
              "      <td>Aiways</td>\n",
              "      <td>U5</td>\n",
              "      <td>400</td>\n",
              "      <td>3.308258e+05</td>\n",
              "      <td>201</td>\n",
              "      <td>34</td>\n",
              "      <td>SUV</td>\n",
              "      <td>C</td>\n",
              "      <td>CH</td>\n",
              "    </tr>\n",
              "    <tr>\n",
              "      <th>21</th>\n",
              "      <td>2</td>\n",
              "      <td>2023</td>\n",
              "      <td>3</td>\n",
              "      <td>0.000048</td>\n",
              "      <td>Aiways</td>\n",
              "      <td>U6</td>\n",
              "      <td>405</td>\n",
              "      <td>3.757100e+05</td>\n",
              "      <td>214</td>\n",
              "      <td>34</td>\n",
              "      <td>SUV</td>\n",
              "      <td>C</td>\n",
              "      <td>CH</td>\n",
              "    </tr>\n",
              "    <tr>\n",
              "      <th>28</th>\n",
              "      <td>3</td>\n",
              "      <td>2019</td>\n",
              "      <td>222</td>\n",
              "      <td>0.040217</td>\n",
              "      <td>Audi</td>\n",
              "      <td>e-tron</td>\n",
              "      <td>375</td>\n",
              "      <td>7.149530e+05</td>\n",
              "      <td>402</td>\n",
              "      <td>17</td>\n",
              "      <td>SUV</td>\n",
              "      <td>F</td>\n",
              "      <td>DE</td>\n",
              "    </tr>\n",
              "    <tr>\n",
              "      <th>29</th>\n",
              "      <td>3</td>\n",
              "      <td>2020</td>\n",
              "      <td>491</td>\n",
              "      <td>0.034512</td>\n",
              "      <td>Audi</td>\n",
              "      <td>e-tron</td>\n",
              "      <td>375</td>\n",
              "      <td>7.149530e+05</td>\n",
              "      <td>402</td>\n",
              "      <td>17</td>\n",
              "      <td>SUV</td>\n",
              "      <td>F</td>\n",
              "      <td>DE</td>\n",
              "    </tr>\n",
              "    <tr>\n",
              "      <th>30</th>\n",
              "      <td>3</td>\n",
              "      <td>2021</td>\n",
              "      <td>260</td>\n",
              "      <td>0.010440</td>\n",
              "      <td>Audi</td>\n",
              "      <td>e-tron</td>\n",
              "      <td>375</td>\n",
              "      <td>7.149530e+05</td>\n",
              "      <td>402</td>\n",
              "      <td>17</td>\n",
              "      <td>SUV</td>\n",
              "      <td>F</td>\n",
              "      <td>DE</td>\n",
              "    </tr>\n",
              "    <tr>\n",
              "      <th>31</th>\n",
              "      <td>3</td>\n",
              "      <td>2022</td>\n",
              "      <td>538</td>\n",
              "      <td>0.017456</td>\n",
              "      <td>Audi</td>\n",
              "      <td>e-tron</td>\n",
              "      <td>375</td>\n",
              "      <td>7.149530e+05</td>\n",
              "      <td>402</td>\n",
              "      <td>17</td>\n",
              "      <td>SUV</td>\n",
              "      <td>F</td>\n",
              "      <td>DE</td>\n",
              "    </tr>\n",
              "    <tr>\n",
              "      <th>32</th>\n",
              "      <td>3</td>\n",
              "      <td>2023</td>\n",
              "      <td>68</td>\n",
              "      <td>0.001084</td>\n",
              "      <td>Audi</td>\n",
              "      <td>e-tron</td>\n",
              "      <td>375</td>\n",
              "      <td>7.149530e+05</td>\n",
              "      <td>402</td>\n",
              "      <td>17</td>\n",
              "      <td>SUV</td>\n",
              "      <td>F</td>\n",
              "      <td>DE</td>\n",
              "    </tr>\n",
              "    <tr>\n",
              "      <th>41</th>\n",
              "      <td>4</td>\n",
              "      <td>2021</td>\n",
              "      <td>84</td>\n",
              "      <td>0.003373</td>\n",
              "      <td>Audi</td>\n",
              "      <td>e-tron GT</td>\n",
              "      <td>472</td>\n",
              "      <td>1.081416e+06</td>\n",
              "      <td>522</td>\n",
              "      <td>17</td>\n",
              "      <td>Sedan</td>\n",
              "      <td>F</td>\n",
              "      <td>DE</td>\n",
              "    </tr>\n",
              "    <tr>\n",
              "      <th>42</th>\n",
              "      <td>4</td>\n",
              "      <td>2022</td>\n",
              "      <td>64</td>\n",
              "      <td>0.002077</td>\n",
              "      <td>Audi</td>\n",
              "      <td>e-tron GT</td>\n",
              "      <td>472</td>\n",
              "      <td>1.081416e+06</td>\n",
              "      <td>522</td>\n",
              "      <td>17</td>\n",
              "      <td>Sedan</td>\n",
              "      <td>F</td>\n",
              "      <td>DE</td>\n",
              "    </tr>\n",
              "    <tr>\n",
              "      <th>43</th>\n",
              "      <td>4</td>\n",
              "      <td>2023</td>\n",
              "      <td>23</td>\n",
              "      <td>0.000367</td>\n",
              "      <td>Audi</td>\n",
              "      <td>e-tron GT</td>\n",
              "      <td>472</td>\n",
              "      <td>1.081416e+06</td>\n",
              "      <td>522</td>\n",
              "      <td>17</td>\n",
              "      <td>Sedan</td>\n",
              "      <td>F</td>\n",
              "      <td>DE</td>\n",
              "    </tr>\n",
              "    <tr>\n",
              "      <th>52</th>\n",
              "      <td>5</td>\n",
              "      <td>2021</td>\n",
              "      <td>1517</td>\n",
              "      <td>0.060911</td>\n",
              "      <td>Audi</td>\n",
              "      <td>Q4 e-tron</td>\n",
              "      <td>496</td>\n",
              "      <td>4.547246e+05</td>\n",
              "      <td>281</td>\n",
              "      <td>28</td>\n",
              "      <td>SUV</td>\n",
              "      <td>C</td>\n",
              "      <td>DE</td>\n",
              "    </tr>\n",
              "    <tr>\n",
              "      <th>53</th>\n",
              "      <td>5</td>\n",
              "      <td>2022</td>\n",
              "      <td>1780</td>\n",
              "      <td>0.057753</td>\n",
              "      <td>Audi</td>\n",
              "      <td>Q4 e-tron</td>\n",
              "      <td>496</td>\n",
              "      <td>4.547246e+05</td>\n",
              "      <td>281</td>\n",
              "      <td>28</td>\n",
              "      <td>SUV</td>\n",
              "      <td>C</td>\n",
              "      <td>DE</td>\n",
              "    </tr>\n",
              "    <tr>\n",
              "      <th>54</th>\n",
              "      <td>5</td>\n",
              "      <td>2023</td>\n",
              "      <td>2349</td>\n",
              "      <td>0.037449</td>\n",
              "      <td>Audi</td>\n",
              "      <td>Q4 e-tron</td>\n",
              "      <td>496</td>\n",
              "      <td>4.547246e+05</td>\n",
              "      <td>281</td>\n",
              "      <td>28</td>\n",
              "      <td>SUV</td>\n",
              "      <td>C</td>\n",
              "      <td>DE</td>\n",
              "    </tr>\n",
              "    <tr>\n",
              "      <th>65</th>\n",
              "      <td>6</td>\n",
              "      <td>2023</td>\n",
              "      <td>449</td>\n",
              "      <td>0.007158</td>\n",
              "      <td>Audi</td>\n",
              "      <td>Q8 e-tron</td>\n",
              "      <td>518</td>\n",
              "      <td>7.981983e+05</td>\n",
              "      <td>335</td>\n",
              "      <td>27</td>\n",
              "      <td>SUV</td>\n",
              "      <td>E</td>\n",
              "      <td>DE</td>\n",
              "    </tr>\n",
              "    <tr>\n",
              "      <th>66</th>\n",
              "      <td>10</td>\n",
              "      <td>2013</td>\n",
              "      <td>1</td>\n",
              "      <td>0.001873</td>\n",
              "      <td>BMW</td>\n",
              "      <td>I3</td>\n",
              "      <td>295</td>\n",
              "      <td>2.982637e+05</td>\n",
              "      <td>167</td>\n",
              "      <td>18</td>\n",
              "      <td>Hatchback</td>\n",
              "      <td>B</td>\n",
              "      <td>DE</td>\n",
              "    </tr>\n",
              "    <tr>\n",
              "      <th>67</th>\n",
              "      <td>10</td>\n",
              "      <td>2014</td>\n",
              "      <td>62</td>\n",
              "      <td>0.039566</td>\n",
              "      <td>BMW</td>\n",
              "      <td>I3</td>\n",
              "      <td>295</td>\n",
              "      <td>2.982637e+05</td>\n",
              "      <td>167</td>\n",
              "      <td>18</td>\n",
              "      <td>Hatchback</td>\n",
              "      <td>B</td>\n",
              "      <td>DE</td>\n",
              "    </tr>\n",
              "    <tr>\n",
              "      <th>68</th>\n",
              "      <td>10</td>\n",
              "      <td>2015</td>\n",
              "      <td>490</td>\n",
              "      <td>0.113663</td>\n",
              "      <td>BMW</td>\n",
              "      <td>I3</td>\n",
              "      <td>295</td>\n",
              "      <td>2.982637e+05</td>\n",
              "      <td>167</td>\n",
              "      <td>18</td>\n",
              "      <td>Hatchback</td>\n",
              "      <td>B</td>\n",
              "      <td>DE</td>\n",
              "    </tr>\n",
              "    <tr>\n",
              "      <th>69</th>\n",
              "      <td>10</td>\n",
              "      <td>2016</td>\n",
              "      <td>227</td>\n",
              "      <td>0.172755</td>\n",
              "      <td>BMW</td>\n",
              "      <td>I3</td>\n",
              "      <td>295</td>\n",
              "      <td>2.982637e+05</td>\n",
              "      <td>167</td>\n",
              "      <td>18</td>\n",
              "      <td>Hatchback</td>\n",
              "      <td>B</td>\n",
              "      <td>DE</td>\n",
              "    </tr>\n",
              "  </tbody>\n",
              "</table>\n",
              "</div>"
            ],
            "text/plain": [
              "    ID  Year  Sales  Market share Manufacturer      Model  Range  \\\n",
              "8    1  2021    257      0.010319       Aiways         U5    400   \n",
              "9    1  2022    183      0.005938       Aiways         U5    400   \n",
              "10   1  2023    177      0.002822       Aiways         U5    400   \n",
              "21   2  2023      3      0.000048       Aiways         U6    405   \n",
              "28   3  2019    222      0.040217         Audi     e-tron    375   \n",
              "29   3  2020    491      0.034512         Audi     e-tron    375   \n",
              "30   3  2021    260      0.010440         Audi     e-tron    375   \n",
              "31   3  2022    538      0.017456         Audi     e-tron    375   \n",
              "32   3  2023     68      0.001084         Audi     e-tron    375   \n",
              "41   4  2021     84      0.003373         Audi  e-tron GT    472   \n",
              "42   4  2022     64      0.002077         Audi  e-tron GT    472   \n",
              "43   4  2023     23      0.000367         Audi  e-tron GT    472   \n",
              "52   5  2021   1517      0.060911         Audi  Q4 e-tron    496   \n",
              "53   5  2022   1780      0.057753         Audi  Q4 e-tron    496   \n",
              "54   5  2023   2349      0.037449         Audi  Q4 e-tron    496   \n",
              "65   6  2023    449      0.007158         Audi  Q8 e-tron    518   \n",
              "66  10  2013      1      0.001873          BMW         I3    295   \n",
              "67  10  2014     62      0.039566          BMW         I3    295   \n",
              "68  10  2015    490      0.113663          BMW         I3    295   \n",
              "69  10  2016    227      0.172755          BMW         I3    295   \n",
              "\n",
              "           Price   HP  Chargetime       Type Segment Country  \n",
              "8   3.308258e+05  201          34        SUV       C      CH  \n",
              "9   3.308258e+05  201          34        SUV       C      CH  \n",
              "10  3.308258e+05  201          34        SUV       C      CH  \n",
              "21  3.757100e+05  214          34        SUV       C      CH  \n",
              "28  7.149530e+05  402          17        SUV       F      DE  \n",
              "29  7.149530e+05  402          17        SUV       F      DE  \n",
              "30  7.149530e+05  402          17        SUV       F      DE  \n",
              "31  7.149530e+05  402          17        SUV       F      DE  \n",
              "32  7.149530e+05  402          17        SUV       F      DE  \n",
              "41  1.081416e+06  522          17      Sedan       F      DE  \n",
              "42  1.081416e+06  522          17      Sedan       F      DE  \n",
              "43  1.081416e+06  522          17      Sedan       F      DE  \n",
              "52  4.547246e+05  281          28        SUV       C      DE  \n",
              "53  4.547246e+05  281          28        SUV       C      DE  \n",
              "54  4.547246e+05  281          28        SUV       C      DE  \n",
              "65  7.981983e+05  335          27        SUV       E      DE  \n",
              "66  2.982637e+05  167          18  Hatchback       B      DE  \n",
              "67  2.982637e+05  167          18  Hatchback       B      DE  \n",
              "68  2.982637e+05  167          18  Hatchback       B      DE  \n",
              "69  2.982637e+05  167          18  Hatchback       B      DE  "
            ]
          },
          "execution_count": 3,
          "metadata": {},
          "output_type": "execute_result"
        }
      ],
      "source": [
        "data = df[df['Market share'] != 0]\n",
        "data.head(20)"
      ]
    },
    {
      "cell_type": "markdown",
      "metadata": {},
      "source": [
        "# Statistics"
      ]
    },
    {
      "cell_type": "markdown",
      "metadata": {},
      "source": [
        "## Average per year"
      ]
    },
    {
      "cell_type": "code",
      "execution_count": 4,
      "metadata": {},
      "outputs": [
        {
          "name": "stdout",
          "output_type": "stream",
          "text": [
            "      Number of Unique Models  Sales  Average Price  Average Range  \\\n",
            "Year                                                                 \n",
            "2013                        7    448  402068.661692     333.571429   \n",
            "2014                        7   1486  409651.091079     348.285714   \n",
            "2015                        8   3981  365039.729771     347.125000   \n",
            "2016                        9   1191  445584.375976     367.333333   \n",
            "2017                       10    651  427822.666915     361.600000   \n",
            "2018                       11   1467  438825.725796     389.090909   \n",
            "2019                       16   5464  459551.992483     386.500000   \n",
            "2020                       34  14159  425473.896812     359.205882   \n",
            "2021                       59  24802  454255.325737     383.440678   \n",
            "2022                       83  30691  488371.991975     401.084337   \n",
            "2023                      104  61932  503090.614323     420.375000   \n",
            "\n",
            "      Average HP  Average Charge Time  \n",
            "Year                                   \n",
            "2013  212.142857            41.428571  \n",
            "2014  219.857143            38.000000  \n",
            "2015  214.500000            49.375000  \n",
            "2016  265.666667            47.222222  \n",
            "2017  250.900000            44.400000  \n",
            "2018  267.272727            37.181818  \n",
            "2019  268.937500            36.687500  \n",
            "2020  227.705882            35.029412  \n",
            "2021  240.440678            33.406780  \n",
            "2022  252.313253            33.421687  \n",
            "2023  268.173077            33.048077  \n"
          ]
        }
      ],
      "source": [
        "# Group the data by year\n",
        "grouped_data = data.groupby('Year')\n",
        "\n",
        "# Calculate the required statistics\n",
        "desc_stats = grouped_data.agg({\n",
        "    'Model': pd.Series.nunique,  # number of unique models\n",
        "    'Sales': 'sum',  # sum of count\n",
        "    'Price': 'mean',  # average price\n",
        "    'Range': 'mean',  # average range\n",
        "    'HP': 'mean',  # average hp\n",
        "    'Chargetime': 'mean'  # average charge time\n",
        "})\n",
        "\n",
        "# Rename the columns\n",
        "desc_stats.columns = ['Number of Unique Models', 'Sales', 'Average Price', 'Average Range', 'Average HP', 'Average Charge Time']\n",
        "\n",
        "# Print the descriptive statistics table\n",
        "print(desc_stats)\n"
      ]
    },
    {
      "cell_type": "markdown",
      "metadata": {},
      "source": [
        "### Total average"
      ]
    },
    {
      "cell_type": "code",
      "execution_count": 5,
      "metadata": {},
      "outputs": [
        {
          "name": "stdout",
          "output_type": "stream",
          "text": [
            "   Total Unique Models  Total Sales  Average Sales per model  Average Price  \\\n",
            "0                  112       146272                   1306.0  468948.945281   \n",
            "\n",
            "   Average Range  Average HP  Average Chargetime  \n",
            "0     393.048851  251.847701           35.025862  \n"
          ]
        }
      ],
      "source": [
        "# Calculate the required statistics\n",
        "total_unique_models = data['Model'].nunique()\n",
        "total_count = data['Sales'].sum()\n",
        "average_sales_per_model = total_count / total_unique_models\n",
        "average_price = data['Price'].mean()\n",
        "average_range = data['Range'].mean()\n",
        "average_hp = data['HP'].mean()\n",
        "average_charge_time = data['Chargetime'].mean()\n",
        "\n",
        "# Create the DataFrame\n",
        "desc_stats = pd.DataFrame({\n",
        "    'Total Unique Models': [total_unique_models],\n",
        "    'Total Sales': [total_count],\n",
        "    'Average Sales per model': [average_sales_per_model],\n",
        "    'Average Price': [average_price],\n",
        "    'Average Range': [average_range],\n",
        "    'Average HP': [average_hp],\n",
        "    'Average Chargetime': [average_charge_time]\n",
        "})\n",
        "\n",
        "# Print the descriptive statistics table\n",
        "print(desc_stats)\n"
      ]
    },
    {
      "cell_type": "markdown",
      "metadata": {},
      "source": [
        "## Sales-weighted mean"
      ]
    },
    {
      "cell_type": "code",
      "execution_count": 6,
      "metadata": {},
      "outputs": [
        {
          "name": "stdout",
          "output_type": "stream",
          "text": [
            "      Number of Unique Models  Sales  Sales Weighted Average Price  \\\n",
            "Year                                                                 \n",
            "2013                        7    448                 434732.824877   \n",
            "2014                        7   1486                 466266.907104   \n",
            "2015                        8   3981                 716078.954352   \n",
            "2016                        9   1191                 376855.428679   \n",
            "2017                       10    651                 369556.946182   \n",
            "2018                       11   1467                 327632.480736   \n",
            "2019                       16   5464                 415190.722263   \n",
            "2020                       34  14159                 404830.359066   \n",
            "2021                       59  24802                 398497.025414   \n",
            "2022                       83  30691                 447493.602680   \n",
            "2023                      104  61932                 450418.761273   \n",
            "\n",
            "      Sales Weighted Average Range  Sales Weighted Average HP  \\\n",
            "Year                                                            \n",
            "2013                    400.564732                 271.926339   \n",
            "2014                    405.685061                 300.856662   \n",
            "2015                    515.130872                 508.623461   \n",
            "2016                    372.801847                 219.586902   \n",
            "2017                    374.864823                 213.717358   \n",
            "2018                    349.128153                 176.993865   \n",
            "2019                    461.556918                 258.415081   \n",
            "2020                    427.890317                 236.036373   \n",
            "2021                    443.297678                 251.600234   \n",
            "2022                    466.995341                 286.574045   \n",
            "2023                    484.508493                 337.665730   \n",
            "\n",
            "      Sales Weighted Average Charge Time  \n",
            "Year                                      \n",
            "2013                           42.718750  \n",
            "2014                           39.820996  \n",
            "2015                           32.793017  \n",
            "2016                           43.245172  \n",
            "2017                           46.838710  \n",
            "2018                           41.839809  \n",
            "2019                           31.443448  \n",
            "2020                           32.525531  \n",
            "2021                           31.494758  \n",
            "2022                           30.073930  \n",
            "2023                           28.960796  \n"
          ]
        }
      ],
      "source": [
        "# Group the data by year\n",
        "grouped_data = data.groupby('Year')\n",
        "\n",
        "# Calculate the required statistics\n",
        "desc_stats = grouped_data.agg({\n",
        "    'Model': pd.Series.nunique,  # number of unique models\n",
        "    'Sales': ['sum'],  # sum of sales per model\n",
        "    'Price': lambda x: np.average(x, weights=data.loc[x.index, 'Sales']),  # sales-weighted average price\n",
        "    'Range': lambda x: np.average(x, weights=data.loc[x.index, 'Sales']),  # sales-weighted average range\n",
        "    'HP': lambda x: np.average(x, weights=data.loc[x.index, 'Sales']),  # sales-weighted average HP\n",
        "    'Chargetime': lambda x: np.average(x, weights=data.loc[x.index, 'Sales'])  # sales-weighted average charge time\n",
        "})\n",
        "\n",
        "# Rename the columns\n",
        "desc_stats.columns = ['Number of Unique Models', 'Sales', \n",
        "                      'Sales Weighted Average Price', 'Sales Weighted Average Range', \n",
        "                      'Sales Weighted Average HP', 'Sales Weighted Average Charge Time']\n",
        "\n",
        "# Print the descriptive statistics table\n",
        "print(desc_stats)"
      ]
    },
    {
      "cell_type": "markdown",
      "metadata": {},
      "source": [
        "### Total sales-weighted mean"
      ]
    },
    {
      "cell_type": "code",
      "execution_count": 7,
      "metadata": {},
      "outputs": [
        {
          "name": "stdout",
          "output_type": "stream",
          "text": [
            "Total Sales Weighted Mean Price: 440425.20613198244\n",
            "Total Sales Weighted Mean Range: 464.5284196565303\n",
            "Total Sales Weighted Mean HP: 300.5072741194487\n",
            "Total Sales Weighted Mean Charge Time: 30.643629676219646\n"
          ]
        }
      ],
      "source": [
        "# Calculate the total sales-weighted means\n",
        "total_sales_weighted_mean_price = np.average(data['Price'], weights=data['Sales'])\n",
        "total_sales_weighted_mean_range = np.average(data['Range'], weights=data['Sales'])\n",
        "total_sales_weighted_mean_hp = np.average(data['HP'], weights=data['Sales'])\n",
        "total_sales_weighted_mean_charge_time = np.average(data['Chargetime'], weights=data['Sales'])\n",
        "\n",
        "# Print the results\n",
        "print(\"Total Sales Weighted Mean Price:\", total_sales_weighted_mean_price)\n",
        "print(\"Total Sales Weighted Mean Range:\", total_sales_weighted_mean_range)\n",
        "print(\"Total Sales Weighted Mean HP:\", total_sales_weighted_mean_hp)\n",
        "print(\"Total Sales Weighted Mean Charge Time:\", total_sales_weighted_mean_charge_time)\n"
      ]
    },
    {
      "cell_type": "markdown",
      "metadata": {},
      "source": [
        "# Graphs"
      ]
    },
    {
      "cell_type": "code",
      "execution_count": 8,
      "metadata": {},
      "outputs": [
        {
          "data": {
            "image/png": "[encoded data removed]",
            "text/plain": [
              "<Figure size 720x432 with 1 Axes>"
            ]
          },
          "metadata": {
            "needs_background": "light"
          },
          "output_type": "display_data"
        }
      ],
      "source": [
        "# Group the data by Year and Type and calculate the sum of Sales\n",
        "grouped_data = data.groupby(['Year', 'Type'])['Sales'].sum().reset_index()\n",
        "\n",
        "# Create the bar plot\n",
        "plt.figure(figsize=(10, 6))\n",
        "sns.barplot(x='Year', y='Sales', hue='Type', data=grouped_data)\n",
        "plt.title('Total Sales of Each Type per Year')\n",
        "plt.xlabel('Year')\n",
        "plt.ylabel('Total Sales')\n",
        "plt.legend(loc='upper left', bbox_to_anchor=(1, 1))\n",
        "plt.show()\n"
      ]
    },
    {
      "cell_type": "code",
      "execution_count": 10,
      "metadata": {},
      "outputs": [
        {
          "data": {
            "image/png": "[encoded data removed]",
            "text/plain": [
              "<Figure size 720x432 with 1 Axes>"
            ]
          },
          "metadata": {
            "needs_background": "light"
          },
          "output_type": "display_data"
        }
      ],
      "source": [
        "# Group the data by Year and Type and calculate the sum of Sales\n",
        "grouped_data = data.groupby(['Year', 'Segment'])['Sales'].sum().reset_index()\n",
        "\n",
        "# Create the bar plot\n",
        "plt.figure(figsize=(10, 6))\n",
        "sns.barplot(x='Year', y='Sales', hue='Segment', data=grouped_data)\n",
        "plt.title('Total Sales of Each Segment per Year')\n",
        "plt.xlabel('Year')\n",
        "plt.ylabel('Total Sales')\n",
        "plt.legend(loc='upper left', bbox_to_anchor=(1, 1))\n",
        "plt.show()"
      ]
    },
    {
      "cell_type": "code",
      "execution_count": null,
      "metadata": {},
      "outputs": [
        {
          "name": "stderr",
          "output_type": "stream",
          "text": [
            "/var/folders/84/nl1t_q050914klynvps92vkc0000gn/T/ipykernel_61210/2134380466.py:13: SettingWithCopyWarning: \n",
            "A value is trying to be set on a copy of a slice from a DataFrame.\n",
            "Try using .loc[row_indexer,col_indexer] = value instead\n",
            "\n",
            "See the caveats in the documentation: https://pandas.pydata.org/pandas-docs/stable/user_guide/indexing.html#returning-a-view-versus-a-copy\n",
            "  data['Region'] = data['Country'].apply(regions)\n"
          ]
        }
      ],
      "source": [
        "# Define a custom aggregation function\n",
        "def regions(country):\n",
        "    if country in ['DE', 'FR', 'DK', 'IT', 'RO', 'CZ', 'SP', 'SE']:\n",
        "        return 'EU'\n",
        "    elif country in ['JP', 'KR']:\n",
        "        return 'Asia'\n",
        "    elif country in ['CH']:\n",
        "        return 'China'\n",
        "    else:\n",
        "        return country\n",
        "\n",
        "# Apply the function to the 'Country' column\n",
        "data['Region'] = data['Country'].apply(regions)"
      ]
    },
    {
      "cell_type": "code",
      "execution_count": null,
      "metadata": {},
      "outputs": [],
      "source": [
        "# Define the color of regions\n",
        "color_region = {'China': 'red', 'US': 'black', 'Asia': 'green', 'GB': 'brown', 'EU': 'blue'}\n",
        "\n",
        "# Define the color of countries\n",
        "color_country = {'CH': 'red', 'US': 'black', 'DE': 'aqua', 'FR': 'blue', 'SP': 'orange', 'RO': 'purple', 'IT': 'green', 'DK': 'grey', 'JP': 'pink', 'KR': 'violet', 'GB': 'brown', 'SE': 'yellow', 'CZ': 'olive'}\n"
      ]
    },
    {
      "cell_type": "code",
      "execution_count": null,
      "metadata": {},
      "outputs": [
        {
          "data": {
            "image/png": "[encoded data removed]",
            "text/plain": [
              "<Figure size 720x432 with 1 Axes>"
            ]
          },
          "metadata": {
            "needs_background": "light"
          },
          "output_type": "display_data"
        }
      ],
      "source": [
        "# Group the data by Year and Country and calculate the sum of Sales\n",
        "grouped_data = data.groupby(['Year', 'Country'])['Sales'].sum().reset_index()\n",
        "\n",
        "plt.figure(figsize=(10, 6))\n",
        "sns.barplot(x='Year', y='Sales', hue='Country', data=grouped_data, palette=color_country)\n",
        "plt.title('Total Sales for Each Country per Year')\n",
        "plt.xlabel('Year')\n",
        "plt.ylabel('Total Sales')\n",
        "plt.legend(loc='upper left', bbox_to_anchor=(1, 1))\n",
        "plt.show()\n",
        "\n",
        "\n"
      ]
    },
    {
      "cell_type": "code",
      "execution_count": null,
      "metadata": {},
      "outputs": [],
      "source": [
        "# Sort the 'data' DataFrame by 'Year'\n",
        "data_sorted = data.sort_values(by='Year')"
      ]
    },
    {
      "cell_type": "code",
      "execution_count": null,
      "metadata": {},
      "outputs": [
        {
          "data": {
            "application/vnd.plotly.v1+json": {
              "config": {
                "plotlyServerURL": "https://plot.ly"
              },
              "data": [
                {
                  "domain": {
                    "x": [
                      0,
                      0.1388888888888889
                    ],
                    "y": [
                      0.575,
                      1
                    ]
                  },
                  "hoverinfo": "label+value+name",
                  "labels": [
                    "Asia",
                    "EU",
                    "US"
                  ],
                  "marker": {
                    "colors": [
                      "green",
                      "blue",
                      "black"
                    ]
                  },
                  "name": "2013",
                  "scalegroup": "one",
                  "textinfo": "label+percent",
                  "type": "pie",
                  "values": [
                    211,
                    125,
                    112
                  ]
                },
                {
                  "domain": {
                    "x": [
                      0.17222222222222222,
                      0.3111111111111111
                    ],
                    "y": [
                      0.575,
                      1
                    ]
                  },
                  "hoverinfo": "label+value+name",
                  "labels": [
                    "Asia",
                    "EU",
                    "US"
                  ],
                  "marker": {
                    "colors": [
                      "green",
                      "blue",
                      "black"
                    ]
                  },
                  "name": "2014",
                  "scalegroup": "one",
                  "textinfo": "label+percent",
                  "type": "pie",
                  "values": [
                    577,
                    447,
                    462
                  ]
                },
                {
                  "domain": {
                    "x": [
                      0.34444444444444444,
                      0.48333333333333334
                    ],
                    "y": [
                      0.575,
                      1
                    ]
                  },
                  "hoverinfo": "label+value+name",
                  "labels": [
                    "Asia",
                    "EU",
                    "US"
                  ],
                  "marker": {
                    "colors": [
                      "green",
                      "blue",
                      "black"
                    ]
                  },
                  "name": "2015",
                  "scalegroup": "one",
                  "textinfo": "label+percent",
                  "type": "pie",
                  "values": [
                    227,
                    1029,
                    2725
                  ]
                },
                {
                  "domain": {
                    "x": [
                      0.5166666666666667,
                      0.6555555555555557
                    ],
                    "y": [
                      0.575,
                      1
                    ]
                  },
                  "hoverinfo": "label+value+name",
                  "labels": [
                    "Asia",
                    "EU",
                    "US"
                  ],
                  "marker": {
                    "colors": [
                      "green",
                      "blue",
                      "black"
                    ]
                  },
                  "name": "2016",
                  "scalegroup": "one",
                  "textinfo": "label+percent",
                  "type": "pie",
                  "values": [
                    103,
                    912,
                    176
                  ]
                },
                {
                  "domain": {
                    "x": [
                      0.6888888888888889,
                      0.8277777777777777
                    ],
                    "y": [
                      0.575,
                      1
                    ]
                  },
                  "hoverinfo": "label+value+name",
                  "labels": [
                    "Asia",
                    "EU",
                    "US"
                  ],
                  "marker": {
                    "colors": [
                      "green",
                      "blue",
                      "black"
                    ]
                  },
                  "name": "2017",
                  "scalegroup": "one",
                  "textinfo": "label+percent",
                  "type": "pie",
                  "values": [
                    57,
                    496,
                    98
                  ]
                },
                {
                  "domain": {
                    "x": [
                      0.861111111111111,
                      1
                    ],
                    "y": [
                      0.575,
                      1
                    ]
                  },
                  "hoverinfo": "label+value+name",
                  "labels": [
                    "Asia",
                    "EU",
                    "GB",
                    "US"
                  ],
                  "marker": {
                    "colors": [
                      "green",
                      "blue",
                      "brown",
                      "black"
                    ]
                  },
                  "name": "2018",
                  "scalegroup": "one",
                  "textinfo": "label+percent",
                  "type": "pie",
                  "values": [
                    799,
                    561,
                    12,
                    95
                  ]
                },
                {
                  "domain": {
                    "x": [
                      0,
                      0.1388888888888889
                    ],
                    "y": [
                      0,
                      0.425
                    ]
                  },
                  "hoverinfo": "label+value+name",
                  "labels": [
                    "Asia",
                    "EU",
                    "GB",
                    "US"
                  ],
                  "marker": {
                    "colors": [
                      "green",
                      "blue",
                      "brown",
                      "black"
                    ]
                  },
                  "name": "2019",
                  "scalegroup": "one",
                  "textinfo": "label+percent",
                  "type": "pie",
                  "values": [
                    1348,
                    1286,
                    96,
                    2734
                  ]
                },
                {
                  "domain": {
                    "x": [
                      0.17222222222222222,
                      0.3111111111111111
                    ],
                    "y": [
                      0,
                      0.425
                    ]
                  },
                  "hoverinfo": "label+value+name",
                  "labels": [
                    "Asia",
                    "China",
                    "EU",
                    "GB",
                    "US"
                  ],
                  "marker": {
                    "colors": [
                      "green",
                      "red",
                      "blue",
                      "brown",
                      "black"
                    ]
                  },
                  "name": "2020",
                  "scalegroup": "one",
                  "textinfo": "label+percent",
                  "type": "pie",
                  "values": [
                    3139,
                    328,
                    5580,
                    391,
                    4721
                  ]
                },
                {
                  "domain": {
                    "x": [
                      0.34444444444444444,
                      0.48333333333333334
                    ],
                    "y": [
                      0,
                      0.425
                    ]
                  },
                  "hoverinfo": "label+value+name",
                  "labels": [
                    "Asia",
                    "China",
                    "EU",
                    "GB",
                    "US"
                  ],
                  "marker": {
                    "colors": [
                      "green",
                      "red",
                      "blue",
                      "brown",
                      "black"
                    ]
                  },
                  "name": "2021",
                  "scalegroup": "one",
                  "textinfo": "label+percent",
                  "type": "pie",
                  "values": [
                    4722,
                    539,
                    14763,
                    287,
                    4491
                  ]
                },
                {
                  "domain": {
                    "x": [
                      0.5166666666666667,
                      0.6555555555555557
                    ],
                    "y": [
                      0,
                      0.425
                    ]
                  },
                  "hoverinfo": "label+value+name",
                  "labels": [
                    "Asia",
                    "China",
                    "EU",
                    "GB",
                    "US"
                  ],
                  "marker": {
                    "colors": [
                      "green",
                      "red",
                      "blue",
                      "brown",
                      "black"
                    ]
                  },
                  "name": "2022",
                  "scalegroup": "one",
                  "textinfo": "label+percent",
                  "type": "pie",
                  "values": [
                    3831,
                    918,
                    21480,
                    212,
                    4250
                  ]
                },
                {
                  "domain": {
                    "x": [
                      0.6888888888888889,
                      0.8277777777777777
                    ],
                    "y": [
                      0,
                      0.425
                    ]
                  },
                  "hoverinfo": "label+value+name",
                  "labels": [
                    "Asia",
                    "China",
                    "EU",
                    "GB",
                    "US"
                  ],
                  "marker": {
                    "colors": [
                      "green",
                      "red",
                      "blue",
                      "brown",
                      "black"
                    ]
                  },
                  "name": "2023",
                  "scalegroup": "one",
                  "textinfo": "label+percent",
                  "type": "pie",
                  "values": [
                    5955,
                    2249,
                    29828,
                    152,
                    23748
                  ]
                }
              ],
              "layout": {
                "template": {
                  "data": {
                    "bar": [
                      {
                        "error_x": {
                          "color": "#2a3f5f"
                        },
                        "error_y": {
                          "color": "#2a3f5f"
                        },
                        "marker": {
                          "line": {
                            "color": "#E5ECF6",
                            "width": 0.5
                          },
                          "pattern": {
                            "fillmode": "overlay",
                            "size": 10,
                            "solidity": 0.2
                          }
                        },
                        "type": "bar"
                      }
                    ],
                    "barpolar": [
                      {
                        "marker": {
                          "line": {
                            "color": "#E5ECF6",
                            "width": 0.5
                          },
                          "pattern": {
                            "fillmode": "overlay",
                            "size": 10,
                            "solidity": 0.2
                          }
                        },
                        "type": "barpolar"
                      }
                    ],
                    "carpet": [
                      {
                        "aaxis": {
                          "endlinecolor": "#2a3f5f",
                          "gridcolor": "white",
                          "linecolor": "white",
                          "minorgridcolor": "white",
                          "startlinecolor": "#2a3f5f"
                        },
                        "baxis": {
                          "endlinecolor": "#2a3f5f",
                          "gridcolor": "white",
                          "linecolor": "white",
                          "minorgridcolor": "white",
                          "startlinecolor": "#2a3f5f"
                        },
                        "type": "carpet"
                      }
                    ],
                    "choropleth": [
                      {
                        "colorbar": {
                          "outlinewidth": 0,
                          "ticks": ""
                        },
                        "type": "choropleth"
                      }
                    ],
                    "contour": [
                      {
                        "colorbar": {
                          "outlinewidth": 0,
                          "ticks": ""
                        },
                        "colorscale": [
                          [
                            0,
                            "#0d0887"
                          ],
                          [
                            0.1111111111111111,
                            "#46039f"
                          ],
                          [
                            0.2222222222222222,
                            "#7201a8"
                          ],
                          [
                            0.3333333333333333,
                            "#9c179e"
                          ],
                          [
                            0.4444444444444444,
                            "#bd3786"
                          ],
                          [
                            0.5555555555555556,
                            "#d8576b"
                          ],
                          [
                            0.6666666666666666,
                            "#ed7953"
                          ],
                          [
                            0.7777777777777778,
                            "#fb9f3a"
                          ],
                          [
                            0.8888888888888888,
                            "#fdca26"
                          ],
                          [
                            1,
                            "#f0f921"
                          ]
                        ],
                        "type": "contour"
                      }
                    ],
                    "contourcarpet": [
                      {
                        "colorbar": {
                          "outlinewidth": 0,
                          "ticks": ""
                        },
                        "type": "contourcarpet"
                      }
                    ],
                    "heatmap": [
                      {
                        "colorbar": {
                          "outlinewidth": 0,
                          "ticks": ""
                        },
                        "colorscale": [
                          [
                            0,
                            "#0d0887"
                          ],
                          [
                            0.1111111111111111,
                            "#46039f"
                          ],
                          [
                            0.2222222222222222,
                            "#7201a8"
                          ],
                          [
                            0.3333333333333333,
                            "#9c179e"
                          ],
                          [
                            0.4444444444444444,
                            "#bd3786"
                          ],
                          [
                            0.5555555555555556,
                            "#d8576b"
                          ],
                          [
                            0.6666666666666666,
                            "#ed7953"
                          ],
                          [
                            0.7777777777777778,
                            "#fb9f3a"
                          ],
                          [
                            0.8888888888888888,
                            "#fdca26"
                          ],
                          [
                            1,
                            "#f0f921"
                          ]
                        ],
                        "type": "heatmap"
                      }
                    ],
                    "heatmapgl": [
                      {
                        "colorbar": {
                          "outlinewidth": 0,
                          "ticks": ""
                        },
                        "colorscale": [
                          [
                            0,
                            "#0d0887"
                          ],
                          [
                            0.1111111111111111,
                            "#46039f"
                          ],
                          [
                            0.2222222222222222,
                            "#7201a8"
                          ],
                          [
                            0.3333333333333333,
                            "#9c179e"
                          ],
                          [
                            0.4444444444444444,
                            "#bd3786"
                          ],
                          [
                            0.5555555555555556,
                            "#d8576b"
                          ],
                          [
                            0.6666666666666666,
                            "#ed7953"
                          ],
                          [
                            0.7777777777777778,
                            "#fb9f3a"
                          ],
                          [
                            0.8888888888888888,
                            "#fdca26"
                          ],
                          [
                            1,
                            "#f0f921"
                          ]
                        ],
                        "type": "heatmapgl"
                      }
                    ],
                    "histogram": [
                      {
                        "marker": {
                          "pattern": {
                            "fillmode": "overlay",
                            "size": 10,
                            "solidity": 0.2
                          }
                        },
                        "type": "histogram"
                      }
                    ],
                    "histogram2d": [
                      {
                        "colorbar": {
                          "outlinewidth": 0,
                          "ticks": ""
                        },
                        "colorscale": [
                          [
                            0,
                            "#0d0887"
                          ],
                          [
                            0.1111111111111111,
                            "#46039f"
                          ],
                          [
                            0.2222222222222222,
                            "#7201a8"
                          ],
                          [
                            0.3333333333333333,
                            "#9c179e"
                          ],
                          [
                            0.4444444444444444,
                            "#bd3786"
                          ],
                          [
                            0.5555555555555556,
                            "#d8576b"
                          ],
                          [
                            0.6666666666666666,
                            "#ed7953"
                          ],
                          [
                            0.7777777777777778,
                            "#fb9f3a"
                          ],
                          [
                            0.8888888888888888,
                            "#fdca26"
                          ],
                          [
                            1,
                            "#f0f921"
                          ]
                        ],
                        "type": "histogram2d"
                      }
                    ],
                    "histogram2dcontour": [
                      {
                        "colorbar": {
                          "outlinewidth": 0,
                          "ticks": ""
                        },
                        "colorscale": [
                          [
                            0,
                            "#0d0887"
                          ],
                          [
                            0.1111111111111111,
                            "#46039f"
                          ],
                          [
                            0.2222222222222222,
                            "#7201a8"
                          ],
                          [
                            0.3333333333333333,
                            "#9c179e"
                          ],
                          [
                            0.4444444444444444,
                            "#bd3786"
                          ],
                          [
                            0.5555555555555556,
                            "#d8576b"
                          ],
                          [
                            0.6666666666666666,
                            "#ed7953"
                          ],
                          [
                            0.7777777777777778,
                            "#fb9f3a"
                          ],
                          [
                            0.8888888888888888,
                            "#fdca26"
                          ],
                          [
                            1,
                            "#f0f921"
                          ]
                        ],
                        "type": "histogram2dcontour"
                      }
                    ],
                    "mesh3d": [
                      {
                        "colorbar": {
                          "outlinewidth": 0,
                          "ticks": ""
                        },
                        "type": "mesh3d"
                      }
                    ],
                    "parcoords": [
                      {
                        "line": {
                          "colorbar": {
                            "outlinewidth": 0,
                            "ticks": ""
                          }
                        },
                        "type": "parcoords"
                      }
                    ],
                    "pie": [
                      {
                        "automargin": true,
                        "type": "pie"
                      }
                    ],
                    "scatter": [
                      {
                        "marker": {
                          "colorbar": {
                            "outlinewidth": 0,
                            "ticks": ""
                          }
                        },
                        "type": "scatter"
                      }
                    ],
                    "scatter3d": [
                      {
                        "line": {
                          "colorbar": {
                            "outlinewidth": 0,
                            "ticks": ""
                          }
                        },
                        "marker": {
                          "colorbar": {
                            "outlinewidth": 0,
                            "ticks": ""
                          }
                        },
                        "type": "scatter3d"
                      }
                    ],
                    "scattercarpet": [
                      {
                        "marker": {
                          "colorbar": {
                            "outlinewidth": 0,
                            "ticks": ""
                          }
                        },
                        "type": "scattercarpet"
                      }
                    ],
                    "scattergeo": [
                      {
                        "marker": {
                          "colorbar": {
                            "outlinewidth": 0,
                            "ticks": ""
                          }
                        },
                        "type": "scattergeo"
                      }
                    ],
                    "scattergl": [
                      {
                        "marker": {
                          "colorbar": {
                            "outlinewidth": 0,
                            "ticks": ""
                          }
                        },
                        "type": "scattergl"
                      }
                    ],
                    "scattermapbox": [
                      {
                        "marker": {
                          "colorbar": {
                            "outlinewidth": 0,
                            "ticks": ""
                          }
                        },
                        "type": "scattermapbox"
                      }
                    ],
                    "scatterpolar": [
                      {
                        "marker": {
                          "colorbar": {
                            "outlinewidth": 0,
                            "ticks": ""
                          }
                        },
                        "type": "scatterpolar"
                      }
                    ],
                    "scatterpolargl": [
                      {
                        "marker": {
                          "colorbar": {
                            "outlinewidth": 0,
                            "ticks": ""
                          }
                        },
                        "type": "scatterpolargl"
                      }
                    ],
                    "scatterternary": [
                      {
                        "marker": {
                          "colorbar": {
                            "outlinewidth": 0,
                            "ticks": ""
                          }
                        },
                        "type": "scatterternary"
                      }
                    ],
                    "surface": [
                      {
                        "colorbar": {
                          "outlinewidth": 0,
                          "ticks": ""
                        },
                        "colorscale": [
                          [
                            0,
                            "#0d0887"
                          ],
                          [
                            0.1111111111111111,
                            "#46039f"
                          ],
                          [
                            0.2222222222222222,
                            "#7201a8"
                          ],
                          [
                            0.3333333333333333,
                            "#9c179e"
                          ],
                          [
                            0.4444444444444444,
                            "#bd3786"
                          ],
                          [
                            0.5555555555555556,
                            "#d8576b"
                          ],
                          [
                            0.6666666666666666,
                            "#ed7953"
                          ],
                          [
                            0.7777777777777778,
                            "#fb9f3a"
                          ],
                          [
                            0.8888888888888888,
                            "#fdca26"
                          ],
                          [
                            1,
                            "#f0f921"
                          ]
                        ],
                        "type": "surface"
                      }
                    ],
                    "table": [
                      {
                        "cells": {
                          "fill": {
                            "color": "#EBF0F8"
                          },
                          "line": {
                            "color": "white"
                          }
                        },
                        "header": {
                          "fill": {
                            "color": "#C8D4E3"
                          },
                          "line": {
                            "color": "white"
                          }
                        },
                        "type": "table"
                      }
                    ]
                  },
                  "layout": {
                    "annotationdefaults": {
                      "arrowcolor": "#2a3f5f",
                      "arrowhead": 0,
                      "arrowwidth": 1
                    },
                    "autotypenumbers": "strict",
                    "coloraxis": {
                      "colorbar": {
                        "outlinewidth": 0,
                        "ticks": ""
                      }
                    },
                    "colorscale": {
                      "diverging": [
                        [
                          0,
                          "#8e0152"
                        ],
                        [
                          0.1,
                          "#c51b7d"
                        ],
                        [
                          0.2,
                          "#de77ae"
                        ],
                        [
                          0.3,
                          "#f1b6da"
                        ],
                        [
                          0.4,
                          "#fde0ef"
                        ],
                        [
                          0.5,
                          "#f7f7f7"
                        ],
                        [
                          0.6,
                          "#e6f5d0"
                        ],
                        [
                          0.7,
                          "#b8e186"
                        ],
                        [
                          0.8,
                          "#7fbc41"
                        ],
                        [
                          0.9,
                          "#4d9221"
                        ],
                        [
                          1,
                          "#276419"
                        ]
                      ],
                      "sequential": [
                        [
                          0,
                          "#0d0887"
                        ],
                        [
                          0.1111111111111111,
                          "#46039f"
                        ],
                        [
                          0.2222222222222222,
                          "#7201a8"
                        ],
                        [
                          0.3333333333333333,
                          "#9c179e"
                        ],
                        [
                          0.4444444444444444,
                          "#bd3786"
                        ],
                        [
                          0.5555555555555556,
                          "#d8576b"
                        ],
                        [
                          0.6666666666666666,
                          "#ed7953"
                        ],
                        [
                          0.7777777777777778,
                          "#fb9f3a"
                        ],
                        [
                          0.8888888888888888,
                          "#fdca26"
                        ],
                        [
                          1,
                          "#f0f921"
                        ]
                      ],
                      "sequentialminus": [
                        [
                          0,
                          "#0d0887"
                        ],
                        [
                          0.1111111111111111,
                          "#46039f"
                        ],
                        [
                          0.2222222222222222,
                          "#7201a8"
                        ],
                        [
                          0.3333333333333333,
                          "#9c179e"
                        ],
                        [
                          0.4444444444444444,
                          "#bd3786"
                        ],
                        [
                          0.5555555555555556,
                          "#d8576b"
                        ],
                        [
                          0.6666666666666666,
                          "#ed7953"
                        ],
                        [
                          0.7777777777777778,
                          "#fb9f3a"
                        ],
                        [
                          0.8888888888888888,
                          "#fdca26"
                        ],
                        [
                          1,
                          "#f0f921"
                        ]
                      ]
                    },
                    "colorway": [
                      "#636efa",
                      "#EF553B",
                      "#00cc96",
                      "#ab63fa",
                      "#FFA15A",
                      "#19d3f3",
                      "#FF6692",
                      "#B6E880",
                      "#FF97FF",
                      "#FECB52"
                    ],
                    "font": {
                      "color": "#2a3f5f"
                    },
                    "geo": {
                      "bgcolor": "white",
                      "lakecolor": "white",
                      "landcolor": "#E5ECF6",
                      "showlakes": true,
                      "showland": true,
                      "subunitcolor": "white"
                    },
                    "hoverlabel": {
                      "align": "left"
                    },
                    "hovermode": "closest",
                    "mapbox": {
                      "style": "light"
                    },
                    "paper_bgcolor": "white",
                    "plot_bgcolor": "#E5ECF6",
                    "polar": {
                      "angularaxis": {
                        "gridcolor": "white",
                        "linecolor": "white",
                        "ticks": ""
                      },
                      "bgcolor": "#E5ECF6",
                      "radialaxis": {
                        "gridcolor": "white",
                        "linecolor": "white",
                        "ticks": ""
                      }
                    },
                    "scene": {
                      "xaxis": {
                        "backgroundcolor": "#E5ECF6",
                        "gridcolor": "white",
                        "gridwidth": 2,
                        "linecolor": "white",
                        "showbackground": true,
                        "ticks": "",
                        "zerolinecolor": "white"
                      },
                      "yaxis": {
                        "backgroundcolor": "#E5ECF6",
                        "gridcolor": "white",
                        "gridwidth": 2,
                        "linecolor": "white",
                        "showbackground": true,
                        "ticks": "",
                        "zerolinecolor": "white"
                      },
                      "zaxis": {
                        "backgroundcolor": "#E5ECF6",
                        "gridcolor": "white",
                        "gridwidth": 2,
                        "linecolor": "white",
                        "showbackground": true,
                        "ticks": "",
                        "zerolinecolor": "white"
                      }
                    },
                    "shapedefaults": {
                      "line": {
                        "color": "#2a3f5f"
                      }
                    },
                    "ternary": {
                      "aaxis": {
                        "gridcolor": "white",
                        "linecolor": "white",
                        "ticks": ""
                      },
                      "baxis": {
                        "gridcolor": "white",
                        "linecolor": "white",
                        "ticks": ""
                      },
                      "bgcolor": "#E5ECF6",
                      "caxis": {
                        "gridcolor": "white",
                        "linecolor": "white",
                        "ticks": ""
                      }
                    },
                    "title": {
                      "x": 0.05
                    },
                    "xaxis": {
                      "automargin": true,
                      "gridcolor": "white",
                      "linecolor": "white",
                      "ticks": "",
                      "title": {
                        "standoff": 15
                      },
                      "zerolinecolor": "white",
                      "zerolinewidth": 2
                    },
                    "yaxis": {
                      "automargin": true,
                      "gridcolor": "white",
                      "linecolor": "white",
                      "ticks": "",
                      "title": {
                        "standoff": 15
                      },
                      "zerolinecolor": "white",
                      "zerolinewidth": 2
                    }
                  }
                },
                "title": {
                  "text": "Market share in the Danish EV market by year"
                }
              }
            }
          },
          "metadata": {},
          "output_type": "display_data"
        }
      ],
      "source": [
        "import plotly.graph_objects as go\n",
        "from plotly.subplots import make_subplots\n",
        "\n",
        "# Get unique years\n",
        "years = data_sorted['Year'].unique()\n",
        "\n",
        "# Calculate the number of pie charts per line\n",
        "num_charts_per_line = (len(years) + 1) // 2  # Round up to ensure half the charts are on each line\n",
        "\n",
        "# Create subplots with two rows and the calculated number of columns\n",
        "fig = make_subplots(rows=2, cols=num_charts_per_line, specs=[[{'type':'domain'}] * num_charts_per_line] * 2)\n",
        "\n",
        "\n",
        "# Iterate over each year\n",
        "for i, year in enumerate(years, start=1):\n",
        "    # Calculate the row and column indices for the current chart\n",
        "    row_index = (i - 1) // num_charts_per_line + 1  # Divide by the number of charts per line and round up\n",
        "    col_index = (i - 1) % num_charts_per_line + 1\n",
        "    \n",
        "    # Filter data for the current year\n",
        "    year_data = data_sorted[data_sorted['Year'] == year]\n",
        "    \n",
        "    # Group the data by region and sum up the sales\n",
        "    sales_by_region = year_data.groupby('Region')['Sales'].sum().reset_index()\n",
        "    \n",
        "    # Add a pie chart trace for the current year\n",
        "    pie_trace = go.Pie(\n",
        "        labels=sales_by_region['Region'], \n",
        "        values=sales_by_region['Sales'], \n",
        "        scalegroup='one', \n",
        "        name=f\"{year}\",\n",
        "        marker=dict(colors=[color_region[region] for region in sales_by_region['Region']]),\n",
        "        textinfo='label+percent',\n",
        "        hoverinfo='label+value+name'  # Include value of sales in the hover info\n",
        "    )\n",
        "    \n",
        "    fig.add_trace(pie_trace, row=row_index, col=col_index)\n",
        "\n",
        "# Update layout\n",
        "fig.update_layout(title_text='Market share in the Danish EV market by year')\n",
        "\n",
        "# Show the plot\n",
        "fig.show()\n"
      ]
    },
    {
      "cell_type": "markdown",
      "metadata": {},
      "source": [
        "# Save the interactive plots by following:"
      ]
    },
    {
      "cell_type": "code",
      "execution_count": null,
      "metadata": {},
      "outputs": [],
      "source": [
        "# Save the plot as an HTML file\n",
        "#fig.write_html(\"interactive_plot.html\")\n",
        "\n",
        "# Print the HTML code to embed into LaTeX\n",
        "#print(f\"<iframe src='interactive_plot.html' width='1200' height='800'></iframe>\")"
      ]
    },
    {
      "cell_type": "markdown",
      "metadata": {},
      "source": [
        "# TEST"
      ]
    },
    {
      "cell_type": "code",
      "execution_count": null,
      "metadata": {},
      "outputs": [
        {
          "data": {
            "application/vnd.plotly.v1+json": {
              "config": {
                "plotlyServerURL": "https://plot.ly"
              },
              "data": [
                {
                  "hoverinfo": "text",
                  "marker": {
                    "color": "red"
                  },
                  "name": "China",
                  "text": [],
                  "textposition": "auto",
                  "type": "bar",
                  "x": [],
                  "y": []
                },
                {
                  "hoverinfo": "text",
                  "marker": {
                    "color": "blue"
                  },
                  "name": "EU",
                  "text": [
                    "Renault Zoe (92 cars)",
                    "Volkswagen up! (219 cars)",
                    "BMW I3 (490 cars)",
                    "Renault Zoe (612 cars)",
                    "Renault Zoe (387 cars)",
                    "Renault Zoe (421 cars)"
                  ],
                  "textposition": "auto",
                  "type": "bar",
                  "x": [
                    2013,
                    2014,
                    2015,
                    2016,
                    2017,
                    2018
                  ],
                  "y": [
                    125,
                    447,
                    1029,
                    912,
                    496,
                    561
                  ]
                },
                {
                  "hoverinfo": "text",
                  "marker": {
                    "color": "black"
                  },
                  "name": "US",
                  "text": [
                    "Tesla Model S (112 cars)",
                    "Tesla Model S (462 cars)",
                    "Tesla Model S (2725 cars)",
                    "Tesla Model X (98 cars)",
                    "Tesla Model X (52 cars)",
                    "Tesla Model X (48 cars)"
                  ],
                  "textposition": "auto",
                  "type": "bar",
                  "x": [
                    2013,
                    2014,
                    2015,
                    2016,
                    2017,
                    2018
                  ],
                  "y": [
                    112,
                    462,
                    2725,
                    176,
                    98,
                    95
                  ]
                },
                {
                  "hoverinfo": "text",
                  "marker": {
                    "color": "green"
                  },
                  "name": "Asia",
                  "text": [
                    "Nissan Leaf (211 cars)",
                    "Nissan Leaf (577 cars)",
                    "Nissan Leaf (217 cars)",
                    "Nissan Leaf (85 cars)",
                    "Hyundai Ioniq (28 cars)",
                    "Nissan Leaf (637 cars)"
                  ],
                  "textposition": "auto",
                  "type": "bar",
                  "x": [
                    2013,
                    2014,
                    2015,
                    2016,
                    2017,
                    2018
                  ],
                  "y": [
                    211,
                    577,
                    227,
                    103,
                    57,
                    799
                  ]
                },
                {
                  "hoverinfo": "text",
                  "marker": {
                    "color": "brown"
                  },
                  "name": "GB",
                  "text": [
                    "Jaguar I-Pace (12 cars)"
                  ],
                  "textposition": "auto",
                  "type": "bar",
                  "x": [
                    2018
                  ],
                  "y": [
                    12
                  ]
                }
              ],
              "layout": {
                "barmode": "group",
                "height": 800,
                "template": {
                  "data": {
                    "bar": [
                      {
                        "error_x": {
                          "color": "#2a3f5f"
                        },
                        "error_y": {
                          "color": "#2a3f5f"
                        },
                        "marker": {
                          "line": {
                            "color": "#E5ECF6",
                            "width": 0.5
                          },
                          "pattern": {
                            "fillmode": "overlay",
                            "size": 10,
                            "solidity": 0.2
                          }
                        },
                        "type": "bar"
                      }
                    ],
                    "barpolar": [
                      {
                        "marker": {
                          "line": {
                            "color": "#E5ECF6",
                            "width": 0.5
                          },
                          "pattern": {
                            "fillmode": "overlay",
                            "size": 10,
                            "solidity": 0.2
                          }
                        },
                        "type": "barpolar"
                      }
                    ],
                    "carpet": [
                      {
                        "aaxis": {
                          "endlinecolor": "#2a3f5f",
                          "gridcolor": "white",
                          "linecolor": "white",
                          "minorgridcolor": "white",
                          "startlinecolor": "#2a3f5f"
                        },
                        "baxis": {
                          "endlinecolor": "#2a3f5f",
                          "gridcolor": "white",
                          "linecolor": "white",
                          "minorgridcolor": "white",
                          "startlinecolor": "#2a3f5f"
                        },
                        "type": "carpet"
                      }
                    ],
                    "choropleth": [
                      {
                        "colorbar": {
                          "outlinewidth": 0,
                          "ticks": ""
                        },
                        "type": "choropleth"
                      }
                    ],
                    "contour": [
                      {
                        "colorbar": {
                          "outlinewidth": 0,
                          "ticks": ""
                        },
                        "colorscale": [
                          [
                            0,
                            "#0d0887"
                          ],
                          [
                            0.1111111111111111,
                            "#46039f"
                          ],
                          [
                            0.2222222222222222,
                            "#7201a8"
                          ],
                          [
                            0.3333333333333333,
                            "#9c179e"
                          ],
                          [
                            0.4444444444444444,
                            "#bd3786"
                          ],
                          [
                            0.5555555555555556,
                            "#d8576b"
                          ],
                          [
                            0.6666666666666666,
                            "#ed7953"
                          ],
                          [
                            0.7777777777777778,
                            "#fb9f3a"
                          ],
                          [
                            0.8888888888888888,
                            "#fdca26"
                          ],
                          [
                            1,
                            "#f0f921"
                          ]
                        ],
                        "type": "contour"
                      }
                    ],
                    "contourcarpet": [
                      {
                        "colorbar": {
                          "outlinewidth": 0,
                          "ticks": ""
                        },
                        "type": "contourcarpet"
                      }
                    ],
                    "heatmap": [
                      {
                        "colorbar": {
                          "outlinewidth": 0,
                          "ticks": ""
                        },
                        "colorscale": [
                          [
                            0,
                            "#0d0887"
                          ],
                          [
                            0.1111111111111111,
                            "#46039f"
                          ],
                          [
                            0.2222222222222222,
                            "#7201a8"
                          ],
                          [
                            0.3333333333333333,
                            "#9c179e"
                          ],
                          [
                            0.4444444444444444,
                            "#bd3786"
                          ],
                          [
                            0.5555555555555556,
                            "#d8576b"
                          ],
                          [
                            0.6666666666666666,
                            "#ed7953"
                          ],
                          [
                            0.7777777777777778,
                            "#fb9f3a"
                          ],
                          [
                            0.8888888888888888,
                            "#fdca26"
                          ],
                          [
                            1,
                            "#f0f921"
                          ]
                        ],
                        "type": "heatmap"
                      }
                    ],
                    "heatmapgl": [
                      {
                        "colorbar": {
                          "outlinewidth": 0,
                          "ticks": ""
                        },
                        "colorscale": [
                          [
                            0,
                            "#0d0887"
                          ],
                          [
                            0.1111111111111111,
                            "#46039f"
                          ],
                          [
                            0.2222222222222222,
                            "#7201a8"
                          ],
                          [
                            0.3333333333333333,
                            "#9c179e"
                          ],
                          [
                            0.4444444444444444,
                            "#bd3786"
                          ],
                          [
                            0.5555555555555556,
                            "#d8576b"
                          ],
                          [
                            0.6666666666666666,
                            "#ed7953"
                          ],
                          [
                            0.7777777777777778,
                            "#fb9f3a"
                          ],
                          [
                            0.8888888888888888,
                            "#fdca26"
                          ],
                          [
                            1,
                            "#f0f921"
                          ]
                        ],
                        "type": "heatmapgl"
                      }
                    ],
                    "histogram": [
                      {
                        "marker": {
                          "pattern": {
                            "fillmode": "overlay",
                            "size": 10,
                            "solidity": 0.2
                          }
                        },
                        "type": "histogram"
                      }
                    ],
                    "histogram2d": [
                      {
                        "colorbar": {
                          "outlinewidth": 0,
                          "ticks": ""
                        },
                        "colorscale": [
                          [
                            0,
                            "#0d0887"
                          ],
                          [
                            0.1111111111111111,
                            "#46039f"
                          ],
                          [
                            0.2222222222222222,
                            "#7201a8"
                          ],
                          [
                            0.3333333333333333,
                            "#9c179e"
                          ],
                          [
                            0.4444444444444444,
                            "#bd3786"
                          ],
                          [
                            0.5555555555555556,
                            "#d8576b"
                          ],
                          [
                            0.6666666666666666,
                            "#ed7953"
                          ],
                          [
                            0.7777777777777778,
                            "#fb9f3a"
                          ],
                          [
                            0.8888888888888888,
                            "#fdca26"
                          ],
                          [
                            1,
                            "#f0f921"
                          ]
                        ],
                        "type": "histogram2d"
                      }
                    ],
                    "histogram2dcontour": [
                      {
                        "colorbar": {
                          "outlinewidth": 0,
                          "ticks": ""
                        },
                        "colorscale": [
                          [
                            0,
                            "#0d0887"
                          ],
                          [
                            0.1111111111111111,
                            "#46039f"
                          ],
                          [
                            0.2222222222222222,
                            "#7201a8"
                          ],
                          [
                            0.3333333333333333,
                            "#9c179e"
                          ],
                          [
                            0.4444444444444444,
                            "#bd3786"
                          ],
                          [
                            0.5555555555555556,
                            "#d8576b"
                          ],
                          [
                            0.6666666666666666,
                            "#ed7953"
                          ],
                          [
                            0.7777777777777778,
                            "#fb9f3a"
                          ],
                          [
                            0.8888888888888888,
                            "#fdca26"
                          ],
                          [
                            1,
                            "#f0f921"
                          ]
                        ],
                        "type": "histogram2dcontour"
                      }
                    ],
                    "mesh3d": [
                      {
                        "colorbar": {
                          "outlinewidth": 0,
                          "ticks": ""
                        },
                        "type": "mesh3d"
                      }
                    ],
                    "parcoords": [
                      {
                        "line": {
                          "colorbar": {
                            "outlinewidth": 0,
                            "ticks": ""
                          }
                        },
                        "type": "parcoords"
                      }
                    ],
                    "pie": [
                      {
                        "automargin": true,
                        "type": "pie"
                      }
                    ],
                    "scatter": [
                      {
                        "marker": {
                          "colorbar": {
                            "outlinewidth": 0,
                            "ticks": ""
                          }
                        },
                        "type": "scatter"
                      }
                    ],
                    "scatter3d": [
                      {
                        "line": {
                          "colorbar": {
                            "outlinewidth": 0,
                            "ticks": ""
                          }
                        },
                        "marker": {
                          "colorbar": {
                            "outlinewidth": 0,
                            "ticks": ""
                          }
                        },
                        "type": "scatter3d"
                      }
                    ],
                    "scattercarpet": [
                      {
                        "marker": {
                          "colorbar": {
                            "outlinewidth": 0,
                            "ticks": ""
                          }
                        },
                        "type": "scattercarpet"
                      }
                    ],
                    "scattergeo": [
                      {
                        "marker": {
                          "colorbar": {
                            "outlinewidth": 0,
                            "ticks": ""
                          }
                        },
                        "type": "scattergeo"
                      }
                    ],
                    "scattergl": [
                      {
                        "marker": {
                          "colorbar": {
                            "outlinewidth": 0,
                            "ticks": ""
                          }
                        },
                        "type": "scattergl"
                      }
                    ],
                    "scattermapbox": [
                      {
                        "marker": {
                          "colorbar": {
                            "outlinewidth": 0,
                            "ticks": ""
                          }
                        },
                        "type": "scattermapbox"
                      }
                    ],
                    "scatterpolar": [
                      {
                        "marker": {
                          "colorbar": {
                            "outlinewidth": 0,
                            "ticks": ""
                          }
                        },
                        "type": "scatterpolar"
                      }
                    ],
                    "scatterpolargl": [
                      {
                        "marker": {
                          "colorbar": {
                            "outlinewidth": 0,
                            "ticks": ""
                          }
                        },
                        "type": "scatterpolargl"
                      }
                    ],
                    "scatterternary": [
                      {
                        "marker": {
                          "colorbar": {
                            "outlinewidth": 0,
                            "ticks": ""
                          }
                        },
                        "type": "scatterternary"
                      }
                    ],
                    "surface": [
                      {
                        "colorbar": {
                          "outlinewidth": 0,
                          "ticks": ""
                        },
                        "colorscale": [
                          [
                            0,
                            "#0d0887"
                          ],
                          [
                            0.1111111111111111,
                            "#46039f"
                          ],
                          [
                            0.2222222222222222,
                            "#7201a8"
                          ],
                          [
                            0.3333333333333333,
                            "#9c179e"
                          ],
                          [
                            0.4444444444444444,
                            "#bd3786"
                          ],
                          [
                            0.5555555555555556,
                            "#d8576b"
                          ],
                          [
                            0.6666666666666666,
                            "#ed7953"
                          ],
                          [
                            0.7777777777777778,
                            "#fb9f3a"
                          ],
                          [
                            0.8888888888888888,
                            "#fdca26"
                          ],
                          [
                            1,
                            "#f0f921"
                          ]
                        ],
                        "type": "surface"
                      }
                    ],
                    "table": [
                      {
                        "cells": {
                          "fill": {
                            "color": "#EBF0F8"
                          },
                          "line": {
                            "color": "white"
                          }
                        },
                        "header": {
                          "fill": {
                            "color": "#C8D4E3"
                          },
                          "line": {
                            "color": "white"
                          }
                        },
                        "type": "table"
                      }
                    ]
                  },
                  "layout": {
                    "annotationdefaults": {
                      "arrowcolor": "#2a3f5f",
                      "arrowhead": 0,
                      "arrowwidth": 1
                    },
                    "autotypenumbers": "strict",
                    "coloraxis": {
                      "colorbar": {
                        "outlinewidth": 0,
                        "ticks": ""
                      }
                    },
                    "colorscale": {
                      "diverging": [
                        [
                          0,
                          "#8e0152"
                        ],
                        [
                          0.1,
                          "#c51b7d"
                        ],
                        [
                          0.2,
                          "#de77ae"
                        ],
                        [
                          0.3,
                          "#f1b6da"
                        ],
                        [
                          0.4,
                          "#fde0ef"
                        ],
                        [
                          0.5,
                          "#f7f7f7"
                        ],
                        [
                          0.6,
                          "#e6f5d0"
                        ],
                        [
                          0.7,
                          "#b8e186"
                        ],
                        [
                          0.8,
                          "#7fbc41"
                        ],
                        [
                          0.9,
                          "#4d9221"
                        ],
                        [
                          1,
                          "#276419"
                        ]
                      ],
                      "sequential": [
                        [
                          0,
                          "#0d0887"
                        ],
                        [
                          0.1111111111111111,
                          "#46039f"
                        ],
                        [
                          0.2222222222222222,
                          "#7201a8"
                        ],
                        [
                          0.3333333333333333,
                          "#9c179e"
                        ],
                        [
                          0.4444444444444444,
                          "#bd3786"
                        ],
                        [
                          0.5555555555555556,
                          "#d8576b"
                        ],
                        [
                          0.6666666666666666,
                          "#ed7953"
                        ],
                        [
                          0.7777777777777778,
                          "#fb9f3a"
                        ],
                        [
                          0.8888888888888888,
                          "#fdca26"
                        ],
                        [
                          1,
                          "#f0f921"
                        ]
                      ],
                      "sequentialminus": [
                        [
                          0,
                          "#0d0887"
                        ],
                        [
                          0.1111111111111111,
                          "#46039f"
                        ],
                        [
                          0.2222222222222222,
                          "#7201a8"
                        ],
                        [
                          0.3333333333333333,
                          "#9c179e"
                        ],
                        [
                          0.4444444444444444,
                          "#bd3786"
                        ],
                        [
                          0.5555555555555556,
                          "#d8576b"
                        ],
                        [
                          0.6666666666666666,
                          "#ed7953"
                        ],
                        [
                          0.7777777777777778,
                          "#fb9f3a"
                        ],
                        [
                          0.8888888888888888,
                          "#fdca26"
                        ],
                        [
                          1,
                          "#f0f921"
                        ]
                      ]
                    },
                    "colorway": [
                      "#636efa",
                      "#EF553B",
                      "#00cc96",
                      "#ab63fa",
                      "#FFA15A",
                      "#19d3f3",
                      "#FF6692",
                      "#B6E880",
                      "#FF97FF",
                      "#FECB52"
                    ],
                    "font": {
                      "color": "#2a3f5f"
                    },
                    "geo": {
                      "bgcolor": "white",
                      "lakecolor": "white",
                      "landcolor": "#E5ECF6",
                      "showlakes": true,
                      "showland": true,
                      "subunitcolor": "white"
                    },
                    "hoverlabel": {
                      "align": "left"
                    },
                    "hovermode": "closest",
                    "mapbox": {
                      "style": "light"
                    },
                    "paper_bgcolor": "white",
                    "plot_bgcolor": "#E5ECF6",
                    "polar": {
                      "angularaxis": {
                        "gridcolor": "white",
                        "linecolor": "white",
                        "ticks": ""
                      },
                      "bgcolor": "#E5ECF6",
                      "radialaxis": {
                        "gridcolor": "white",
                        "linecolor": "white",
                        "ticks": ""
                      }
                    },
                    "scene": {
                      "xaxis": {
                        "backgroundcolor": "#E5ECF6",
                        "gridcolor": "white",
                        "gridwidth": 2,
                        "linecolor": "white",
                        "showbackground": true,
                        "ticks": "",
                        "zerolinecolor": "white"
                      },
                      "yaxis": {
                        "backgroundcolor": "#E5ECF6",
                        "gridcolor": "white",
                        "gridwidth": 2,
                        "linecolor": "white",
                        "showbackground": true,
                        "ticks": "",
                        "zerolinecolor": "white"
                      },
                      "zaxis": {
                        "backgroundcolor": "#E5ECF6",
                        "gridcolor": "white",
                        "gridwidth": 2,
                        "linecolor": "white",
                        "showbackground": true,
                        "ticks": "",
                        "zerolinecolor": "white"
                      }
                    },
                    "shapedefaults": {
                      "line": {
                        "color": "#2a3f5f"
                      }
                    },
                    "ternary": {
                      "aaxis": {
                        "gridcolor": "white",
                        "linecolor": "white",
                        "ticks": ""
                      },
                      "baxis": {
                        "gridcolor": "white",
                        "linecolor": "white",
                        "ticks": ""
                      },
                      "bgcolor": "#E5ECF6",
                      "caxis": {
                        "gridcolor": "white",
                        "linecolor": "white",
                        "ticks": ""
                      }
                    },
                    "title": {
                      "x": 0.05
                    },
                    "xaxis": {
                      "automargin": true,
                      "gridcolor": "white",
                      "linecolor": "white",
                      "ticks": "",
                      "title": {
                        "standoff": 15
                      },
                      "zerolinecolor": "white",
                      "zerolinewidth": 2
                    },
                    "yaxis": {
                      "automargin": true,
                      "gridcolor": "white",
                      "linecolor": "white",
                      "ticks": "",
                      "title": {
                        "standoff": 15
                      },
                      "zerolinecolor": "white",
                      "zerolinewidth": 2
                    }
                  }
                },
                "title": {
                  "text": "Cars Sold by Year and Region (2013-2018)"
                },
                "width": 1200,
                "xaxis": {
                  "title": {
                    "text": "Year"
                  }
                },
                "yaxis": {
                  "title": {
                    "text": "Number of Cars Sold"
                  }
                }
              }
            }
          },
          "metadata": {},
          "output_type": "display_data"
        },
        {
          "data": {
            "application/vnd.plotly.v1+json": {
              "config": {
                "plotlyServerURL": "https://plot.ly"
              },
              "data": [
                {
                  "hoverinfo": "text",
                  "marker": {
                    "color": "red"
                  },
                  "name": "China",
                  "text": [
                    "MG ZS (289 cars)",
                    "Aiways U5 (257 cars)",
                    "MG ZS (232 cars)",
                    "MG 4 (742 cars)"
                  ],
                  "textposition": "auto",
                  "type": "bar",
                  "x": [
                    2020,
                    2021,
                    2022,
                    2023
                  ],
                  "y": [
                    328,
                    539,
                    918,
                    2249
                  ]
                },
                {
                  "hoverinfo": "text",
                  "marker": {
                    "color": "blue"
                  },
                  "name": "EU",
                  "text": [
                    "Renault Zoe (568 cars)",
                    "Volkswagen ID.3 (1722 cars)",
                    "Volkswagen ID.4 (2669 cars)",
                    "Skoda Enyaq iV (2430 cars)",
                    "Skoda Enyaq iV (3069 cars)"
                  ],
                  "textposition": "auto",
                  "type": "bar",
                  "x": [
                    2019,
                    2020,
                    2021,
                    2022,
                    2023
                  ],
                  "y": [
                    1286,
                    5580,
                    14763,
                    21480,
                    29828
                  ]
                },
                {
                  "hoverinfo": "text",
                  "marker": {
                    "color": "black"
                  },
                  "name": "US",
                  "text": [
                    "Tesla Model 3 (2439 cars)",
                    "Tesla Model 3 (4277 cars)",
                    "Tesla Model 3 (1899 cars)",
                    "Tesla Model Y (2315 cars)",
                    "Tesla Model Y (17953 cars)"
                  ],
                  "textposition": "auto",
                  "type": "bar",
                  "x": [
                    2019,
                    2020,
                    2021,
                    2022,
                    2023
                  ],
                  "y": [
                    2734,
                    4721,
                    4491,
                    4250,
                    23748
                  ]
                },
                {
                  "hoverinfo": "text",
                  "marker": {
                    "color": "green"
                  },
                  "name": "Asia",
                  "text": [
                    "Hyundai Kona (663 cars)",
                    "Hyundai Kona (1160 cars)",
                    "Hyundai Kona (1166 cars)",
                    "Kia EV6 (800 cars)",
                    "Nissan Ariya (966 cars)"
                  ],
                  "textposition": "auto",
                  "type": "bar",
                  "x": [
                    2019,
                    2020,
                    2021,
                    2022,
                    2023
                  ],
                  "y": [
                    1348,
                    3139,
                    4722,
                    3831,
                    5955
                  ]
                },
                {
                  "hoverinfo": "text",
                  "marker": {
                    "color": "brown"
                  },
                  "name": "GB",
                  "text": [
                    "Jaguar I-Pace (96 cars)",
                    "Mini 3-dørs (268 cars)",
                    "Mini 3-dørs (244 cars)",
                    "Mini 3-dørs (198 cars)",
                    "Mini 3-dørs (140 cars)"
                  ],
                  "textposition": "auto",
                  "type": "bar",
                  "x": [
                    2019,
                    2020,
                    2021,
                    2022,
                    2023
                  ],
                  "y": [
                    96,
                    391,
                    287,
                    212,
                    152
                  ]
                }
              ],
              "layout": {
                "barmode": "group",
                "height": 800,
                "template": {
                  "data": {
                    "bar": [
                      {
                        "error_x": {
                          "color": "#2a3f5f"
                        },
                        "error_y": {
                          "color": "#2a3f5f"
                        },
                        "marker": {
                          "line": {
                            "color": "#E5ECF6",
                            "width": 0.5
                          },
                          "pattern": {
                            "fillmode": "overlay",
                            "size": 10,
                            "solidity": 0.2
                          }
                        },
                        "type": "bar"
                      }
                    ],
                    "barpolar": [
                      {
                        "marker": {
                          "line": {
                            "color": "#E5ECF6",
                            "width": 0.5
                          },
                          "pattern": {
                            "fillmode": "overlay",
                            "size": 10,
                            "solidity": 0.2
                          }
                        },
                        "type": "barpolar"
                      }
                    ],
                    "carpet": [
                      {
                        "aaxis": {
                          "endlinecolor": "#2a3f5f",
                          "gridcolor": "white",
                          "linecolor": "white",
                          "minorgridcolor": "white",
                          "startlinecolor": "#2a3f5f"
                        },
                        "baxis": {
                          "endlinecolor": "#2a3f5f",
                          "gridcolor": "white",
                          "linecolor": "white",
                          "minorgridcolor": "white",
                          "startlinecolor": "#2a3f5f"
                        },
                        "type": "carpet"
                      }
                    ],
                    "choropleth": [
                      {
                        "colorbar": {
                          "outlinewidth": 0,
                          "ticks": ""
                        },
                        "type": "choropleth"
                      }
                    ],
                    "contour": [
                      {
                        "colorbar": {
                          "outlinewidth": 0,
                          "ticks": ""
                        },
                        "colorscale": [
                          [
                            0,
                            "#0d0887"
                          ],
                          [
                            0.1111111111111111,
                            "#46039f"
                          ],
                          [
                            0.2222222222222222,
                            "#7201a8"
                          ],
                          [
                            0.3333333333333333,
                            "#9c179e"
                          ],
                          [
                            0.4444444444444444,
                            "#bd3786"
                          ],
                          [
                            0.5555555555555556,
                            "#d8576b"
                          ],
                          [
                            0.6666666666666666,
                            "#ed7953"
                          ],
                          [
                            0.7777777777777778,
                            "#fb9f3a"
                          ],
                          [
                            0.8888888888888888,
                            "#fdca26"
                          ],
                          [
                            1,
                            "#f0f921"
                          ]
                        ],
                        "type": "contour"
                      }
                    ],
                    "contourcarpet": [
                      {
                        "colorbar": {
                          "outlinewidth": 0,
                          "ticks": ""
                        },
                        "type": "contourcarpet"
                      }
                    ],
                    "heatmap": [
                      {
                        "colorbar": {
                          "outlinewidth": 0,
                          "ticks": ""
                        },
                        "colorscale": [
                          [
                            0,
                            "#0d0887"
                          ],
                          [
                            0.1111111111111111,
                            "#46039f"
                          ],
                          [
                            0.2222222222222222,
                            "#7201a8"
                          ],
                          [
                            0.3333333333333333,
                            "#9c179e"
                          ],
                          [
                            0.4444444444444444,
                            "#bd3786"
                          ],
                          [
                            0.5555555555555556,
                            "#d8576b"
                          ],
                          [
                            0.6666666666666666,
                            "#ed7953"
                          ],
                          [
                            0.7777777777777778,
                            "#fb9f3a"
                          ],
                          [
                            0.8888888888888888,
                            "#fdca26"
                          ],
                          [
                            1,
                            "#f0f921"
                          ]
                        ],
                        "type": "heatmap"
                      }
                    ],
                    "heatmapgl": [
                      {
                        "colorbar": {
                          "outlinewidth": 0,
                          "ticks": ""
                        },
                        "colorscale": [
                          [
                            0,
                            "#0d0887"
                          ],
                          [
                            0.1111111111111111,
                            "#46039f"
                          ],
                          [
                            0.2222222222222222,
                            "#7201a8"
                          ],
                          [
                            0.3333333333333333,
                            "#9c179e"
                          ],
                          [
                            0.4444444444444444,
                            "#bd3786"
                          ],
                          [
                            0.5555555555555556,
                            "#d8576b"
                          ],
                          [
                            0.6666666666666666,
                            "#ed7953"
                          ],
                          [
                            0.7777777777777778,
                            "#fb9f3a"
                          ],
                          [
                            0.8888888888888888,
                            "#fdca26"
                          ],
                          [
                            1,
                            "#f0f921"
                          ]
                        ],
                        "type": "heatmapgl"
                      }
                    ],
                    "histogram": [
                      {
                        "marker": {
                          "pattern": {
                            "fillmode": "overlay",
                            "size": 10,
                            "solidity": 0.2
                          }
                        },
                        "type": "histogram"
                      }
                    ],
                    "histogram2d": [
                      {
                        "colorbar": {
                          "outlinewidth": 0,
                          "ticks": ""
                        },
                        "colorscale": [
                          [
                            0,
                            "#0d0887"
                          ],
                          [
                            0.1111111111111111,
                            "#46039f"
                          ],
                          [
                            0.2222222222222222,
                            "#7201a8"
                          ],
                          [
                            0.3333333333333333,
                            "#9c179e"
                          ],
                          [
                            0.4444444444444444,
                            "#bd3786"
                          ],
                          [
                            0.5555555555555556,
                            "#d8576b"
                          ],
                          [
                            0.6666666666666666,
                            "#ed7953"
                          ],
                          [
                            0.7777777777777778,
                            "#fb9f3a"
                          ],
                          [
                            0.8888888888888888,
                            "#fdca26"
                          ],
                          [
                            1,
                            "#f0f921"
                          ]
                        ],
                        "type": "histogram2d"
                      }
                    ],
                    "histogram2dcontour": [
                      {
                        "colorbar": {
                          "outlinewidth": 0,
                          "ticks": ""
                        },
                        "colorscale": [
                          [
                            0,
                            "#0d0887"
                          ],
                          [
                            0.1111111111111111,
                            "#46039f"
                          ],
                          [
                            0.2222222222222222,
                            "#7201a8"
                          ],
                          [
                            0.3333333333333333,
                            "#9c179e"
                          ],
                          [
                            0.4444444444444444,
                            "#bd3786"
                          ],
                          [
                            0.5555555555555556,
                            "#d8576b"
                          ],
                          [
                            0.6666666666666666,
                            "#ed7953"
                          ],
                          [
                            0.7777777777777778,
                            "#fb9f3a"
                          ],
                          [
                            0.8888888888888888,
                            "#fdca26"
                          ],
                          [
                            1,
                            "#f0f921"
                          ]
                        ],
                        "type": "histogram2dcontour"
                      }
                    ],
                    "mesh3d": [
                      {
                        "colorbar": {
                          "outlinewidth": 0,
                          "ticks": ""
                        },
                        "type": "mesh3d"
                      }
                    ],
                    "parcoords": [
                      {
                        "line": {
                          "colorbar": {
                            "outlinewidth": 0,
                            "ticks": ""
                          }
                        },
                        "type": "parcoords"
                      }
                    ],
                    "pie": [
                      {
                        "automargin": true,
                        "type": "pie"
                      }
                    ],
                    "scatter": [
                      {
                        "marker": {
                          "colorbar": {
                            "outlinewidth": 0,
                            "ticks": ""
                          }
                        },
                        "type": "scatter"
                      }
                    ],
                    "scatter3d": [
                      {
                        "line": {
                          "colorbar": {
                            "outlinewidth": 0,
                            "ticks": ""
                          }
                        },
                        "marker": {
                          "colorbar": {
                            "outlinewidth": 0,
                            "ticks": ""
                          }
                        },
                        "type": "scatter3d"
                      }
                    ],
                    "scattercarpet": [
                      {
                        "marker": {
                          "colorbar": {
                            "outlinewidth": 0,
                            "ticks": ""
                          }
                        },
                        "type": "scattercarpet"
                      }
                    ],
                    "scattergeo": [
                      {
                        "marker": {
                          "colorbar": {
                            "outlinewidth": 0,
                            "ticks": ""
                          }
                        },
                        "type": "scattergeo"
                      }
                    ],
                    "scattergl": [
                      {
                        "marker": {
                          "colorbar": {
                            "outlinewidth": 0,
                            "ticks": ""
                          }
                        },
                        "type": "scattergl"
                      }
                    ],
                    "scattermapbox": [
                      {
                        "marker": {
                          "colorbar": {
                            "outlinewidth": 0,
                            "ticks": ""
                          }
                        },
                        "type": "scattermapbox"
                      }
                    ],
                    "scatterpolar": [
                      {
                        "marker": {
                          "colorbar": {
                            "outlinewidth": 0,
                            "ticks": ""
                          }
                        },
                        "type": "scatterpolar"
                      }
                    ],
                    "scatterpolargl": [
                      {
                        "marker": {
                          "colorbar": {
                            "outlinewidth": 0,
                            "ticks": ""
                          }
                        },
                        "type": "scatterpolargl"
                      }
                    ],
                    "scatterternary": [
                      {
                        "marker": {
                          "colorbar": {
                            "outlinewidth": 0,
                            "ticks": ""
                          }
                        },
                        "type": "scatterternary"
                      }
                    ],
                    "surface": [
                      {
                        "colorbar": {
                          "outlinewidth": 0,
                          "ticks": ""
                        },
                        "colorscale": [
                          [
                            0,
                            "#0d0887"
                          ],
                          [
                            0.1111111111111111,
                            "#46039f"
                          ],
                          [
                            0.2222222222222222,
                            "#7201a8"
                          ],
                          [
                            0.3333333333333333,
                            "#9c179e"
                          ],
                          [
                            0.4444444444444444,
                            "#bd3786"
                          ],
                          [
                            0.5555555555555556,
                            "#d8576b"
                          ],
                          [
                            0.6666666666666666,
                            "#ed7953"
                          ],
                          [
                            0.7777777777777778,
                            "#fb9f3a"
                          ],
                          [
                            0.8888888888888888,
                            "#fdca26"
                          ],
                          [
                            1,
                            "#f0f921"
                          ]
                        ],
                        "type": "surface"
                      }
                    ],
                    "table": [
                      {
                        "cells": {
                          "fill": {
                            "color": "#EBF0F8"
                          },
                          "line": {
                            "color": "white"
                          }
                        },
                        "header": {
                          "fill": {
                            "color": "#C8D4E3"
                          },
                          "line": {
                            "color": "white"
                          }
                        },
                        "type": "table"
                      }
                    ]
                  },
                  "layout": {
                    "annotationdefaults": {
                      "arrowcolor": "#2a3f5f",
                      "arrowhead": 0,
                      "arrowwidth": 1
                    },
                    "autotypenumbers": "strict",
                    "coloraxis": {
                      "colorbar": {
                        "outlinewidth": 0,
                        "ticks": ""
                      }
                    },
                    "colorscale": {
                      "diverging": [
                        [
                          0,
                          "#8e0152"
                        ],
                        [
                          0.1,
                          "#c51b7d"
                        ],
                        [
                          0.2,
                          "#de77ae"
                        ],
                        [
                          0.3,
                          "#f1b6da"
                        ],
                        [
                          0.4,
                          "#fde0ef"
                        ],
                        [
                          0.5,
                          "#f7f7f7"
                        ],
                        [
                          0.6,
                          "#e6f5d0"
                        ],
                        [
                          0.7,
                          "#b8e186"
                        ],
                        [
                          0.8,
                          "#7fbc41"
                        ],
                        [
                          0.9,
                          "#4d9221"
                        ],
                        [
                          1,
                          "#276419"
                        ]
                      ],
                      "sequential": [
                        [
                          0,
                          "#0d0887"
                        ],
                        [
                          0.1111111111111111,
                          "#46039f"
                        ],
                        [
                          0.2222222222222222,
                          "#7201a8"
                        ],
                        [
                          0.3333333333333333,
                          "#9c179e"
                        ],
                        [
                          0.4444444444444444,
                          "#bd3786"
                        ],
                        [
                          0.5555555555555556,
                          "#d8576b"
                        ],
                        [
                          0.6666666666666666,
                          "#ed7953"
                        ],
                        [
                          0.7777777777777778,
                          "#fb9f3a"
                        ],
                        [
                          0.8888888888888888,
                          "#fdca26"
                        ],
                        [
                          1,
                          "#f0f921"
                        ]
                      ],
                      "sequentialminus": [
                        [
                          0,
                          "#0d0887"
                        ],
                        [
                          0.1111111111111111,
                          "#46039f"
                        ],
                        [
                          0.2222222222222222,
                          "#7201a8"
                        ],
                        [
                          0.3333333333333333,
                          "#9c179e"
                        ],
                        [
                          0.4444444444444444,
                          "#bd3786"
                        ],
                        [
                          0.5555555555555556,
                          "#d8576b"
                        ],
                        [
                          0.6666666666666666,
                          "#ed7953"
                        ],
                        [
                          0.7777777777777778,
                          "#fb9f3a"
                        ],
                        [
                          0.8888888888888888,
                          "#fdca26"
                        ],
                        [
                          1,
                          "#f0f921"
                        ]
                      ]
                    },
                    "colorway": [
                      "#636efa",
                      "#EF553B",
                      "#00cc96",
                      "#ab63fa",
                      "#FFA15A",
                      "#19d3f3",
                      "#FF6692",
                      "#B6E880",
                      "#FF97FF",
                      "#FECB52"
                    ],
                    "font": {
                      "color": "#2a3f5f"
                    },
                    "geo": {
                      "bgcolor": "white",
                      "lakecolor": "white",
                      "landcolor": "#E5ECF6",
                      "showlakes": true,
                      "showland": true,
                      "subunitcolor": "white"
                    },
                    "hoverlabel": {
                      "align": "left"
                    },
                    "hovermode": "closest",
                    "mapbox": {
                      "style": "light"
                    },
                    "paper_bgcolor": "white",
                    "plot_bgcolor": "#E5ECF6",
                    "polar": {
                      "angularaxis": {
                        "gridcolor": "white",
                        "linecolor": "white",
                        "ticks": ""
                      },
                      "bgcolor": "#E5ECF6",
                      "radialaxis": {
                        "gridcolor": "white",
                        "linecolor": "white",
                        "ticks": ""
                      }
                    },
                    "scene": {
                      "xaxis": {
                        "backgroundcolor": "#E5ECF6",
                        "gridcolor": "white",
                        "gridwidth": 2,
                        "linecolor": "white",
                        "showbackground": true,
                        "ticks": "",
                        "zerolinecolor": "white"
                      },
                      "yaxis": {
                        "backgroundcolor": "#E5ECF6",
                        "gridcolor": "white",
                        "gridwidth": 2,
                        "linecolor": "white",
                        "showbackground": true,
                        "ticks": "",
                        "zerolinecolor": "white"
                      },
                      "zaxis": {
                        "backgroundcolor": "#E5ECF6",
                        "gridcolor": "white",
                        "gridwidth": 2,
                        "linecolor": "white",
                        "showbackground": true,
                        "ticks": "",
                        "zerolinecolor": "white"
                      }
                    },
                    "shapedefaults": {
                      "line": {
                        "color": "#2a3f5f"
                      }
                    },
                    "ternary": {
                      "aaxis": {
                        "gridcolor": "white",
                        "linecolor": "white",
                        "ticks": ""
                      },
                      "baxis": {
                        "gridcolor": "white",
                        "linecolor": "white",
                        "ticks": ""
                      },
                      "bgcolor": "#E5ECF6",
                      "caxis": {
                        "gridcolor": "white",
                        "linecolor": "white",
                        "ticks": ""
                      }
                    },
                    "title": {
                      "x": 0.05
                    },
                    "xaxis": {
                      "automargin": true,
                      "gridcolor": "white",
                      "linecolor": "white",
                      "ticks": "",
                      "title": {
                        "standoff": 15
                      },
                      "zerolinecolor": "white",
                      "zerolinewidth": 2
                    },
                    "yaxis": {
                      "automargin": true,
                      "gridcolor": "white",
                      "linecolor": "white",
                      "ticks": "",
                      "title": {
                        "standoff": 15
                      },
                      "zerolinecolor": "white",
                      "zerolinewidth": 2
                    }
                  }
                },
                "title": {
                  "text": "Cars Sold by Year and Region (2019-2023)"
                },
                "width": 1200,
                "xaxis": {
                  "title": {
                    "text": "Year"
                  }
                },
                "yaxis": {
                  "title": {
                    "text": "Number of Cars Sold"
                  }
                }
              }
            }
          },
          "metadata": {},
          "output_type": "display_data"
        }
      ],
      "source": [
        "# Initialize empty lists to store subplot traces\n",
        "fig1 = go.Figure()\n",
        "fig2 = go.Figure()\n",
        "\n",
        "# Filter data for the first half of the years (2013-2018)\n",
        "first_half_data = data_sorted[data_sorted['Year'].between(2013, 2018)]\n",
        "\n",
        "# Filter data for the second half of the years (2019-2023)\n",
        "second_half_data = data_sorted[data_sorted['Year'].between(2019, 2023)]\n",
        "\n",
        "# Iterate over each region\n",
        "for region in data['Region'].unique():\n",
        "    # Filter data for the current region in the first half of the years\n",
        "    region_first_half_data = first_half_data[first_half_data['Region'] == region]\n",
        "    \n",
        "    # Grouping data by 'Year' and summing up the 'Sales' column\n",
        "    year_sales_first_half = region_first_half_data.groupby('Year')['Sales'].sum().reset_index()\n",
        "\n",
        "    # Extracting years and number of cars sold for the first half\n",
        "    x1 = year_sales_first_half['Year'].tolist()\n",
        "    y1 = year_sales_first_half['Sales'].tolist()\n",
        "\n",
        "    # Find the top-selling car in each year for the first half\n",
        "    top_models_first_half = region_first_half_data.loc[region_first_half_data.groupby('Year')['Sales'].idxmax()][['Year', 'Manufacturer', 'Model', 'Sales']]\n",
        "\n",
        "    # Create text labels for the first half\n",
        "    text_labels1 = [f\"{row['Manufacturer']} {row['Model']} ({row['Sales']} cars)\" for index, row in top_models_first_half.iterrows()]\n",
        "\n",
        "    # Create a bar trace for the first half with specified color\n",
        "    trace1 = go.Bar(\n",
        "        x=x1, \n",
        "        y=y1,\n",
        "        text=text_labels1,\n",
        "        textposition='auto',\n",
        "        name=region,\n",
        "        hoverinfo='text',\n",
        "        marker=dict(color=color_region[region])  # Assign color based on region\n",
        "    )\n",
        "\n",
        "    # Add the trace to the first figure\n",
        "    fig1.add_trace(trace1)\n",
        "    \n",
        "    # Filter data for the current region in the second half of the years\n",
        "    region_second_half_data = second_half_data[second_half_data['Region'] == region]\n",
        "    \n",
        "    # Grouping data by 'Year' and summing up the 'Sales' column for the second half\n",
        "    year_sales_second_half = region_second_half_data.groupby('Year')['Sales'].sum().reset_index()\n",
        "\n",
        "    # Extracting years and number of cars sold for the second half\n",
        "    x2 = year_sales_second_half['Year'].tolist()\n",
        "    y2 = year_sales_second_half['Sales'].tolist()\n",
        "\n",
        "    # Find the top-selling car in each year for the second half\n",
        "    top_models_second_half = region_second_half_data.loc[region_second_half_data.groupby('Year')['Sales'].idxmax()][['Year', 'Manufacturer', 'Model', 'Sales']]\n",
        "\n",
        "    # Create text labels for the second half\n",
        "    text_labels2 = [f\"{row['Manufacturer']} {row['Model']} ({row['Sales']} cars)\" for index, row in top_models_second_half.iterrows()]\n",
        "\n",
        "    # Create a bar trace for the second half with specified color\n",
        "    trace2 = go.Bar(\n",
        "        x=x2, \n",
        "        y=y2,\n",
        "        text=text_labels2,\n",
        "        textposition='auto',\n",
        "        name=region,\n",
        "        hoverinfo='text',\n",
        "        marker=dict(color=color_region[region])  # Assign color based on region\n",
        "    )\n",
        "\n",
        "    # Add the trace to the second figure\n",
        "    fig2.add_trace(trace2)\n",
        "\n",
        "# Update layout for the first figure\n",
        "fig1.update_layout(\n",
        "    title=\"Cars Sold by Year and Region (2013-2018)\",\n",
        "    xaxis_title=\"Year\",\n",
        "    yaxis_title=\"Number of Cars Sold\",\n",
        "    barmode='group',\n",
        "    height=800,  # Adjust height as needed\n",
        "    width=1200,  # Adjust width as needed\n",
        ")\n",
        "\n",
        "# Update layout for the second figure\n",
        "fig2.update_layout(\n",
        "    title=\"Cars Sold by Year and Region (2019-2023)\",\n",
        "    xaxis_title=\"Year\",\n",
        "    yaxis_title=\"Number of Cars Sold\",\n",
        "    barmode='group',\n",
        "    height=800,  # Adjust height as needed\n",
        "    width=1200,  # Adjust width as needed\n",
        ")\n",
        "\n",
        "# Show the plots\n",
        "fig1.show()\n",
        "fig2.show()\n",
        "\n",
        "# SAVE TO LATEX\n",
        "# Save the plot as an HTML file\n",
        "#fig.write_html(\"interactive_plot.html\")\n",
        "\n",
        "# Print the HTML code to embed into LaTeX\n",
        "#print(f\"<iframe src='interactive_plot.html' width='1200' height='800'></iframe>\")\n"
      ]
    },
    {
      "cell_type": "code",
      "execution_count": null,
      "metadata": {},
      "outputs": [],
      "source": []
    },
    {
      "cell_type": "code",
      "execution_count": null,
      "metadata": {},
      "outputs": [],
      "source": []
    }
  ],
  "metadata": {
    "colab": {
      "provenance": []
    },
    "kernelspec": {
      "display_name": "Python 3",
      "name": "python3"
    },
    "language_info": {
      "codemirror_mode": {
        "name": "ipython",
        "version": 3
      },
      "file_extension": ".py",
      "mimetype": "text/x-python",
      "name": "python",
      "nbconvert_exporter": "python",
      "pygments_lexer": "ipython3",
      "version": "3.9.12"
    }
  },
  "nbformat": 4,
  "nbformat_minor": 0
}
