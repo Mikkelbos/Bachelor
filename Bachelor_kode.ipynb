{
  "cells": [
    {
      "cell_type": "code",
      "execution_count": 35,
      "metadata": {},
      "outputs": [
        {
          "data": {
            "text/plain": [
              "'\\nLæs Gandhi + Houd instruments november 2020 (Behandling af instrumentvariable). Ellers gå med normale BLP instrumenter\\n\\nNæste gang:\\n'"
            ]
          },
          "execution_count": 35,
          "metadata": {},
          "output_type": "execute_result"
        }
      ],
      "source": [
        "'''\n",
        "Læs Gandhi + Houd instruments november 2020 (Behandling af instrumentvariable). Ellers gå med normale BLP instrumenter\n",
        "\n",
        "Næste gang:\n",
        "'''\n",
        "\n"
      ]
    },
    {
      "cell_type": "code",
      "execution_count": 47,
      "metadata": {
        "id": "uwJZ1lbaEHID"
      },
      "outputs": [],
      "source": [
        "import statsmodels.api as sm\n",
        "import numpy as np\n",
        "from scipy.optimize import minimize\n",
        "from tabulate import tabulate\n",
        "from numpy import linalg as la\n",
        "import time\n",
        "import pandas as pd\n",
        "import mestim as M\n",
        "from discrete_choice import * \n",
        "import matplotlib.pyplot as plt\n",
        "import LinearModelsWeek3_post as lm\n",
        "\n",
        "\n",
        "%reset -f\n",
        "%load_ext autoreload\n",
        "%autoreload 2\n",
        "\n",
        "import functions as fun\n",
        "\n",
        "from numpy import random\n",
        "from scipy.stats import genextreme\n"
      ]
    },
    {
      "cell_type": "markdown",
      "metadata": {},
      "source": [
        "## Data"
      ]
    },
    {
      "cell_type": "code",
      "execution_count": 48,
      "metadata": {},
      "outputs": [
        {
          "ename": "NameError",
          "evalue": "name 'pd' is not defined",
          "output_type": "error",
          "traceback": [
            "\u001b[1;31m---------------------------------------------------------------------------\u001b[0m",
            "\u001b[1;31mNameError\u001b[0m                                 Traceback (most recent call last)",
            "\u001b[1;32m~\\AppData\\Local\\Temp\\ipykernel_13440\\1553771591.py\u001b[0m in \u001b[0;36m<module>\u001b[1;34m\u001b[0m\n\u001b[1;32m----> 1\u001b[1;33m \u001b[0mdf_overview\u001b[0m \u001b[1;33m=\u001b[0m \u001b[0mpd\u001b[0m\u001b[1;33m.\u001b[0m\u001b[0mread_excel\u001b[0m\u001b[1;33m(\u001b[0m\u001b[1;34m'Overview.xlsx'\u001b[0m\u001b[1;33m)\u001b[0m\u001b[1;33m\u001b[0m\u001b[1;33m\u001b[0m\u001b[0m\n\u001b[0m\u001b[0;32m      2\u001b[0m \u001b[0mdf_overview\u001b[0m\u001b[1;33m.\u001b[0m\u001b[0msort_values\u001b[0m\u001b[1;33m(\u001b[0m\u001b[0mby\u001b[0m\u001b[1;33m=\u001b[0m\u001b[1;33m[\u001b[0m\u001b[1;34m'Count'\u001b[0m\u001b[1;33m]\u001b[0m\u001b[1;33m,\u001b[0m \u001b[0mascending\u001b[0m\u001b[1;33m=\u001b[0m\u001b[1;32mTrue\u001b[0m\u001b[1;33m,\u001b[0m \u001b[0minplace\u001b[0m\u001b[1;33m=\u001b[0m\u001b[1;32mTrue\u001b[0m\u001b[1;33m)\u001b[0m\u001b[1;33m\u001b[0m\u001b[1;33m\u001b[0m\u001b[0m\n\u001b[0;32m      3\u001b[0m \u001b[0mdf_overview\u001b[0m\u001b[1;33m.\u001b[0m\u001b[0mtail\u001b[0m\u001b[1;33m(\u001b[0m\u001b[1;36m5\u001b[0m\u001b[1;33m)\u001b[0m\u001b[1;33m\u001b[0m\u001b[1;33m\u001b[0m\u001b[0m\n\u001b[0;32m      4\u001b[0m \u001b[0mprint\u001b[0m\u001b[1;33m(\u001b[0m\u001b[0mdf_overview\u001b[0m\u001b[1;33m.\u001b[0m\u001b[0mcolumns\u001b[0m\u001b[1;33m)\u001b[0m\u001b[1;33m\u001b[0m\u001b[1;33m\u001b[0m\u001b[0m\n\u001b[0;32m      5\u001b[0m \u001b[1;33m\u001b[0m\u001b[0m\n",
            "\u001b[1;31mNameError\u001b[0m: name 'pd' is not defined"
          ]
        }
      ],
      "source": [
        "df_overview = pd.read_excel('Overview.xlsx')\n",
        "df_overview.sort_values(by=['Count'], ascending=True, inplace=True) \n",
        "df_overview.tail(5)\n",
        "print(df_overview.columns)\n",
        "\n",
        "df_overview = df_overview.rename(columns={'Chargetime': 'ChargeTime'})\n",
        "df_overview = df_overview.rename(columns={'year': 'Year'})\n",
        "\n",
        "unique_types = df_overview['Type'].unique()\n",
        "for i in unique_types:\n",
        "    df_overview[i] = np.where(df_overview['Type'] == i, 1, 0)\n",
        "\n",
        "\n",
        "unique_Country = df_overview['Country'].unique()\n",
        "\n",
        "unique_segments = df_overview['Segment'].unique()\n",
        "for i in unique_segments:\n",
        "    df_overview[i] = np.where(df_overview['Segment'] == i, 1, 0)\n",
        "print(f'segments : {unique_segments} \\n Countrys : {unique_Country} \\n types : {unique_types}')\n",
        "\n",
        "\n",
        "#Europa, Kina, USA, Andet\n",
        "df_overview['Europe'] = np.where((df_overview['Country'] != 'US') & (df_overview['Country'] != 'CH') & (df_overview['Country'] != 'JP') & (df_overview['Country'] != 'KR'), 1, 0)\n",
        "df_overview['China'] = np.where(df_overview['Country'] == 'CH', 1, 0)\n",
        "df_overview['USA'] = np.where(df_overview['Country'] == 'US', 1, 0)\n",
        "df_overview['Other'] = np.where((df_overview['Europe'] != 1) & (df_overview['China'] != 1) & (df_overview['USA'] != 1), 1, 0)\n",
        "\n",
        "df_overview.head(5)\n",
        "#df_overview[df_overview['Manufacturer'] == 'Nissan']\n",
        "\n"
      ]
    },
    {
      "cell_type": "code",
      "execution_count": 38,
      "metadata": {},
      "outputs": [
        {
          "name": "stdout",
          "output_type": "stream",
          "text": [
            "   ID  Year  Market share Manufacturer Model  Range  Price   HP  ChargeTime  \\\n",
            "0   1  2013           0.0       Aiways    U5    400    0.0  201          34   \n",
            "\n",
            "  Type  ...  E  B  D  M  A  J  Europe  China  USA  Other  \n",
            "0  SUV  ...  0  0  0  0  0  0       0      1    0      0  \n",
            "\n",
            "[1 rows x 32 columns]\n"
          ]
        },
        {
          "name": "stderr",
          "output_type": "stream",
          "text": [
            "C:\\Users\\Mikkel\\AppData\\Local\\Temp\\ipykernel_13440\\1956551877.py:27: SettingWithCopyWarning: \n",
            "A value is trying to be set on a copy of a slice from a DataFrame\n",
            "\n",
            "See the caveats in the documentation: https://pandas.pydata.org/pandas-docs/stable/user_guide/indexing.html#returning-a-view-versus-a-copy\n",
            "  df_dataset_ms0.sort_values(by=['Market share'], ascending=False, inplace=True)\n"
          ]
        }
      ],
      "source": [
        "df_dataset = pd.read_csv('Dataset.csv')\n",
        "df_dataset = df_dataset.rename(columns={'Chargetime': 'ChargeTime'})\n",
        "unique_types = df_dataset['Type'].unique()\n",
        "#print(df_dataset.columns)\n",
        "for i in unique_types:\n",
        "    df_dataset[i] = np.where(df_dataset['Type'] == i, 1, 0)\n",
        "\n",
        "\n",
        "years = df_dataset['Year'].unique()\n",
        "\n",
        "unique_Country = df_dataset['Country'].unique()\n",
        "\n",
        "unique_segments = df_dataset['Segment'].unique()\n",
        "for i in unique_segments:\n",
        "    df_dataset[i] = np.where(df_dataset['Segment'] == i, 1, 0)\n",
        "\n",
        "\n",
        "#Europa, Kina, USA, Andet\n",
        "df_dataset['Europe'] = np.where((df_dataset['Country'] != 'US') & (df_dataset['Country'] != 'CH') & (df_dataset['Country'] != 'JP') & (df_dataset['Country'] != 'KR'), 1, 0)\n",
        "df_dataset['China'] = np.where(df_dataset['Country'] == 'CH', 1, 0)\n",
        "df_dataset['USA'] = np.where(df_dataset['Country'] == 'US', 1, 0)\n",
        "df_dataset['Other'] = np.where((df_dataset['Europe'] != 1) & (df_dataset['China'] != 1) & (df_dataset['USA'] != 1), 1, 0)\n",
        "print(df_dataset.head(1))\n",
        "\n",
        "\n",
        "df_dataset_ms0 = df_dataset[df_dataset['Market share'] != 0]\n",
        "df_dataset_ms0.sort_values(by=['Market share'], ascending=False, inplace=True)\n",
        "#print(df_dataset_ms0.sample(1))\n",
        "\n",
        "df_dataset_year_ms0 = {}\n",
        "for year in years:\n",
        "    df_dataset_year_ms0[year] = df_dataset_ms0[df_dataset_ms0['Year'] == year]\n",
        "\n",
        "\n"
      ]
    },
    {
      "cell_type": "markdown",
      "metadata": {},
      "source": []
    },
    {
      "cell_type": "code",
      "execution_count": 39,
      "metadata": {},
      "outputs": [
        {
          "data": {
            "text/html": [
              "<div>\n",
              "<style scoped>\n",
              "    .dataframe tbody tr th:only-of-type {\n",
              "        vertical-align: middle;\n",
              "    }\n",
              "\n",
              "    .dataframe tbody tr th {\n",
              "        vertical-align: top;\n",
              "    }\n",
              "\n",
              "    .dataframe thead th {\n",
              "        text-align: right;\n",
              "    }\n",
              "</style>\n",
              "<table border=\"1\" class=\"dataframe\">\n",
              "  <thead>\n",
              "    <tr style=\"text-align: right;\">\n",
              "      <th></th>\n",
              "      <th>ID</th>\n",
              "      <th>Year</th>\n",
              "      <th>Market share</th>\n",
              "      <th>Manufacturer</th>\n",
              "      <th>Model</th>\n",
              "      <th>Range</th>\n",
              "      <th>Price</th>\n",
              "      <th>HP</th>\n",
              "      <th>ChargeTime</th>\n",
              "      <th>Type</th>\n",
              "      <th>...</th>\n",
              "      <th>E</th>\n",
              "      <th>B</th>\n",
              "      <th>D</th>\n",
              "      <th>M</th>\n",
              "      <th>A</th>\n",
              "      <th>J</th>\n",
              "      <th>Europe</th>\n",
              "      <th>China</th>\n",
              "      <th>USA</th>\n",
              "      <th>Other</th>\n",
              "    </tr>\n",
              "  </thead>\n",
              "  <tbody>\n",
              "    <tr>\n",
              "      <th>0</th>\n",
              "      <td>1</td>\n",
              "      <td>2013</td>\n",
              "      <td>0.000000</td>\n",
              "      <td>Aiways</td>\n",
              "      <td>U5</td>\n",
              "      <td>400</td>\n",
              "      <td>0.000</td>\n",
              "      <td>201</td>\n",
              "      <td>34</td>\n",
              "      <td>SUV</td>\n",
              "      <td>...</td>\n",
              "      <td>0</td>\n",
              "      <td>0</td>\n",
              "      <td>0</td>\n",
              "      <td>0</td>\n",
              "      <td>0</td>\n",
              "      <td>0</td>\n",
              "      <td>0</td>\n",
              "      <td>1</td>\n",
              "      <td>0</td>\n",
              "      <td>0</td>\n",
              "    </tr>\n",
              "    <tr>\n",
              "      <th>1</th>\n",
              "      <td>1</td>\n",
              "      <td>2014</td>\n",
              "      <td>0.000000</td>\n",
              "      <td>Aiways</td>\n",
              "      <td>U5</td>\n",
              "      <td>400</td>\n",
              "      <td>0.000</td>\n",
              "      <td>201</td>\n",
              "      <td>34</td>\n",
              "      <td>SUV</td>\n",
              "      <td>...</td>\n",
              "      <td>0</td>\n",
              "      <td>0</td>\n",
              "      <td>0</td>\n",
              "      <td>0</td>\n",
              "      <td>0</td>\n",
              "      <td>0</td>\n",
              "      <td>0</td>\n",
              "      <td>1</td>\n",
              "      <td>0</td>\n",
              "      <td>0</td>\n",
              "    </tr>\n",
              "    <tr>\n",
              "      <th>2</th>\n",
              "      <td>1</td>\n",
              "      <td>2015</td>\n",
              "      <td>0.000000</td>\n",
              "      <td>Aiways</td>\n",
              "      <td>U5</td>\n",
              "      <td>400</td>\n",
              "      <td>0.000</td>\n",
              "      <td>201</td>\n",
              "      <td>34</td>\n",
              "      <td>SUV</td>\n",
              "      <td>...</td>\n",
              "      <td>0</td>\n",
              "      <td>0</td>\n",
              "      <td>0</td>\n",
              "      <td>0</td>\n",
              "      <td>0</td>\n",
              "      <td>0</td>\n",
              "      <td>0</td>\n",
              "      <td>1</td>\n",
              "      <td>0</td>\n",
              "      <td>0</td>\n",
              "    </tr>\n",
              "    <tr>\n",
              "      <th>3</th>\n",
              "      <td>1</td>\n",
              "      <td>2016</td>\n",
              "      <td>0.000000</td>\n",
              "      <td>Aiways</td>\n",
              "      <td>U5</td>\n",
              "      <td>400</td>\n",
              "      <td>0.000</td>\n",
              "      <td>201</td>\n",
              "      <td>34</td>\n",
              "      <td>SUV</td>\n",
              "      <td>...</td>\n",
              "      <td>0</td>\n",
              "      <td>0</td>\n",
              "      <td>0</td>\n",
              "      <td>0</td>\n",
              "      <td>0</td>\n",
              "      <td>0</td>\n",
              "      <td>0</td>\n",
              "      <td>1</td>\n",
              "      <td>0</td>\n",
              "      <td>0</td>\n",
              "    </tr>\n",
              "    <tr>\n",
              "      <th>4</th>\n",
              "      <td>1</td>\n",
              "      <td>2017</td>\n",
              "      <td>0.000000</td>\n",
              "      <td>Aiways</td>\n",
              "      <td>U5</td>\n",
              "      <td>400</td>\n",
              "      <td>0.000</td>\n",
              "      <td>201</td>\n",
              "      <td>34</td>\n",
              "      <td>SUV</td>\n",
              "      <td>...</td>\n",
              "      <td>0</td>\n",
              "      <td>0</td>\n",
              "      <td>0</td>\n",
              "      <td>0</td>\n",
              "      <td>0</td>\n",
              "      <td>0</td>\n",
              "      <td>0</td>\n",
              "      <td>1</td>\n",
              "      <td>0</td>\n",
              "      <td>0</td>\n",
              "    </tr>\n",
              "    <tr>\n",
              "      <th>5</th>\n",
              "      <td>1</td>\n",
              "      <td>2018</td>\n",
              "      <td>0.000000</td>\n",
              "      <td>Aiways</td>\n",
              "      <td>U5</td>\n",
              "      <td>400</td>\n",
              "      <td>0.000</td>\n",
              "      <td>201</td>\n",
              "      <td>34</td>\n",
              "      <td>SUV</td>\n",
              "      <td>...</td>\n",
              "      <td>0</td>\n",
              "      <td>0</td>\n",
              "      <td>0</td>\n",
              "      <td>0</td>\n",
              "      <td>0</td>\n",
              "      <td>0</td>\n",
              "      <td>0</td>\n",
              "      <td>1</td>\n",
              "      <td>0</td>\n",
              "      <td>0</td>\n",
              "    </tr>\n",
              "    <tr>\n",
              "      <th>6</th>\n",
              "      <td>1</td>\n",
              "      <td>2019</td>\n",
              "      <td>0.000000</td>\n",
              "      <td>Aiways</td>\n",
              "      <td>U5</td>\n",
              "      <td>400</td>\n",
              "      <td>0.000</td>\n",
              "      <td>201</td>\n",
              "      <td>34</td>\n",
              "      <td>SUV</td>\n",
              "      <td>...</td>\n",
              "      <td>0</td>\n",
              "      <td>0</td>\n",
              "      <td>0</td>\n",
              "      <td>0</td>\n",
              "      <td>0</td>\n",
              "      <td>0</td>\n",
              "      <td>0</td>\n",
              "      <td>1</td>\n",
              "      <td>0</td>\n",
              "      <td>0</td>\n",
              "    </tr>\n",
              "    <tr>\n",
              "      <th>7</th>\n",
              "      <td>1</td>\n",
              "      <td>2020</td>\n",
              "      <td>0.000000</td>\n",
              "      <td>Aiways</td>\n",
              "      <td>U5</td>\n",
              "      <td>400</td>\n",
              "      <td>0.000</td>\n",
              "      <td>201</td>\n",
              "      <td>34</td>\n",
              "      <td>SUV</td>\n",
              "      <td>...</td>\n",
              "      <td>0</td>\n",
              "      <td>0</td>\n",
              "      <td>0</td>\n",
              "      <td>0</td>\n",
              "      <td>0</td>\n",
              "      <td>0</td>\n",
              "      <td>0</td>\n",
              "      <td>1</td>\n",
              "      <td>0</td>\n",
              "      <td>0</td>\n",
              "    </tr>\n",
              "    <tr>\n",
              "      <th>8</th>\n",
              "      <td>1</td>\n",
              "      <td>2021</td>\n",
              "      <td>0.010373</td>\n",
              "      <td>Aiways</td>\n",
              "      <td>U5</td>\n",
              "      <td>400</td>\n",
              "      <td>284621.700</td>\n",
              "      <td>201</td>\n",
              "      <td>34</td>\n",
              "      <td>SUV</td>\n",
              "      <td>...</td>\n",
              "      <td>0</td>\n",
              "      <td>0</td>\n",
              "      <td>0</td>\n",
              "      <td>0</td>\n",
              "      <td>0</td>\n",
              "      <td>0</td>\n",
              "      <td>0</td>\n",
              "      <td>1</td>\n",
              "      <td>0</td>\n",
              "      <td>0</td>\n",
              "    </tr>\n",
              "    <tr>\n",
              "      <th>9</th>\n",
              "      <td>1</td>\n",
              "      <td>2022</td>\n",
              "      <td>0.005976</td>\n",
              "      <td>Aiways</td>\n",
              "      <td>U5</td>\n",
              "      <td>400</td>\n",
              "      <td>313681.829</td>\n",
              "      <td>201</td>\n",
              "      <td>34</td>\n",
              "      <td>SUV</td>\n",
              "      <td>...</td>\n",
              "      <td>0</td>\n",
              "      <td>0</td>\n",
              "      <td>0</td>\n",
              "      <td>0</td>\n",
              "      <td>0</td>\n",
              "      <td>0</td>\n",
              "      <td>0</td>\n",
              "      <td>1</td>\n",
              "      <td>0</td>\n",
              "      <td>0</td>\n",
              "    </tr>\n",
              "    <tr>\n",
              "      <th>10</th>\n",
              "      <td>1</td>\n",
              "      <td>2023</td>\n",
              "      <td>0.002860</td>\n",
              "      <td>Aiways</td>\n",
              "      <td>U5</td>\n",
              "      <td>400</td>\n",
              "      <td>264524.000</td>\n",
              "      <td>201</td>\n",
              "      <td>34</td>\n",
              "      <td>SUV</td>\n",
              "      <td>...</td>\n",
              "      <td>0</td>\n",
              "      <td>0</td>\n",
              "      <td>0</td>\n",
              "      <td>0</td>\n",
              "      <td>0</td>\n",
              "      <td>0</td>\n",
              "      <td>0</td>\n",
              "      <td>1</td>\n",
              "      <td>0</td>\n",
              "      <td>0</td>\n",
              "    </tr>\n",
              "  </tbody>\n",
              "</table>\n",
              "<p>11 rows × 32 columns</p>\n",
              "</div>"
            ],
            "text/plain": [
              "    ID  Year  Market share Manufacturer Model  Range       Price   HP  \\\n",
              "0    1  2013      0.000000       Aiways    U5    400       0.000  201   \n",
              "1    1  2014      0.000000       Aiways    U5    400       0.000  201   \n",
              "2    1  2015      0.000000       Aiways    U5    400       0.000  201   \n",
              "3    1  2016      0.000000       Aiways    U5    400       0.000  201   \n",
              "4    1  2017      0.000000       Aiways    U5    400       0.000  201   \n",
              "5    1  2018      0.000000       Aiways    U5    400       0.000  201   \n",
              "6    1  2019      0.000000       Aiways    U5    400       0.000  201   \n",
              "7    1  2020      0.000000       Aiways    U5    400       0.000  201   \n",
              "8    1  2021      0.010373       Aiways    U5    400  284621.700  201   \n",
              "9    1  2022      0.005976       Aiways    U5    400  313681.829  201   \n",
              "10   1  2023      0.002860       Aiways    U5    400  264524.000  201   \n",
              "\n",
              "    ChargeTime Type  ...  E  B  D  M  A  J  Europe  China  USA  Other  \n",
              "0           34  SUV  ...  0  0  0  0  0  0       0      1    0      0  \n",
              "1           34  SUV  ...  0  0  0  0  0  0       0      1    0      0  \n",
              "2           34  SUV  ...  0  0  0  0  0  0       0      1    0      0  \n",
              "3           34  SUV  ...  0  0  0  0  0  0       0      1    0      0  \n",
              "4           34  SUV  ...  0  0  0  0  0  0       0      1    0      0  \n",
              "5           34  SUV  ...  0  0  0  0  0  0       0      1    0      0  \n",
              "6           34  SUV  ...  0  0  0  0  0  0       0      1    0      0  \n",
              "7           34  SUV  ...  0  0  0  0  0  0       0      1    0      0  \n",
              "8           34  SUV  ...  0  0  0  0  0  0       0      1    0      0  \n",
              "9           34  SUV  ...  0  0  0  0  0  0       0      1    0      0  \n",
              "10          34  SUV  ...  0  0  0  0  0  0       0      1    0      0  \n",
              "\n",
              "[11 rows x 32 columns]"
            ]
          },
          "execution_count": 39,
          "metadata": {},
          "output_type": "execute_result"
        }
      ],
      "source": [
        "df_dataset.head(11)\n",
        "#df.info()"
      ]
    },
    {
      "cell_type": "markdown",
      "metadata": {},
      "source": [
        "## Grafer"
      ]
    },
    {
      "cell_type": "code",
      "execution_count": 31,
      "metadata": {},
      "outputs": [
        {
          "ename": "KeyError",
          "evalue": "'year'",
          "output_type": "error",
          "traceback": [
            "\u001b[1;31m---------------------------------------------------------------------------\u001b[0m",
            "\u001b[1;31mKeyError\u001b[0m                                  Traceback (most recent call last)",
            "\u001b[1;32mc:\\Users\\Mikkel\\anaconda3\\lib\\site-packages\\pandas\\core\\indexes\\base.py\u001b[0m in \u001b[0;36mget_loc\u001b[1;34m(self, key, method, tolerance)\u001b[0m\n\u001b[0;32m   3628\u001b[0m             \u001b[1;32mtry\u001b[0m\u001b[1;33m:\u001b[0m\u001b[1;33m\u001b[0m\u001b[1;33m\u001b[0m\u001b[0m\n\u001b[1;32m-> 3629\u001b[1;33m                 \u001b[1;32mreturn\u001b[0m \u001b[0mself\u001b[0m\u001b[1;33m.\u001b[0m\u001b[0m_engine\u001b[0m\u001b[1;33m.\u001b[0m\u001b[0mget_loc\u001b[0m\u001b[1;33m(\u001b[0m\u001b[0mcasted_key\u001b[0m\u001b[1;33m)\u001b[0m\u001b[1;33m\u001b[0m\u001b[1;33m\u001b[0m\u001b[0m\n\u001b[0m\u001b[0;32m   3630\u001b[0m             \u001b[1;32mexcept\u001b[0m \u001b[0mKeyError\u001b[0m \u001b[1;32mas\u001b[0m \u001b[0merr\u001b[0m\u001b[1;33m:\u001b[0m\u001b[1;33m\u001b[0m\u001b[1;33m\u001b[0m\u001b[0m\n",
            "\u001b[1;32mc:\\Users\\Mikkel\\anaconda3\\lib\\site-packages\\pandas\\_libs\\index.pyx\u001b[0m in \u001b[0;36mpandas._libs.index.IndexEngine.get_loc\u001b[1;34m()\u001b[0m\n",
            "\u001b[1;32mc:\\Users\\Mikkel\\anaconda3\\lib\\site-packages\\pandas\\_libs\\index.pyx\u001b[0m in \u001b[0;36mpandas._libs.index.IndexEngine.get_loc\u001b[1;34m()\u001b[0m\n",
            "\u001b[1;32mpandas\\_libs\\hashtable_class_helper.pxi\u001b[0m in \u001b[0;36mpandas._libs.hashtable.PyObjectHashTable.get_item\u001b[1;34m()\u001b[0m\n",
            "\u001b[1;32mpandas\\_libs\\hashtable_class_helper.pxi\u001b[0m in \u001b[0;36mpandas._libs.hashtable.PyObjectHashTable.get_item\u001b[1;34m()\u001b[0m\n",
            "\u001b[1;31mKeyError\u001b[0m: 'year'",
            "\nThe above exception was the direct cause of the following exception:\n",
            "\u001b[1;31mKeyError\u001b[0m                                  Traceback (most recent call last)",
            "\u001b[1;32m~\\AppData\\Local\\Temp\\ipykernel_13440\\3648509969.py\u001b[0m in \u001b[0;36m<module>\u001b[1;34m\u001b[0m\n\u001b[0;32m      8\u001b[0m \u001b[1;32mfor\u001b[0m \u001b[0mCountry\u001b[0m \u001b[1;32min\u001b[0m \u001b[0mCountry_shares\u001b[0m\u001b[1;33m.\u001b[0m\u001b[0mkeys\u001b[0m\u001b[1;33m(\u001b[0m\u001b[1;33m)\u001b[0m\u001b[1;33m:\u001b[0m\u001b[1;33m\u001b[0m\u001b[1;33m\u001b[0m\u001b[0m\n\u001b[0;32m      9\u001b[0m     \u001b[1;32mfor\u001b[0m \u001b[0myear\u001b[0m \u001b[1;32min\u001b[0m \u001b[0myears\u001b[0m\u001b[1;33m:\u001b[0m\u001b[1;33m\u001b[0m\u001b[1;33m\u001b[0m\u001b[0m\n\u001b[1;32m---> 10\u001b[1;33m         \u001b[0mCountry_df\u001b[0m \u001b[1;33m=\u001b[0m \u001b[0mdf_dataset\u001b[0m\u001b[1;33m[\u001b[0m\u001b[1;33m(\u001b[0m\u001b[0mdf_dataset\u001b[0m\u001b[1;33m[\u001b[0m\u001b[0mCountry\u001b[0m\u001b[1;33m]\u001b[0m \u001b[1;33m==\u001b[0m \u001b[1;36m1\u001b[0m\u001b[1;33m)\u001b[0m \u001b[1;33m&\u001b[0m \u001b[1;33m(\u001b[0m\u001b[0mdf_dataset\u001b[0m\u001b[1;33m[\u001b[0m\u001b[1;34m'year'\u001b[0m\u001b[1;33m]\u001b[0m \u001b[1;33m==\u001b[0m \u001b[0myear\u001b[0m\u001b[1;33m)\u001b[0m\u001b[1;33m]\u001b[0m\u001b[1;33m\u001b[0m\u001b[1;33m\u001b[0m\u001b[0m\n\u001b[0m\u001b[0;32m     11\u001b[0m         \u001b[1;32mif\u001b[0m \u001b[1;32mnot\u001b[0m \u001b[0mCountry_df\u001b[0m\u001b[1;33m.\u001b[0m\u001b[0mempty\u001b[0m\u001b[1;33m:\u001b[0m\u001b[1;33m\u001b[0m\u001b[1;33m\u001b[0m\u001b[0m\n\u001b[0;32m     12\u001b[0m             \u001b[0mCountry_shares\u001b[0m\u001b[1;33m[\u001b[0m\u001b[0mCountry\u001b[0m\u001b[1;33m]\u001b[0m\u001b[1;33m.\u001b[0m\u001b[0mappend\u001b[0m\u001b[1;33m(\u001b[0m\u001b[0mCountry_df\u001b[0m\u001b[1;33m[\u001b[0m\u001b[1;34m'Market share'\u001b[0m\u001b[1;33m]\u001b[0m\u001b[1;33m.\u001b[0m\u001b[0msum\u001b[0m\u001b[1;33m(\u001b[0m\u001b[1;33m)\u001b[0m\u001b[1;33m)\u001b[0m\u001b[1;33m\u001b[0m\u001b[1;33m\u001b[0m\u001b[0m\n",
            "\u001b[1;32mc:\\Users\\Mikkel\\anaconda3\\lib\\site-packages\\pandas\\core\\frame.py\u001b[0m in \u001b[0;36m__getitem__\u001b[1;34m(self, key)\u001b[0m\n\u001b[0;32m   3503\u001b[0m             \u001b[1;32mif\u001b[0m \u001b[0mself\u001b[0m\u001b[1;33m.\u001b[0m\u001b[0mcolumns\u001b[0m\u001b[1;33m.\u001b[0m\u001b[0mnlevels\u001b[0m \u001b[1;33m>\u001b[0m \u001b[1;36m1\u001b[0m\u001b[1;33m:\u001b[0m\u001b[1;33m\u001b[0m\u001b[1;33m\u001b[0m\u001b[0m\n\u001b[0;32m   3504\u001b[0m                 \u001b[1;32mreturn\u001b[0m \u001b[0mself\u001b[0m\u001b[1;33m.\u001b[0m\u001b[0m_getitem_multilevel\u001b[0m\u001b[1;33m(\u001b[0m\u001b[0mkey\u001b[0m\u001b[1;33m)\u001b[0m\u001b[1;33m\u001b[0m\u001b[1;33m\u001b[0m\u001b[0m\n\u001b[1;32m-> 3505\u001b[1;33m             \u001b[0mindexer\u001b[0m \u001b[1;33m=\u001b[0m \u001b[0mself\u001b[0m\u001b[1;33m.\u001b[0m\u001b[0mcolumns\u001b[0m\u001b[1;33m.\u001b[0m\u001b[0mget_loc\u001b[0m\u001b[1;33m(\u001b[0m\u001b[0mkey\u001b[0m\u001b[1;33m)\u001b[0m\u001b[1;33m\u001b[0m\u001b[1;33m\u001b[0m\u001b[0m\n\u001b[0m\u001b[0;32m   3506\u001b[0m             \u001b[1;32mif\u001b[0m \u001b[0mis_integer\u001b[0m\u001b[1;33m(\u001b[0m\u001b[0mindexer\u001b[0m\u001b[1;33m)\u001b[0m\u001b[1;33m:\u001b[0m\u001b[1;33m\u001b[0m\u001b[1;33m\u001b[0m\u001b[0m\n\u001b[0;32m   3507\u001b[0m                 \u001b[0mindexer\u001b[0m \u001b[1;33m=\u001b[0m \u001b[1;33m[\u001b[0m\u001b[0mindexer\u001b[0m\u001b[1;33m]\u001b[0m\u001b[1;33m\u001b[0m\u001b[1;33m\u001b[0m\u001b[0m\n",
            "\u001b[1;32mc:\\Users\\Mikkel\\anaconda3\\lib\\site-packages\\pandas\\core\\indexes\\base.py\u001b[0m in \u001b[0;36mget_loc\u001b[1;34m(self, key, method, tolerance)\u001b[0m\n\u001b[0;32m   3629\u001b[0m                 \u001b[1;32mreturn\u001b[0m \u001b[0mself\u001b[0m\u001b[1;33m.\u001b[0m\u001b[0m_engine\u001b[0m\u001b[1;33m.\u001b[0m\u001b[0mget_loc\u001b[0m\u001b[1;33m(\u001b[0m\u001b[0mcasted_key\u001b[0m\u001b[1;33m)\u001b[0m\u001b[1;33m\u001b[0m\u001b[1;33m\u001b[0m\u001b[0m\n\u001b[0;32m   3630\u001b[0m             \u001b[1;32mexcept\u001b[0m \u001b[0mKeyError\u001b[0m \u001b[1;32mas\u001b[0m \u001b[0merr\u001b[0m\u001b[1;33m:\u001b[0m\u001b[1;33m\u001b[0m\u001b[1;33m\u001b[0m\u001b[0m\n\u001b[1;32m-> 3631\u001b[1;33m                 \u001b[1;32mraise\u001b[0m \u001b[0mKeyError\u001b[0m\u001b[1;33m(\u001b[0m\u001b[0mkey\u001b[0m\u001b[1;33m)\u001b[0m \u001b[1;32mfrom\u001b[0m \u001b[0merr\u001b[0m\u001b[1;33m\u001b[0m\u001b[1;33m\u001b[0m\u001b[0m\n\u001b[0m\u001b[0;32m   3632\u001b[0m             \u001b[1;32mexcept\u001b[0m \u001b[0mTypeError\u001b[0m\u001b[1;33m:\u001b[0m\u001b[1;33m\u001b[0m\u001b[1;33m\u001b[0m\u001b[0m\n\u001b[0;32m   3633\u001b[0m                 \u001b[1;31m# If we have a listlike key, _check_indexing_error will raise\u001b[0m\u001b[1;33m\u001b[0m\u001b[1;33m\u001b[0m\u001b[0m\n",
            "\u001b[1;31mKeyError\u001b[0m: 'year'"
          ]
        }
      ],
      "source": [
        "Country_shares = {\n",
        "    'Europe': [],\n",
        "    'China': [],\n",
        "    'USA': [],\n",
        "    'Other': []\n",
        "}\n",
        "#& (df_dataset['Market share'] != 0)\n",
        "for Country in Country_shares.keys():\n",
        "    for year in years:\n",
        "        Country_df = df_dataset[(df_dataset[Country] == 1) & (df_dataset['year'] == year)]\n",
        "        if not Country_df.empty:\n",
        "            Country_shares[Country].append(Country_df['Market share'].sum())\n",
        "#print(Country_shares)\n",
        "\n",
        "\n"
      ]
    },
    {
      "cell_type": "code",
      "execution_count": 32,
      "metadata": {},
      "outputs": [
        {
          "ename": "ValueError",
          "evalue": "x and y must have same first dimension, but have shapes (11,) and (0,)",
          "output_type": "error",
          "traceback": [
            "\u001b[1;31m---------------------------------------------------------------------------\u001b[0m",
            "\u001b[1;31mValueError\u001b[0m                                Traceback (most recent call last)",
            "\u001b[1;32m~\\AppData\\Local\\Temp\\ipykernel_13440\\187561090.py\u001b[0m in \u001b[0;36m<module>\u001b[1;34m\u001b[0m\n\u001b[0;32m     15\u001b[0m \u001b[1;31m#plt.figure(figsize=(12, 6))\u001b[0m\u001b[1;33m\u001b[0m\u001b[1;33m\u001b[0m\u001b[0m\n\u001b[0;32m     16\u001b[0m \u001b[1;32mfor\u001b[0m \u001b[0mCountry\u001b[0m \u001b[1;32min\u001b[0m \u001b[0mCountry_shares\u001b[0m\u001b[1;33m.\u001b[0m\u001b[0mkeys\u001b[0m\u001b[1;33m(\u001b[0m\u001b[1;33m)\u001b[0m\u001b[1;33m:\u001b[0m\u001b[1;33m\u001b[0m\u001b[1;33m\u001b[0m\u001b[0m\n\u001b[1;32m---> 17\u001b[1;33m     \u001b[0mplt\u001b[0m\u001b[1;33m.\u001b[0m\u001b[0mplot\u001b[0m\u001b[1;33m(\u001b[0m\u001b[0myears\u001b[0m\u001b[1;33m,\u001b[0m \u001b[0mCountry_shares\u001b[0m\u001b[1;33m[\u001b[0m\u001b[0mCountry\u001b[0m\u001b[1;33m]\u001b[0m\u001b[1;33m)\u001b[0m\u001b[1;33m\u001b[0m\u001b[1;33m\u001b[0m\u001b[0m\n\u001b[0m\u001b[0;32m     18\u001b[0m \u001b[0mplt\u001b[0m\u001b[1;33m.\u001b[0m\u001b[0mlegend\u001b[0m\u001b[1;33m(\u001b[0m\u001b[1;33m[\u001b[0m\u001b[1;34m'EU'\u001b[0m\u001b[1;33m,\u001b[0m \u001b[1;34m'China'\u001b[0m\u001b[1;33m,\u001b[0m \u001b[1;34m'USA'\u001b[0m\u001b[1;33m,\u001b[0m \u001b[1;34m'Other'\u001b[0m\u001b[1;33m]\u001b[0m\u001b[1;33m)\u001b[0m\u001b[1;33m\u001b[0m\u001b[1;33m\u001b[0m\u001b[0m\n\u001b[0;32m     19\u001b[0m \u001b[0mplt\u001b[0m\u001b[1;33m.\u001b[0m\u001b[0mxlabel\u001b[0m\u001b[1;33m(\u001b[0m\u001b[1;34m'Years'\u001b[0m\u001b[1;33m)\u001b[0m\u001b[1;33m\u001b[0m\u001b[1;33m\u001b[0m\u001b[0m\n",
            "\u001b[1;32mc:\\Users\\Mikkel\\anaconda3\\lib\\site-packages\\matplotlib\\pyplot.py\u001b[0m in \u001b[0;36mplot\u001b[1;34m(scalex, scaley, data, *args, **kwargs)\u001b[0m\n\u001b[0;32m   2767\u001b[0m \u001b[1;33m@\u001b[0m\u001b[0m_copy_docstring_and_deprecators\u001b[0m\u001b[1;33m(\u001b[0m\u001b[0mAxes\u001b[0m\u001b[1;33m.\u001b[0m\u001b[0mplot\u001b[0m\u001b[1;33m)\u001b[0m\u001b[1;33m\u001b[0m\u001b[1;33m\u001b[0m\u001b[0m\n\u001b[0;32m   2768\u001b[0m \u001b[1;32mdef\u001b[0m \u001b[0mplot\u001b[0m\u001b[1;33m(\u001b[0m\u001b[1;33m*\u001b[0m\u001b[0margs\u001b[0m\u001b[1;33m,\u001b[0m \u001b[0mscalex\u001b[0m\u001b[1;33m=\u001b[0m\u001b[1;32mTrue\u001b[0m\u001b[1;33m,\u001b[0m \u001b[0mscaley\u001b[0m\u001b[1;33m=\u001b[0m\u001b[1;32mTrue\u001b[0m\u001b[1;33m,\u001b[0m \u001b[0mdata\u001b[0m\u001b[1;33m=\u001b[0m\u001b[1;32mNone\u001b[0m\u001b[1;33m,\u001b[0m \u001b[1;33m**\u001b[0m\u001b[0mkwargs\u001b[0m\u001b[1;33m)\u001b[0m\u001b[1;33m:\u001b[0m\u001b[1;33m\u001b[0m\u001b[1;33m\u001b[0m\u001b[0m\n\u001b[1;32m-> 2769\u001b[1;33m     return gca().plot(\n\u001b[0m\u001b[0;32m   2770\u001b[0m         \u001b[1;33m*\u001b[0m\u001b[0margs\u001b[0m\u001b[1;33m,\u001b[0m \u001b[0mscalex\u001b[0m\u001b[1;33m=\u001b[0m\u001b[0mscalex\u001b[0m\u001b[1;33m,\u001b[0m \u001b[0mscaley\u001b[0m\u001b[1;33m=\u001b[0m\u001b[0mscaley\u001b[0m\u001b[1;33m,\u001b[0m\u001b[1;33m\u001b[0m\u001b[1;33m\u001b[0m\u001b[0m\n\u001b[0;32m   2771\u001b[0m         **({\"data\": data} if data is not None else {}), **kwargs)\n",
            "\u001b[1;32mc:\\Users\\Mikkel\\anaconda3\\lib\\site-packages\\matplotlib\\axes\\_axes.py\u001b[0m in \u001b[0;36mplot\u001b[1;34m(self, scalex, scaley, data, *args, **kwargs)\u001b[0m\n\u001b[0;32m   1630\u001b[0m         \"\"\"\n\u001b[0;32m   1631\u001b[0m         \u001b[0mkwargs\u001b[0m \u001b[1;33m=\u001b[0m \u001b[0mcbook\u001b[0m\u001b[1;33m.\u001b[0m\u001b[0mnormalize_kwargs\u001b[0m\u001b[1;33m(\u001b[0m\u001b[0mkwargs\u001b[0m\u001b[1;33m,\u001b[0m \u001b[0mmlines\u001b[0m\u001b[1;33m.\u001b[0m\u001b[0mLine2D\u001b[0m\u001b[1;33m)\u001b[0m\u001b[1;33m\u001b[0m\u001b[1;33m\u001b[0m\u001b[0m\n\u001b[1;32m-> 1632\u001b[1;33m         \u001b[0mlines\u001b[0m \u001b[1;33m=\u001b[0m \u001b[1;33m[\u001b[0m\u001b[1;33m*\u001b[0m\u001b[0mself\u001b[0m\u001b[1;33m.\u001b[0m\u001b[0m_get_lines\u001b[0m\u001b[1;33m(\u001b[0m\u001b[1;33m*\u001b[0m\u001b[0margs\u001b[0m\u001b[1;33m,\u001b[0m \u001b[0mdata\u001b[0m\u001b[1;33m=\u001b[0m\u001b[0mdata\u001b[0m\u001b[1;33m,\u001b[0m \u001b[1;33m**\u001b[0m\u001b[0mkwargs\u001b[0m\u001b[1;33m)\u001b[0m\u001b[1;33m]\u001b[0m\u001b[1;33m\u001b[0m\u001b[1;33m\u001b[0m\u001b[0m\n\u001b[0m\u001b[0;32m   1633\u001b[0m         \u001b[1;32mfor\u001b[0m \u001b[0mline\u001b[0m \u001b[1;32min\u001b[0m \u001b[0mlines\u001b[0m\u001b[1;33m:\u001b[0m\u001b[1;33m\u001b[0m\u001b[1;33m\u001b[0m\u001b[0m\n\u001b[0;32m   1634\u001b[0m             \u001b[0mself\u001b[0m\u001b[1;33m.\u001b[0m\u001b[0madd_line\u001b[0m\u001b[1;33m(\u001b[0m\u001b[0mline\u001b[0m\u001b[1;33m)\u001b[0m\u001b[1;33m\u001b[0m\u001b[1;33m\u001b[0m\u001b[0m\n",
            "\u001b[1;32mc:\\Users\\Mikkel\\anaconda3\\lib\\site-packages\\matplotlib\\axes\\_base.py\u001b[0m in \u001b[0;36m__call__\u001b[1;34m(self, data, *args, **kwargs)\u001b[0m\n\u001b[0;32m    310\u001b[0m                 \u001b[0mthis\u001b[0m \u001b[1;33m+=\u001b[0m \u001b[0margs\u001b[0m\u001b[1;33m[\u001b[0m\u001b[1;36m0\u001b[0m\u001b[1;33m]\u001b[0m\u001b[1;33m,\u001b[0m\u001b[1;33m\u001b[0m\u001b[1;33m\u001b[0m\u001b[0m\n\u001b[0;32m    311\u001b[0m                 \u001b[0margs\u001b[0m \u001b[1;33m=\u001b[0m \u001b[0margs\u001b[0m\u001b[1;33m[\u001b[0m\u001b[1;36m1\u001b[0m\u001b[1;33m:\u001b[0m\u001b[1;33m]\u001b[0m\u001b[1;33m\u001b[0m\u001b[1;33m\u001b[0m\u001b[0m\n\u001b[1;32m--> 312\u001b[1;33m             \u001b[1;32myield\u001b[0m \u001b[1;32mfrom\u001b[0m \u001b[0mself\u001b[0m\u001b[1;33m.\u001b[0m\u001b[0m_plot_args\u001b[0m\u001b[1;33m(\u001b[0m\u001b[0mthis\u001b[0m\u001b[1;33m,\u001b[0m \u001b[0mkwargs\u001b[0m\u001b[1;33m)\u001b[0m\u001b[1;33m\u001b[0m\u001b[1;33m\u001b[0m\u001b[0m\n\u001b[0m\u001b[0;32m    313\u001b[0m \u001b[1;33m\u001b[0m\u001b[0m\n\u001b[0;32m    314\u001b[0m     \u001b[1;32mdef\u001b[0m \u001b[0mget_next_color\u001b[0m\u001b[1;33m(\u001b[0m\u001b[0mself\u001b[0m\u001b[1;33m)\u001b[0m\u001b[1;33m:\u001b[0m\u001b[1;33m\u001b[0m\u001b[1;33m\u001b[0m\u001b[0m\n",
            "\u001b[1;32mc:\\Users\\Mikkel\\anaconda3\\lib\\site-packages\\matplotlib\\axes\\_base.py\u001b[0m in \u001b[0;36m_plot_args\u001b[1;34m(self, tup, kwargs, return_kwargs)\u001b[0m\n\u001b[0;32m    496\u001b[0m \u001b[1;33m\u001b[0m\u001b[0m\n\u001b[0;32m    497\u001b[0m         \u001b[1;32mif\u001b[0m \u001b[0mx\u001b[0m\u001b[1;33m.\u001b[0m\u001b[0mshape\u001b[0m\u001b[1;33m[\u001b[0m\u001b[1;36m0\u001b[0m\u001b[1;33m]\u001b[0m \u001b[1;33m!=\u001b[0m \u001b[0my\u001b[0m\u001b[1;33m.\u001b[0m\u001b[0mshape\u001b[0m\u001b[1;33m[\u001b[0m\u001b[1;36m0\u001b[0m\u001b[1;33m]\u001b[0m\u001b[1;33m:\u001b[0m\u001b[1;33m\u001b[0m\u001b[1;33m\u001b[0m\u001b[0m\n\u001b[1;32m--> 498\u001b[1;33m             raise ValueError(f\"x and y must have same first dimension, but \"\n\u001b[0m\u001b[0;32m    499\u001b[0m                              f\"have shapes {x.shape} and {y.shape}\")\n\u001b[0;32m    500\u001b[0m         \u001b[1;32mif\u001b[0m \u001b[0mx\u001b[0m\u001b[1;33m.\u001b[0m\u001b[0mndim\u001b[0m \u001b[1;33m>\u001b[0m \u001b[1;36m2\u001b[0m \u001b[1;32mor\u001b[0m \u001b[0my\u001b[0m\u001b[1;33m.\u001b[0m\u001b[0mndim\u001b[0m \u001b[1;33m>\u001b[0m \u001b[1;36m2\u001b[0m\u001b[1;33m:\u001b[0m\u001b[1;33m\u001b[0m\u001b[1;33m\u001b[0m\u001b[0m\n",
            "\u001b[1;31mValueError\u001b[0m: x and y must have same first dimension, but have shapes (11,) and (0,)"
          ]
        },
        {
          "data": {
            "image/png": "[encoded data removed]",
            "text/plain": [
              "<Figure size 640x480 with 1 Axes>"
            ]
          },
          "metadata": {},
          "output_type": "display_data"
        }
      ],
      "source": [
        "'''\n",
        "Done\n",
        "Hvem har størst market share? \n",
        "Pris mod market share\n",
        "Pris/HP\n",
        "Pris/Range\n",
        "Hvordan ser det ud for kinesere isoleret?\n",
        "Kinesere vs resten\n",
        "\n",
        "Yet to come\n",
        "Størst udvikling i market share?\n",
        "'''\n",
        "\n",
        "#Market share over time\n",
        "#plt.figure(figsize=(12, 6))\n",
        "for Country in Country_shares.keys():\n",
        "    plt.plot(years, Country_shares[Country])\n",
        "plt.legend(['EU', 'China', 'USA', 'Other'])\n",
        "plt.xlabel('Years')\n",
        "plt.ylabel('Market share')\n",
        "plt.title('Market share over time')\n",
        "plt.show()\n",
        "\n",
        "#Pris mod market share\n",
        "# x = pris, y = Count\n",
        "#plt.scatter(x,y)\n",
        "#Kun for de 5 med højest Count\n",
        "mængde = 100\n",
        "# Pris/Market Share\n",
        "plt.scatter(df_overview.Price[len(df_overview)-mængde:], df_overview.Share[len(df_overview)-mængde:])\n",
        "plt.title('Pris mod market share')\n",
        "plt.xlabel('Pris(100k)')\n",
        "plt.ylabel('Market Share')\n",
        "plt.show()\n",
        "\n",
        "# Pris/HP\n",
        "plt.scatter(df_overview.Price[len(df_overview)-mængde:], df_overview.HP[len(df_overview)-mængde:])\n",
        "plt.title('Pris/HP')\n",
        "plt.xlabel('Pris')\n",
        "plt.ylabel('HP')\n",
        "plt.show()\n",
        "\n",
        "# Market share/HP\n",
        "plt.scatter(df_overview.Share[len(df_overview)-mængde:], df_overview.HP[len(df_overview)-mængde:])\n",
        "plt.title('Market share/HP')\n",
        "plt.xlabel('Pris')\n",
        "plt.ylabel('HP')\n",
        "plt.show()\n",
        "\n",
        "#Pris/Range\n",
        "plt.scatter(df_overview.Price[len(df_overview)-mængde:], df_overview.Range[len(df_overview)-mængde:])\n",
        "plt.title('Pris/Range')\n",
        "plt.xlabel('Pris')\n",
        "plt.ylabel('Range')\n",
        "plt.show()\n",
        "\n",
        "#Market share over time\n",
        "plt.plot(years, Country_shares['China'])\n",
        "plt.xlabel('Years')\n",
        "plt.ylabel('Market share')\n",
        "plt.title('China Cars Market Share over Time')\n",
        "plt.show()\n",
        "\n",
        "#Total Cars by Chinese Brand\n",
        "df_china = df_overview[df_overview['China'] == 1]\n",
        "brand_totals = df_china.groupby('Manufacturer')['Count'].sum()\n",
        "\n",
        "plt.bar(brand_totals.index, brand_totals.values)\n",
        "plt.title('Total Cars by Chinese Brand')\n",
        "plt.xlabel('Manufacturer')\n",
        "plt.ylabel('Total Cars')\n",
        "plt.xticks(rotation=90)\n",
        "plt.show()\n",
        "\n",
        "#Kinesere by brands\n",
        "df_china = df_overview[df_overview['China'] == 1]\n",
        "\n",
        "total_kina = df_china['Count'].sum() #Alle kinesere (samlet)\n",
        "plt.bar('Total Kina', total_kina)\n",
        "plt.title('Total Cars by Chinese Brands')\n",
        "\n",
        "\n",
        "#Alle ikke CH-brands mod total CH. \n",
        "df_not_china = df_overview[df_overview['China'] == 0]\n",
        "not_china_totals = df_not_china.groupby('Manufacturer')['Count'].sum() #Alle ikke kinesere(unikke)\n",
        "sorted_not_china_totals = not_china_totals.sort_values(ascending=False)\n",
        "\n",
        "for i, (brand, total) in enumerate(sorted_not_china_totals.items()):\n",
        "    plt.bar(brand, total, label=brand)\n",
        "\n",
        "plt.title('Total Cars by Brand')\n",
        "plt.xlabel('Brand')\n",
        "plt.ylabel('Total Cars')\n",
        "plt.xticks(rotation=90)\n",
        "plt.show()\n",
        "\n",
        "#Tesla models (Største i EU)\n",
        "df_tesla = df_overview[df_overview['Manufacturer'] == 'Tesla']\n",
        "df_tesla = df_tesla.groupby('Model')['Count'].sum()\n",
        "plt.bar(df_tesla.index, df_tesla.values)\n",
        "plt.title('Tesla Models')\n",
        "plt.show()\n",
        "\n",
        "#MG (største kinesiske mærke i DK)\n",
        "df_mg = df_overview[df_overview['Manufacturer'] == 'MG']\n",
        "df_mg = df_mg.groupby('Model')['Count'].sum()\n",
        "plt.bar(df_mg.index, df_mg.values)\n",
        "plt.title('MG Models')\n",
        "plt.show()\n",
        "\n",
        "#Cars by segment\n",
        "segment_totals = df_overview.groupby('Segment')['Count'].sum()\n",
        "plt.bar(segment_totals.index, segment_totals.values)\n",
        "plt.title('Total Cars by Segment')\n",
        "plt.xlabel('Segment')\n",
        "plt.ylabel('Total Cars')\n",
        "plt.xticks(rotation=90)\n",
        "plt.show()\n",
        "\n",
        "\n"
      ]
    },
    {
      "cell_type": "markdown",
      "metadata": {},
      "source": [
        "# Estimering"
      ]
    },
    {
      "cell_type": "code",
      "execution_count": 22,
      "metadata": {},
      "outputs": [],
      "source": [
        "label_y = 'Market share'\n",
        "label_x = ['Range', 'Price', 'HP', 'ChargeTime', 'China']\n",
        "data_scaled = df_dataset\n",
        "data_scaled['Range'] = data_scaled['Range'] / 100\n",
        "data_scaled['Price'] = data_scaled['Price'] / 100000\n",
        "data_scaled['HP'] = data_scaled['HP'] / 100\n",
        "data_scaled['ChargeTime'] = data_scaled['ChargeTime'] / 100"
      ]
    },
    {
      "cell_type": "markdown",
      "metadata": {},
      "source": [
        "## Standard OLS"
      ]
    },
    {
      "cell_type": "code",
      "execution_count": 19,
      "metadata": {},
      "outputs": [
        {
          "ename": "AssertionError",
          "evalue": "Error: data is not a balanced panel",
          "output_type": "error",
          "traceback": [
            "\u001b[1;31m---------------------------------------------------------------------------\u001b[0m",
            "\u001b[1;31mAssertionError\u001b[0m                            Traceback (most recent call last)",
            "\u001b[1;32m~\\AppData\\Local\\Temp\\ipykernel_13440\\3675589777.py\u001b[0m in \u001b[0;36m<module>\u001b[1;34m\u001b[0m\n\u001b[0;32m      5\u001b[0m \u001b[1;31m#print(\"market share value :\", df['Market share'].size)\u001b[0m\u001b[1;33m\u001b[0m\u001b[1;33m\u001b[0m\u001b[0m\n\u001b[0;32m      6\u001b[0m \u001b[0mT\u001b[0m \u001b[1;33m=\u001b[0m \u001b[0mdata\u001b[0m\u001b[1;33m[\u001b[0m\u001b[1;34m'Year'\u001b[0m\u001b[1;33m]\u001b[0m\u001b[1;33m.\u001b[0m\u001b[0munique\u001b[0m\u001b[1;33m(\u001b[0m\u001b[1;33m)\u001b[0m\u001b[1;33m.\u001b[0m\u001b[0msize\u001b[0m\u001b[1;33m\u001b[0m\u001b[1;33m\u001b[0m\u001b[0m\n\u001b[1;32m----> 7\u001b[1;33m \u001b[1;32massert\u001b[0m \u001b[0mdata\u001b[0m\u001b[1;33m.\u001b[0m\u001b[0mshape\u001b[0m\u001b[1;33m[\u001b[0m\u001b[1;36m0\u001b[0m\u001b[1;33m]\u001b[0m \u001b[1;33m==\u001b[0m \u001b[0mN\u001b[0m\u001b[1;33m*\u001b[0m\u001b[0mT\u001b[0m\u001b[1;33m,\u001b[0m \u001b[1;34mf'Error: data is not a balanced panel'\u001b[0m\u001b[1;33m\u001b[0m\u001b[1;33m\u001b[0m\u001b[0m\n\u001b[0m\u001b[0;32m      8\u001b[0m \u001b[0mprint\u001b[0m\u001b[1;33m(\u001b[0m\u001b[1;34mf'Data has N={N} and T={T} data is = {data.shape[0]}, {N*T}'\u001b[0m\u001b[1;33m)\u001b[0m\u001b[1;33m\u001b[0m\u001b[1;33m\u001b[0m\u001b[0m\n",
            "\u001b[1;31mAssertionError\u001b[0m: Error: data is not a balanced panel"
          ]
        }
      ],
      "source": [
        "#Bruger data hvor ms = 0 er inkluderet\n",
        "data = df_dataset\n",
        "N = data['ID'].unique().size\n",
        "N\n",
        "#print(\"market share value :\", df['Market share'].size)\n",
        "T = data['Year'].unique().size\n",
        "assert data.shape[0] == N*T, f'Error: data is not a balanced panel'\n",
        "print(f'Data has N={N} and T={T} data is = {data.shape[0]}, {N*T}')"
      ]
    },
    {
      "cell_type": "code",
      "execution_count": 20,
      "metadata": {},
      "outputs": [
        {
          "ename": "ValueError",
          "evalue": "cannot reshape array of size 1197 into shape (1199,1)",
          "output_type": "error",
          "traceback": [
            "\u001b[1;31m---------------------------------------------------------------------------\u001b[0m",
            "\u001b[1;31mValueError\u001b[0m                                Traceback (most recent call last)",
            "\u001b[1;32m~\\AppData\\Local\\Temp\\ipykernel_13440\\4055427480.py\u001b[0m in \u001b[0;36m<module>\u001b[1;34m\u001b[0m\n\u001b[0;32m      1\u001b[0m \u001b[1;31m#Bruger data hvor ms = 0 er inkluderet\u001b[0m\u001b[1;33m\u001b[0m\u001b[1;33m\u001b[0m\u001b[0m\n\u001b[0;32m      2\u001b[0m \u001b[0mN\u001b[0m\u001b[1;33m\u001b[0m\u001b[1;33m\u001b[0m\u001b[0m\n\u001b[1;32m----> 3\u001b[1;33m \u001b[0my\u001b[0m \u001b[1;33m=\u001b[0m \u001b[0mdf_dataset\u001b[0m\u001b[1;33m[\u001b[0m\u001b[1;34m'Market share'\u001b[0m\u001b[1;33m]\u001b[0m\u001b[1;33m.\u001b[0m\u001b[0mvalues\u001b[0m\u001b[1;33m.\u001b[0m\u001b[0mreshape\u001b[0m\u001b[1;33m(\u001b[0m\u001b[1;33m(\u001b[0m\u001b[0mN\u001b[0m\u001b[1;33m*\u001b[0m\u001b[0mT\u001b[0m\u001b[1;33m,\u001b[0m\u001b[1;36m1\u001b[0m\u001b[1;33m)\u001b[0m\u001b[1;33m)\u001b[0m\u001b[1;33m\u001b[0m\u001b[1;33m\u001b[0m\u001b[0m\n\u001b[0m\u001b[0;32m      4\u001b[0m \u001b[0mones\u001b[0m \u001b[1;33m=\u001b[0m \u001b[0mnp\u001b[0m\u001b[1;33m.\u001b[0m\u001b[0mones\u001b[0m\u001b[1;33m(\u001b[0m\u001b[1;33m(\u001b[0m\u001b[0mN\u001b[0m\u001b[1;33m*\u001b[0m\u001b[0mT\u001b[0m\u001b[1;33m,\u001b[0m\u001b[1;36m1\u001b[0m\u001b[1;33m)\u001b[0m\u001b[1;33m)\u001b[0m\u001b[1;33m\u001b[0m\u001b[1;33m\u001b[0m\u001b[0m\n\u001b[0;32m      5\u001b[0m \u001b[0mRange\u001b[0m \u001b[1;33m=\u001b[0m \u001b[0mdf_dataset\u001b[0m\u001b[1;33m[\u001b[0m\u001b[1;34m'Range'\u001b[0m\u001b[1;33m]\u001b[0m\u001b[1;33m.\u001b[0m\u001b[0mvalues\u001b[0m\u001b[1;33m.\u001b[0m\u001b[0mreshape\u001b[0m\u001b[1;33m(\u001b[0m\u001b[1;33m(\u001b[0m\u001b[0mN\u001b[0m\u001b[1;33m*\u001b[0m\u001b[0mT\u001b[0m\u001b[1;33m,\u001b[0m\u001b[1;36m1\u001b[0m\u001b[1;33m)\u001b[0m\u001b[1;33m)\u001b[0m \u001b[1;31m#1\u001b[0m\u001b[1;33m\u001b[0m\u001b[1;33m\u001b[0m\u001b[0m\n",
            "\u001b[1;31mValueError\u001b[0m: cannot reshape array of size 1197 into shape (1199,1)"
          ]
        }
      ],
      "source": [
        "#Bruger data hvor ms = 0 er inkluderet\n",
        "N\n",
        "y = df_dataset['Market share'].values.reshape((N*T,1))\n",
        "ones = np.ones((N*T,1))\n",
        "Range = df_dataset['Range'].values.reshape((N*T,1)) #1\n",
        "Price = df_dataset['Price'].values.reshape((N*T,1)) #2\n",
        "HP = df_dataset['HP'].values.reshape((N*T,1)) #3\n",
        "ChargeTime = df_dataset['ChargeTime'].values.reshape((N*T,1))  #4\n",
        "China = df_dataset['China'].values.reshape((N*T,1)) #5\n",
        "\n",
        "X = np.hstack([ones, Range, Price, HP, ChargeTime, China])\n",
        "#print(f' y \\n {y[:2]} \\n ones: \\n {ones[:2]} \\n X: {X[:2]} \\n {X.size} \\n')"
      ]
    },
    {
      "cell_type": "code",
      "execution_count": 21,
      "metadata": {},
      "outputs": [
        {
          "ename": "NameError",
          "evalue": "name 'y' is not defined",
          "output_type": "error",
          "traceback": [
            "\u001b[1;31m---------------------------------------------------------------------------\u001b[0m",
            "\u001b[1;31mNameError\u001b[0m                                 Traceback (most recent call last)",
            "\u001b[1;32m~\\AppData\\Local\\Temp\\ipykernel_13440\\4065654464.py\u001b[0m in \u001b[0;36m<module>\u001b[1;34m\u001b[0m\n\u001b[0;32m      1\u001b[0m \u001b[1;31m#OLS estimation\u001b[0m\u001b[1;33m\u001b[0m\u001b[1;33m\u001b[0m\u001b[0m\n\u001b[1;32m----> 2\u001b[1;33m \u001b[0mmodel\u001b[0m \u001b[1;33m=\u001b[0m \u001b[0msm\u001b[0m\u001b[1;33m.\u001b[0m\u001b[0mOLS\u001b[0m\u001b[1;33m(\u001b[0m\u001b[0my\u001b[0m\u001b[1;33m,\u001b[0m \u001b[0mX\u001b[0m\u001b[1;33m)\u001b[0m\u001b[1;33m\u001b[0m\u001b[1;33m\u001b[0m\u001b[0m\n\u001b[0m\u001b[0;32m      3\u001b[0m \u001b[0mresults\u001b[0m \u001b[1;33m=\u001b[0m \u001b[0mmodel\u001b[0m\u001b[1;33m.\u001b[0m\u001b[0mfit\u001b[0m\u001b[1;33m(\u001b[0m\u001b[0mcov_type\u001b[0m\u001b[1;33m=\u001b[0m\u001b[1;34m'HC3'\u001b[0m\u001b[1;33m)\u001b[0m\u001b[1;33m\u001b[0m\u001b[1;33m\u001b[0m\u001b[0m\n\u001b[0;32m      4\u001b[0m \u001b[0mprint\u001b[0m\u001b[1;33m(\u001b[0m\u001b[0mresults\u001b[0m\u001b[1;33m.\u001b[0m\u001b[0msummary\u001b[0m\u001b[1;33m(\u001b[0m\u001b[0mxname\u001b[0m\u001b[1;33m=\u001b[0m\u001b[1;33m[\u001b[0m\u001b[1;34m'const'\u001b[0m\u001b[1;33m,\u001b[0m \u001b[1;34m'Range'\u001b[0m\u001b[1;33m,\u001b[0m \u001b[1;34m'Price'\u001b[0m\u001b[1;33m,\u001b[0m \u001b[1;34m'HP'\u001b[0m\u001b[1;33m,\u001b[0m \u001b[1;34m'ChargeTime'\u001b[0m\u001b[1;33m,\u001b[0m \u001b[1;34m'China'\u001b[0m\u001b[1;33m]\u001b[0m\u001b[1;33m,\u001b[0m \u001b[0myname\u001b[0m\u001b[1;33m=\u001b[0m\u001b[1;34m'Market share'\u001b[0m\u001b[1;33m)\u001b[0m\u001b[1;33m)\u001b[0m\u001b[1;33m\u001b[0m\u001b[1;33m\u001b[0m\u001b[0m\n",
            "\u001b[1;31mNameError\u001b[0m: name 'y' is not defined"
          ]
        }
      ],
      "source": [
        "#OLS estimation\n",
        "model = sm.OLS(y, X)\n",
        "results = model.fit(cov_type='HC3')\n",
        "print(results.summary(xname=['const', 'Range', 'Price', 'HP', 'ChargeTime', 'China'], yname='Market share'))\n"
      ]
    },
    {
      "cell_type": "code",
      "execution_count": null,
      "metadata": {},
      "outputs": [
        {
          "name": "stdout",
          "output_type": "stream",
          "text": [
            "Data has N=102 and T=1 data is = 102, 102\n",
            "                            OLS Regression Results                            \n",
            "==============================================================================\n",
            "Dep. Variable:           Market share   R-squared:                       0.069\n",
            "Model:                            OLS   Adj. R-squared:                  0.020\n",
            "Method:                 Least Squares   F-statistic:                     2.916\n",
            "Date:                Wed, 06 Mar 2024   Prob (F-statistic):             0.0171\n",
            "Time:                        12:57:04   Log-Likelihood:                 217.42\n",
            "No. Observations:                 102   AIC:                            -422.8\n",
            "Df Residuals:                      96   BIC:                            -407.1\n",
            "Df Model:                           5                                         \n",
            "Covariance Type:                  HC3                                         \n",
            "==============================================================================\n",
            "                 coef    std err          z      P>|z|      [0.025      0.975]\n",
            "------------------------------------------------------------------------------\n",
            "const         -0.0011      0.008     -0.139      0.890      -0.016       0.014\n",
            "Range       3.662e-05   3.02e-05      1.212      0.225   -2.26e-05    9.58e-05\n",
            "Price      -2.067e-09   3.66e-08     -0.056      0.955   -7.38e-08    6.97e-08\n",
            "HP          2.068e-05   5.51e-05      0.375      0.707   -8.73e-05       0.000\n",
            "ChargeTime    -0.0002      0.000     -1.144      0.253      -0.001       0.000\n",
            "China         -0.0109      0.009     -1.161      0.246      -0.029       0.007\n",
            "==============================================================================\n",
            "Omnibus:                      191.224   Durbin-Watson:                   0.697\n",
            "Prob(Omnibus):                  0.000   Jarque-Bera (JB):            20660.465\n",
            "Skew:                           7.720   Prob(JB):                         0.00\n",
            "Kurtosis:                      70.992   Cond. No.                     5.59e+06\n",
            "==============================================================================\n",
            "\n",
            "Notes:\n",
            "[1] Standard Errors are heteroscedasticity robust (HC3)\n",
            "[2] The condition number is large, 5.59e+06. This might indicate that there are\n",
            "strong multicollinearity or other numerical problems.\n"
          ]
        }
      ],
      "source": [
        "#Bruger data hvor ms = 0 er ekskluderet\n",
        "data = df_dataset_year_ms0[2023]\n",
        "\n",
        "N = data['ID'].unique().size\n",
        "#print(\"market share value :\", df['Market share'].size)\n",
        "T = data['year'].unique().size\n",
        "assert data.shape[0] == N*T, f'Error: data is not a balanced panel'\n",
        "print(f'Data has N={N} and T={T} data is = {data.shape[0]}, {N*T}')\n",
        "\n",
        "y = data['Market share'].values.reshape((N*T,1))\n",
        "ones = np.ones((N*T,1))\n",
        "Range = data['Range'].values.reshape((N*T,1)) #1\n",
        "Price = data['Price'].values.reshape((N*T,1)) #2\n",
        "HP = data['HP'].values.reshape((N*T,1)) #3\n",
        "ChargeTime = data['ChargeTime'].values.reshape((N*T,1))  #4\n",
        "China = data['China'].values.reshape((N*T,1)) #5\n",
        "X = np.hstack([ones, Range, Price, HP, ChargeTime, China])\n",
        "\n",
        "\n",
        "#OLS estimation\n",
        "model = sm.OLS(y, X)\n",
        "results = model.fit(cov_type='HC3')\n",
        "print(results.summary(xname=['const', 'Range', 'Price', 'HP', 'ChargeTime', 'China'], yname='Market share'))\n"
      ]
    },
    {
      "cell_type": "markdown",
      "metadata": {},
      "source": [
        "## Logit"
      ]
    },
    {
      "cell_type": "code",
      "execution_count": 34,
      "metadata": {},
      "outputs": [
        {
          "ename": "KeyError",
          "evalue": "'year'",
          "output_type": "error",
          "traceback": [
            "\u001b[1;31m---------------------------------------------------------------------------\u001b[0m",
            "\u001b[1;31mKeyError\u001b[0m                                  Traceback (most recent call last)",
            "\u001b[1;32mc:\\Users\\Mikkel\\anaconda3\\lib\\site-packages\\pandas\\core\\indexes\\base.py\u001b[0m in \u001b[0;36mget_loc\u001b[1;34m(self, key, method, tolerance)\u001b[0m\n\u001b[0;32m   3628\u001b[0m             \u001b[1;32mtry\u001b[0m\u001b[1;33m:\u001b[0m\u001b[1;33m\u001b[0m\u001b[1;33m\u001b[0m\u001b[0m\n\u001b[1;32m-> 3629\u001b[1;33m                 \u001b[1;32mreturn\u001b[0m \u001b[0mself\u001b[0m\u001b[1;33m.\u001b[0m\u001b[0m_engine\u001b[0m\u001b[1;33m.\u001b[0m\u001b[0mget_loc\u001b[0m\u001b[1;33m(\u001b[0m\u001b[0mcasted_key\u001b[0m\u001b[1;33m)\u001b[0m\u001b[1;33m\u001b[0m\u001b[1;33m\u001b[0m\u001b[0m\n\u001b[0m\u001b[0;32m   3630\u001b[0m             \u001b[1;32mexcept\u001b[0m \u001b[0mKeyError\u001b[0m \u001b[1;32mas\u001b[0m \u001b[0merr\u001b[0m\u001b[1;33m:\u001b[0m\u001b[1;33m\u001b[0m\u001b[1;33m\u001b[0m\u001b[0m\n",
            "\u001b[1;32mc:\\Users\\Mikkel\\anaconda3\\lib\\site-packages\\pandas\\_libs\\index.pyx\u001b[0m in \u001b[0;36mpandas._libs.index.IndexEngine.get_loc\u001b[1;34m()\u001b[0m\n",
            "\u001b[1;32mc:\\Users\\Mikkel\\anaconda3\\lib\\site-packages\\pandas\\_libs\\index.pyx\u001b[0m in \u001b[0;36mpandas._libs.index.IndexEngine.get_loc\u001b[1;34m()\u001b[0m\n",
            "\u001b[1;32mpandas\\_libs\\hashtable_class_helper.pxi\u001b[0m in \u001b[0;36mpandas._libs.hashtable.PyObjectHashTable.get_item\u001b[1;34m()\u001b[0m\n",
            "\u001b[1;32mpandas\\_libs\\hashtable_class_helper.pxi\u001b[0m in \u001b[0;36mpandas._libs.hashtable.PyObjectHashTable.get_item\u001b[1;34m()\u001b[0m\n",
            "\u001b[1;31mKeyError\u001b[0m: 'year'",
            "\nThe above exception was the direct cause of the following exception:\n",
            "\u001b[1;31mKeyError\u001b[0m                                  Traceback (most recent call last)",
            "\u001b[1;32m~\\AppData\\Local\\Temp\\ipykernel_13440\\2610371511.py\u001b[0m in \u001b[0;36m<module>\u001b[1;34m\u001b[0m\n\u001b[0;32m      3\u001b[0m \u001b[0mN\u001b[0m \u001b[1;33m=\u001b[0m \u001b[0mdata\u001b[0m\u001b[1;33m[\u001b[0m\u001b[1;34m'ID'\u001b[0m\u001b[1;33m]\u001b[0m\u001b[1;33m.\u001b[0m\u001b[0munique\u001b[0m\u001b[1;33m(\u001b[0m\u001b[1;33m)\u001b[0m\u001b[1;33m.\u001b[0m\u001b[0msize\u001b[0m\u001b[1;33m\u001b[0m\u001b[1;33m\u001b[0m\u001b[0m\n\u001b[0;32m      4\u001b[0m \u001b[1;31m#print(\"market share value :\", df['Market share'].size)\u001b[0m\u001b[1;33m\u001b[0m\u001b[1;33m\u001b[0m\u001b[0m\n\u001b[1;32m----> 5\u001b[1;33m \u001b[0mT\u001b[0m \u001b[1;33m=\u001b[0m \u001b[0mdata\u001b[0m\u001b[1;33m[\u001b[0m\u001b[1;34m'year'\u001b[0m\u001b[1;33m]\u001b[0m\u001b[1;33m.\u001b[0m\u001b[0munique\u001b[0m\u001b[1;33m(\u001b[0m\u001b[1;33m)\u001b[0m\u001b[1;33m.\u001b[0m\u001b[0msize\u001b[0m\u001b[1;33m\u001b[0m\u001b[1;33m\u001b[0m\u001b[0m\n\u001b[0m\u001b[0;32m      6\u001b[0m \u001b[1;32massert\u001b[0m \u001b[0mdata\u001b[0m\u001b[1;33m.\u001b[0m\u001b[0mshape\u001b[0m\u001b[1;33m[\u001b[0m\u001b[1;36m0\u001b[0m\u001b[1;33m]\u001b[0m \u001b[1;33m==\u001b[0m \u001b[0mN\u001b[0m\u001b[1;33m*\u001b[0m\u001b[0mT\u001b[0m\u001b[1;33m,\u001b[0m \u001b[1;34mf'Error: data is not a balanced panel'\u001b[0m\u001b[1;33m\u001b[0m\u001b[1;33m\u001b[0m\u001b[0m\n\u001b[0;32m      7\u001b[0m \u001b[0mprint\u001b[0m\u001b[1;33m(\u001b[0m\u001b[1;34mf'Data has N={N} and T={T} data is = {data.shape[0]}, {N*T}'\u001b[0m\u001b[1;33m)\u001b[0m\u001b[1;33m\u001b[0m\u001b[1;33m\u001b[0m\u001b[0m\n",
            "\u001b[1;32mc:\\Users\\Mikkel\\anaconda3\\lib\\site-packages\\pandas\\core\\frame.py\u001b[0m in \u001b[0;36m__getitem__\u001b[1;34m(self, key)\u001b[0m\n\u001b[0;32m   3503\u001b[0m             \u001b[1;32mif\u001b[0m \u001b[0mself\u001b[0m\u001b[1;33m.\u001b[0m\u001b[0mcolumns\u001b[0m\u001b[1;33m.\u001b[0m\u001b[0mnlevels\u001b[0m \u001b[1;33m>\u001b[0m \u001b[1;36m1\u001b[0m\u001b[1;33m:\u001b[0m\u001b[1;33m\u001b[0m\u001b[1;33m\u001b[0m\u001b[0m\n\u001b[0;32m   3504\u001b[0m                 \u001b[1;32mreturn\u001b[0m \u001b[0mself\u001b[0m\u001b[1;33m.\u001b[0m\u001b[0m_getitem_multilevel\u001b[0m\u001b[1;33m(\u001b[0m\u001b[0mkey\u001b[0m\u001b[1;33m)\u001b[0m\u001b[1;33m\u001b[0m\u001b[1;33m\u001b[0m\u001b[0m\n\u001b[1;32m-> 3505\u001b[1;33m             \u001b[0mindexer\u001b[0m \u001b[1;33m=\u001b[0m \u001b[0mself\u001b[0m\u001b[1;33m.\u001b[0m\u001b[0mcolumns\u001b[0m\u001b[1;33m.\u001b[0m\u001b[0mget_loc\u001b[0m\u001b[1;33m(\u001b[0m\u001b[0mkey\u001b[0m\u001b[1;33m)\u001b[0m\u001b[1;33m\u001b[0m\u001b[1;33m\u001b[0m\u001b[0m\n\u001b[0m\u001b[0;32m   3506\u001b[0m             \u001b[1;32mif\u001b[0m \u001b[0mis_integer\u001b[0m\u001b[1;33m(\u001b[0m\u001b[0mindexer\u001b[0m\u001b[1;33m)\u001b[0m\u001b[1;33m:\u001b[0m\u001b[1;33m\u001b[0m\u001b[1;33m\u001b[0m\u001b[0m\n\u001b[0;32m   3507\u001b[0m                 \u001b[0mindexer\u001b[0m \u001b[1;33m=\u001b[0m \u001b[1;33m[\u001b[0m\u001b[0mindexer\u001b[0m\u001b[1;33m]\u001b[0m\u001b[1;33m\u001b[0m\u001b[1;33m\u001b[0m\u001b[0m\n",
            "\u001b[1;32mc:\\Users\\Mikkel\\anaconda3\\lib\\site-packages\\pandas\\core\\indexes\\base.py\u001b[0m in \u001b[0;36mget_loc\u001b[1;34m(self, key, method, tolerance)\u001b[0m\n\u001b[0;32m   3629\u001b[0m                 \u001b[1;32mreturn\u001b[0m \u001b[0mself\u001b[0m\u001b[1;33m.\u001b[0m\u001b[0m_engine\u001b[0m\u001b[1;33m.\u001b[0m\u001b[0mget_loc\u001b[0m\u001b[1;33m(\u001b[0m\u001b[0mcasted_key\u001b[0m\u001b[1;33m)\u001b[0m\u001b[1;33m\u001b[0m\u001b[1;33m\u001b[0m\u001b[0m\n\u001b[0;32m   3630\u001b[0m             \u001b[1;32mexcept\u001b[0m \u001b[0mKeyError\u001b[0m \u001b[1;32mas\u001b[0m \u001b[0merr\u001b[0m\u001b[1;33m:\u001b[0m\u001b[1;33m\u001b[0m\u001b[1;33m\u001b[0m\u001b[0m\n\u001b[1;32m-> 3631\u001b[1;33m                 \u001b[1;32mraise\u001b[0m \u001b[0mKeyError\u001b[0m\u001b[1;33m(\u001b[0m\u001b[0mkey\u001b[0m\u001b[1;33m)\u001b[0m \u001b[1;32mfrom\u001b[0m \u001b[0merr\u001b[0m\u001b[1;33m\u001b[0m\u001b[1;33m\u001b[0m\u001b[0m\n\u001b[0m\u001b[0;32m   3632\u001b[0m             \u001b[1;32mexcept\u001b[0m \u001b[0mTypeError\u001b[0m\u001b[1;33m:\u001b[0m\u001b[1;33m\u001b[0m\u001b[1;33m\u001b[0m\u001b[0m\n\u001b[0;32m   3633\u001b[0m                 \u001b[1;31m# If we have a listlike key, _check_indexing_error will raise\u001b[0m\u001b[1;33m\u001b[0m\u001b[1;33m\u001b[0m\u001b[0m\n",
            "\u001b[1;31mKeyError\u001b[0m: 'year'"
          ]
        }
      ],
      "source": [
        "#Estimere full sample med logit\n",
        "data = df_dataset\n",
        "N = data['ID'].unique().size\n",
        "#print(\"market share value :\", df['Market share'].size)\n",
        "T = data['year'].unique().size\n",
        "assert data.shape[0] == N*T, f'Error: data is not a balanced panel'\n",
        "print(f'Data has N={N} and T={T} data is = {data.shape[0]}, {N*T}')"
      ]
    },
    {
      "cell_type": "code",
      "execution_count": 25,
      "metadata": {},
      "outputs": [
        {
          "ename": "ValueError",
          "evalue": "cannot reshape array of size 1197 into shape (1199,1)",
          "output_type": "error",
          "traceback": [
            "\u001b[1;31m---------------------------------------------------------------------------\u001b[0m",
            "\u001b[1;31mValueError\u001b[0m                                Traceback (most recent call last)",
            "\u001b[1;32m~\\AppData\\Local\\Temp\\ipykernel_13440\\1571807217.py\u001b[0m in \u001b[0;36m<module>\u001b[1;34m\u001b[0m\n\u001b[0;32m      1\u001b[0m \u001b[1;31m# Sample data generation\u001b[0m\u001b[1;33m\u001b[0m\u001b[1;33m\u001b[0m\u001b[0m\n\u001b[0;32m      2\u001b[0m \u001b[1;33m\u001b[0m\u001b[0m\n\u001b[1;32m----> 3\u001b[1;33m \u001b[0my\u001b[0m \u001b[1;33m=\u001b[0m \u001b[0mdata\u001b[0m\u001b[1;33m[\u001b[0m\u001b[1;34m'Market share'\u001b[0m\u001b[1;33m]\u001b[0m\u001b[1;33m.\u001b[0m\u001b[0mvalues\u001b[0m\u001b[1;33m.\u001b[0m\u001b[0mreshape\u001b[0m\u001b[1;33m(\u001b[0m\u001b[1;33m(\u001b[0m\u001b[0mN\u001b[0m\u001b[1;33m*\u001b[0m\u001b[0mT\u001b[0m\u001b[1;33m,\u001b[0m\u001b[1;36m1\u001b[0m\u001b[1;33m)\u001b[0m\u001b[1;33m)\u001b[0m\u001b[1;33m\u001b[0m\u001b[1;33m\u001b[0m\u001b[0m\n\u001b[0m\u001b[0;32m      4\u001b[0m \u001b[0mones\u001b[0m \u001b[1;33m=\u001b[0m \u001b[0mnp\u001b[0m\u001b[1;33m.\u001b[0m\u001b[0mones\u001b[0m\u001b[1;33m(\u001b[0m\u001b[1;33m(\u001b[0m\u001b[0mN\u001b[0m\u001b[1;33m*\u001b[0m\u001b[0mT\u001b[0m\u001b[1;33m,\u001b[0m\u001b[1;36m1\u001b[0m\u001b[1;33m)\u001b[0m\u001b[1;33m)\u001b[0m\u001b[1;33m\u001b[0m\u001b[1;33m\u001b[0m\u001b[0m\n\u001b[0;32m      5\u001b[0m \u001b[0mRange\u001b[0m \u001b[1;33m=\u001b[0m \u001b[0mdata\u001b[0m\u001b[1;33m[\u001b[0m\u001b[1;34m'Range'\u001b[0m\u001b[1;33m]\u001b[0m\u001b[1;33m.\u001b[0m\u001b[0mvalues\u001b[0m\u001b[1;33m.\u001b[0m\u001b[0mreshape\u001b[0m\u001b[1;33m(\u001b[0m\u001b[1;33m(\u001b[0m\u001b[0mN\u001b[0m\u001b[1;33m*\u001b[0m\u001b[0mT\u001b[0m\u001b[1;33m,\u001b[0m\u001b[1;36m1\u001b[0m\u001b[1;33m)\u001b[0m\u001b[1;33m)\u001b[0m \u001b[1;31m#1\u001b[0m\u001b[1;33m\u001b[0m\u001b[1;33m\u001b[0m\u001b[0m\n",
            "\u001b[1;31mValueError\u001b[0m: cannot reshape array of size 1197 into shape (1199,1)"
          ]
        }
      ],
      "source": [
        "# Sample data generation\n",
        "\n",
        "y = data['Market share'].values.reshape((N*T,1))\n",
        "ones = np.ones((N*T,1))\n",
        "Range = data['Range'].values.reshape((N*T,1)) #1\n",
        "Price = data['Price'].values.reshape((N*T,1)) #2\n",
        "HP = data['HP'].values.reshape((N*T,1)) #3\n",
        "ChargeTime = data['ChargeTime'].values.reshape((N*T,1))  #4\n",
        "China = data['China'].values.reshape((N*T,1)) #5\n",
        "X = np.hstack([ones, Range, Price, HP, ChargeTime, China])\n",
        "\n",
        "\n",
        "# Fit logistic regression model\n",
        "#logit_model = sm.Logit(y, X)\n",
        "#result = logit_model.fit(cov_type = 'HC3')\n",
        "\n",
        "# Display results\n",
        "#print(result.summary(xname=['const', 'Range', 'Price', 'HP', 'ChargeTime', 'China'], yname='Market share'))\n"
      ]
    },
    {
      "cell_type": "markdown",
      "metadata": {},
      "source": [
        "## Conditional Logit"
      ]
    },
    {
      "cell_type": "code",
      "execution_count": 26,
      "metadata": {},
      "outputs": [
        {
          "ename": "KeyError",
          "evalue": "'year'",
          "output_type": "error",
          "traceback": [
            "\u001b[1;31m---------------------------------------------------------------------------\u001b[0m",
            "\u001b[1;31mKeyError\u001b[0m                                  Traceback (most recent call last)",
            "\u001b[1;32mc:\\Users\\Mikkel\\anaconda3\\lib\\site-packages\\pandas\\core\\indexes\\base.py\u001b[0m in \u001b[0;36mget_loc\u001b[1;34m(self, key, method, tolerance)\u001b[0m\n\u001b[0;32m   3628\u001b[0m             \u001b[1;32mtry\u001b[0m\u001b[1;33m:\u001b[0m\u001b[1;33m\u001b[0m\u001b[1;33m\u001b[0m\u001b[0m\n\u001b[1;32m-> 3629\u001b[1;33m                 \u001b[1;32mreturn\u001b[0m \u001b[0mself\u001b[0m\u001b[1;33m.\u001b[0m\u001b[0m_engine\u001b[0m\u001b[1;33m.\u001b[0m\u001b[0mget_loc\u001b[0m\u001b[1;33m(\u001b[0m\u001b[0mcasted_key\u001b[0m\u001b[1;33m)\u001b[0m\u001b[1;33m\u001b[0m\u001b[1;33m\u001b[0m\u001b[0m\n\u001b[0m\u001b[0;32m   3630\u001b[0m             \u001b[1;32mexcept\u001b[0m \u001b[0mKeyError\u001b[0m \u001b[1;32mas\u001b[0m \u001b[0merr\u001b[0m\u001b[1;33m:\u001b[0m\u001b[1;33m\u001b[0m\u001b[1;33m\u001b[0m\u001b[0m\n",
            "\u001b[1;32mc:\\Users\\Mikkel\\anaconda3\\lib\\site-packages\\pandas\\_libs\\index.pyx\u001b[0m in \u001b[0;36mpandas._libs.index.IndexEngine.get_loc\u001b[1;34m()\u001b[0m\n",
            "\u001b[1;32mc:\\Users\\Mikkel\\anaconda3\\lib\\site-packages\\pandas\\_libs\\index.pyx\u001b[0m in \u001b[0;36mpandas._libs.index.IndexEngine.get_loc\u001b[1;34m()\u001b[0m\n",
            "\u001b[1;32mpandas\\_libs\\hashtable_class_helper.pxi\u001b[0m in \u001b[0;36mpandas._libs.hashtable.PyObjectHashTable.get_item\u001b[1;34m()\u001b[0m\n",
            "\u001b[1;32mpandas\\_libs\\hashtable_class_helper.pxi\u001b[0m in \u001b[0;36mpandas._libs.hashtable.PyObjectHashTable.get_item\u001b[1;34m()\u001b[0m\n",
            "\u001b[1;31mKeyError\u001b[0m: 'year'",
            "\nThe above exception was the direct cause of the following exception:\n",
            "\u001b[1;31mKeyError\u001b[0m                                  Traceback (most recent call last)",
            "\u001b[1;32m~\\AppData\\Local\\Temp\\ipykernel_13440\\3235000828.py\u001b[0m in \u001b[0;36m<module>\u001b[1;34m\u001b[0m\n\u001b[0;32m      1\u001b[0m \u001b[0mdata\u001b[0m \u001b[1;33m=\u001b[0m \u001b[0mdf_dataset\u001b[0m\u001b[1;33m\u001b[0m\u001b[1;33m\u001b[0m\u001b[0m\n\u001b[1;32m----> 2\u001b[1;33m \u001b[0mT\u001b[0m \u001b[1;33m=\u001b[0m \u001b[0mdata\u001b[0m\u001b[1;33m[\u001b[0m\u001b[1;34m'year'\u001b[0m\u001b[1;33m]\u001b[0m\u001b[1;33m.\u001b[0m\u001b[0munique\u001b[0m\u001b[1;33m(\u001b[0m\u001b[1;33m)\u001b[0m\u001b[1;33m.\u001b[0m\u001b[0msize\u001b[0m\u001b[1;33m\u001b[0m\u001b[1;33m\u001b[0m\u001b[0m\n\u001b[0m\u001b[0;32m      3\u001b[0m \u001b[0mM\u001b[0m \u001b[1;33m=\u001b[0m \u001b[0mdata\u001b[0m\u001b[1;33m[\u001b[0m\u001b[1;34m'Model'\u001b[0m\u001b[1;33m]\u001b[0m\u001b[1;33m.\u001b[0m\u001b[0munique\u001b[0m\u001b[1;33m(\u001b[0m\u001b[1;33m)\u001b[0m\u001b[1;33m.\u001b[0m\u001b[0msize\u001b[0m\u001b[1;33m\u001b[0m\u001b[1;33m\u001b[0m\u001b[0m\n\u001b[0;32m      4\u001b[0m \u001b[1;31m#print(f'df {data.head(1)}, {data.shape}')\u001b[0m\u001b[1;33m\u001b[0m\u001b[1;33m\u001b[0m\u001b[0m\n\u001b[0;32m      5\u001b[0m \u001b[1;33m\u001b[0m\u001b[0m\n",
            "\u001b[1;32mc:\\Users\\Mikkel\\anaconda3\\lib\\site-packages\\pandas\\core\\frame.py\u001b[0m in \u001b[0;36m__getitem__\u001b[1;34m(self, key)\u001b[0m\n\u001b[0;32m   3503\u001b[0m             \u001b[1;32mif\u001b[0m \u001b[0mself\u001b[0m\u001b[1;33m.\u001b[0m\u001b[0mcolumns\u001b[0m\u001b[1;33m.\u001b[0m\u001b[0mnlevels\u001b[0m \u001b[1;33m>\u001b[0m \u001b[1;36m1\u001b[0m\u001b[1;33m:\u001b[0m\u001b[1;33m\u001b[0m\u001b[1;33m\u001b[0m\u001b[0m\n\u001b[0;32m   3504\u001b[0m                 \u001b[1;32mreturn\u001b[0m \u001b[0mself\u001b[0m\u001b[1;33m.\u001b[0m\u001b[0m_getitem_multilevel\u001b[0m\u001b[1;33m(\u001b[0m\u001b[0mkey\u001b[0m\u001b[1;33m)\u001b[0m\u001b[1;33m\u001b[0m\u001b[1;33m\u001b[0m\u001b[0m\n\u001b[1;32m-> 3505\u001b[1;33m             \u001b[0mindexer\u001b[0m \u001b[1;33m=\u001b[0m \u001b[0mself\u001b[0m\u001b[1;33m.\u001b[0m\u001b[0mcolumns\u001b[0m\u001b[1;33m.\u001b[0m\u001b[0mget_loc\u001b[0m\u001b[1;33m(\u001b[0m\u001b[0mkey\u001b[0m\u001b[1;33m)\u001b[0m\u001b[1;33m\u001b[0m\u001b[1;33m\u001b[0m\u001b[0m\n\u001b[0m\u001b[0;32m   3506\u001b[0m             \u001b[1;32mif\u001b[0m \u001b[0mis_integer\u001b[0m\u001b[1;33m(\u001b[0m\u001b[0mindexer\u001b[0m\u001b[1;33m)\u001b[0m\u001b[1;33m:\u001b[0m\u001b[1;33m\u001b[0m\u001b[1;33m\u001b[0m\u001b[0m\n\u001b[0;32m   3507\u001b[0m                 \u001b[0mindexer\u001b[0m \u001b[1;33m=\u001b[0m \u001b[1;33m[\u001b[0m\u001b[0mindexer\u001b[0m\u001b[1;33m]\u001b[0m\u001b[1;33m\u001b[0m\u001b[1;33m\u001b[0m\u001b[0m\n",
            "\u001b[1;32mc:\\Users\\Mikkel\\anaconda3\\lib\\site-packages\\pandas\\core\\indexes\\base.py\u001b[0m in \u001b[0;36mget_loc\u001b[1;34m(self, key, method, tolerance)\u001b[0m\n\u001b[0;32m   3629\u001b[0m                 \u001b[1;32mreturn\u001b[0m \u001b[0mself\u001b[0m\u001b[1;33m.\u001b[0m\u001b[0m_engine\u001b[0m\u001b[1;33m.\u001b[0m\u001b[0mget_loc\u001b[0m\u001b[1;33m(\u001b[0m\u001b[0mcasted_key\u001b[0m\u001b[1;33m)\u001b[0m\u001b[1;33m\u001b[0m\u001b[1;33m\u001b[0m\u001b[0m\n\u001b[0;32m   3630\u001b[0m             \u001b[1;32mexcept\u001b[0m \u001b[0mKeyError\u001b[0m \u001b[1;32mas\u001b[0m \u001b[0merr\u001b[0m\u001b[1;33m:\u001b[0m\u001b[1;33m\u001b[0m\u001b[1;33m\u001b[0m\u001b[0m\n\u001b[1;32m-> 3631\u001b[1;33m                 \u001b[1;32mraise\u001b[0m \u001b[0mKeyError\u001b[0m\u001b[1;33m(\u001b[0m\u001b[0mkey\u001b[0m\u001b[1;33m)\u001b[0m \u001b[1;32mfrom\u001b[0m \u001b[0merr\u001b[0m\u001b[1;33m\u001b[0m\u001b[1;33m\u001b[0m\u001b[0m\n\u001b[0m\u001b[0;32m   3632\u001b[0m             \u001b[1;32mexcept\u001b[0m \u001b[0mTypeError\u001b[0m\u001b[1;33m:\u001b[0m\u001b[1;33m\u001b[0m\u001b[1;33m\u001b[0m\u001b[0m\n\u001b[0;32m   3633\u001b[0m                 \u001b[1;31m# If we have a listlike key, _check_indexing_error will raise\u001b[0m\u001b[1;33m\u001b[0m\u001b[1;33m\u001b[0m\u001b[0m\n",
            "\u001b[1;31mKeyError\u001b[0m: 'year'"
          ]
        }
      ],
      "source": [
        "\n",
        "data = df_dataset\n",
        "T = data['year'].unique().size\n",
        "M = data['Model'].unique().size\n",
        "#print(f'df {data.head(1)}, {data.shape}')\n",
        "\n",
        "data = np.array(data[['Market share', 'Range', 'Price', 'HP', 'ChargeTime', 'China']])\n",
        "#print(f'\\n \\n data: {data[:2]} \\n shape {data.shape[1]}')\n",
        "V = data.shape[1] - 1\n",
        "\n",
        "y = data[:,0].reshape(M,1, T) #reshape for column vector\n",
        "#print(f' \\n \\n y: {y[:2]} \\n shape {y.shape}')\n",
        "\n",
        "x = data[:,1:].reshape(M, V, T)\n",
        "#print(f' \\n \\n x: {x[:2]} \\n shape {x.shape}')\n",
        "\n",
        "print(f' \\n \\n y shape {y.shape} \\n \\n x shape {x.shape}')"
      ]
    },
    {
      "cell_type": "markdown",
      "metadata": {},
      "source": [
        "# BLP demand side"
      ]
    },
    {
      "cell_type": "code",
      "execution_count": 40,
      "metadata": {},
      "outputs": [
        {
          "name": "stdout",
          "output_type": "stream",
          "text": [
            "Data has N=6 and T=1 data is = 6, 6\n",
            "                            OLS Regression Results                            \n",
            "==============================================================================\n",
            "Dep. Variable:           Market share   R-squared:                       0.110\n",
            "Model:                            OLS   Adj. R-squared:                 -1.226\n",
            "Method:                 Least Squares   F-statistic:                   0.08220\n",
            "Date:                Thu, 07 Mar 2024   Prob (F-statistic):              0.964\n",
            "Time:                        14:47:48   Log-Likelihood:                 2.6013\n",
            "No. Observations:                   6   AIC:                             2.797\n",
            "Df Residuals:                       2   BIC:                             1.965\n",
            "Df Model:                           3                                         \n",
            "Covariance Type:            nonrobust                                         \n",
            "==============================================================================\n",
            "                 coef    std err          t      P>|t|      [0.025      0.975]\n",
            "------------------------------------------------------------------------------\n",
            "Cons           0.0383      0.629      0.061      0.957      -2.666       2.743\n",
            "Price      -2.986e-07   4.19e-06     -0.071      0.950   -1.83e-05    1.77e-05\n",
            "HP             0.0006      0.004      0.147      0.896      -0.016       0.017\n",
            "ChargeTime     0.0022      0.009      0.258      0.821      -0.035       0.040\n",
            "==============================================================================\n",
            "Omnibus:                          nan   Durbin-Watson:                   0.942\n",
            "Prob(Omnibus):                    nan   Jarque-Bera (JB):                1.828\n",
            "Skew:                           1.335   Prob(JB):                        0.401\n",
            "Kurtosis:                       3.431   Cond. No.                     2.00e+06\n",
            "==============================================================================\n",
            "\n",
            "Notes:\n",
            "[1] Standard Errors assume that the covariance matrix of the errors is correctly specified.\n",
            "[2] The condition number is large,  2e+06. This might indicate that there are\n",
            "strong multicollinearity or other numerical problems.\n"
          ]
        },
        {
          "name": "stderr",
          "output_type": "stream",
          "text": [
            "c:\\Users\\Mikkel\\anaconda3\\lib\\site-packages\\statsmodels\\stats\\stattools.py:74: ValueWarning: omni_normtest is not valid with less than 8 observations; 6 samples were given.\n",
            "  warn(\"omni_normtest is not valid with less than 8 observations; %i \"\n"
          ]
        }
      ],
      "source": [
        "\n",
        "#Bruger data hvor ms = 0 er ekskluderet\n",
        "data = df_dataset_year_ms0[2013]\n",
        "\n",
        "#data format\n",
        "xnames = ['Cons', 'Price', 'HP', 'ChargeTime']\n",
        "N = data['ID'].unique().size\n",
        "T = data['Year'].unique().size\n",
        "assert data.shape[0] == N*T, f'Error: data is not a balanced panel'\n",
        "print(f'Data has N={N} and T={T} data is = {data.shape[0]}, {N*T}')\n",
        "\n",
        "\n",
        "#Declare variables\n",
        "y = data['Market share'].values.reshape((N*T,1))\n",
        "ones = np.ones((N*T,1))\n",
        "Price = data['Price'].values.reshape((N*T,1)) #1\n",
        "HP = data['HP'].values.reshape((N*T,1)) #2\n",
        "ChargeTime = data['ChargeTime'].values.reshape((N*T,1))  #3\n",
        "X = np.hstack([ones, Price, HP, ChargeTime])\n",
        "\n",
        "#Estimate with OLS\n",
        "results = fun.est_OLS(y, X, xnames)\n",
        "#fun.logit(y, X, xnames)"
      ]
    },
    {
      "cell_type": "markdown",
      "metadata": {},
      "source": [
        "## $\\textbf{Logit:}$ in market shares"
      ]
    },
    {
      "cell_type": "code",
      "execution_count": 41,
      "metadata": {},
      "outputs": [
        {
          "name": "stdout",
          "output_type": "stream",
          "text": [
            "coefficients: [ 3.82950297e-02 -2.98586623e-07  5.69490295e-04  2.23793862e-03]\n",
            "Car 0: Leaf\n",
            "Car 1: Model S\n",
            "Car 2: Zoe\n",
            "Car 3: up!\n",
            "Car 4: I3\n",
            "Car 5: Fortwo\n"
          ]
        }
      ],
      "source": [
        "coefficients = results.params\n",
        "print(f'coefficients: {coefficients}')\n",
        "coefficients_labels = xnames[1:]\n",
        "\n",
        "model_labels = data['Model'].unique()\n",
        "j = 0\n",
        "for i in model_labels:\n",
        "    j = j\n",
        "    print(f'Car {j}: {i}')\n",
        "    j = j+1  \n",
        "\n",
        "#X skal være [i:i+1,2:] 2: for at fjerne consten og pris\n",
        "#beta skal være [2:] for at fjerne konstant og pris-koefficienten og reshapes for at kunne lave matrixmultiplikaiton. \n",
        "\n",
        "alpha = coefficients[1]\n",
        "beta = coefficients\n",
        "p_j = data['Price'].values.reshape((N*T,1)) "
      ]
    },
    {
      "cell_type": "code",
      "execution_count": 44,
      "metadata": {},
      "outputs": [],
      "source": [
        "def exp_delta(alpha, beta, X, p_j):\n",
        "    s_j = []\n",
        "    exp_s_j = []\n",
        "    for i in range(len(p_j)):\n",
        "        s = alpha*p_j[i] + X[i:i+1,2:]@beta[2:].reshape(-1,1)\n",
        "        s_j.append(s)\n",
        "        \n",
        "    for i in range (len(s_j)):\n",
        "        exp_s_j.append(np.exp(s_j[i]))\n",
        "    return exp_s_j\n",
        "\n",
        "def ccp(alpha, beta, X, p_j):\n",
        "    ccp_list = [] \n",
        "    exp_delta_list = exp_delta(alpha, beta, X, p_j)\n",
        "    sum_exp = np.sum(exp_delta_list)\n",
        "    \n",
        "    for i in range(len(exp_delta_list)):\n",
        "        ccp_list.append(exp_delta_list[i]/sum_exp) \n",
        "    print(f'choice probability sum: {np.sum(ccp_list)} \\n 3 highest probability: {np.sort(ccp_list, axis=0)[-3:]}')\n",
        "    return ccp_list"
      ]
    },
    {
      "cell_type": "code",
      "execution_count": 45,
      "metadata": {},
      "outputs": [
        {
          "name": "stdout",
          "output_type": "stream",
          "text": [
            "choice probability sum: 1.0 \n",
            " 3 highest probability: [[[0.16452744]]\n",
            "\n",
            " [[0.17003726]]\n",
            "\n",
            " [[0.18544787]]]\n"
          ]
        },
        {
          "data": {
            "text/plain": [
              "[array([[0.16243527]]),\n",
              " array([[0.18544787]]),\n",
              " array([[0.17003726]]),\n",
              " array([[0.16202464]]),\n",
              " array([[0.15552753]]),\n",
              " array([[0.16452744]])]"
            ]
          },
          "execution_count": 45,
          "metadata": {},
          "output_type": "execute_result"
        }
      ],
      "source": [
        "fun.ccp(alpha, beta, X, p_j)"
      ]
    },
    {
      "cell_type": "code",
      "execution_count": 46,
      "metadata": {},
      "outputs": [
        {
          "name": "stdout",
          "output_type": "stream",
          "text": [
            "choice probability sum: 1.0 \n",
            " 3 highest probability: [[[0.16452744]]\n",
            "\n",
            " [[0.17003726]]\n",
            "\n",
            " [[0.18544787]]]\n"
          ]
        }
      ],
      "source": [
        "fun.logit(alpha, beta, X, p_j, model_labels, coefficients_labels, coefficients)"
      ]
    },
    {
      "cell_type": "code",
      "execution_count": null,
      "metadata": {},
      "outputs": [
        {
          "name": "stdout",
          "output_type": "stream",
          "text": [
            "Car 0: Leaf\n",
            "Car 1: Model S\n",
            "Car 2: Zoe\n",
            "Car 3: up!\n",
            "Car 4: Fortwo\n",
            "Car 5: I3\n",
            "choice probability sum: 0.9999999999999999 \n",
            " 5 highest probability: [[0.18228852]\n",
            " [0.16951967]\n",
            " [0.16280674]\n",
            " [0.16490926]\n",
            " [0.15732376]] \n",
            " 5 lowest probability: [[0.16315206]\n",
            " [0.18228852]\n",
            " [0.16951967]\n",
            " [0.16280674]\n",
            " [0.16490926]]\n"
          ]
        }
      ],
      "source": [
        "model_labels = data['Model'].unique()\n",
        "j = 0\n",
        "for i in model_labels:\n",
        "    j = j\n",
        "    print(f'Car {j}: {i}')\n",
        "    j = j+1  \n",
        "#exp_delta = fun.exp_delta(alpha, beta, X, p_jt)\n",
        "CCP = fun.ccp(alpha, beta, X, p_j)\n",
        "#prob = fun.probability_ratio(CCP, model_labels, model_labels)\n",
        "#marg_effects = fun.marginal_effects(CCP, model_labels, coefficients_labels, coefficients)\n",
        "#cross_marg_effects = cross_marginal_effects(CCP, model_labels, coefficients_labels, coefficients)\n",
        "#ela = fun.elasticity(CCP, model_labels, coefficients_labels, beta, X) #Egen pris-elasticitet\n",
        "#cross_elasticity = fun.cross_elasticity(CCP, beta, X, model_labels)\n",
        "#print_cross_elasticity(cross_elasticity, model_labels)\n"
      ]
    },
    {
      "cell_type": "code",
      "execution_count": null,
      "metadata": {},
      "outputs": [],
      "source": []
    },
    {
      "cell_type": "markdown",
      "metadata": {},
      "source": [
        "$log(s_{jt})$ = $\\alpha p_{jt} + x_{jt}\\beta + \\xi_{jt}$"
      ]
    },
    {
      "cell_type": "markdown",
      "metadata": {},
      "source": [
        "Udregner for alle j \n",
        "$\n",
        ":Pr(j|t)\\frac{exp(\\delta_{jt})}{\\sum_{k \\in J_t} exp(\\delta_{kt})}\n",
        "$"
      ]
    },
    {
      "cell_type": "markdown",
      "metadata": {},
      "source": [
        "### Logit probability ratio : $ \\frac{P_i}{P_k} = \\frac{e^V_{i}/ \\sum_j e^V_j}{e^V_{k}/ \\sum_j e^V_j} = \\frac{e^V_i}{e^V_k} = e^{V_i-V_k} $ \\\\\n",
        "Hvor meget større ssh der er for at vælge produkt i fremfor produkt k. Kun produkt i og k er inkluderet og modellen udstiller derfor \\\\ $\\textit{independance of irrelevant alternatives}$ . Rød bus blå bus eksempel s. 14/51 i kapitel 3"
      ]
    },
    {
      "cell_type": "markdown",
      "metadata": {},
      "source": [
        "### Marginal effetcs for produkt i: $\\frac{dP_{i}}{dz_i} = \\frac{dV_i}{dz_i} P_i(1-P_i)$"
      ]
    },
    {
      "cell_type": "markdown",
      "metadata": {},
      "source": [
        "### Antager $z_i$ er lineær giver = $\\frac{dV_i}{dz_i} = \\beta_i$"
      ]
    },
    {
      "cell_type": "markdown",
      "metadata": {},
      "source": [
        "### Ændring i attibute for i på alternativ j: $-\\frac{dV_j}{dz_j}P_iP_j$ \\\\\n",
        "Antager stadig $z_i$ er lineær giver = $\\frac{dV_i}{dz_i} = \\beta_i$"
      ]
    },
    {
      "cell_type": "markdown",
      "metadata": {},
      "source": [
        "### Elasticity: En ændring i en variabel ved en ændring på 1 pct ved en anden: $ E_{iz_i} = \\frac{dP_i}{dz_i}\\frac{z_i}{P_i}  = \\frac{dV_i}{dz_i}z_i(1-P_i)$\n"
      ]
    },
    {
      "cell_type": "markdown",
      "metadata": {},
      "source": [
        "### Cross Elasticity: $ E_{iz_i} = \\frac{dP_i}{dz_j}\\frac{z_j}{P_i} = -\\frac{dV_j}{dz_j}z_jP_j$\n"
      ]
    },
    {
      "cell_type": "code",
      "execution_count": null,
      "metadata": {},
      "outputs": [],
      "source": []
    }
  ],
  "metadata": {
    "colab": {
      "provenance": []
    },
    "kernelspec": {
      "display_name": "Python 3",
      "name": "python3"
    },
    "language_info": {
      "codemirror_mode": {
        "name": "ipython",
        "version": 3
      },
      "file_extension": ".py",
      "mimetype": "text/x-python",
      "name": "python",
      "nbconvert_exporter": "python",
      "pygments_lexer": "ipython3",
      "version": "3.9.13"
    }
  },
  "nbformat": 4,
  "nbformat_minor": 0
}
