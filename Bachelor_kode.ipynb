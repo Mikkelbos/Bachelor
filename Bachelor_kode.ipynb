{
  "cells": [
    {
      "cell_type": "code",
      "execution_count": 1,
      "metadata": {
        "id": "uwJZ1lbaEHID"
      },
      "outputs": [
        {
          "name": "stderr",
          "output_type": "stream",
          "text": [
            "/Users/mikkeldollerup/opt/anaconda3/lib/python3.9/site-packages/scipy/__init__.py:146: UserWarning: A NumPy version >=1.16.5 and <1.23.0 is required for this version of SciPy (detected version 1.24.3\n",
            "  warnings.warn(f\"A NumPy version >={np_minversion} and <{np_maxversion}\"\n"
          ]
        }
      ],
      "source": [
        "import numpy as np\n",
        "from scipy.optimize import minimize\n",
        "from tabulate import tabulate\n",
        "from numpy import linalg as la\n",
        "import time\n",
        "import pandas as pd\n",
        "\n",
        "from numpy import random\n",
        "from scipy.stats import genextreme\n"
      ]
    },
    {
      "cell_type": "markdown",
      "metadata": {},
      "source": [
        "## Hjælpefunktioner"
      ]
    },
    {
      "cell_type": "code",
      "execution_count": 2,
      "metadata": {},
      "outputs": [],
      "source": [
        "def estimation(Qfun, theta0, deriv=0, cov_type ='sandwich', parnames='', output=False):\n",
        "\n",
        "    tic = time.perf_counter()\n",
        "\n",
        "    # Q: Sample objective function to minimize (e.g. sample average of negative log-livelihood)\n",
        "    Q     = lambda theta:  Qfun(theta, out='Q')\n",
        "\n",
        "    # dQ: Derivative of sample objective function wrt parameters theta (function returns size K array)\n",
        "    dQ = None\n",
        "    if deriv>0: # use user-supplied 1 order derivatives\n",
        "        dQ = lambda theta:  Qfun(theta, out='dQ')\n",
        "\n",
        "    hess = None\n",
        "    if deriv>1: # use user-supplied 2 order derivatives\n",
        "        hess  =  lambda theta:  Qfun(theta, out='H')\n",
        "        res=minimize(fun=Q, jac=dQ, hess=hess, x0=theta0, method='trust-ncg')\n",
        "        res.hess_inv=la.inv(res.hess)\n",
        "    else: # use bfgs\n",
        "        res=minimize(fun=Q, jac=dQ, x0=theta0, method='bfgs')\n",
        "\n",
        "    theta_hat=np.array(res.x).reshape(-1,1)\n",
        "\n",
        "    toc = time.perf_counter()\n",
        "\n",
        "    # variance co-variance matrix\n",
        "    s_i=Qfun(theta_hat, out='s_i')\n",
        "\n",
        "    cov = avar(s_i, res.hess_inv, cov_type)\n",
        "    se = np.sqrt(np.diag(cov)).reshape(-1, 1)\n",
        "\n",
        "    # collect output\n",
        "    names =   ['parnames', 'theta_hat', 'se',  't-values',  'cov', 'Q', 'time', 's_i']\n",
        "    results = [parnames, theta_hat, se, theta_hat/se, cov, Q(theta_hat), toc - tic, s_i]\n",
        "\n",
        "    res.update(dict(zip(names, results)))\n",
        "\n",
        "    if output:\n",
        "        if res.parnames:\n",
        "            table=({k:res[k] for k in ['parnames', 'theta_hat', 'se', 't-values', 'jac']})\n",
        "        else:\n",
        "            table=({k:res[k] for k in ['theta_hat', 'se', 't-values', 'jac']})\n",
        "        print(tabulate(table, headers=\"keys\",floatfmt=\"10.5f\"))\n",
        "        print('')\n",
        "        print(res.message)\n",
        "        print('Objective function:', res['Q'])\n",
        "        print ('Iteration info: %d iterations, %d evaluations of objective, and %d evaluations of gradients'\n",
        "            % (res.nit,res.nfev, res.njev))\n",
        "        print(f\"Elapsed time: {res['time']:0.4f} seconds\")\n",
        "\n",
        "    return res\n",
        "\n",
        "def avar(s_i, Ainv, cov_type ='sandwich'):\n",
        "    n, K=s_i.shape\n",
        "    B=s_i.T@ s_i/n\n",
        "    if cov_type=='Ainv':        return Ainv/n;\n",
        "    if cov_type=='Binv':        return la.inv(B)/n\n",
        "    if cov_type=='sandwich':    return Ainv @ B @ Ainv/n"
      ]
    },
    {
      "cell_type": "code",
      "execution_count": 3,
      "metadata": {},
      "outputs": [],
      "source": [
        "def sim_data(N, J, theta) -> tuple:\n",
        "    k = theta.size\n",
        "\n",
        "    x = random.normal(size=(N, J, k)) + np.linspace(3,5,J).reshape(1,J, 1)\n",
        "    v = utiliy(theta, x)\n",
        "    e = genextreme.ppf(random.uniform(size=(N, J)), c=0)\n",
        "    u = v + e # utility\n",
        "\n",
        "    # Find which choice that maximizes utility.\n",
        "    y = u.argmax(axis=1)\n",
        "\n",
        "    label = ['y', 'x']\n",
        "    d=dict(zip(label, [y, x]))\n",
        "    return d\n",
        "\n",
        "def clogit(y, x, cov_type='Ainv',theta0=None, deriv=0, quiet=False):\n",
        "\t# Objective function and derivatives for\n",
        "    N, J, K, palt, xalt, xvars = labels(x)\n",
        "    Qfun     = lambda theta, out:  Q_clogit(theta, y, x, out)\n",
        "\n",
        "    if theta0 is None:\n",
        "    \ttheta0=np.zeros((K,1))\n",
        "\n",
        "    res = estimation(Qfun, theta0, deriv, cov_type, parnames=xvars)\n",
        "    # v, p, dv = Qfun(res.theta_hat, out='predict')\n",
        "    res.update(dict(zip(['yvar', 'xvars', 'N','K', 'n'], ['y', xvars, N, K, N])))\n",
        "\n",
        "    if quiet==False:\n",
        "        print('Conditional logit')\n",
        "        print('Initial log-likelihood', -Qfun(theta0, 'Q'))\n",
        "        print('Initial gradient\\n', -Qfun(theta0, 'dQ'))\n",
        "        print_output(res)\n",
        "\n",
        "    return res\n",
        "\n",
        "def Q_clogit(theta, y, x, out='Q'):\n",
        "    v = utiliy(theta, x) \t# Deterministic component of utility\n",
        "    ll_i=logccp(v, y)\n",
        "    q_i= - ll_i\n",
        "    dv = x\n",
        "    p=ccp(v)\n",
        "    if out=='Q':\n",
        "    \treturn np.mean(q_i)\n",
        "    if out=='predict':  return v, p, dv         # Return predicted values\n",
        "    N, J, K = dv.shape\n",
        "    idx=y[:,] + J*np.arange(0, N)\n",
        "    dvj=dv.reshape(N*J, K)[idx,:] \t# pick choice specific values corresponding to y\n",
        "\n",
        "    s_i=dvj -  np.sum(p.reshape(N,J,1)*dv, axis=1)\n",
        "    g=-np.mean(s_i, axis=0)\n",
        "\n",
        "    if out=='s_i': return s_i                     # Return s_i: NxK array with scores\n",
        "    if out=='dQ':  return g;  # Return dQ: array of size K derivative of sample objective function\n",
        "\n",
        "def utiliy(theta, x):\n",
        "\tN, J, K=x.shape\n",
        "\tu = x @ theta\n",
        "\treturn u.reshape(N,J)\n",
        "\n",
        "def logsum(v, sigma=1):\n",
        "\t# Expected max over iid extreme value shocks with scale parameter sigma\n",
        "\t# Logsum is reentered around maximum to obtain numerical stability (avoids overflow, but accepts underflow)\n",
        "\tmax_v = v.max(axis=1).reshape(-1, 1)\n",
        "\treturn max_v + sigma*np.log(np.sum(np.exp((v-max_v)/sigma), 1)).reshape(-1, 1)\n",
        "\n",
        "def logccp(v, y=None, sigma=1):\n",
        "    # Log of conditional choice probabilities\n",
        "    # If y=None return logccp corresponding to all choices\n",
        "    # if y is Nx1 vector of choice indexes, return likelihood\n",
        "\n",
        "    ev=logsum(v, sigma) \t# Expected utility (always larger than V)\n",
        "    if y is not None:\n",
        "    \tN, J=v.shape\n",
        "    \tidx = y[:,] + J*np.arange(0, N)\n",
        "    \tv = v.reshape(N*J, 1)[idx] \t# pick choice specific values corresponding to y\n",
        "    return (v - ev)/sigma\n",
        "\n",
        "def ccp(v, y=None, sigma=1):     # Conditional choice probabilities\n",
        "    return np.exp(logccp(v, y, sigma))\n",
        "\n",
        "def labels(x):\n",
        "\t# labels and dimensions for plotting\n",
        "\tN, J, K = x.shape\n",
        "\tpalt=['p' + str(i)  for i in range(J)];\n",
        "\txalt=['alt' + str(i)  for i in range(J)];\n",
        "\txvars=['var' + str(i)  for i in range(K)];\n",
        "\treturn N, J, K, palt, xalt, xvars\n",
        "\n",
        "def APE_var(theta, x, m=0, quiet=False):\n",
        "\t# matrix of partial derivatives with respect of a change in attribute m\n",
        "    N, J, K, palt, xalt, xvars = labels(x)\n",
        "    p=ccp(utiliy(theta, x))\n",
        "    E=np.empty((J,J))\n",
        "    for j in range(J):\n",
        "        for k in range(J):\n",
        "            E[k, j]=np.mean(p[:,j]*theta[m]*(1*(j==k)-p[:,k]), axis=0)\n",
        "    if not quiet:\n",
        "        print('\\nAPE wrt change in', xvars[m])\n",
        "        print(tabulate(np.c_[xalt, E], headers=palt,floatfmt=\"10.5f\"))\n",
        "    return E\n",
        "\n",
        "def Ematrix_var(theta, x, m=0, quiet=False):\n",
        "\t# matrix of elasticities with respect ot a change in attribute m\n",
        "\tN, J, K, palt, xalt, xvars = labels(x)\n",
        "\tp=ccp(utiliy(theta, x))\n",
        "\tE=np.empty((J,J))\n",
        "\tfor j in range(J):\n",
        "\t    for k in range(J):\n",
        "\t        E[k, j]=np.mean(x[:,k,m]*theta[m]*(1*(j==k)-p[:,k]), axis=0)\n",
        "\tif not quiet:\n",
        "\t    print('\\nElasticity wrt change in', xvars[m])\n",
        "\t    print(tabulate(np.c_[xalt, E], headers=palt,floatfmt=\"10.5f\"))\n",
        "\treturn E\n",
        "\n",
        "def Ematrix_own(theta, x, quiet=False):\n",
        "    # Own elasticity: % change in prob of alternative j wrt % change in attribute of same alternative j\n",
        "    # done for for each variable in x\n",
        "    N, J, K, palt, xalt, xvars = labels(x)\n",
        "    p=ccp(utiliy(theta, x))\n",
        "    E_own=np.empty((J, K))\n",
        "    for iJ in range(J):\n",
        "        for iK in range(K):\n",
        "            E_own[iJ, iK]=np.mean(x[:,iJ,iK]*theta[iK]*(1-p[:,iJ]), axis=0)\n",
        "    if not quiet:\n",
        "        print('\\nOwn elasticity')\n",
        "        print(tabulate(np.c_[xalt, E_own], headers=xvars,floatfmt=\"10.5f\"))\n",
        "    return E_own\n",
        "\n",
        "def Ematrix_cross(theta, x, quiet=False):\n",
        "    # Cross elasticity:  % change in prob of alternative j wrt % change in attribute of other alternative k ne j\n",
        "    # done for each variable in x\n",
        "    N, J, K, palt, xalt, xvars = labels(x)\n",
        "    p=ccp(utiliy(theta, x))\n",
        "    E_cross=np.empty((J, K))\n",
        "    for iJ in range(J):\n",
        "        for iK in range(K):\n",
        "            E_cross[iJ, iK]=np.mean(x[:,iJ,iK]*theta[iK]*(-p[:,iJ]), axis=0)\n",
        "    if not quiet:\n",
        "        print('\\nCross-Elasticity')\n",
        "        print(tabulate(np.c_[xalt, E_cross], headers=xvars,floatfmt=\"10.5f\"))\n",
        "\n",
        "def print_output(res, cols=['parnames','theta_hat', 'se', 't-values', 'jac']):\n",
        "    print('Dep. var. :', res['yvar'], '\\n')\n",
        "\n",
        "    table=({k:res[k] for k in cols})\n",
        "    print(tabulate(table, headers=\"keys\",floatfmt=\"10.5f\"))\n",
        "    # print('\\n# of groups:      :', res['n'])\n",
        "    print('# of observations :', res['N'])\n",
        "    print('# log-likelihood. :', - res['Q']*res['n'], '\\n')\n",
        "    print ('Iteration info: %d iterations, %d evaluations of objective, and %d evaluations of gradients'\n",
        "        % (res.nit,res.nfev, res.njev))\n",
        "    print(f\"Elapsed time: {res['time']:0.4f} seconds\")\n",
        "    print('')"
      ]
    },
    {
      "cell_type": "markdown",
      "metadata": {},
      "source": [
        "## Estimering"
      ]
    },
    {
      "cell_type": "code",
      "execution_count": 5,
      "metadata": {},
      "outputs": [
        {
          "data": {
            "text/html": [
              "<div>\n",
              "<style scoped>\n",
              "    .dataframe tbody tr th:only-of-type {\n",
              "        vertical-align: middle;\n",
              "    }\n",
              "\n",
              "    .dataframe tbody tr th {\n",
              "        vertical-align: top;\n",
              "    }\n",
              "\n",
              "    .dataframe thead th {\n",
              "        text-align: right;\n",
              "    }\n",
              "</style>\n",
              "<table border=\"1\" class=\"dataframe\">\n",
              "  <thead>\n",
              "    <tr style=\"text-align: right;\">\n",
              "      <th></th>\n",
              "      <th>ID</th>\n",
              "      <th>year</th>\n",
              "      <th>Market share</th>\n",
              "      <th>Manufacturer</th>\n",
              "      <th>Model</th>\n",
              "      <th>Range(km)</th>\n",
              "      <th>Price(dkk)</th>\n",
              "      <th>HP</th>\n",
              "      <th>Fast charge (min)</th>\n",
              "      <th>Type</th>\n",
              "      <th>Segment</th>\n",
              "      <th>Region</th>\n",
              "    </tr>\n",
              "  </thead>\n",
              "  <tbody>\n",
              "    <tr>\n",
              "      <th>0</th>\n",
              "      <td>1</td>\n",
              "      <td>2013</td>\n",
              "      <td>0.0</td>\n",
              "      <td>Aiways</td>\n",
              "      <td>U5</td>\n",
              "      <td>400</td>\n",
              "      <td>330825.789474</td>\n",
              "      <td>201</td>\n",
              "      <td>34</td>\n",
              "      <td>SUV</td>\n",
              "      <td>C</td>\n",
              "      <td>CH</td>\n",
              "    </tr>\n",
              "  </tbody>\n",
              "</table>\n",
              "</div>"
            ],
            "text/plain": [
              "   ID  year  Market share Manufacturer Model  Range(km)     Price(dkk)   HP  \\\n",
              "0   1  2013           0.0       Aiways    U5        400  330825.789474  201   \n",
              "\n",
              "   Fast charge (min) Type Segment Region  \n",
              "0                 34  SUV       C     CH  "
            ]
          },
          "execution_count": 5,
          "metadata": {},
          "output_type": "execute_result"
        }
      ],
      "source": [
        "df = pd.read_csv('Dataset.csv')\n",
        "#df = df.drop(df.columns[0], axis=1)\n",
        "df = df.rename(columns={'Range': 'Range(km)'})\n",
        "df = df.rename(columns={'Price': 'Price(dkk)'})\n",
        "df.head(1)\n"
      ]
    },
    {
      "cell_type": "code",
      "execution_count": 6,
      "metadata": {},
      "outputs": [
        {
          "data": {
            "text/html": [
              "<div>\n",
              "<style scoped>\n",
              "    .dataframe tbody tr th:only-of-type {\n",
              "        vertical-align: middle;\n",
              "    }\n",
              "\n",
              "    .dataframe tbody tr th {\n",
              "        vertical-align: top;\n",
              "    }\n",
              "\n",
              "    .dataframe thead th {\n",
              "        text-align: right;\n",
              "    }\n",
              "</style>\n",
              "<table border=\"1\" class=\"dataframe\">\n",
              "  <thead>\n",
              "    <tr style=\"text-align: right;\">\n",
              "      <th></th>\n",
              "      <th>ID</th>\n",
              "      <th>year</th>\n",
              "      <th>Market share</th>\n",
              "      <th>Manufacturer</th>\n",
              "      <th>Model</th>\n",
              "      <th>Range(km)</th>\n",
              "      <th>Price(dkk)</th>\n",
              "      <th>HP</th>\n",
              "      <th>Fast charge (min)</th>\n",
              "      <th>Type</th>\n",
              "      <th>Segment</th>\n",
              "      <th>Region</th>\n",
              "    </tr>\n",
              "  </thead>\n",
              "  <tbody>\n",
              "    <tr>\n",
              "      <th>134</th>\n",
              "      <td>16</td>\n",
              "      <td>2015</td>\n",
              "      <td>0.000000</td>\n",
              "      <td>BMW</td>\n",
              "      <td>iX3</td>\n",
              "      <td>457</td>\n",
              "      <td>567019.182847</td>\n",
              "      <td>281</td>\n",
              "      <td>31</td>\n",
              "      <td>SUV</td>\n",
              "      <td>D</td>\n",
              "      <td>DE</td>\n",
              "    </tr>\n",
              "    <tr>\n",
              "      <th>125</th>\n",
              "      <td>15</td>\n",
              "      <td>2017</td>\n",
              "      <td>0.000000</td>\n",
              "      <td>BMW</td>\n",
              "      <td>iX1</td>\n",
              "      <td>431</td>\n",
              "      <td>496300.501002</td>\n",
              "      <td>201</td>\n",
              "      <td>29</td>\n",
              "      <td>SUV</td>\n",
              "      <td>C</td>\n",
              "      <td>DE</td>\n",
              "    </tr>\n",
              "    <tr>\n",
              "      <th>1161</th>\n",
              "      <td>185</td>\n",
              "      <td>2019</td>\n",
              "      <td>0.000000</td>\n",
              "      <td>Volkswagen</td>\n",
              "      <td>ID.7</td>\n",
              "      <td>597</td>\n",
              "      <td>494230.707692</td>\n",
              "      <td>281</td>\n",
              "      <td>28</td>\n",
              "      <td>Sedan</td>\n",
              "      <td>E</td>\n",
              "      <td>DE</td>\n",
              "    </tr>\n",
              "    <tr>\n",
              "      <th>891</th>\n",
              "      <td>142</td>\n",
              "      <td>2013</td>\n",
              "      <td>0.000000</td>\n",
              "      <td>Peugeot</td>\n",
              "      <td>Expert</td>\n",
              "      <td>315</td>\n",
              "      <td>556087.333333</td>\n",
              "      <td>134</td>\n",
              "      <td>38</td>\n",
              "      <td>MPV</td>\n",
              "      <td>M</td>\n",
              "      <td>FR</td>\n",
              "    </tr>\n",
              "    <tr>\n",
              "      <th>1130</th>\n",
              "      <td>182</td>\n",
              "      <td>2021</td>\n",
              "      <td>0.069504</td>\n",
              "      <td>Volkswagen</td>\n",
              "      <td>ID.3</td>\n",
              "      <td>436</td>\n",
              "      <td>339928.862217</td>\n",
              "      <td>201</td>\n",
              "      <td>32</td>\n",
              "      <td>Hatchback</td>\n",
              "      <td>C</td>\n",
              "      <td>DE</td>\n",
              "    </tr>\n",
              "  </tbody>\n",
              "</table>\n",
              "</div>"
            ],
            "text/plain": [
              "       ID  year  Market share Manufacturer   Model  Range(km)     Price(dkk)  \\\n",
              "134    16  2015      0.000000          BMW     iX3        457  567019.182847   \n",
              "125    15  2017      0.000000          BMW     iX1        431  496300.501002   \n",
              "1161  185  2019      0.000000   Volkswagen    ID.7        597  494230.707692   \n",
              "891   142  2013      0.000000      Peugeot  Expert        315  556087.333333   \n",
              "1130  182  2021      0.069504   Volkswagen    ID.3        436  339928.862217   \n",
              "\n",
              "       HP  Fast charge (min)       Type Segment Region  \n",
              "134   281                 31        SUV       D     DE  \n",
              "125   201                 29        SUV       C     DE  \n",
              "1161  281                 28      Sedan       E     DE  \n",
              "891   134                 38        MPV       M     FR  \n",
              "1130  201                 32  Hatchback       C     DE  "
            ]
          },
          "execution_count": 6,
          "metadata": {},
          "output_type": "execute_result"
        }
      ],
      "source": [
        "#df.describe()\n",
        "df.sample(5)"
      ]
    },
    {
      "cell_type": "code",
      "execution_count": 7,
      "metadata": {},
      "outputs": [
        {
          "name": "stdout",
          "output_type": "stream",
          "text": [
            "Data has N=112 and T=11 data is = 1232, 1232\n"
          ]
        }
      ],
      "source": [
        "N = df['ID'].unique().size\n",
        "T = df['year'].unique().size\n",
        "assert df.shape[0] == N*T, f'Error: data is not a balanced panel'\n",
        "print(f'Data has N={N} and T={T} data is = {df.shape[0]}, {N*T}')\n",
        "\n"
      ]
    },
    {
      "cell_type": "code",
      "execution_count": 12,
      "metadata": {},
      "outputs": [
        {
          "name": "stdout",
          "output_type": "stream",
          "text": [
            " y \n",
            " [[0.]\n",
            " [0.]] \n",
            " ones: \n",
            " [[1.]\n",
            " [1.]] \n",
            " Manufacturer: [['Aiways']\n",
            " ['Aiways']]\n"
          ]
        }
      ],
      "source": [
        "y = df['Market share'].values.reshape((N*T,1))\n",
        "ones = np.ones((N*T,1))\n",
        "Manufacturer = df['Manufacturer'].values.reshape((N*T,1))\n",
        "#l = df.lemp.values.reshape((N*T,1))\n",
        "#k = df.lcap.values.reshape((N*T,1))\n",
        "#X = np.hstack([ones, l, k])\n",
        "print(f' y \\n {y[:2]} \\n ones: \\n {ones[:2]} \\n Manufacturer: {Manufacturer[:2]}')"
      ]
    },
    {
      "cell_type": "code",
      "execution_count": null,
      "metadata": {},
      "outputs": [],
      "source": []
    },
    {
      "cell_type": "code",
      "execution_count": null,
      "metadata": {
        "id": "dWHRLurQEYv9"
      },
      "outputs": [],
      "source": []
    },
    {
      "cell_type": "code",
      "execution_count": null,
      "metadata": {
        "id": "TJFXBR_BE0-f"
      },
      "outputs": [],
      "source": []
    },
    {
      "cell_type": "code",
      "execution_count": null,
      "metadata": {
        "id": "VuRbcOBJFGYD"
      },
      "outputs": [],
      "source": [
        "def sim_data(N, J, theta) -> tuple:\n",
        "    k = theta.size\n",
        "\n",
        "    x = random.normal(size=(N, J, k)) + np.linspace(3,5,J).reshape(1,J, 1)\n",
        "    v = utiliy(theta, x)\n",
        "    e = genextreme.ppf(random.uniform(size=(N, J)), c=0)\n",
        "    u = v + e # utility\n",
        "\n",
        "    # Find which choice that maximizes utility.\n",
        "    y = u.argmax(axis=1)\n",
        "\n",
        "    label = ['y', 'x']\n",
        "    d=dict(zip(label, [y, x]))\n",
        "    return d"
      ]
    },
    {
      "cell_type": "code",
      "execution_count": null,
      "metadata": {
        "colab": {
          "base_uri": "https://localhost:8080/"
        },
        "id": "DjIAvXHkFgTD",
        "outputId": "7b2c7e65-b467-4c2e-9e84-43d1acc5f94c"
      },
      "outputs": [
        {
          "name": "stdout",
          "output_type": "stream",
          "text": [
            "[[[2.70294979 2.89346733 3.42824353]\n",
            "  [5.17107806 4.70549944 3.66903289]\n",
            "  [4.51613969 5.13768453 4.02101008]\n",
            "  [5.46471257 3.42438851 5.53708966]\n",
            "  [4.76121653 5.57861066 5.96866721]]] \n",
            " \n",
            " (10000, 5, 3)\n"
          ]
        }
      ],
      "source": [
        "J=5             # number of alternatives index j=0,..,J-1\n",
        "N=10000         # number of observations\n",
        "theta=np.array([1, -1, 2]).reshape(-1,1)  # True parameters\n",
        "dta=sim_data(N, J, theta); #Kalder sim_data funktionen i discrete_choice.py\n",
        "print(dta['x'][0:1],'\\n', '\\n' ,dta['x'].shape)"
      ]
    },
    {
      "cell_type": "code",
      "execution_count": null,
      "metadata": {
        "colab": {
          "base_uri": "https://localhost:8080/",
          "height": 321
        },
        "id": "OHEjIHNkFh-0",
        "outputId": "bea235e3-b10c-44f5-b535-15a6b4777c07"
      },
      "outputs": [
        {
          "ename": "ValueError",
          "evalue": "'x0' must only have one dimension.",
          "output_type": "error",
          "traceback": [
            "\u001b[0;31m---------------------------------------------------------------------------\u001b[0m",
            "\u001b[0;31mValueError\u001b[0m                                Traceback (most recent call last)",
            "\u001b[0;32m<ipython-input-12-881541f85e0b>\u001b[0m in \u001b[0;36m<cell line: 1>\u001b[0;34m()\u001b[0m\n\u001b[0;32m----> 1\u001b[0;31m \u001b[0mres\u001b[0m\u001b[0;34m=\u001b[0m\u001b[0mclogit\u001b[0m\u001b[0;34m(\u001b[0m\u001b[0mdta\u001b[0m\u001b[0;34m[\u001b[0m\u001b[0;34m'y'\u001b[0m\u001b[0;34m]\u001b[0m\u001b[0;34m,\u001b[0m \u001b[0mdta\u001b[0m\u001b[0;34m[\u001b[0m\u001b[0;34m'x'\u001b[0m\u001b[0;34m]\u001b[0m\u001b[0;34m,\u001b[0m \u001b[0mderiv\u001b[0m\u001b[0;34m=\u001b[0m\u001b[0;36m0\u001b[0m\u001b[0;34m)\u001b[0m \u001b[0;31m#estimate clogit model\u001b[0m\u001b[0;34m\u001b[0m\u001b[0;34m\u001b[0m\u001b[0m\n\u001b[0m",
            "\u001b[0;32m<ipython-input-9-65354afb19d8>\u001b[0m in \u001b[0;36mclogit\u001b[0;34m(y, x, cov_type, theta0, deriv, quiet)\u001b[0m\n\u001b[1;32m     22\u001b[0m         \u001b[0mtheta0\u001b[0m\u001b[0;34m=\u001b[0m\u001b[0mnp\u001b[0m\u001b[0;34m.\u001b[0m\u001b[0mzeros\u001b[0m\u001b[0;34m(\u001b[0m\u001b[0;34m(\u001b[0m\u001b[0mK\u001b[0m\u001b[0;34m,\u001b[0m\u001b[0;36m1\u001b[0m\u001b[0;34m)\u001b[0m\u001b[0;34m)\u001b[0m\u001b[0;34m\u001b[0m\u001b[0;34m\u001b[0m\u001b[0m\n\u001b[1;32m     23\u001b[0m \u001b[0;34m\u001b[0m\u001b[0m\n\u001b[0;32m---> 24\u001b[0;31m     \u001b[0mres\u001b[0m \u001b[0;34m=\u001b[0m \u001b[0mestimation\u001b[0m\u001b[0;34m(\u001b[0m\u001b[0mQfun\u001b[0m\u001b[0;34m,\u001b[0m \u001b[0mtheta0\u001b[0m\u001b[0;34m,\u001b[0m \u001b[0mderiv\u001b[0m\u001b[0;34m,\u001b[0m \u001b[0mcov_type\u001b[0m\u001b[0;34m,\u001b[0m \u001b[0mparnames\u001b[0m\u001b[0;34m=\u001b[0m\u001b[0mxvars\u001b[0m\u001b[0;34m)\u001b[0m\u001b[0;34m\u001b[0m\u001b[0;34m\u001b[0m\u001b[0m\n\u001b[0m\u001b[1;32m     25\u001b[0m     \u001b[0;31m# v, p, dv = Qfun(res.theta_hat, out='predict')\u001b[0m\u001b[0;34m\u001b[0m\u001b[0;34m\u001b[0m\u001b[0m\n\u001b[1;32m     26\u001b[0m     \u001b[0mres\u001b[0m\u001b[0;34m.\u001b[0m\u001b[0mupdate\u001b[0m\u001b[0;34m(\u001b[0m\u001b[0mdict\u001b[0m\u001b[0;34m(\u001b[0m\u001b[0mzip\u001b[0m\u001b[0;34m(\u001b[0m\u001b[0;34m[\u001b[0m\u001b[0;34m'yvar'\u001b[0m\u001b[0;34m,\u001b[0m \u001b[0;34m'xvars'\u001b[0m\u001b[0;34m,\u001b[0m \u001b[0;34m'N'\u001b[0m\u001b[0;34m,\u001b[0m\u001b[0;34m'K'\u001b[0m\u001b[0;34m,\u001b[0m \u001b[0;34m'n'\u001b[0m\u001b[0;34m]\u001b[0m\u001b[0;34m,\u001b[0m \u001b[0;34m[\u001b[0m\u001b[0;34m'y'\u001b[0m\u001b[0;34m,\u001b[0m \u001b[0mxvars\u001b[0m\u001b[0;34m,\u001b[0m \u001b[0mN\u001b[0m\u001b[0;34m,\u001b[0m \u001b[0mK\u001b[0m\u001b[0;34m,\u001b[0m \u001b[0mN\u001b[0m\u001b[0;34m]\u001b[0m\u001b[0;34m)\u001b[0m\u001b[0;34m)\u001b[0m\u001b[0;34m)\u001b[0m\u001b[0;34m\u001b[0m\u001b[0;34m\u001b[0m\u001b[0m\n",
            "\u001b[0;32m<ipython-input-8-9c3dadd861ac>\u001b[0m in \u001b[0;36mestimation\u001b[0;34m(Qfun, theta0, deriv, cov_type, parnames, output)\u001b[0m\n\u001b[1;32m     17\u001b[0m         \u001b[0mres\u001b[0m\u001b[0;34m.\u001b[0m\u001b[0mhess_inv\u001b[0m\u001b[0;34m=\u001b[0m\u001b[0mla\u001b[0m\u001b[0;34m.\u001b[0m\u001b[0minv\u001b[0m\u001b[0;34m(\u001b[0m\u001b[0mres\u001b[0m\u001b[0;34m.\u001b[0m\u001b[0mhess\u001b[0m\u001b[0;34m)\u001b[0m\u001b[0;34m\u001b[0m\u001b[0;34m\u001b[0m\u001b[0m\n\u001b[1;32m     18\u001b[0m     \u001b[0;32melse\u001b[0m\u001b[0;34m:\u001b[0m \u001b[0;31m# use bfgs\u001b[0m\u001b[0;34m\u001b[0m\u001b[0;34m\u001b[0m\u001b[0m\n\u001b[0;32m---> 19\u001b[0;31m         \u001b[0mres\u001b[0m\u001b[0;34m=\u001b[0m\u001b[0mminimize\u001b[0m\u001b[0;34m(\u001b[0m\u001b[0mfun\u001b[0m\u001b[0;34m=\u001b[0m\u001b[0mQ\u001b[0m\u001b[0;34m,\u001b[0m \u001b[0mjac\u001b[0m\u001b[0;34m=\u001b[0m\u001b[0mdQ\u001b[0m\u001b[0;34m,\u001b[0m \u001b[0mx0\u001b[0m\u001b[0;34m=\u001b[0m\u001b[0mtheta0\u001b[0m\u001b[0;34m,\u001b[0m \u001b[0mmethod\u001b[0m\u001b[0;34m=\u001b[0m\u001b[0;34m'bfgs'\u001b[0m\u001b[0;34m)\u001b[0m\u001b[0;34m\u001b[0m\u001b[0;34m\u001b[0m\u001b[0m\n\u001b[0m\u001b[1;32m     20\u001b[0m \u001b[0;34m\u001b[0m\u001b[0m\n\u001b[1;32m     21\u001b[0m     \u001b[0mtheta_hat\u001b[0m\u001b[0;34m=\u001b[0m\u001b[0mnp\u001b[0m\u001b[0;34m.\u001b[0m\u001b[0marray\u001b[0m\u001b[0;34m(\u001b[0m\u001b[0mres\u001b[0m\u001b[0;34m.\u001b[0m\u001b[0mx\u001b[0m\u001b[0;34m)\u001b[0m\u001b[0;34m.\u001b[0m\u001b[0mreshape\u001b[0m\u001b[0;34m(\u001b[0m\u001b[0;34m-\u001b[0m\u001b[0;36m1\u001b[0m\u001b[0;34m,\u001b[0m\u001b[0;36m1\u001b[0m\u001b[0;34m)\u001b[0m\u001b[0;34m\u001b[0m\u001b[0;34m\u001b[0m\u001b[0m\n",
            "\u001b[0;32m/usr/local/lib/python3.10/dist-packages/scipy/optimize/_minimize.py\u001b[0m in \u001b[0;36mminimize\u001b[0;34m(fun, x0, args, method, jac, hess, hessp, bounds, constraints, tol, callback, options)\u001b[0m\n\u001b[1;32m    531\u001b[0m \u001b[0;34m\u001b[0m\u001b[0m\n\u001b[1;32m    532\u001b[0m     \u001b[0;32mif\u001b[0m \u001b[0mx0\u001b[0m\u001b[0;34m.\u001b[0m\u001b[0mndim\u001b[0m \u001b[0;34m!=\u001b[0m \u001b[0;36m1\u001b[0m\u001b[0;34m:\u001b[0m\u001b[0;34m\u001b[0m\u001b[0;34m\u001b[0m\u001b[0m\n\u001b[0;32m--> 533\u001b[0;31m         \u001b[0;32mraise\u001b[0m \u001b[0mValueError\u001b[0m\u001b[0;34m(\u001b[0m\u001b[0;34m\"'x0' must only have one dimension.\"\u001b[0m\u001b[0;34m)\u001b[0m\u001b[0;34m\u001b[0m\u001b[0;34m\u001b[0m\u001b[0m\n\u001b[0m\u001b[1;32m    534\u001b[0m \u001b[0;34m\u001b[0m\u001b[0m\n\u001b[1;32m    535\u001b[0m     \u001b[0;32mif\u001b[0m \u001b[0mx0\u001b[0m\u001b[0;34m.\u001b[0m\u001b[0mdtype\u001b[0m\u001b[0;34m.\u001b[0m\u001b[0mkind\u001b[0m \u001b[0;32min\u001b[0m \u001b[0mnp\u001b[0m\u001b[0;34m.\u001b[0m\u001b[0mtypecodes\u001b[0m\u001b[0;34m[\u001b[0m\u001b[0;34m\"AllInteger\"\u001b[0m\u001b[0;34m]\u001b[0m\u001b[0;34m:\u001b[0m\u001b[0;34m\u001b[0m\u001b[0;34m\u001b[0m\u001b[0m\n",
            "\u001b[0;31mValueError\u001b[0m: 'x0' must only have one dimension."
          ]
        }
      ],
      "source": [
        "res=clogit(dta['y'a], dta['x'], deriv=0) #estimate clogit model"
      ]
    },
    {
      "cell_type": "code",
      "execution_count": null,
      "metadata": {
        "colab": {
          "base_uri": "https://localhost:8080/",
          "height": 227
        },
        "id": "fmgqXoflF7JY",
        "outputId": "6fc1deb4-ad27-4523-9bb4-12e868aea1b6"
      },
      "outputs": [
        {
          "ename": "NameError",
          "evalue": "name 'res' is not defined",
          "output_type": "error",
          "traceback": [
            "\u001b[0;31m---------------------------------------------------------------------------\u001b[0m",
            "\u001b[0;31mNameError\u001b[0m                                 Traceback (most recent call last)",
            "\u001b[0;32m<ipython-input-13-bf8f3243f56e>\u001b[0m in \u001b[0;36m<cell line: 14>\u001b[0;34m()\u001b[0m\n\u001b[1;32m     12\u001b[0m     \u001b[0;32mreturn\u001b[0m \u001b[0mE\u001b[0m\u001b[0;34m\u001b[0m\u001b[0;34m\u001b[0m\u001b[0m\n\u001b[1;32m     13\u001b[0m \u001b[0;34m\u001b[0m\u001b[0m\n\u001b[0;32m---> 14\u001b[0;31m \u001b[0mdydx\u001b[0m\u001b[0;34m=\u001b[0m\u001b[0mAPE_var\u001b[0m\u001b[0;34m(\u001b[0m\u001b[0mres\u001b[0m\u001b[0;34m.\u001b[0m\u001b[0mtheta_hat\u001b[0m\u001b[0;34m,\u001b[0m \u001b[0mdta\u001b[0m\u001b[0;34m[\u001b[0m\u001b[0;34m'x'\u001b[0m\u001b[0;34m]\u001b[0m\u001b[0;34m,\u001b[0m \u001b[0mm\u001b[0m\u001b[0;34m=\u001b[0m\u001b[0;36m0\u001b[0m\u001b[0;34m)\u001b[0m\u001b[0;34m\u001b[0m\u001b[0;34m\u001b[0m\u001b[0m\n\u001b[0m\u001b[1;32m     15\u001b[0m \u001b[0mprint\u001b[0m\u001b[0;34m(\u001b[0m\u001b[0;34m'\\nckeck: derivatibes should sum to 0 over all alterntives \\n'\u001b[0m\u001b[0;34m,\u001b[0m \u001b[0mnp\u001b[0m\u001b[0;34m.\u001b[0m\u001b[0msum\u001b[0m\u001b[0;34m(\u001b[0m\u001b[0mdydx\u001b[0m\u001b[0;34m,\u001b[0m\u001b[0maxis\u001b[0m\u001b[0;34m=\u001b[0m\u001b[0;36m1\u001b[0m\u001b[0;34m)\u001b[0m\u001b[0;34m)\u001b[0m\u001b[0;34m\u001b[0m\u001b[0;34m\u001b[0m\u001b[0m\n",
            "\u001b[0;31mNameError\u001b[0m: name 'res' is not defined"
          ]
        }
      ],
      "source": [
        "def APE_var(theta, x, m=0, quiet=False):\n",
        "    # matrix of partial derivatibes with respect ot a change in attribute m\n",
        "    N, J, K, palt, xalt, xvars = labels(x)\n",
        "    p=ccp(utiliy(theta, x))\n",
        "    E=np.empty((J,J))\n",
        "    for j in range(J):\n",
        "        for k in range(J):\n",
        "            E[k, j]=np.mean(p[:,j]*theta[m]*(1*(j==k)-p[:,k]), axis=0)\n",
        "    if not quiet:\n",
        "        print('\\nAPE wrt change in', xvars[m])\n",
        "        print(tabulate(np.c_[xalt, E], headers=palt,floatfmt=\"10.5f\"))\n",
        "    return E\n",
        "\n",
        "dydx=APE_var(res.theta_hat, dta['x'], m=0)\n",
        "print('\\nckeck: derivatibes should sum to 0 over all alterntives \\n', np.sum(dydx,axis=1))"
      ]
    },
    {
      "cell_type": "code",
      "execution_count": null,
      "metadata": {
        "id": "sWG2yz86GZ4F"
      },
      "outputs": [],
      "source": []
    }
  ],
  "metadata": {
    "colab": {
      "provenance": []
    },
    "kernelspec": {
      "display_name": "Python 3",
      "name": "python3"
    },
    "language_info": {
      "codemirror_mode": {
        "name": "ipython",
        "version": 3
      },
      "file_extension": ".py",
      "mimetype": "text/x-python",
      "name": "python",
      "nbconvert_exporter": "python",
      "pygments_lexer": "ipython3",
      "version": "3.9.7"
    }
  },
  "nbformat": 4,
  "nbformat_minor": 0
}
