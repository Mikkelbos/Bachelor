{
  "cells": [
    {
      "cell_type": "code",
      "execution_count": 162,
      "metadata": {},
      "outputs": [
        {
          "data": {
            "text/plain": [
              "'\\nLæs Gandhi + Houd instruments november 2020 (Behandling af instrumentvariable). Ellers gå med normale BLP instrumenter\\n\\nNæste gang:\\n'"
            ]
          },
          "execution_count": 162,
          "metadata": {},
          "output_type": "execute_result"
        }
      ],
      "source": [
        "'''\n",
        "Læs Gandhi + Houd instruments november 2020 (Behandling af instrumentvariable). Ellers gå med normale BLP instrumenter\n",
        "\n",
        "Næste gang:\n",
        "'''\n",
        "\n"
      ]
    },
    {
      "cell_type": "code",
      "execution_count": 163,
      "metadata": {
        "id": "uwJZ1lbaEHID"
      },
      "outputs": [],
      "source": [
        "import statsmodels.api as sm\n",
        "import numpy as np\n",
        "from scipy.optimize import minimize\n",
        "from tabulate import tabulate\n",
        "from numpy import linalg as la\n",
        "import time\n",
        "import pandas as pd\n",
        "import mestim as M\n",
        "from discrete_choice import * \n",
        "import matplotlib.pyplot as plt\n",
        "import LinearModelsWeek3_post as lm\n",
        "\n",
        "import logit_func as lf\n",
        "\n",
        "from numpy import random\n",
        "from scipy.stats import genextreme\n"
      ]
    },
    {
      "cell_type": "markdown",
      "metadata": {},
      "source": [
        "## Data"
      ]
    },
    {
      "cell_type": "code",
      "execution_count": 164,
      "metadata": {},
      "outputs": [
        {
          "name": "stdout",
          "output_type": "stream",
          "text": [
            "Index(['ID', 'Manufacturer', 'Model', 'Range', 'Price', 'HP',\n",
            "       'Fast charge (min)', 'Type', 'Segment', 'Country', 'Count', 'Share',\n",
            "       'Percentage'],\n",
            "      dtype='object')\n",
            "segments : ['C' 'F' 'E' 'B' 'D' 'M' 'A' 'J'] \n",
            " Countrys : ['CH' 'DE' 'FR' 'SP' 'RO' 'IT' 'DK' 'US' 'JP' 'KR' 'GB' 'SE' 'CZ'] \n",
            " types : ['SUV' 'Sedan' 'Hatchback' 'MPV' 'Stationcar' 'Cabriolet' 'Liftback']\n"
          ]
        },
        {
          "data": {
            "text/html": [
              "<div>\n",
              "<style scoped>\n",
              "    .dataframe tbody tr th:only-of-type {\n",
              "        vertical-align: middle;\n",
              "    }\n",
              "\n",
              "    .dataframe tbody tr th {\n",
              "        vertical-align: top;\n",
              "    }\n",
              "\n",
              "    .dataframe thead th {\n",
              "        text-align: right;\n",
              "    }\n",
              "</style>\n",
              "<table border=\"1\" class=\"dataframe\">\n",
              "  <thead>\n",
              "    <tr style=\"text-align: right;\">\n",
              "      <th></th>\n",
              "      <th>ID</th>\n",
              "      <th>Manufacturer</th>\n",
              "      <th>Model</th>\n",
              "      <th>Range</th>\n",
              "      <th>Price</th>\n",
              "      <th>HP</th>\n",
              "      <th>ChargeTime</th>\n",
              "      <th>Type</th>\n",
              "      <th>Segment</th>\n",
              "      <th>Country</th>\n",
              "      <th>...</th>\n",
              "      <th>E</th>\n",
              "      <th>B</th>\n",
              "      <th>D</th>\n",
              "      <th>M</th>\n",
              "      <th>A</th>\n",
              "      <th>J</th>\n",
              "      <th>Europe</th>\n",
              "      <th>China</th>\n",
              "      <th>USA</th>\n",
              "      <th>Other</th>\n",
              "    </tr>\n",
              "  </thead>\n",
              "  <tbody>\n",
              "    <tr>\n",
              "      <th>0</th>\n",
              "      <td>1</td>\n",
              "      <td>Aiways</td>\n",
              "      <td>U5</td>\n",
              "      <td>400</td>\n",
              "      <td>3.308258e+05</td>\n",
              "      <td>201</td>\n",
              "      <td>34</td>\n",
              "      <td>SUV</td>\n",
              "      <td>C</td>\n",
              "      <td>CH</td>\n",
              "      <td>...</td>\n",
              "      <td>0</td>\n",
              "      <td>0</td>\n",
              "      <td>0</td>\n",
              "      <td>0</td>\n",
              "      <td>0</td>\n",
              "      <td>0</td>\n",
              "      <td>0</td>\n",
              "      <td>1</td>\n",
              "      <td>0</td>\n",
              "      <td>0</td>\n",
              "    </tr>\n",
              "    <tr>\n",
              "      <th>1</th>\n",
              "      <td>2</td>\n",
              "      <td>Aiways</td>\n",
              "      <td>U6</td>\n",
              "      <td>405</td>\n",
              "      <td>3.757100e+05</td>\n",
              "      <td>214</td>\n",
              "      <td>34</td>\n",
              "      <td>SUV</td>\n",
              "      <td>C</td>\n",
              "      <td>CH</td>\n",
              "      <td>...</td>\n",
              "      <td>0</td>\n",
              "      <td>0</td>\n",
              "      <td>0</td>\n",
              "      <td>0</td>\n",
              "      <td>0</td>\n",
              "      <td>0</td>\n",
              "      <td>0</td>\n",
              "      <td>1</td>\n",
              "      <td>0</td>\n",
              "      <td>0</td>\n",
              "    </tr>\n",
              "    <tr>\n",
              "      <th>2</th>\n",
              "      <td>3</td>\n",
              "      <td>Audi</td>\n",
              "      <td>e-tron</td>\n",
              "      <td>375</td>\n",
              "      <td>7.149530e+05</td>\n",
              "      <td>402</td>\n",
              "      <td>17</td>\n",
              "      <td>SUV</td>\n",
              "      <td>F</td>\n",
              "      <td>DE</td>\n",
              "      <td>...</td>\n",
              "      <td>0</td>\n",
              "      <td>0</td>\n",
              "      <td>0</td>\n",
              "      <td>0</td>\n",
              "      <td>0</td>\n",
              "      <td>0</td>\n",
              "      <td>1</td>\n",
              "      <td>0</td>\n",
              "      <td>0</td>\n",
              "      <td>0</td>\n",
              "    </tr>\n",
              "    <tr>\n",
              "      <th>3</th>\n",
              "      <td>4</td>\n",
              "      <td>Audi</td>\n",
              "      <td>e-tron GT</td>\n",
              "      <td>472</td>\n",
              "      <td>1.081416e+06</td>\n",
              "      <td>522</td>\n",
              "      <td>17</td>\n",
              "      <td>Sedan</td>\n",
              "      <td>F</td>\n",
              "      <td>DE</td>\n",
              "      <td>...</td>\n",
              "      <td>0</td>\n",
              "      <td>0</td>\n",
              "      <td>0</td>\n",
              "      <td>0</td>\n",
              "      <td>0</td>\n",
              "      <td>0</td>\n",
              "      <td>1</td>\n",
              "      <td>0</td>\n",
              "      <td>0</td>\n",
              "      <td>0</td>\n",
              "    </tr>\n",
              "    <tr>\n",
              "      <th>4</th>\n",
              "      <td>5</td>\n",
              "      <td>Audi</td>\n",
              "      <td>Q4 e-tron</td>\n",
              "      <td>496</td>\n",
              "      <td>4.547246e+05</td>\n",
              "      <td>281</td>\n",
              "      <td>28</td>\n",
              "      <td>SUV</td>\n",
              "      <td>C</td>\n",
              "      <td>DE</td>\n",
              "      <td>...</td>\n",
              "      <td>0</td>\n",
              "      <td>0</td>\n",
              "      <td>0</td>\n",
              "      <td>0</td>\n",
              "      <td>0</td>\n",
              "      <td>0</td>\n",
              "      <td>1</td>\n",
              "      <td>0</td>\n",
              "      <td>0</td>\n",
              "      <td>0</td>\n",
              "    </tr>\n",
              "  </tbody>\n",
              "</table>\n",
              "<p>5 rows × 32 columns</p>\n",
              "</div>"
            ],
            "text/plain": [
              "   ID Manufacturer      Model  Range         Price   HP  ChargeTime   Type  \\\n",
              "0   1       Aiways         U5    400  3.308258e+05  201          34    SUV   \n",
              "1   2       Aiways         U6    405  3.757100e+05  214          34    SUV   \n",
              "2   3         Audi     e-tron    375  7.149530e+05  402          17    SUV   \n",
              "3   4         Audi  e-tron GT    472  1.081416e+06  522          17  Sedan   \n",
              "4   5         Audi  Q4 e-tron    496  4.547246e+05  281          28    SUV   \n",
              "\n",
              "  Segment Country  ...  E  B  D  M  A  J  Europe  China  USA  Other  \n",
              "0       C      CH  ...  0  0  0  0  0  0       0      1    0      0  \n",
              "1       C      CH  ...  0  0  0  0  0  0       0      1    0      0  \n",
              "2       F      DE  ...  0  0  0  0  0  0       1      0    0      0  \n",
              "3       F      DE  ...  0  0  0  0  0  0       1      0    0      0  \n",
              "4       C      DE  ...  0  0  0  0  0  0       1      0    0      0  \n",
              "\n",
              "[5 rows x 32 columns]"
            ]
          },
          "execution_count": 164,
          "metadata": {},
          "output_type": "execute_result"
        }
      ],
      "source": [
        "df_overview = pd.read_csv('Overview.csv')\n",
        "df_overview.sort_values(by=['Count'], ascending=True, inplace=True) \n",
        "df_overview.tail(5)\n",
        "print(df_overview.columns)\n",
        "\n",
        "df_overview = pd.read_csv('Overview.csv')\n",
        "df_overview = df_overview.rename(columns={'Fast charge (min)': 'ChargeTime'})\n",
        "unique_types = df_overview['Type'].unique()\n",
        "for i in unique_types:\n",
        "    df_overview[i] = np.where(df_overview['Type'] == i, 1, 0)\n",
        "\n",
        "\n",
        "unique_Country = df_overview['Country'].unique()\n",
        "\n",
        "unique_segments = df_overview['Segment'].unique()\n",
        "for i in unique_segments:\n",
        "    df_overview[i] = np.where(df_overview['Segment'] == i, 1, 0)\n",
        "print(f'segments : {unique_segments} \\n Countrys : {unique_Country} \\n types : {unique_types}')\n",
        "\n",
        "\n",
        "#Europa, Kina, USA, Andet\n",
        "df_overview['Europe'] = np.where((df_overview['Country'] != 'US') & (df_overview['Country'] != 'CH') & (df_overview['Country'] != 'JP') & (df_overview['Country'] != 'KR'), 1, 0)\n",
        "df_overview['China'] = np.where(df_overview['Country'] == 'CH', 1, 0)\n",
        "df_overview['USA'] = np.where(df_overview['Country'] == 'US', 1, 0)\n",
        "df_overview['Other'] = np.where((df_overview['Europe'] != 1) & (df_overview['China'] != 1) & (df_overview['USA'] != 1), 1, 0)\n",
        "\n",
        "df_overview.head(5)\n",
        "#df_overview[df_overview['Manufacturer'] == 'Nissan']\n"
      ]
    },
    {
      "cell_type": "code",
      "execution_count": 165,
      "metadata": {},
      "outputs": [
        {
          "name": "stdout",
          "output_type": "stream",
          "text": [
            "   ID  year  Market share Manufacturer Model  Range  Price   HP  ChargeTime  \\\n",
            "0   1  2013           0.0       Aiways    U5    400    0.0  201          34   \n",
            "\n",
            "  Type  ...  E  B  D  M  A  J  Europe  China  USA  Other  \n",
            "0  SUV  ...  0  0  0  0  0  0       0      1    0      0  \n",
            "\n",
            "[1 rows x 31 columns]\n"
          ]
        },
        {
          "name": "stderr",
          "output_type": "stream",
          "text": [
            "/var/folders/ys/szn3cjzn7zg_mdp21slh2_hr0000gn/T/ipykernel_68791/3974771862.py:28: SettingWithCopyWarning: \n",
            "A value is trying to be set on a copy of a slice from a DataFrame\n",
            "\n",
            "See the caveats in the documentation: https://pandas.pydata.org/pandas-docs/stable/user_guide/indexing.html#returning-a-view-versus-a-copy\n",
            "  df_dataset_ms0.sort_values(by=['Market share'], ascending=False, inplace=True)\n"
          ]
        }
      ],
      "source": [
        "df_dataset = pd.read_csv('Dataset.csv')\n",
        "df_dataset = df_dataset.rename(columns={'Fast charge (min)': 'ChargeTime'})\n",
        "unique_types = df_dataset['Type'].unique()\n",
        "#print(df_dataset.columns)\n",
        "for i in unique_types:\n",
        "    df_dataset[i] = np.where(df_dataset['Type'] == i, 1, 0)\n",
        "\n",
        "\n",
        "years = df_dataset['year'].unique()\n",
        "\n",
        "unique_Country = df_dataset['Country'].unique()\n",
        "\n",
        "unique_segments = df_dataset['Segment'].unique()\n",
        "for i in unique_segments:\n",
        "    df_dataset[i] = np.where(df_dataset['Segment'] == i, 1, 0)\n",
        "#print(f'segments : {unique_segments} \\n Countrys : {unique_Country} \\n types : {unique_types}')\n",
        "\n",
        "\n",
        "#Europa, Kina, USA, Andet\n",
        "df_dataset['Europe'] = np.where((df_dataset['Country'] != 'US') & (df_dataset['Country'] != 'CH') & (df_dataset['Country'] != 'JP') & (df_dataset['Country'] != 'KR'), 1, 0)\n",
        "df_dataset['China'] = np.where(df_dataset['Country'] == 'CH', 1, 0)\n",
        "df_dataset['USA'] = np.where(df_dataset['Country'] == 'US', 1, 0)\n",
        "df_dataset['Other'] = np.where((df_dataset['Europe'] != 1) & (df_dataset['China'] != 1) & (df_dataset['USA'] != 1), 1, 0)\n",
        "print(df_dataset.head(1))\n",
        "\n",
        "\n",
        "df_dataset_ms0 = df_dataset[df_dataset['Market share'] != 0]\n",
        "df_dataset_ms0.sort_values(by=['Market share'], ascending=False, inplace=True)\n",
        "#print(df_dataset_ms0.sample(1))\n",
        "\n",
        "df_dataset_year_ms0 = {}\n",
        "for year in years:\n",
        "    df_dataset_year_ms0[year] = df_dataset_ms0[df_dataset_ms0['year'] == year]\n",
        "\n",
        "\n"
      ]
    },
    {
      "cell_type": "markdown",
      "metadata": {},
      "source": []
    },
    {
      "cell_type": "code",
      "execution_count": 166,
      "metadata": {},
      "outputs": [
        {
          "data": {
            "text/html": [
              "<div>\n",
              "<style scoped>\n",
              "    .dataframe tbody tr th:only-of-type {\n",
              "        vertical-align: middle;\n",
              "    }\n",
              "\n",
              "    .dataframe tbody tr th {\n",
              "        vertical-align: top;\n",
              "    }\n",
              "\n",
              "    .dataframe thead th {\n",
              "        text-align: right;\n",
              "    }\n",
              "</style>\n",
              "<table border=\"1\" class=\"dataframe\">\n",
              "  <thead>\n",
              "    <tr style=\"text-align: right;\">\n",
              "      <th></th>\n",
              "      <th>ID</th>\n",
              "      <th>year</th>\n",
              "      <th>Market share</th>\n",
              "      <th>Manufacturer</th>\n",
              "      <th>Model</th>\n",
              "      <th>Range</th>\n",
              "      <th>Price</th>\n",
              "      <th>HP</th>\n",
              "      <th>ChargeTime</th>\n",
              "      <th>Type</th>\n",
              "      <th>...</th>\n",
              "      <th>E</th>\n",
              "      <th>B</th>\n",
              "      <th>D</th>\n",
              "      <th>M</th>\n",
              "      <th>A</th>\n",
              "      <th>J</th>\n",
              "      <th>Europe</th>\n",
              "      <th>China</th>\n",
              "      <th>USA</th>\n",
              "      <th>Other</th>\n",
              "    </tr>\n",
              "  </thead>\n",
              "  <tbody>\n",
              "    <tr>\n",
              "      <th>0</th>\n",
              "      <td>1</td>\n",
              "      <td>2013</td>\n",
              "      <td>0.000000</td>\n",
              "      <td>Aiways</td>\n",
              "      <td>U5</td>\n",
              "      <td>400</td>\n",
              "      <td>0.0</td>\n",
              "      <td>201</td>\n",
              "      <td>34</td>\n",
              "      <td>SUV</td>\n",
              "      <td>...</td>\n",
              "      <td>0</td>\n",
              "      <td>0</td>\n",
              "      <td>0</td>\n",
              "      <td>0</td>\n",
              "      <td>0</td>\n",
              "      <td>0</td>\n",
              "      <td>0</td>\n",
              "      <td>1</td>\n",
              "      <td>0</td>\n",
              "      <td>0</td>\n",
              "    </tr>\n",
              "    <tr>\n",
              "      <th>1</th>\n",
              "      <td>1</td>\n",
              "      <td>2014</td>\n",
              "      <td>0.000000</td>\n",
              "      <td>Aiways</td>\n",
              "      <td>U5</td>\n",
              "      <td>400</td>\n",
              "      <td>0.0</td>\n",
              "      <td>201</td>\n",
              "      <td>34</td>\n",
              "      <td>SUV</td>\n",
              "      <td>...</td>\n",
              "      <td>0</td>\n",
              "      <td>0</td>\n",
              "      <td>0</td>\n",
              "      <td>0</td>\n",
              "      <td>0</td>\n",
              "      <td>0</td>\n",
              "      <td>0</td>\n",
              "      <td>1</td>\n",
              "      <td>0</td>\n",
              "      <td>0</td>\n",
              "    </tr>\n",
              "    <tr>\n",
              "      <th>2</th>\n",
              "      <td>1</td>\n",
              "      <td>2015</td>\n",
              "      <td>0.000000</td>\n",
              "      <td>Aiways</td>\n",
              "      <td>U5</td>\n",
              "      <td>400</td>\n",
              "      <td>0.0</td>\n",
              "      <td>201</td>\n",
              "      <td>34</td>\n",
              "      <td>SUV</td>\n",
              "      <td>...</td>\n",
              "      <td>0</td>\n",
              "      <td>0</td>\n",
              "      <td>0</td>\n",
              "      <td>0</td>\n",
              "      <td>0</td>\n",
              "      <td>0</td>\n",
              "      <td>0</td>\n",
              "      <td>1</td>\n",
              "      <td>0</td>\n",
              "      <td>0</td>\n",
              "    </tr>\n",
              "    <tr>\n",
              "      <th>3</th>\n",
              "      <td>1</td>\n",
              "      <td>2016</td>\n",
              "      <td>0.000000</td>\n",
              "      <td>Aiways</td>\n",
              "      <td>U5</td>\n",
              "      <td>400</td>\n",
              "      <td>0.0</td>\n",
              "      <td>201</td>\n",
              "      <td>34</td>\n",
              "      <td>SUV</td>\n",
              "      <td>...</td>\n",
              "      <td>0</td>\n",
              "      <td>0</td>\n",
              "      <td>0</td>\n",
              "      <td>0</td>\n",
              "      <td>0</td>\n",
              "      <td>0</td>\n",
              "      <td>0</td>\n",
              "      <td>1</td>\n",
              "      <td>0</td>\n",
              "      <td>0</td>\n",
              "    </tr>\n",
              "    <tr>\n",
              "      <th>4</th>\n",
              "      <td>1</td>\n",
              "      <td>2017</td>\n",
              "      <td>0.000000</td>\n",
              "      <td>Aiways</td>\n",
              "      <td>U5</td>\n",
              "      <td>400</td>\n",
              "      <td>0.0</td>\n",
              "      <td>201</td>\n",
              "      <td>34</td>\n",
              "      <td>SUV</td>\n",
              "      <td>...</td>\n",
              "      <td>0</td>\n",
              "      <td>0</td>\n",
              "      <td>0</td>\n",
              "      <td>0</td>\n",
              "      <td>0</td>\n",
              "      <td>0</td>\n",
              "      <td>0</td>\n",
              "      <td>1</td>\n",
              "      <td>0</td>\n",
              "      <td>0</td>\n",
              "    </tr>\n",
              "    <tr>\n",
              "      <th>5</th>\n",
              "      <td>1</td>\n",
              "      <td>2018</td>\n",
              "      <td>0.000000</td>\n",
              "      <td>Aiways</td>\n",
              "      <td>U5</td>\n",
              "      <td>400</td>\n",
              "      <td>0.0</td>\n",
              "      <td>201</td>\n",
              "      <td>34</td>\n",
              "      <td>SUV</td>\n",
              "      <td>...</td>\n",
              "      <td>0</td>\n",
              "      <td>0</td>\n",
              "      <td>0</td>\n",
              "      <td>0</td>\n",
              "      <td>0</td>\n",
              "      <td>0</td>\n",
              "      <td>0</td>\n",
              "      <td>1</td>\n",
              "      <td>0</td>\n",
              "      <td>0</td>\n",
              "    </tr>\n",
              "    <tr>\n",
              "      <th>6</th>\n",
              "      <td>1</td>\n",
              "      <td>2019</td>\n",
              "      <td>0.000000</td>\n",
              "      <td>Aiways</td>\n",
              "      <td>U5</td>\n",
              "      <td>400</td>\n",
              "      <td>0.0</td>\n",
              "      <td>201</td>\n",
              "      <td>34</td>\n",
              "      <td>SUV</td>\n",
              "      <td>...</td>\n",
              "      <td>0</td>\n",
              "      <td>0</td>\n",
              "      <td>0</td>\n",
              "      <td>0</td>\n",
              "      <td>0</td>\n",
              "      <td>0</td>\n",
              "      <td>0</td>\n",
              "      <td>1</td>\n",
              "      <td>0</td>\n",
              "      <td>0</td>\n",
              "    </tr>\n",
              "    <tr>\n",
              "      <th>7</th>\n",
              "      <td>1</td>\n",
              "      <td>2020</td>\n",
              "      <td>0.000000</td>\n",
              "      <td>Aiways</td>\n",
              "      <td>U5</td>\n",
              "      <td>400</td>\n",
              "      <td>0.0</td>\n",
              "      <td>201</td>\n",
              "      <td>34</td>\n",
              "      <td>SUV</td>\n",
              "      <td>...</td>\n",
              "      <td>0</td>\n",
              "      <td>0</td>\n",
              "      <td>0</td>\n",
              "      <td>0</td>\n",
              "      <td>0</td>\n",
              "      <td>0</td>\n",
              "      <td>0</td>\n",
              "      <td>1</td>\n",
              "      <td>0</td>\n",
              "      <td>0</td>\n",
              "    </tr>\n",
              "    <tr>\n",
              "      <th>8</th>\n",
              "      <td>1</td>\n",
              "      <td>2021</td>\n",
              "      <td>0.010319</td>\n",
              "      <td>Aiways</td>\n",
              "      <td>U5</td>\n",
              "      <td>400</td>\n",
              "      <td>284622.0</td>\n",
              "      <td>201</td>\n",
              "      <td>34</td>\n",
              "      <td>SUV</td>\n",
              "      <td>...</td>\n",
              "      <td>0</td>\n",
              "      <td>0</td>\n",
              "      <td>0</td>\n",
              "      <td>0</td>\n",
              "      <td>0</td>\n",
              "      <td>0</td>\n",
              "      <td>0</td>\n",
              "      <td>1</td>\n",
              "      <td>0</td>\n",
              "      <td>0</td>\n",
              "    </tr>\n",
              "    <tr>\n",
              "      <th>9</th>\n",
              "      <td>1</td>\n",
              "      <td>2022</td>\n",
              "      <td>0.005938</td>\n",
              "      <td>Aiways</td>\n",
              "      <td>U5</td>\n",
              "      <td>400</td>\n",
              "      <td>313682.0</td>\n",
              "      <td>201</td>\n",
              "      <td>34</td>\n",
              "      <td>SUV</td>\n",
              "      <td>...</td>\n",
              "      <td>0</td>\n",
              "      <td>0</td>\n",
              "      <td>0</td>\n",
              "      <td>0</td>\n",
              "      <td>0</td>\n",
              "      <td>0</td>\n",
              "      <td>0</td>\n",
              "      <td>1</td>\n",
              "      <td>0</td>\n",
              "      <td>0</td>\n",
              "    </tr>\n",
              "    <tr>\n",
              "      <th>10</th>\n",
              "      <td>1</td>\n",
              "      <td>2023</td>\n",
              "      <td>0.002822</td>\n",
              "      <td>Aiways</td>\n",
              "      <td>U5</td>\n",
              "      <td>400</td>\n",
              "      <td>264524.0</td>\n",
              "      <td>201</td>\n",
              "      <td>34</td>\n",
              "      <td>SUV</td>\n",
              "      <td>...</td>\n",
              "      <td>0</td>\n",
              "      <td>0</td>\n",
              "      <td>0</td>\n",
              "      <td>0</td>\n",
              "      <td>0</td>\n",
              "      <td>0</td>\n",
              "      <td>0</td>\n",
              "      <td>1</td>\n",
              "      <td>0</td>\n",
              "      <td>0</td>\n",
              "    </tr>\n",
              "  </tbody>\n",
              "</table>\n",
              "<p>11 rows × 31 columns</p>\n",
              "</div>"
            ],
            "text/plain": [
              "    ID  year  Market share Manufacturer Model  Range     Price   HP  \\\n",
              "0    1  2013      0.000000       Aiways    U5    400       0.0  201   \n",
              "1    1  2014      0.000000       Aiways    U5    400       0.0  201   \n",
              "2    1  2015      0.000000       Aiways    U5    400       0.0  201   \n",
              "3    1  2016      0.000000       Aiways    U5    400       0.0  201   \n",
              "4    1  2017      0.000000       Aiways    U5    400       0.0  201   \n",
              "5    1  2018      0.000000       Aiways    U5    400       0.0  201   \n",
              "6    1  2019      0.000000       Aiways    U5    400       0.0  201   \n",
              "7    1  2020      0.000000       Aiways    U5    400       0.0  201   \n",
              "8    1  2021      0.010319       Aiways    U5    400  284622.0  201   \n",
              "9    1  2022      0.005938       Aiways    U5    400  313682.0  201   \n",
              "10   1  2023      0.002822       Aiways    U5    400  264524.0  201   \n",
              "\n",
              "    ChargeTime Type  ...  E  B  D  M  A  J  Europe  China  USA  Other  \n",
              "0           34  SUV  ...  0  0  0  0  0  0       0      1    0      0  \n",
              "1           34  SUV  ...  0  0  0  0  0  0       0      1    0      0  \n",
              "2           34  SUV  ...  0  0  0  0  0  0       0      1    0      0  \n",
              "3           34  SUV  ...  0  0  0  0  0  0       0      1    0      0  \n",
              "4           34  SUV  ...  0  0  0  0  0  0       0      1    0      0  \n",
              "5           34  SUV  ...  0  0  0  0  0  0       0      1    0      0  \n",
              "6           34  SUV  ...  0  0  0  0  0  0       0      1    0      0  \n",
              "7           34  SUV  ...  0  0  0  0  0  0       0      1    0      0  \n",
              "8           34  SUV  ...  0  0  0  0  0  0       0      1    0      0  \n",
              "9           34  SUV  ...  0  0  0  0  0  0       0      1    0      0  \n",
              "10          34  SUV  ...  0  0  0  0  0  0       0      1    0      0  \n",
              "\n",
              "[11 rows x 31 columns]"
            ]
          },
          "execution_count": 166,
          "metadata": {},
          "output_type": "execute_result"
        }
      ],
      "source": [
        "df_dataset.head(11)\n",
        "#df.info()"
      ]
    },
    {
      "cell_type": "markdown",
      "metadata": {},
      "source": [
        "## Grafer"
      ]
    },
    {
      "cell_type": "code",
      "execution_count": 167,
      "metadata": {},
      "outputs": [],
      "source": [
        "Country_shares = {\n",
        "    'Europe': [],\n",
        "    'China': [],\n",
        "    'USA': [],\n",
        "    'Other': []\n",
        "}\n",
        "#& (df_dataset['Market share'] != 0)\n",
        "for Country in Country_shares.keys():\n",
        "    for year in years:\n",
        "        Country_df = df_dataset[(df_dataset[Country] == 1) & (df_dataset['year'] == year)]\n",
        "        if not Country_df.empty:\n",
        "            Country_shares[Country].append(Country_df['Market share'].sum())\n",
        "#print(Country_shares)\n",
        "\n",
        "\n"
      ]
    },
    {
      "cell_type": "code",
      "execution_count": 168,
      "metadata": {},
      "outputs": [
        {
          "data": {
            "image/png": "[encoded data removed]",
            "text/plain": [
              "<Figure size 432x288 with 1 Axes>"
            ]
          },
          "metadata": {
            "needs_background": "light"
          },
          "output_type": "display_data"
        },
        {
          "data": {
            "image/png": "[encoded data removed]",
            "text/plain": [
              "<Figure size 432x288 with 1 Axes>"
            ]
          },
          "metadata": {
            "needs_background": "light"
          },
          "output_type": "display_data"
        },
        {
          "data": {
            "image/png": "[encoded data removed]",
            "text/plain": [
              "<Figure size 432x288 with 1 Axes>"
            ]
          },
          "metadata": {
            "needs_background": "light"
          },
          "output_type": "display_data"
        },
        {
          "data": {
            "image/png": "[encoded data removed]",
            "text/plain": [
              "<Figure size 432x288 with 1 Axes>"
            ]
          },
          "metadata": {
            "needs_background": "light"
          },
          "output_type": "display_data"
        },
        {
          "data": {
            "image/png": "[encoded data removed]",
            "text/plain": [
              "<Figure size 432x288 with 1 Axes>"
            ]
          },
          "metadata": {
            "needs_background": "light"
          },
          "output_type": "display_data"
        },
        {
          "data": {
            "image/png": "[encoded data removed]",
            "text/plain": [
              "<Figure size 432x288 with 1 Axes>"
            ]
          },
          "metadata": {
            "needs_background": "light"
          },
          "output_type": "display_data"
        },
        {
          "data": {
            "image/png": "[encoded data removed]",
            "text/plain": [
              "<Figure size 432x288 with 1 Axes>"
            ]
          },
          "metadata": {
            "needs_background": "light"
          },
          "output_type": "display_data"
        },
        {
          "data": {
            "image/png": "[encoded data removed]",
            "text/plain": [
              "<Figure size 432x288 with 1 Axes>"
            ]
          },
          "metadata": {
            "needs_background": "light"
          },
          "output_type": "display_data"
        },
        {
          "data": {
            "image/png": "[encoded data removed]",
            "text/plain": [
              "<Figure size 432x288 with 1 Axes>"
            ]
          },
          "metadata": {
            "needs_background": "light"
          },
          "output_type": "display_data"
        },
        {
          "data": {
            "image/png": "[encoded data removed]",
            "text/plain": [
              "<Figure size 432x288 with 1 Axes>"
            ]
          },
          "metadata": {
            "needs_background": "light"
          },
          "output_type": "display_data"
        },
        {
          "data": {
            "image/png": "[encoded data removed]",
            "text/plain": [
              "<Figure size 432x288 with 1 Axes>"
            ]
          },
          "metadata": {
            "needs_background": "light"
          },
          "output_type": "display_data"
        }
      ],
      "source": [
        "'''\n",
        "Done\n",
        "Hvem har størst market share? \n",
        "Pris mod market share\n",
        "Pris/HP\n",
        "Pris/Range\n",
        "Hvordan ser det ud for kinesere isoleret?\n",
        "Kinesere vs resten\n",
        "\n",
        "Yet to come\n",
        "Størst udvikling i market share?\n",
        "'''\n",
        "\n",
        "#Market share over time\n",
        "#plt.figure(figsize=(12, 6))\n",
        "for Country in Country_shares.keys():\n",
        "    plt.plot(years, Country_shares[Country])\n",
        "plt.legend(['EU', 'China', 'USA', 'Other'])\n",
        "plt.xlabel('Years')\n",
        "plt.ylabel('Market share')\n",
        "plt.title('Market share over time')\n",
        "plt.show()\n",
        "\n",
        "#Pris mod market share\n",
        "# x = pris, y = Count\n",
        "#plt.scatter(x,y)\n",
        "#Kun for de 5 med højest Count\n",
        "mængde = 100\n",
        "# Pris/Market Share\n",
        "plt.scatter(df_overview.Price[len(df_overview)-mængde:], df_overview.Share[len(df_overview)-mængde:])\n",
        "plt.title('Pris mod market share')\n",
        "plt.xlabel('Pris(100k)')\n",
        "plt.ylabel('Market Share')\n",
        "plt.show()\n",
        "\n",
        "# Pris/HP\n",
        "plt.scatter(df_overview.Price[len(df_overview)-mængde:], df_overview.HP[len(df_overview)-mængde:])\n",
        "plt.title('Pris/HP')\n",
        "plt.xlabel('Pris')\n",
        "plt.ylabel('HP')\n",
        "plt.show()\n",
        "\n",
        "# Market share/HP\n",
        "plt.scatter(df_overview.Share[len(df_overview)-mængde:], df_overview.HP[len(df_overview)-mængde:])\n",
        "plt.title('Market share/HP')\n",
        "plt.xlabel('Pris')\n",
        "plt.ylabel('HP')\n",
        "plt.show()\n",
        "\n",
        "#Pris/Range\n",
        "plt.scatter(df_overview.Price[len(df_overview)-mængde:], df_overview.Range[len(df_overview)-mængde:])\n",
        "plt.title('Pris/Range')\n",
        "plt.xlabel('Pris')\n",
        "plt.ylabel('Range')\n",
        "plt.show()\n",
        "\n",
        "#Market share over time\n",
        "plt.plot(years, Country_shares['China'])\n",
        "plt.xlabel('Years')\n",
        "plt.ylabel('Market share')\n",
        "plt.title('China Cars Market Share over Time')\n",
        "plt.show()\n",
        "\n",
        "#Total Cars by Chinese Brand\n",
        "df_china = df_overview[df_overview['China'] == 1]\n",
        "brand_totals = df_china.groupby('Manufacturer')['Count'].sum()\n",
        "\n",
        "plt.bar(brand_totals.index, brand_totals.values)\n",
        "plt.title('Total Cars by Chinese Brand')\n",
        "plt.xlabel('Manufacturer')\n",
        "plt.ylabel('Total Cars')\n",
        "plt.xticks(rotation=90)\n",
        "plt.show()\n",
        "\n",
        "#Kinesere by brands\n",
        "df_china = df_overview[df_overview['China'] == 1]\n",
        "\n",
        "total_kina = df_china['Count'].sum() #Alle kinesere (samlet)\n",
        "plt.bar('Total Kina', total_kina)\n",
        "plt.title('Total Cars by Chinese Brands')\n",
        "\n",
        "\n",
        "#Alle ikke CH-brands mod total CH. \n",
        "df_not_china = df_overview[df_overview['China'] == 0]\n",
        "not_china_totals = df_not_china.groupby('Manufacturer')['Count'].sum() #Alle ikke kinesere(unikke)\n",
        "sorted_not_china_totals = not_china_totals.sort_values(ascending=False)\n",
        "\n",
        "for i, (brand, total) in enumerate(sorted_not_china_totals.items()):\n",
        "    plt.bar(brand, total, label=brand)\n",
        "\n",
        "plt.title('Total Cars by Brand')\n",
        "plt.xlabel('Brand')\n",
        "plt.ylabel('Total Cars')\n",
        "plt.xticks(rotation=90)\n",
        "plt.show()\n",
        "\n",
        "#Tesla models (Største i EU)\n",
        "df_tesla = df_overview[df_overview['Manufacturer'] == 'Tesla']\n",
        "df_tesla = df_tesla.groupby('Model')['Count'].sum()\n",
        "plt.bar(df_tesla.index, df_tesla.values)\n",
        "plt.title('Tesla Models')\n",
        "plt.show()\n",
        "\n",
        "#MG (største kinesiske mærke i DK)\n",
        "df_mg = df_overview[df_overview['Manufacturer'] == 'MG']\n",
        "df_mg = df_mg.groupby('Model')['Count'].sum()\n",
        "plt.bar(df_mg.index, df_mg.values)\n",
        "plt.title('MG Models')\n",
        "plt.show()\n",
        "\n",
        "#Cars by segment\n",
        "segment_totals = df_overview.groupby('Segment')['Count'].sum()\n",
        "plt.bar(segment_totals.index, segment_totals.values)\n",
        "plt.title('Total Cars by Segment')\n",
        "plt.xlabel('Segment')\n",
        "plt.ylabel('Total Cars')\n",
        "plt.xticks(rotation=90)\n",
        "plt.show()\n",
        "\n",
        "\n"
      ]
    },
    {
      "cell_type": "markdown",
      "metadata": {},
      "source": [
        "# Estimering"
      ]
    },
    {
      "cell_type": "code",
      "execution_count": 169,
      "metadata": {},
      "outputs": [],
      "source": [
        "label_y = 'Market share'\n",
        "label_x = ['Range', 'Price', 'HP', 'ChargeTime', 'China']\n",
        "data_scaled = df_dataset\n",
        "data_scaled['Range'] = data_scaled['Range'] / 100\n",
        "data_scaled['Price'] = data_scaled['Price'] / 100000\n",
        "data_scaled['HP'] = data_scaled['HP'] / 100\n",
        "data_scaled['ChargeTime'] = data_scaled['ChargeTime'] / 100"
      ]
    },
    {
      "cell_type": "markdown",
      "metadata": {},
      "source": [
        "## Standard OLS"
      ]
    },
    {
      "cell_type": "code",
      "execution_count": 170,
      "metadata": {},
      "outputs": [
        {
          "name": "stdout",
          "output_type": "stream",
          "text": [
            "Data has N=110 and T=11 data is = 1210, 1210\n"
          ]
        }
      ],
      "source": [
        "#Bruger data hvor ms = 0 er inkluderet\n",
        "data = df_dataset\n",
        "N = data['ID'].unique().size\n",
        "N\n",
        "#print(\"market share value :\", df['Market share'].size)\n",
        "T = data['year'].unique().size\n",
        "assert data.shape[0] == N*T, f'Error: data is not a balanced panel'\n",
        "print(f'Data has N={N} and T={T} data is = {data.shape[0]}, {N*T}')"
      ]
    },
    {
      "cell_type": "code",
      "execution_count": 171,
      "metadata": {},
      "outputs": [],
      "source": [
        "#Bruger data hvor ms = 0 er inkluderet\n",
        "N\n",
        "y = df_dataset['Market share'].values.reshape((N*T,1))\n",
        "ones = np.ones((N*T,1))\n",
        "Range = df_dataset['Range'].values.reshape((N*T,1)) #1\n",
        "Price = df_dataset['Price'].values.reshape((N*T,1)) #2\n",
        "HP = df_dataset['HP'].values.reshape((N*T,1)) #3\n",
        "ChargeTime = df_dataset['ChargeTime'].values.reshape((N*T,1))  #4\n",
        "China = df_dataset['China'].values.reshape((N*T,1)) #5\n",
        "\n",
        "X = np.hstack([ones, Range, Price, HP, ChargeTime, China])\n",
        "#print(f' y \\n {y[:2]} \\n ones: \\n {ones[:2]} \\n X: {X[:2]} \\n {X.size} \\n')"
      ]
    },
    {
      "cell_type": "code",
      "execution_count": 172,
      "metadata": {},
      "outputs": [
        {
          "name": "stdout",
          "output_type": "stream",
          "text": [
            "                            OLS Regression Results                            \n",
            "==============================================================================\n",
            "Dep. Variable:           Market share   R-squared:                       0.048\n",
            "Model:                            OLS   Adj. R-squared:                  0.044\n",
            "Method:                 Least Squares   F-statistic:                     10.79\n",
            "Date:                Sat, 02 Mar 2024   Prob (F-statistic):           3.64e-10\n",
            "Time:                        11:28:26   Log-Likelihood:                 2126.3\n",
            "No. Observations:                1210   AIC:                            -4241.\n",
            "Df Residuals:                    1204   BIC:                            -4210.\n",
            "Df Model:                           5                                         \n",
            "Covariance Type:                  HC3                                         \n",
            "==============================================================================\n",
            "                 coef    std err          z      P>|z|      [0.025      0.975]\n",
            "------------------------------------------------------------------------------\n",
            "const         -0.0105      0.006     -1.678      0.093      -0.023       0.002\n",
            "Range          0.0024      0.001      2.098      0.036       0.000       0.005\n",
            "Price          0.0023      0.001      2.112      0.035       0.000       0.005\n",
            "HP            -0.0005      0.001     -0.356      0.722      -0.003       0.002\n",
            "ChargeTime     0.0291      0.013      2.246      0.025       0.004       0.054\n",
            "China         -0.0106      0.003     -4.006      0.000      -0.016      -0.005\n",
            "==============================================================================\n",
            "Omnibus:                     1829.389   Durbin-Watson:                   0.908\n",
            "Prob(Omnibus):                  0.000   Jarque-Bera (JB):           509275.457\n",
            "Skew:                           9.100   Prob(JB):                         0.00\n",
            "Kurtosis:                     101.844   Cond. No.                         55.8\n",
            "==============================================================================\n",
            "\n",
            "Notes:\n",
            "[1] Standard Errors are heteroscedasticity robust (HC3)\n"
          ]
        }
      ],
      "source": [
        "#OLS estimation\n",
        "model = sm.OLS(y, X)\n",
        "results = model.fit(cov_type='HC3')\n",
        "print(results.summary(xname=['const', 'Range', 'Price', 'HP', 'ChargeTime', 'China'], yname='Market share'))\n"
      ]
    },
    {
      "cell_type": "code",
      "execution_count": 173,
      "metadata": {},
      "outputs": [
        {
          "name": "stdout",
          "output_type": "stream",
          "text": [
            "Data has N=102 and T=1 data is = 102, 102\n",
            "                            OLS Regression Results                            \n",
            "==============================================================================\n",
            "Dep. Variable:           Market share   R-squared:                       0.069\n",
            "Model:                            OLS   Adj. R-squared:                  0.020\n",
            "Method:                 Least Squares   F-statistic:                     2.916\n",
            "Date:                Sat, 02 Mar 2024   Prob (F-statistic):             0.0171\n",
            "Time:                        11:28:26   Log-Likelihood:                 217.42\n",
            "No. Observations:                 102   AIC:                            -422.8\n",
            "Df Residuals:                      96   BIC:                            -407.1\n",
            "Df Model:                           5                                         \n",
            "Covariance Type:                  HC3                                         \n",
            "==============================================================================\n",
            "                 coef    std err          z      P>|z|      [0.025      0.975]\n",
            "------------------------------------------------------------------------------\n",
            "const         -0.0011      0.008     -0.139      0.890      -0.016       0.014\n",
            "Range       3.662e-05   3.02e-05      1.212      0.225   -2.26e-05    9.58e-05\n",
            "Price      -2.067e-09   3.66e-08     -0.056      0.955   -7.38e-08    6.97e-08\n",
            "HP          2.068e-05   5.51e-05      0.375      0.707   -8.73e-05       0.000\n",
            "ChargeTime    -0.0002      0.000     -1.144      0.253      -0.001       0.000\n",
            "China         -0.0109      0.009     -1.161      0.246      -0.029       0.007\n",
            "==============================================================================\n",
            "Omnibus:                      191.224   Durbin-Watson:                   0.697\n",
            "Prob(Omnibus):                  0.000   Jarque-Bera (JB):            20660.464\n",
            "Skew:                           7.720   Prob(JB):                         0.00\n",
            "Kurtosis:                      70.992   Cond. No.                     5.59e+06\n",
            "==============================================================================\n",
            "\n",
            "Notes:\n",
            "[1] Standard Errors are heteroscedasticity robust (HC3)\n",
            "[2] The condition number is large, 5.59e+06. This might indicate that there are\n",
            "strong multicollinearity or other numerical problems.\n"
          ]
        }
      ],
      "source": [
        "#Bruger data hvor ms = 0 er ekskluderet\n",
        "data = df_dataset_year_ms0[2023]\n",
        "\n",
        "N = data['ID'].unique().size\n",
        "#print(\"market share value :\", df['Market share'].size)\n",
        "T = data['year'].unique().size\n",
        "assert data.shape[0] == N*T, f'Error: data is not a balanced panel'\n",
        "print(f'Data has N={N} and T={T} data is = {data.shape[0]}, {N*T}')\n",
        "\n",
        "y = data['Market share'].values.reshape((N*T,1))\n",
        "ones = np.ones((N*T,1))\n",
        "Range = data['Range'].values.reshape((N*T,1)) #1\n",
        "Price = data['Price'].values.reshape((N*T,1)) #2\n",
        "HP = data['HP'].values.reshape((N*T,1)) #3\n",
        "ChargeTime = data['ChargeTime'].values.reshape((N*T,1))  #4\n",
        "China = data['China'].values.reshape((N*T,1)) #5\n",
        "X = np.hstack([ones, Range, Price, HP, ChargeTime, China])\n",
        "\n",
        "\n",
        "#OLS estimation\n",
        "model = sm.OLS(y, X)\n",
        "results = model.fit(cov_type='HC3')\n",
        "print(results.summary(xname=['const', 'Range', 'Price', 'HP', 'ChargeTime', 'China'], yname='Market share'))\n"
      ]
    },
    {
      "cell_type": "markdown",
      "metadata": {},
      "source": [
        "## Logit"
      ]
    },
    {
      "cell_type": "code",
      "execution_count": 174,
      "metadata": {},
      "outputs": [
        {
          "name": "stdout",
          "output_type": "stream",
          "text": [
            "Data has N=110 and T=11 data is = 1210, 1210\n"
          ]
        }
      ],
      "source": [
        "#Estimere full sample med logit\n",
        "data = df_dataset\n",
        "N = data['ID'].unique().size\n",
        "#print(\"market share value :\", df['Market share'].size)\n",
        "T = data['year'].unique().size\n",
        "assert data.shape[0] == N*T, f'Error: data is not a balanced panel'\n",
        "print(f'Data has N={N} and T={T} data is = {data.shape[0]}, {N*T}')"
      ]
    },
    {
      "cell_type": "code",
      "execution_count": 175,
      "metadata": {},
      "outputs": [],
      "source": [
        "# Sample data generation\n",
        "\n",
        "y = data['Market share'].values.reshape((N*T,1))\n",
        "ones = np.ones((N*T,1))\n",
        "Range = data['Range'].values.reshape((N*T,1)) #1\n",
        "Price = data['Price'].values.reshape((N*T,1)) #2\n",
        "HP = data['HP'].values.reshape((N*T,1)) #3\n",
        "ChargeTime = data['ChargeTime'].values.reshape((N*T,1))  #4\n",
        "China = data['China'].values.reshape((N*T,1)) #5\n",
        "X = np.hstack([ones, Range, Price, HP, ChargeTime, China])\n",
        "\n",
        "\n",
        "# Fit logistic regression model\n",
        "#logit_model = sm.Logit(y, X)\n",
        "#result = logit_model.fit(cov_type = 'HC3')\n",
        "\n",
        "# Display results\n",
        "#print(result.summary(xname=['const', 'Range', 'Price', 'HP', 'ChargeTime', 'China'], yname='Market share'))\n"
      ]
    },
    {
      "cell_type": "markdown",
      "metadata": {},
      "source": [
        "## Conditional Logit"
      ]
    },
    {
      "cell_type": "code",
      "execution_count": 176,
      "metadata": {},
      "outputs": [
        {
          "name": "stdout",
          "output_type": "stream",
          "text": [
            " \n",
            " \n",
            " y shape (110, 1, 11) \n",
            " \n",
            " x shape (110, 5, 11)\n"
          ]
        }
      ],
      "source": [
        "\n",
        "data = df_dataset\n",
        "T = data['year'].unique().size\n",
        "M = data['Model'].unique().size\n",
        "#print(f'df {data.head(1)}, {data.shape}')\n",
        "\n",
        "data = np.array(data[['Market share', 'Range', 'Price', 'HP', 'ChargeTime', 'China']])\n",
        "#print(f'\\n \\n data: {data[:2]} \\n shape {data.shape[1]}')\n",
        "V = data.shape[1] - 1\n",
        "\n",
        "y = data[:,0].reshape(M,1, T) #reshape for column vector\n",
        "#print(f' \\n \\n y: {y[:2]} \\n shape {y.shape}')\n",
        "\n",
        "x = data[:,1:].reshape(M, V, T)\n",
        "#print(f' \\n \\n x: {x[:2]} \\n shape {x.shape}')\n",
        "\n",
        "print(f' \\n \\n y shape {y.shape} \\n \\n x shape {x.shape}')"
      ]
    },
    {
      "cell_type": "markdown",
      "metadata": {},
      "source": [
        "# BLP demand side"
      ]
    },
    {
      "cell_type": "code",
      "execution_count": 177,
      "metadata": {},
      "outputs": [
        {
          "name": "stdout",
          "output_type": "stream",
          "text": [
            "Data has N=6 and T=1 data is = 6, 6\n",
            "                            OLS Regression Results                            \n",
            "==============================================================================\n",
            "Dep. Variable:           Market share   R-squared:                       0.080\n",
            "Model:                            OLS   Adj. R-squared:                 -0.533\n",
            "Method:                 Least Squares   F-statistic:                    0.1308\n",
            "Date:                Sat, 02 Mar 2024   Prob (F-statistic):              0.882\n",
            "Time:                        11:28:26   Log-Likelihood:                 3.5702\n",
            "No. Observations:                   6   AIC:                            -1.140\n",
            "Df Residuals:                       3   BIC:                            -1.765\n",
            "Df Model:                           2                                         \n",
            "Covariance Type:            nonrobust                                         \n",
            "==============================================================================\n",
            "                 coef    std err          t      P>|t|      [0.025      0.975]\n",
            "------------------------------------------------------------------------------\n",
            "Cons           0.1254      0.317      0.396      0.719      -0.883       1.133\n",
            "Price      -2.525e-07   2.91e-06     -0.087      0.936   -9.52e-06    9.01e-06\n",
            "HP             0.0004      0.003      0.155      0.886      -0.008       0.009\n",
            "==============================================================================\n",
            "Omnibus:                          nan   Durbin-Watson:                   0.903\n",
            "Prob(Omnibus):                    nan   Jarque-Bera (JB):                1.389\n",
            "Skew:                           1.177   Prob(JB):                        0.499\n",
            "Kurtosis:                       3.119   Cond. No.                     1.45e+06\n",
            "==============================================================================\n",
            "\n",
            "Notes:\n",
            "[1] Standard Errors assume that the covariance matrix of the errors is correctly specified.\n",
            "[2] The condition number is large, 1.45e+06. This might indicate that there are\n",
            "strong multicollinearity or other numerical problems.\n"
          ]
        },
        {
          "name": "stderr",
          "output_type": "stream",
          "text": [
            "/Users/mikkeldollerup/opt/anaconda3/lib/python3.9/site-packages/statsmodels/stats/stattools.py:74: ValueWarning: omni_normtest is not valid with less than 8 observations; 6 samples were given.\n",
            "  warn(\"omni_normtest is not valid with less than 8 observations; %i \"\n"
          ]
        }
      ],
      "source": [
        "#Bruger data hvor ms = 0 er ekskluderet\n",
        "data = df_dataset_year_ms0[2013]\n",
        "\n",
        "xnames = ['Cons', 'Price', 'HP']\n",
        "\n",
        "N = data['ID'].unique().size\n",
        "#print(\"market share value :\", df['Market share'].size)\n",
        "T = data['year'].unique().size\n",
        "assert data.shape[0] == N*T, f'Error: data is not a balanced panel'\n",
        "print(f'Data has N={N} and T={T} data is = {data.shape[0]}, {N*T}')\n",
        "\n",
        "y = data['Market share'].values.reshape((N*T,1))\n",
        "ones = np.ones((N*T,1))\n",
        "Price = data['Price'].values.reshape((N*T,1)) #2\n",
        "HP = data['HP'].values.reshape((N*T,1)) #2\n",
        "X = np.hstack([ones, Price, HP])\n",
        "\n",
        "\n",
        "#OLS estimation\n",
        "model = sm.OLS(y, X)\n",
        "results = model.fit()\n",
        "print(results.summary(xname= xnames, yname='Market share'))\n"
      ]
    },
    {
      "cell_type": "code",
      "execution_count": 178,
      "metadata": {},
      "outputs": [
        {
          "data": {
            "text/plain": [
              "array([0.12252418, 0.22450293, 0.13745068, 0.11525368, 0.1055735 ,\n",
              "       0.13177368])"
            ]
          },
          "execution_count": 178,
          "metadata": {},
          "output_type": "execute_result"
        }
      ],
      "source": [
        "results.predict()"
      ]
    },
    {
      "cell_type": "markdown",
      "metadata": {},
      "source": [
        "## $\\textbf{Logit:}$ in market shares"
      ]
    },
    {
      "cell_type": "code",
      "execution_count": 179,
      "metadata": {},
      "outputs": [
        {
          "name": "stdout",
          "output_type": "stream",
          "text": [
            "coefficients: [-2.52460177e-07  4.15896068e-04]\n"
          ]
        }
      ],
      "source": [
        "coefficients = results.params\n",
        "print(f'coefficients: {coefficients[1:]}')\n",
        "# Generate random numbers from Gumbel distribution\n",
        "\n",
        "scale = (np.pi)**2/6\n",
        "#E = np.random.gumbel(loc=0, scale=1, size=N*T)\n",
        "alpha = coefficients[1]\n",
        "beta = coefficients[1:] #coefficients[2]\n",
        "x_jt = data['HP'].values.reshape((N*T,1))\n",
        "p_jt = data['Price'].values.reshape((N*T,1)) #ens p_jt, men forskellig shape. idk om der er forskel rækkevector virker bare mere intuitivt.\n",
        "\n",
        "def delta(alpha, beta, x_jt, p_jt):\n",
        "    return alpha*p_jt + x_jt*beta \n",
        "\n",
        "\n"
      ]
    },
    {
      "cell_type": "code",
      "execution_count": null,
      "metadata": {},
      "outputs": [],
      "source": [
        "x = lf.ccp(alpha, beta, x_jt, p_jt)"
      ]
    },
    {
      "cell_type": "markdown",
      "metadata": {},
      "source": [
        "$log(s_{jt})$ = $\\alpha p_{jt} + x_{jt}\\beta + \\xi_{jt}$"
      ]
    },
    {
      "cell_type": "code",
      "execution_count": 180,
      "metadata": {},
      "outputs": [
        {
          "name": "stdout",
          "output_type": "stream",
          "text": [
            "[-0.0640466223418077, -0.18166100245235595, -0.043713479673948535, -0.043867985302365846, -0.053132263963152536], \n",
            " sum: -0.4495363980217457\n"
          ]
        }
      ],
      "source": [
        "delta_list = []\n",
        "for i in range(len(p_jt)):\n",
        "    x = delta(alpha, beta, x_jt, p_jt[i])\n",
        "    #print(f'i={p_jt[i]} delta = {x}')\n",
        "    delta_list.append(x)\n",
        "\n",
        "delta_list = np.array(delta_list)\n",
        "delta_list = delta_list.flatten().tolist()\n",
        "\n",
        "print(f'{delta_list[:5]}, \\n sum: {sum(delta_list)}')"
      ]
    },
    {
      "cell_type": "code",
      "execution_count": 181,
      "metadata": {},
      "outputs": [
        {
          "name": "stdout",
          "output_type": "stream",
          "text": [
            "[0.937961268560452, 0.8338839771297188, 0.9572281835167498, 0.9570802977995988, 0.9482545842782711, 0.9388354598189309]\n"
          ]
        }
      ],
      "source": [
        "exp_delta_list = []\n",
        "for i in range(len(delta_list)):\n",
        "    x = np.exp(delta_list[i])\n",
        "    #print(f'i = {delta_list[i]} exp = {x}')\n",
        "    exp_delta_list.append(x)\n",
        "print(exp_delta_list)\n",
        "\n",
        "\n"
      ]
    },
    {
      "cell_type": "markdown",
      "metadata": {},
      "source": [
        "Udregner for alle j \n",
        "$\n",
        ":Pr(j|t)\\frac{exp(\\delta_{jt})}{\\sum_{k \\in J_t} exp(\\delta_{kt})}\n",
        "$"
      ]
    },
    {
      "cell_type": "code",
      "execution_count": 182,
      "metadata": {},
      "outputs": [
        {
          "name": "stdout",
          "output_type": "stream",
          "text": [
            "[0.16829719048422295, 0.14962273522885525, 0.17175422838667273, 0.1717276934416345, 0.17014410695523544, 0.1684540455033792]\n"
          ]
        }
      ],
      "source": [
        "P_i = []\n",
        "\n",
        "for i in range(len(delta_list)):\n",
        "    x = exp_delta_list[i] / np.sum(exp_delta_list)\n",
        "    #print(f'i = {exp_delta_list[i]}, x = {x}')\n",
        "    P_i.append(x)\n",
        "print(P_i) #sum(logit_list) = 1"
      ]
    },
    {
      "cell_type": "code",
      "execution_count": 183,
      "metadata": {},
      "outputs": [],
      "source": [
        "new_df = pd.DataFrame({'Manufacturer': data['Manufacturer'], 'Model': data['Model'], 'Choice probability': P_i})"
      ]
    },
    {
      "cell_type": "markdown",
      "metadata": {},
      "source": [
        "### Logit probability ratio : $ \\frac{P_i}{P_k} = \\frac{e^V_{i}/ \\sum_j e^V_j}{e^V_{k}/ \\sum_j e^V_j} = \\frac{e^V_i}{e^V_k} = e^{V_i-V_k} $ \\\\\n",
        "Hvor meget større ssh der er for at vælge produkt i fremfor produkt k. Kun produkt i og k er inkluderet og modellen udstiller derfor \\\\ $\\textit{independance of irrelevant alternatives}$ . Rød bus blå bus eksempel s. 14/51 i kapitel 3"
      ]
    },
    {
      "cell_type": "code",
      "execution_count": 184,
      "metadata": {},
      "outputs": [
        {
          "name": "stdout",
          "output_type": "stream",
          "text": [
            "1.018849913388135\n",
            "             Leaf   Model S       Zoe       up!    Fortwo        I3\n",
            "Leaf          1.0   1.01885  0.996549  0.996575  0.998155  0.999843\n",
            "Model S  0.981499       1.0  0.978112  0.978138  0.979688  0.981345\n",
            "Zoe      1.003463  1.022378       1.0  1.000027  1.001611  1.003306\n",
            "up!      1.003436  1.022351  0.999973       1.0  1.001585  1.003279\n",
            "Fortwo   1.001849  1.020733  0.998391  0.998418       1.0  1.001691\n",
            "I3       1.000157   1.01901  0.996705  0.996732  0.998311       1.0\n"
          ]
        }
      ],
      "source": [
        "model_labels = data['Model'].unique()\n",
        "Pi_matrix = pd.DataFrame(index=model_labels, columns=model_labels)\n",
        "print(np.exp(P_i[0]-P_i[1]))\n",
        "for i in range(len(P_i)):\n",
        "    #print(f'i = {P_i[i]}, model = {model_labels[i]}')\n",
        "    for j in range(len(P_i)):\n",
        "        #print(f'j = {P_i[j]}, model = {model_labels[j]}')\n",
        "        Pi_matrix.iloc[i,j] = np.exp(P_i[i]-P_i[j])\n",
        "\n",
        "print(Pi_matrix)"
      ]
    },
    {
      "cell_type": "code",
      "execution_count": 185,
      "metadata": {},
      "outputs": [],
      "source": [
        "P_i = np.array(P_i)\n",
        "model_labels = data['Model'].unique()"
      ]
    },
    {
      "cell_type": "markdown",
      "metadata": {},
      "source": [
        "### Marginal effetcs for produkt i: $\\frac{dP_{i}}{dz_i} = \\frac{dV_i}{dz_i} P_i(1-P_i)$"
      ]
    },
    {
      "cell_type": "markdown",
      "metadata": {},
      "source": [
        "### Antager $z_i$ er lineær giver = $\\frac{dV_i}{dz_i} = \\beta_i$"
      ]
    },
    {
      "cell_type": "code",
      "execution_count": 186,
      "metadata": {},
      "outputs": [
        {
          "name": "stdout",
          "output_type": "stream",
          "text": [
            "        Price        HP\n",
            "Leaf     -0.0  0.000058\n",
            "Model S  -0.0  0.000053\n",
            "Zoe      -0.0  0.000059\n",
            "up!      -0.0  0.000059\n",
            "Fortwo   -0.0  0.000059\n",
            "I3       -0.0  0.000058\n"
          ]
        }
      ],
      "source": [
        "marginal_effects = pd.DataFrame(index=model_labels, columns= xnames[1:])\n",
        "\n",
        "for i in range(len(P_i)):\n",
        "    for j in range(len(coefficients)-1):\n",
        "        marginal_effects.iloc[i, j] = (coefficients[j+1]) * P_i[i] * (1 - P_i[i])\n",
        "print(marginal_effects)"
      ]
    },
    {
      "cell_type": "markdown",
      "metadata": {},
      "source": [
        "### Ændring i attibute for i på alternativ j: $-\\frac{dV_j}{dz_j}P_iP_j$ \\\\\n",
        "Antager stadig $z_i$ er lineær giver = $\\frac{dV_i}{dz_i} = \\beta_i$"
      ]
    },
    {
      "cell_type": "code",
      "execution_count": 187,
      "metadata": {},
      "outputs": [
        {
          "name": "stdout",
          "output_type": "stream",
          "text": [
            "        Leaf Model S  Zoe  up! Fortwo   I3\n",
            "Leaf     NaN     0.0  0.0  0.0    0.0  0.0\n",
            "Model S  0.0     NaN  0.0  0.0    0.0  0.0\n",
            "Zoe      0.0     0.0  NaN  0.0    0.0  0.0\n",
            "up!      0.0     0.0  0.0  NaN    0.0  0.0\n",
            "Fortwo   0.0     0.0  0.0  0.0    NaN  0.0\n",
            "I3       0.0     0.0  0.0  0.0    0.0  NaN\n"
          ]
        }
      ],
      "source": [
        "Utility2 = pd.DataFrame(index=model_labels, columns= model_labels)#columns= xnames[1:])\n",
        "\n",
        "for i in range(len(P_i)):\n",
        "    for k in range (len(P_i)):\n",
        "        #for j in range(len(coefficients)-1):\n",
        "        if i == k:\n",
        "            Utility2.iloc[i, k] = np.nan\n",
        "        else:\n",
        "            Utility2.iloc[i, k] = -(coefficients[1]) * P_i[i] *P_i[k]\n",
        "        \n",
        "print(Utility2)"
      ]
    },
    {
      "cell_type": "markdown",
      "metadata": {},
      "source": [
        "### Elasticity: En ændring i en variabel ved en ændring på 1 pct ved en anden: $ E_{iz_i} = \\frac{dP_i}{dz_i}\\frac{z_i}{P_i}  = \\frac{dV_i}{dz_i}z_i(1-P_i)$\n"
      ]
    },
    {
      "cell_type": "code",
      "execution_count": 188,
      "metadata": {},
      "outputs": [
        {
          "name": "stdout",
          "output_type": "stream",
          "text": [
            "                           Price                      HP\n",
            "Leaf       -5.32677557416774e-08   8.775186025014024e-05\n",
            "Model S  -1.5448038638101865e-07  0.00025448681079853465\n",
            "Zoe         -3.6205504702453e-08  5.9643969314998673e-05\n",
            "up!       -3.633463737045903e-08   5.985669898004304e-05\n",
            "Fortwo   -4.4092122360632114e-08   7.263616996153989e-05\n",
            "I3        -5.248305974565719e-08   8.645917328740165e-05\n"
          ]
        }
      ],
      "source": [
        "P_i = np.array(P_i)\n",
        "model_labels = data['Model'].unique()\n",
        "elasticity = pd.DataFrame(index=model_labels, columns= xnames[1:])\n",
        "Prices = data['Price'].values.reshape((N*T,1))\n",
        "\n",
        "for i in range(len(P_i)):\n",
        "    for j in range(len(coefficients)-1):\n",
        "        elasticity.iloc[i, j] = ((coefficients[j+1])*Prices[i]*(1 - P_i[i]))/1_000_000\n",
        "print(elasticity)\n",
        "\n",
        "\n"
      ]
    },
    {
      "cell_type": "markdown",
      "metadata": {},
      "source": [
        "### Cross Elasticity: $ E_{iz_i} = \\frac{dP_i}{dz_j}\\frac{z_j}{P_i} = -\\frac{dV_j}{dz_j}z_jP_j$\n"
      ]
    },
    {
      "cell_type": "code",
      "execution_count": null,
      "metadata": {},
      "outputs": [],
      "source": []
    }
  ],
  "metadata": {
    "colab": {
      "provenance": []
    },
    "kernelspec": {
      "display_name": "Python 3",
      "name": "python3"
    },
    "language_info": {
      "codemirror_mode": {
        "name": "ipython",
        "version": 3
      },
      "file_extension": ".py",
      "mimetype": "text/x-python",
      "name": "python",
      "nbconvert_exporter": "python",
      "pygments_lexer": "ipython3",
      "version": "3.9.13"
    }
  },
  "nbformat": 4,
  "nbformat_minor": 0
}
