{
  "cells": [
    {
      "cell_type": "code",
      "execution_count": null,
      "metadata": {
        "id": "uwJZ1lbaEHID"
      },
      "outputs": [],
      "source": [
        "%reset -f\n",
        "%load_ext autoreload\n",
        "%autoreload 2\n",
        "import pandas as pd\n",
        "import numpy as np\n",
        "from linearmodels.iv import IV2SLS\n",
        "import functions as fun\n",
        "import statsmodels.formula.api as sm\n",
        "import seaborn as sns\n",
        "from matplotlib import pyplot as plt"
      ]
    },
    {
      "cell_type": "code",
      "execution_count": null,
      "metadata": {},
      "outputs": [],
      "source": [
        "df = pd.read_csv('dataset.csv')\n",
        "Nobs=df['ID'].count()\n",
        "df['const']=np.ones((Nobs,1))\n",
        "df2 = df[df['Market share'] != 0]\n",
        "\n",
        "df2.head(20)"
      ]
    },
    {
      "cell_type": "code",
      "execution_count": null,
      "metadata": {},
      "outputs": [],
      "source": [
        "# Copy the dataframe\n",
        "data = df2.copy().reset_index(drop=True)\n",
        "data.head(20)"
      ]
    },
    {
      "cell_type": "code",
      "execution_count": null,
      "metadata": {},
      "outputs": [],
      "source": [
        "#Scale for better intepretation\n",
        "\n",
        "data['Price'] = data['Price']/10_000 #(Change in ms(%) for change in pris in 10.000)\n",
        "data['HP'] = data['HP']/10           #(Change in ms(%) for change in HP in 10)\n",
        "data['Range'] = data['Range']/10     #(Change in ms(%) for change in rækkevidde in 10)"
      ]
    },
    {
      "cell_type": "code",
      "execution_count": null,
      "metadata": {},
      "outputs": [],
      "source": [
        "# Creating dummy for china\n",
        "data['China'] = (data['Country'] == 'CN').astype(int)"
      ]
    },
    {
      "cell_type": "code",
      "execution_count": null,
      "metadata": {},
      "outputs": [],
      "source": [
        "# Take the log of the market share\n",
        "data['log_market_share'] = np.log(data['Market share'])"
      ]
    },
    {
      "cell_type": "markdown",
      "metadata": {},
      "source": [
        "# OLS"
      ]
    },
    {
      "cell_type": "code",
      "execution_count": null,
      "metadata": {},
      "outputs": [],
      "source": [
        "OLS = sm.ols('log_market_share ~ Price + Range + HP + Chargetime + China', data).fit(cov_type='HC3')\n",
        "OLS.summary()#.tables[1]"
      ]
    },
    {
      "cell_type": "markdown",
      "metadata": {},
      "source": [
        "# Willingness to pay"
      ]
    },
    {
      "cell_type": "code",
      "execution_count": null,
      "metadata": {},
      "outputs": [],
      "source": [
        "alpha = OLS.params[1] # Price coefficient\n",
        "beta = list(OLS.params[:1]) + list(OLS.params[2:]) # Other coefficients\n",
        "beta_alpha_ratio = [b / -alpha for b in beta[1:]] #Willingness to pay (excluding constant)\n",
        "\n",
        "for i in range(len(OLS.params.index[2:])): #[2:] to exclude constant and price\n",
        "    print('W2P:', OLS.params.index[2:][i], beta_alpha_ratio[i])"
      ]
    },
    {
      "cell_type": "markdown",
      "metadata": {},
      "source": [
        "25,926 DKK for every 10 increase in Range\\\n",
        "515 DKK for every 10 increase in HP\\\n",
        "-4,093 DKK for every 10 increase in Chargetime\\\n",
        "-691,420 DKK for Chinese cars OR -69,000 DKK for Chinese cars???"
      ]
    },
    {
      "cell_type": "markdown",
      "metadata": {},
      "source": [
        "# Logit"
      ]
    },
    {
      "cell_type": "code",
      "execution_count": null,
      "metadata": {},
      "outputs": [],
      "source": [
        "intercept = np.ones((len(data),1))\n",
        "data['Intercept'] = intercept"
      ]
    },
    {
      "cell_type": "code",
      "execution_count": null,
      "metadata": {},
      "outputs": [],
      "source": [
        "X = data[['Intercept', 'Range', 'HP', 'Chargetime', 'China']]\n",
        "p_j = data['Price']"
      ]
    },
    {
      "cell_type": "code",
      "execution_count": null,
      "metadata": {},
      "outputs": [],
      "source": [
        "# IMPORTANT: The data must be sorted by year and ID before running the function\n",
        "#             Because the CCPs returned by the function are sorted by year and ID\n",
        "logit_data = data.sort_values(['Year', 'ID']).reset_index(drop=True)\n",
        "logit_data['CCP'] = fun.ccp(alpha, beta, data, X)"
      ]
    },
    {
      "cell_type": "code",
      "execution_count": null,
      "metadata": {},
      "outputs": [],
      "source": [
        "logit_data['Model_year'] = logit_data['Model'] + '_' + logit_data['Year'].astype(str)\n",
        "probability_ratio = fun.probability_ratio(logit_data)\n",
        "probability_ratio"
      ]
    },
    {
      "cell_type": "code",
      "execution_count": null,
      "metadata": {},
      "outputs": [],
      "source": [
        "marginal_effects = fun.marginal_effects(logit_data, OLS)\n",
        "marginal_effects"
      ]
    },
    {
      "cell_type": "code",
      "execution_count": null,
      "metadata": {},
      "outputs": [],
      "source": [
        "marginal_effects[OLS.params.index].mean()"
      ]
    },
    {
      "cell_type": "code",
      "execution_count": null,
      "metadata": {},
      "outputs": [],
      "source": [
        "cross_marginal_effects = fun.cross_marginal_effects(logit_data, OLS)\n",
        "cross_marginal_effects"
      ]
    },
    {
      "cell_type": "code",
      "execution_count": null,
      "metadata": {},
      "outputs": [],
      "source": [
        "elasticity = fun.elasticity(logit_data['CCP'], logit_data['Model_year'], OLS.params.index, OLS.params, logit_data[OLS.params.index])\n",
        "elasticity"
      ]
    },
    {
      "cell_type": "code",
      "execution_count": null,
      "metadata": {},
      "outputs": [],
      "source": [
        "X = logit_data[OLS.params.index][1:2]\n",
        "X"
      ]
    },
    {
      "cell_type": "code",
      "execution_count": null,
      "metadata": {},
      "outputs": [],
      "source": [
        "cross_elasticity = fun.cross_elasticity(logit_data, OLS)\n",
        "cross_elasticity"
      ]
    },
    {
      "cell_type": "code",
      "execution_count": null,
      "metadata": {},
      "outputs": [],
      "source": [
        "logit_data[OLS.params.index]"
      ]
    },
    {
      "cell_type": "code",
      "execution_count": null,
      "metadata": {},
      "outputs": [],
      "source": []
    }
  ],
  "metadata": {
    "colab": {
      "provenance": []
    },
    "kernelspec": {
      "display_name": "Python 3",
      "name": "python3"
    },
    "language_info": {
      "codemirror_mode": {
        "name": "ipython",
        "version": 3
      },
      "file_extension": ".py",
      "mimetype": "text/x-python",
      "name": "python",
      "nbconvert_exporter": "python",
      "pygments_lexer": "ipython3",
      "version": "3.9.12"
    }
  },
  "nbformat": 4,
  "nbformat_minor": 0
}
